{
  "nbformat": 4,
  "nbformat_minor": 0,
  "metadata": {
    "colab": {
      "name": "TorresHanoi2_SCP.ipynb",
      "provenance": [],
      "collapsed_sections": [],
      "toc_visible": true,
      "include_colab_link": true
    },
    "kernelspec": {
      "name": "python3",
      "display_name": "Python 3"
    }
  },
  "cells": [
    {
      "cell_type": "markdown",
      "metadata": {
        "id": "view-in-github",
        "colab_type": "text"
      },
      "source": [
        "<a href=\"https://colab.research.google.com/github/jugernaut/ProgramacionEnParalelo/blob/main/Introduccion/01_TorresHanoi_SCP.ipynb\" target=\"_parent\"><img src=\"https://colab.research.google.com/assets/colab-badge.svg\" alt=\"Open In Colab\"/></a>"
      ]
    },
    {
      "cell_type": "markdown",
      "metadata": {
        "id": "Q26tjzsyYiot"
      },
      "source": [
        "<font color=\"Teal\" face=\"Comic Sans MS,arial\">\r\n",
        "  <h1 align=\"center\"><i>Torres de Hanoi</i></h1>\r\n",
        "  </font>\r\n",
        "  <font color=\"Black\" face=\"Comic Sans MS,arial\">\r\n",
        "  <h5 align=\"center\"><i>Profesor: M.en.C. Miguel Angel Pérez León.</i></h5>\r\n",
        "    <h5 align=\"center\"><i>Ayudante: Jesús Iván Coss Calderón.</i></h5>\r\n",
        "    <h5 align=\"center\"><i>Ayudante: Mario Arturo .</i></h5>\r\n",
        "  <h5 align=\"center\"><i>Materia: Seminario de programación en paralelo..</i></h5>\r\n",
        "  </font>"
      ]
    },
    {
      "cell_type": "markdown",
      "metadata": {
        "id": "oDiIM4pIaWOe"
      },
      "source": [
        "# Torres de Hanoi\n",
        "\n",
        "El algoritmo para resolver las torres de Hanoi es un ejemplo ampliamente conocido en el contexto computacional.\n",
        "\n",
        "Es por este motivo que en este documento se parte del hecho que el lector conoce tanto el planteamiento, como el algoritmo iterativo y recursivo.\n",
        "\n",
        "Dado estos antecedentes procedemos a definir la función de recurrencia, para poder identificar a que orden de complejidad pertenece este algoritmo recursivo."
      ]
    },
    {
      "cell_type": "markdown",
      "metadata": {
        "id": "DBFJ7LfrarLa"
      },
      "source": [
        "## Algoritmo básico\n",
        "\n",
        "Para el caso cuando solo se tiene un disco, basta con pasar el disco en cuestión a la pila final. Lo que toma un solo movimiento.\n",
        "\n",
        "Para el caso de 2 discos, basta con mover el disco 1 (disco de diámetro mas pequeño, D1), a la pila auxiliar y D2 a la pila final. Finalmente D1 a la pila final (sobre D2). Con lo que ya se logro el objetivo y todos los discos están en la pila final. Esto tomo 3 movimientos.\n",
        "\n",
        "Cuando se tiene 3 discos, caemos en el caso de mover 2 discos a la pila auxiliar, mover un disco a la pila final y por ultimo mover 2 discos de la pila auxiliar a la pila final. Es decir **7 movimientos**, un caso de 2 discos (3 movimientos) más mover un disco, más un caso de 2 discos (3 movimientos).\n",
        "\n",
        "<center>\n",
        "<img src=\"https://github.com/jugernaut/ProgramacionEnParalelo/blob/desarrollo/Imagenes/Introduccion/3discos.gif?raw=1\" width=\"550\">\n",
        "</center> \n",
        "\n",
        "Para el caso de 4 discos se tiene, un caso de 3 discos (7 movimientos) más un movimiento, mas un caso de 3 discos (7 movimientos), en **total 15 movimientos**.\n",
        "\n",
        "<center>\n",
        "<img src=\"https://github.com/jugernaut/ProgramacionEnParalelo/blob/desarrollo/Imagenes/Introduccion/4discos.gif?raw=1\" width=\"550\">\n",
        "</center> \n",
        "\n",
        "## Algoritmo recursivo\n",
        "\n",
        "Si se programa de manera recursiva, este algoritmo usando un lenguaje de programación, el código se vería de la siguiente manera."
      ]
    },
    {
      "cell_type": "code",
      "metadata": {
        "id": "HHVBXkHadoVq",
        "colab": {
          "base_uri": "https://localhost:8080/",
          "height": 538
        },
        "outputId": "520fba1f-5a63-4ee0-c3a6-1259c585889c"
      },
      "source": [
        "# Algoritmo recursivo que resuelve el problema de las torres de Hanoi\n",
        "def torre_Hanoi(discos, torre_Inicial, torre_Auxiliar, torre_Final):\n",
        "  if(discos <=  1):\n",
        "    print('Disco ' , str(discos) , \" de \" , torre_Inicial , \" a \" , torre_Final)\n",
        "  else:\n",
        "    torre_Hanoi(discos-1, torre_Inicial, torre_Final, torre_Auxiliar)\n",
        "    print ('Disco ' , str(discos) , \" de \" , torre_Inicial , \" a \" , torre_Final)\n",
        "    torre_Hanoi(discos-1, torre_Auxiliar, torre_Inicial, torre_Final)\n",
        "\n",
        "discos = 5\n",
        "torre_Hanoi(discos, 'torre Inicial', 'torre Auxiliar', 'torre Final')"
      ],
      "execution_count": null,
      "outputs": [
        {
          "output_type": "stream",
          "text": [
            "Disco  1  de  torre Inicial  a  torre Final\n",
            "Disco  2  de  torre Inicial  a  torre Auxiliar\n",
            "Disco  1  de  torre Final  a  torre Auxiliar\n",
            "Disco  3  de  torre Inicial  a  torre Final\n",
            "Disco  1  de  torre Auxiliar  a  torre Inicial\n",
            "Disco  2  de  torre Auxiliar  a  torre Final\n",
            "Disco  1  de  torre Inicial  a  torre Final\n",
            "Disco  4  de  torre Inicial  a  torre Auxiliar\n",
            "Disco  1  de  torre Final  a  torre Auxiliar\n",
            "Disco  2  de  torre Final  a  torre Inicial\n",
            "Disco  1  de  torre Auxiliar  a  torre Inicial\n",
            "Disco  3  de  torre Final  a  torre Auxiliar\n",
            "Disco  1  de  torre Inicial  a  torre Final\n",
            "Disco  2  de  torre Inicial  a  torre Auxiliar\n",
            "Disco  1  de  torre Final  a  torre Auxiliar\n",
            "Disco  5  de  torre Inicial  a  torre Final\n",
            "Disco  1  de  torre Auxiliar  a  torre Inicial\n",
            "Disco  2  de  torre Auxiliar  a  torre Final\n",
            "Disco  1  de  torre Inicial  a  torre Final\n",
            "Disco  3  de  torre Auxiliar  a  torre Inicial\n",
            "Disco  1  de  torre Final  a  torre Auxiliar\n",
            "Disco  2  de  torre Final  a  torre Inicial\n",
            "Disco  1  de  torre Auxiliar  a  torre Inicial\n",
            "Disco  4  de  torre Auxiliar  a  torre Final\n",
            "Disco  1  de  torre Inicial  a  torre Final\n",
            "Disco  2  de  torre Inicial  a  torre Auxiliar\n",
            "Disco  1  de  torre Final  a  torre Auxiliar\n",
            "Disco  3  de  torre Inicial  a  torre Final\n",
            "Disco  1  de  torre Auxiliar  a  torre Inicial\n",
            "Disco  2  de  torre Auxiliar  a  torre Final\n",
            "Disco  1  de  torre Inicial  a  torre Final\n"
          ],
          "name": "stdout"
        }
      ]
    },
    {
      "cell_type": "markdown",
      "metadata": {
        "id": "XspmW-zTXMoT"
      },
      "source": [
        "# Análisis\n",
        "\n",
        "Dada la descripción básica (y el código del algoritmo) podemos concluir que para $n-discos$ tomará **$T(n-1)$ movimientos**, mas **un movimiento**, mas **$T(n-1)$ movimientos**.\n",
        "\n",
        "Lo cual nos lleva a definir la función de recurrencia de la siguiente forma.\n",
        "\n",
        "Función de recurrencia para el algoritmo de las torres de Hanoi:\n",
        "\n",
        "$$T(n)=\\begin{cases}\n",
        "1 & n=1\\\\\n",
        "2T(n-1)+1 & n\\geq2\n",
        "\\end{cases}$$\n",
        "\n",
        "Con lo que podemos concluir que..."
      ]
    },
    {
      "cell_type": "markdown",
      "metadata": {
        "id": "XkAP9DWqYoDR"
      },
      "source": [
        "## Demostración del orden de complejidad al que pertenece este algoritmo\n",
        "\n",
        "Sea $T(n)$ el número de movimientos que le toma al algoritmo anterior cumplir con su objetivo y dada la función de recurrencia P.D. $T(n)=2^{n}-1$.\n",
        "\n",
        "$$\\begin{eqnarray*}\n",
        "T(n)\t& = &\t2T(n-1)+1 \\\\\n",
        "\t& = &\t2(2T(n-2)+1)+1.....Funci\\acute{o}n\\,de\\,recurrencia \\\\\n",
        "\t& = &\t2^{2}T(n-2)+2+1.......Algebra\\,elemental \\\\\n",
        "\t& = &\t2^{2}(2T(n-3)+1)+2+1.....Funci\\acute{o}n\\,de\\,recurrencia \\\\\n",
        "\t& = &\t2^{3}T(n-3)+2^{2}+2+1.......Algebra\\,elemental \\\\\n",
        "k-veces & \\vdots & \\\\\n",
        "\t& = &\t2^{k}T(n-k)+2^{k-1}+\\cdots+2+1 \\\\\n",
        "k=n-1\t\t& \\vdots & \\\\\n",
        "\t& = &\t2^{n-1}T(n-(n-1))+2^{n-1-1}+\\cdots+2+1 \\\\\n",
        "\t& = &\t2^{n-1}T(1)+2^{n-2}+\\cdots+2+1........T(1)=1 \\\\\n",
        "\t& = &\t2^{n-1}+2^{n-2}+\\cdots+2+1......(suma) \\\\\n",
        "\t& = &\t2^{n}-1......\\square \\\\\n",
        "\\end{eqnarray*}$$"
      ]
    },
    {
      "cell_type": "markdown",
      "metadata": {
        "id": "ZUHmNPcNf79c"
      },
      "source": [
        "# Cota superior asintótica\n",
        "\n",
        "La cota superior asintótica (O grande) es una forma de clasificar a los algoritmos de acuerdo a su comportamiento y desempeño.\n",
        "\n",
        "Se usa en todas las ramas de las ciencias de computación ya que con base en esta medida (y algunas otras) podemos identificar que tan bueno o malo es nuestro algoritmo comparado con otros.\n",
        "\n",
        "## Definición.\n",
        "Cota superior asintótica: sea $g\\left(x\\right)$ una función continua y $f\\left(x\\right)$ la función que describe el comportamiento de nuestro algoritmo, diremos que $f$ pertenece al orden $g$ si.\n",
        "\n",
        "$$O\\left(g\\left(x\\right)\\right)=\\left\\{ f\\left(x\\right)\\colon\\exists\\,x_{0},c>0\\mid\\forall x\\geq x_{0}>0\\colon0\\leq\\left|f\\left(x\\right)\\right|\\leq c\\left|g\\left(x\\right)\\right|\\right\\} $$\n",
        "\n",
        "<center>\n",
        "<img src=\"https://github.com/jugernaut/ProgramacionEnParalelo/blob/desarrollo/Imagenes/Introduccion/cota.png?raw=1\" width=\"550\">\n",
        "</center> \n",
        "\n",
        "## Orden de complejidad computacional\n",
        "\n",
        "Dada la demostración anterior podemos concluir que el orden complejidad al que pertenece este algoritmo es exponencial.\n",
        "\n",
        "Es decir $T(n)\\in O(2^{n})$ con respecto al tiempo, el número de movimientos u operaciones que le toma a este algoritmo devolver un resultado.\n"
      ]
    },
    {
      "cell_type": "markdown",
      "metadata": {
        "id": "J3CprzhiSUUo"
      },
      "source": [
        "## Gráfica discos v.s. movimientos\n",
        "\n",
        "Ya que conocemos el orden de complejidad al que pertenece este algorimo y hemos probado que el número de movimientos que le toma a este algoritmo mover n-discos, $T(n)=2^{n}-1$, veamos que sucede con ambas graficas en python."
      ]
    },
    {
      "cell_type": "code",
      "metadata": {
        "id": "PxWbuJYTS9nY",
        "colab": {
          "base_uri": "https://localhost:8080/",
          "height": 315
        },
        "outputId": "b2ae5a6e-dda1-4724-ced5-e06abba80ba5"
      },
      "source": [
        "import numpy as np\n",
        "import matplotlib.pyplot as plt\n",
        "%matplotlib inline\n",
        "# dominio en el cual se genera la grafica\n",
        "x = np.linspace(0,10,10)\n",
        "# constante para acotar\n",
        "c = 1.5\n",
        "# cota superior asintotica\n",
        "g = (2**x)*c\n",
        "# funcion que define el comportamiento del algoritmo de Hanoi\n",
        "f = (2**x) - 1\n",
        "# se grafican ambas rectas\n",
        "plt.plot(x,f,label = '$2**x - 1-Algoritmo$', color='crimson')\n",
        "plt.plot(x,g,label = '$c * 2**x-CotaSuperior$', color='b' )\n",
        "plt.xlabel('$numero-discos$')\n",
        "plt.ylabel('$movimientos$')\n",
        "plt.title('Discos v.s. Movimeintos')\n",
        "plt.grid()\n",
        "plt.legend()"
      ],
      "execution_count": 6,
      "outputs": [
        {
          "output_type": "execute_result",
          "data": {
            "text/plain": [
              "<matplotlib.legend.Legend at 0x7f9531829dd0>"
            ]
          },
          "metadata": {
            "tags": []
          },
          "execution_count": 6
        },
        {
          "output_type": "display_data",
          "data": {
            "image/png": "[encoded data removed]",
            "text/plain": [
              "<Figure size 432x288 with 1 Axes>"
            ]
          },
          "metadata": {
            "tags": [],
            "needs_background": "light"
          }
        }
      ]
    },
    {
      "cell_type": "markdown",
      "metadata": {
        "id": "0RT9kNygjsIS"
      },
      "source": [
        "## Interpretación\n",
        "Ya con ambas graficas es evidente que como lo indica la definición, la cota superior asintótica es una función que siempre sera mayor o igual que la función que describe el comportamiento del algoritmo analizado. Además podemos notar que la $c$ que se da en la definición es un \"comodín\" que sirve para desplazar $g(x)$ de tal manera que sea la función que acote de manera justa la función asociada al algoritmo $f(x)$.\n",
        "\n",
        "# ¿Para qué me sirve conocer a que orden de complejidad al que pertenece un algoritmo?\n",
        "\n",
        "Ya que conocemos la cota superior asintótica, es decir el orden de complejidad al que pertenece este algoritmo podemos resolver las dudas planteadas inicialmente. Por ejemplo, ¿tiene sentido intentar resolver este problema para **25 discos**?. Supongamos que tenemos una computadora que realiza **un movimiento de disco por segundo** (en realidad las computadoras actuales realizan millones de operaciones por segundo) entonces ya que conocemos la cota podemos asumir que para 25 discos. \n",
        "\n",
        "$$\\begin{array}{ccc}\n",
        "T\\left(n\\right)=T\\left(25\\right)=2^{25}-1 & = & 3.3554431\\times10{{}^7}\\qquad segundos\\\\\n",
        "3.3554431\\times10{{}^7}\\qquad segundos & = & 9.320675278\\times10{{}^3}\\qquad horas\\\\\n",
        "9.320675278\\times10{{}^3}\\qquad horas & = & 3.883614699\\times10{{}^2}\\qquad d\\acute{\\imath}as\\\\\n",
        "3.883614699\\times10{{}^2}\\qquad d\\acute{\\imath}as & = & 1\\qquad a\\tilde{n}o!!!\n",
        "\\end{array}$$\n",
        "\n",
        "Pero.....¿Qué se puede decir con respecto a la cota superior asintótica respecto a la memoria?.\n",
        "\n",
        "¿La versión recursiva e iterativa de este algoritmo pertenecen a los mismos ordenes de complejidad tanto en **tiempo (operaciones)**, como en **espacio (memoria)**?.\n",
        "\n",
        "# Conclusiones del análisis\n",
        "\n",
        "Reuniendo todo lo visto en las 2 primeras clases podemos responder casí todas las preguntas planteadas inicialmente.\n",
        "\n",
        "Por ejemplo, **¿tiene sentido emplear este algoritmo para resolver este problema con 25 discos?.**\n",
        "\n",
        "De tal manera que es evidente que la respuesta es **¡no!**, a pesar de ser el mejor algoritmo para el problema de las torres de Hanoi, intentar usar este algoritmo para una cantidad mayor o igual a 25 discos, tomará mas de un año para que devuelva un resultado. Así que de hoy en adelante sabemos que antes de emplear algún algoritmo es buena idea tomarse un poco de tiempo para analizarlo y poder determinar si es una buena solución al problema inicial."
      ]
    },
    {
      "cell_type": "markdown",
      "metadata": {
        "id": "znYoAx6chSMj"
      },
      "source": [
        "# Referencias  \n",
        "\n",
        "*   Thomas H. Cormen, Introduction to Algorithms.\n",
        "*   Libro Web, Introduccion a Python.\n",
        "*   Daniel T. Joyce, Object-Oriented Data Structures.\n",
        "*   John C. Mitchell, Concepts in programing Languages."
      ]
    }
  ]
}
