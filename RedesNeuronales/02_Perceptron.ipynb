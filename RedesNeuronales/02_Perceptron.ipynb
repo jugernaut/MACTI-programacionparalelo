{
  "nbformat": 4,
  "nbformat_minor": 0,
  "metadata": {
    "colab": {
      "name": "01_RedesNeuronales.ipynb",
      "provenance": [],
      "toc_visible": true,
      "authorship_tag": "ABX9TyNkrDlilw46qFTH4ZbfjNlt",
      "include_colab_link": true
    },
    "kernelspec": {
      "name": "python3",
      "display_name": "Python 3"
    }
  },
  "cells": [
    {
      "cell_type": "markdown",
      "metadata": {
        "id": "view-in-github",
        "colab_type": "text"
      },
      "source": [
        "<a href=\"https://colab.research.google.com/github/jugernaut/ProgramacionEnParalelo/blob/desarrollo/RedesNeuronales/02_Perceptron.ipynb\" target=\"_parent\"><img src=\"https://colab.research.google.com/assets/colab-badge.svg\" alt=\"Open In Colab\"/></a>"
      ]
    },
    {
      "cell_type": "markdown",
      "metadata": {
        "id": "wXSdMY-R3hny"
      },
      "source": [
        "<font color=\"Teal\" face=\"Comic Sans MS,arial\">\n",
        "  <h1 align=\"center\"><i>Perceptrón</i></h1>\n",
        "  </font>\n",
        "  <font color=\"Black\" face=\"Comic Sans MS,arial\">\n",
        "  <h5 align=\"center\"><i>Profesor: M. en C. Miguel Angel Pérez León."
      ]
    },
    {
      "cell_type": "markdown",
      "metadata": {
        "id": "UdSUVg0fNCxN"
      },
      "source": [
        "# Introducción\n",
        "\n",
        "El perceptrón es un tipo de neurona artificial que fue inventada en 1957 por [Frank Rosenblatt](https://news.cornell.edu/stories/2019/09/professors-perceptron-paved-way-ai-60-years-too-soon).\n",
        "\n",
        "Las principales diferencias con respecto a las neuronas vistas previamente es que el perceptrón es capaz de aprender (machine learning) y además su valores de entrada y de salida son binarios. Aunque no es complicado modificar el modelo para tratar con campos no binarios."
      ]
    },
    {
      "cell_type": "markdown",
      "metadata": {
        "id": "pv34b5WB2PKL"
      },
      "source": [
        "#  Anatomía del Perceptrón\n",
        "\n",
        "Todos los elementos vistos previamente se mantienen.\n",
        "\n",
        "*   **Entradas**\n",
        "*   **Pesos**\n",
        "*   **Sesgo**\n",
        "*   **Función de activación**\n",
        "\n",
        "Aunque para el caso particular del perceptrón, la función de activavción será la conocida como **paso binario** y es tan sencilla como la siguiente imagen."
      ]
    },
    {
      "cell_type": "code",
      "metadata": {
        "colab": {
          "base_uri": "https://localhost:8080/",
          "height": 265
        },
        "id": "401mBZpW5qmw",
        "outputId": "a1517822-496c-498c-87f2-a312d3d32b72"
      },
      "source": [
        "# se importan algunas funciones importantes\n",
        "import matplotlib.pyplot as plt\n",
        "import numpy as np\n",
        "%matplotlib inline\n",
        "import math\n",
        "# dominio de las graficas\n",
        "x = np.linspace(-3, 3, 20)\n",
        "\n",
        "# funciones comunes de activasion\n",
        "PasoBinario = lambda x: np.heaviside(x,0)\n",
        "\n",
        "# Definimos algunos parámetros para la gráfica\n",
        "plt.plot(x, PasoBinario(x),label=\"Paso Binario\")\n",
        "plt.legend()\n",
        "\n",
        "# Mostramos la leyenda de las gráficas\n",
        "plt.show()"
      ],
      "execution_count": null,
      "outputs": [
        {
          "output_type": "display_data",
          "data": {
            "image/png": "[encoded data removed]",
            "text/plain": [
              "<Figure size 432x288 with 1 Axes>"
            ]
          },
          "metadata": {
            "tags": [],
            "needs_background": "light"
          }
        }
      ]
    },
    {
      "cell_type": "markdown",
      "metadata": {
        "id": "YsMAqa3YbTyo"
      },
      "source": [
        "Es decir.\n",
        "\n",
        "$$f\\left(x\\right)=\\begin{cases}\n",
        "1 \\quad si & x\\gt0\\\\\n",
        "0 \\quad & e.o.c.\n",
        "\\end{cases}$$\n",
        "\n",
        "En el contexto de las redes neuronales podemos pensar en esta función de la siguiente manera.\n",
        "\n",
        "$$f\\left(\\vec{x}\\right)=\\begin{cases}\n",
        "1 \\quad si & \\vec{w}\\circ\\vec{x} +b\\gt0\\\\\n",
        "0 \\quad & e.o.c.\n",
        "\\end{cases}$$\n",
        "\n",
        "Donde:\n",
        "\n",
        "*   $\\vec{w}$ es el vector de pesos asociados a las entradas.\n",
        "*   $\\vec{x}$ es el vector de entradas.\n",
        "*   $b$ es el sesgo o *bias*.\n",
        "\n",
        "Estos cambios en la función de activación se deben a que, para fines prácticos es mejor pensar en las entradas de una neurona (o red neuronal) como un vector, además recordemos que las *GPU's* estan optimizadas para operaciones con vectores y con matrices."
      ]
    },
    {
      "cell_type": "markdown",
      "metadata": {
        "id": "i_9Fue_POL2I"
      },
      "source": [
        "# Ejemplo operador $AND$\n",
        "\n",
        "Igual que en el caso del cerebro humano, existen diferentes zonas del cerebro que muestran actividad con diferentes estimulos, tratemos de diseñar un perceptrón (neurona artificial) que reproduzca el comportamiento del operador logico $AND$ (&&). \n",
        "\n",
        "Recordemos la tabla de verdad de este operador lógico.\n",
        "\n",
        "| $x_1$ | $x_2$ | $and$ | \n",
        "| :-:   |    :-:|  :-:  | \n",
        "| 0     | 0     | 0     |\n",
        "| 0     | 1     | 0     |\n",
        "| 1     | 0     | 0     |\n",
        "| 1     | 1     | 1     |\n",
        "\n",
        "La idea es que podamos definir un algoritmo que funcione como el operador lógico $AND$.\n",
        "\n",
        "Pensemos que este perceptrón luce de esta forma.\n",
        "\n",
        "<center>\n",
        "<img src=\"https://github.com/jugernaut/ProgramacionEnParalelo/blob/main/Imagenes/RedesNeuronales/NeuronaAND.png?raw=1\" width=\"600\">\n",
        "</center>\n",
        "\n"
      ]
    },
    {
      "cell_type": "markdown",
      "metadata": {
        "id": "K8A4aZheBeMH"
      },
      "source": [
        "## Inteligencia Artificial (tradicional)\n",
        "\n",
        "La forma más sencilla de definir este operador es con un *if*, es decir."
      ]
    },
    {
      "cell_type": "code",
      "metadata": {
        "id": "uVCn6cCWyiDZ",
        "colab": {
          "base_uri": "https://localhost:8080/"
        },
        "outputId": "1536c3a4-f00c-40bd-9623-2e34acefe294"
      },
      "source": [
        "'''\n",
        "  versión primitiva del perceptron\n",
        "  x: vector de entradas\n",
        "  w: vector de pesos\n",
        "'''\n",
        "def perceptrAND(x, w=None, b=None):\n",
        "    if x[0]==1 and x[1]==1:\n",
        "        return 1\n",
        "    else:\n",
        "        return 0\n",
        "\n",
        "# prueba de la funcion, ¡CAMBIA EL VECTOR DE ENRTADAS!\n",
        "print(perceptrAND([0,0])) \n"
      ],
      "execution_count": null,
      "outputs": [
        {
          "output_type": "stream",
          "text": [
            "0\n"
          ],
          "name": "stdout"
        }
      ]
    },
    {
      "cell_type": "markdown",
      "metadata": {
        "id": "U9f3yuaYCoXf"
      },
      "source": [
        "Esta es la forma tradicional en la cual se resolvían muchos de los problemas de inteligencia artificial antes de la llegada del *machine learning*.\n",
        "\n",
        "El código de la celda anterior funciona y resuelve el problema planteado inicialmente, sin embargo **esta solución es estática**, ya no puede modificarse por si misma para \"aprender\" un nuevo comportamiento."
      ]
    },
    {
      "cell_type": "markdown",
      "metadata": {
        "id": "2oe9M4cTDbNP"
      },
      "source": [
        "## Razonamiento cognitivo\n",
        "\n",
        "Veamos otra forma de solucionar el mismo problema.\n",
        "\n",
        "Lo primero que debemos notar de la tabla de verdad es que, si **cambiamos el orden de las entradas** ($x_1, x_2$) en cada caso, el resultado no cambia.\n",
        "\n",
        "Lo segundo que hay que notar es que la suma $\\vec{w} * \\vec{x} +b$ siempre debe ser negativa, excepto cuando $x_1=1$ y $x_2=1$, tal como se muestra en la tabla de verdad.\n",
        "\n",
        "Reescribiendo nuestra tabla de verdad para considerar las entradas del perceptrón la podemos pensar de la siguiente forma.\n",
        "\n",
        "\\begin{array}{c}\n",
        "1w_1+1w_2+b>0\\\\\n",
        "0w_1+1w_2+b\\leq0\\\\\n",
        "1w_1+0w_2+b\\leq0\\\\\n",
        "0w_1+0w_2+b\\leq0 \\tag{1}\n",
        "\\end{array}\n",
        "\n",
        "Por otro lado, sabemos que:\n",
        "\n",
        "*   $x*0=0$\n",
        "*   $1x+1x=2x $\n",
        "*   $1x=x$\n",
        "\n",
        "Combinando (1) y lo que sabemos, podemos simplificar lo anterior de la siguiente forma.\n",
        "\n",
        "\\begin{array}{c}\n",
        "2w+b>0\\\\\n",
        "w+b\\leq0\\\\\n",
        "b\\leq0\\\\ \\tag{2}\n",
        "\\end{array}\n",
        "\n",
        "De (2) podemos concluir que $2w+b$ tiene que ser un valor **positivo**, $w+b$ es **negativo o cero** y $b$ es un valor **negativo o cero**.\n",
        "\n",
        "Notemos que:\n",
        "\n",
        "\n",
        "*   $b$ no puede ser cero, ya que que de ser así $2w\\gt0$ y $w\\leq0$, lo que no puede ser verdad. Por lo tanto **$b$ no puede ser cero**.\n",
        "*   $w$ debe ser positivo, si $w$ fuese negativo $2w$ también sería negativo y $2w+b$ no podría ser un valor positivo y $2w+b\\gt0$ no podría ser verdad. Por lo tanto **$w$ debe ser positivo**.\n",
        "*   ya que $w$ debe ser positivo, $b$ no puede ser cero, entonces para que $w+b\\leq0$ sea verdadero debemos elegir a **$b$ como el opuesto aditivo de $w$**.\n",
        "\n",
        "¡¡¡Ya lo tenemos!!!, modificando el código de la celda anterior tenemos lo siguiente."
      ]
    },
    {
      "cell_type": "code",
      "metadata": {
        "colab": {
          "base_uri": "https://localhost:8080/"
        },
        "id": "I6y-Gw3IIvtL",
        "outputId": "0f6c7e7b-7656-4b2a-d4b8-3e43aca155d3"
      },
      "source": [
        "'''\n",
        "  versión mejorada del perceptron\n",
        "  x: vector de entradas\n",
        "  w: vector de pesos\n",
        "'''\n",
        "def perceptrAND2(x, w):\n",
        "    return np.heaviside(x[0]*w[0]+x[1]*w[1]+w[2], 0)\n",
        "\n",
        "# prueba de la funcion ¡CAMBIA EL VECTOR DE ENRTADAS!\n",
        "print(perceptrAND2([0,1],[1,1,-1])) \n"
      ],
      "execution_count": null,
      "outputs": [
        {
          "output_type": "stream",
          "text": [
            "0.0\n"
          ],
          "name": "stdout"
        }
      ]
    },
    {
      "cell_type": "markdown",
      "metadata": {
        "id": "-c6Y423jLKLG"
      },
      "source": [
        "La celda superior muestra una versión mejorada del `perceptrAND` que hace uso del conocimiento previo (axiomas matemáticos y razonamiento) y de los estimulos externos (entradas $\\vec{x}$).\n",
        "\n",
        "Sin embargo tiene el mismo problema que la versión previa del `perceptrAND`."
      ]
    },
    {
      "cell_type": "markdown",
      "metadata": {
        "id": "o-Y0ImDdOhj3"
      },
      "source": [
        "# Perceptrón\n",
        "\n",
        "La parte realmente trascendente del modelo perceptrón es el proceso de aprendizaje, esto convierte al perceptrón en un algoritmo que aprende de la experiencia y modifica su comportamiento, veamos como se lleva a cabo este proceso.\n",
        "\n",
        "\n"
      ]
    },
    {
      "cell_type": "markdown",
      "metadata": {
        "id": "2F4nh1heOnZU"
      },
      "source": [
        "## Aprendizaje\n",
        "\n",
        "Estos son los pasos descritos en lenguaje natural, que llevan al perceptrón a ajustar sus pesos $\\vec{w}$ para realizar el proceso de aprendizaje, es decir, que logre clasificar de manera acertada el conjunto de datos que recibe como entradas $\\vec{x}$.\n",
        "\n",
        "1.   Dar un valor inicial para el vector de pesos $\\vec{w}$, a veces aleatorio, o de manera más sencilla, el vector cero $\\vec{0}$.\n",
        "2.   Para cada tupla de entrada del conjunto de entrenamiento, el perceptrón realiza las siguientes acciones:\n",
        "> *   Tratará de dar una predicción para los valores de entrada.\n",
        "> *   Esta predicción se compara con la salida esperada.\n",
        "> *   Evalua la siguiente tupla.\n",
        "\n",
        "Antes de continuar hay un par de cosas que debemos definir, de manera muy similar al error que se tiene en una aproximación numérica, vamos a determinar que tan buena es la predicción del perceptrón de la siguiente forma.\n",
        "\n",
        "`salida_esperada - salida_actual`\n",
        "\n",
        "En otras palabras, necesitamos una forma de evaluar el desempeño del perceptrón y una forma de hacerlo es mediante la resta anterior. Eso lo podemos poner en términos matemáticos tal como sigue y posteriormente le llamaremos **funcion de costos** o **funcion perdida**.\n",
        "\n",
        "$$e=y-f(\\vec{x})$$\n",
        "\n",
        "Donde $e$ es el error que se tiene entre la salida esperada denotada por $y$ contra la salida del perceptrón $f(\\vec{x})$.\n",
        "\n",
        "Dado que ambos valores son binarios, $e=y-f(\\vec{x})$ solo puede producir 3 valores, que se muestran a continuación.\n",
        "\n",
        "| $y$ |     $$f(\\vec{x})$$      | $$y - f$$ | \n",
        "| :-:      |    :-:     |  :-:    | \n",
        "| 1     | 1     | 0     |\n",
        "| 0     | 0     | 0     |\n",
        "| 1     | 0     | 1     |\n",
        "| 0     | 1     |-1     |\n",
        "\n",
        "La idea es minimizar nuestro error (función de costos), así que para este fin veamos una frase celebre del creador del perceptrón **Frank Rosenblatt**.\n",
        "\n",
        "> *   *Si la neurona se activa cuando no lo deseamos, suprimela*.\n",
        "> *   *Si la neurona no se activa cuando lo deseamos, exitala*.\n",
        "> *   *Si la neurona se activa cuando lo deseamos, no la molestes*.\n",
        "\n",
        "Ya sabemos como evaluar el desempeño de nuestro perceptrón, ahora solo resta definir como siprimirlo y como exitarlo.\n",
        "\n"
      ]
    },
    {
      "cell_type": "markdown",
      "metadata": {
        "id": "WvAgphBSRqvy"
      },
      "source": [
        "## Premio y Castigo\n",
        "\n",
        "**Castigo**: Si el perceptrón devuelve un 1 ($f(\\vec{x})=1$), cuando el resultado esperado era un 0 ($y=0$), necesitamos hacer un ajuste disminuyendo el valor de $\\vec{w}\\circ\\vec{x}$, ya que lo que se busca es que $f(\\vec{x})=\\vec{w}\\circ\\vec{x}\\leq 0$.\n",
        "\n",
        "**Castigo**: Si el perceptrón devuelve un 0 ($f(\\vec{x})=0$), cuando el resultado esperado era un 1 ($y=1$), necesitamos hacer un ajuste aumentando el valor de $\\vec{w}\\circ\\vec{x}$, ya que lo que se busca es que $f(\\vec{x})=\\vec{w}\\circ\\vec{x}\\gt 0$.\n",
        "\n",
        "**Premio**: Si el perceptrón devuelve el valor esperado ($f(\\vec{x})=y$) entonces hay que darle un premio, es decir, no hacer algo ya que la neurona está funcionando como debe ser.\n",
        "\n",
        "Dado que no podemos modificar los valores de las entradas $\\vec{x}$ ya que son los datos que usa el perceptrón para realizar sus predicciones, solo resta modificar los valores de $\\vec{w}$.\n",
        "\n",
        "Así que en pseudocódigo, lo anterior se traduce en lo siguiente.\n",
        "\n",
        "\\begin{array}{ccc}\n",
        "\\vec{w}\\leftarrow\\vec{w}+\\vec{x} & si & y-f(\\vec{x})==1\\\\\n",
        "\\vec{w}\\leftarrow\\vec{w}-\\vec{x} & si & y-f(\\vec{x})==-1\\\\\n",
        "\\vec{w}\\leftarrow\\vec{w} & si & y-f(\\vec{x})==0 \\tag{3}\n",
        "\\end{array}\n",
        "\n",
        "En pocas palabras, para incrementar el valor de $\\vec{w}$ simplemente sumamos $\\vec{x}$ y para disminuir el valor de $\\vec{w}$ simplemente restamos $\\vec{x}$.\n",
        "\n",
        "Dado que $y-f(\\vec{x})$ produce 1, -1 ó 0 podemos simplificar reescribiendo.\n",
        "\n",
        "$$\\vec{w}\\leftarrow\\vec{w}+(y-f(\\vec{x}))\\circ\\vec{x} \\tag{4}$$\n",
        "\n",
        "¡¡¡Listo!!!, gracias a la expresión $(4)$ ya tenemos el mecanismo que llevará a nuestro perceptrón a aprender y adaptarse a los datos de entrada.\n",
        "\n",
        "Vamos a usar los siguientes datos de entrenamiento.\n",
        "\n",
        "| $x_1$ | $x_2$ | Salida esperada | \n",
        "| :-:   |    :-:|            :-:  | \n",
        "| 0     | 0     | 0               |\n",
        "| 0     | 1     | 0               |\n",
        "| 1     | 0     | 0               |\n",
        "| 1     | 1     | 1               |\n",
        "\n"
      ]
    },
    {
      "cell_type": "markdown",
      "metadata": {
        "id": "sGRmBag0dqmI"
      },
      "source": [
        "## Entrenamiento\n",
        "\n",
        "#Valores iniciales del vector $\\vec{w}$.\n",
        "\n",
        "w = [0, 0, 0] => [bias, w1, w2]\n",
        "\n",
        "#Entradas de entrenamiento\n",
        "\n",
        "x = [1, 1, 1] => [entrada_bias, x1, x2]\n",
        "\n",
        "y = 1\n",
        "\n",
        "#Salida del perceptrón\n",
        "\n",
        "f(x) = 1 if w · x > 0\n",
        "       0 otherwise\n",
        "\n",
        "w · x == (0 * 1) + (0 * 1) + (0 * 1) == 0 \n",
        "      ∴  f(x) = 0\n",
        "\n",
        "#Comparando resultados\n",
        "\n",
        "e = y - f(x) => 1\n",
        "\n",
        "#Manazo por que no fue el resultado esperado\n",
        "\n",
        "w <- w + 1 * x  => [1, 1, 1]\n",
        "\n",
        "Y este procedimiento se repite con todos los datos de entrada."
      ]
    },
    {
      "cell_type": "markdown",
      "metadata": {
        "id": "ZgDwxOwHfKgY"
      },
      "source": [
        "# Implementación\n",
        "\n",
        "Dado que el proceso de aprendizaje es un proceso sumamente repetitivo y gracias a que tenemos un algoritmo para llevarlo a cabo, lo más sencillo es plasmar estos conceptos en código de *Python*.\n",
        "\n",
        "Además vamos a usar el paradigma orientado a objetos para darle una apariencia más familiar a las que se usan en *API's* como *TensorFlow*."
      ]
    },
    {
      "cell_type": "code",
      "metadata": {
        "id": "rydpZ9rAPUVi"
      },
      "source": [
        "\"\"\"\n",
        "MIT License\n",
        "Copyright (c) 2018 Thomas Countz\n",
        "Codigo tomado del sitio\n",
        "https://medium.com/@thomascountz/19-line-line-by-line-python-perceptron-b6f113b161f3\n",
        "\"\"\"\n",
        "import numpy as np\n",
        "\n",
        "# Definicion de la clase que hereda de la clase object\n",
        "class Perceptron(object):\n",
        "\n",
        "    '''\n",
        "    Constructor que recibe los siguientes parametros\n",
        "    num_entradas:     numero de entradas del vector de entradas\n",
        "    limite:           es el limite de iteraciones mientras entrenamos\n",
        "    tasa_aprendizaje: magnitud en la que se incrementan los pesos\n",
        "    '''\n",
        "    def __init__(self, num_entradas, limite=15, tasa_aprendizaje=0.01):\n",
        "        self.limite = limite\n",
        "        self.tasa_aprendizaje = tasa_aprendizaje\n",
        "        self.pesos = np.zeros(num_entradas + 1) #se suma uno por el bias\n",
        "          \n",
        "    '''\n",
        "    Metodo que nos devuelve la prediccion del perceptron\n",
        "    entradas: vector de entradas para realizar la prediccion\n",
        "    '''\n",
        "    def prediccion(self, entradas):\n",
        "        # suma ponderada w*x, pesos[0] = bias\n",
        "        suma = np.dot(entradas, self.pesos[1:]) + self.pesos[0]\n",
        "        # funcion de activacion equivalente a np.heaviside\n",
        "        if suma > 0:\n",
        "          activacion = 1\n",
        "        else:\n",
        "          activacion = 0            \n",
        "        return activacion\n",
        "\n",
        "    '''\n",
        "    Metodo que entrena al percetron\n",
        "    entradas_ent: vector de vectores de entradas para entrenar\n",
        "    etiquetas:    valores esperados por cada entrada del vector de entradas\n",
        "    '''\n",
        "    def entrenamiento(self, entradas_ent, etiquetas):\n",
        "        # por cada epoca en el limite de entrenamientos\n",
        "        for _ in range(self.limite):\n",
        "            # tomamos una entrada y su respectiva etiqueta\n",
        "            for entrada, etiqueta in zip(entradas_ent, etiquetas):\n",
        "                prediccion = self.prediccion(entrada)\n",
        "                # ajuste de pesos w <- w + (y-f(x)) * x \n",
        "                self.pesos[1:] += self.tasa_aprendizaje * (etiqueta - prediccion) * entrada\n",
        "                # ajuste del bias\n",
        "                self.pesos[0] += self.tasa_aprendizaje * (etiqueta - prediccion) # *1\n",
        "                # descomentar para ver que sucede\n",
        "                '''if prediccion != etiqueta:\n",
        "                    print(\"chanclazo por no aprender\")\n",
        "                else:\n",
        "                    print(\"bien hecho muchacho\")'''\n"
      ],
      "execution_count": null,
      "outputs": []
    },
    {
      "cell_type": "markdown",
      "metadata": {
        "id": "taS2cMdvkq5o"
      },
      "source": [
        "## Ejecución\n",
        "\n",
        "Veamos los resultados."
      ]
    },
    {
      "cell_type": "code",
      "metadata": {
        "id": "vYyNXFZApHrE",
        "colab": {
          "base_uri": "https://localhost:8080/"
        },
        "outputId": "8488aec8-df78-491f-8ece-2b8e491fa39d"
      },
      "source": [
        "# entrenamiento AND\n",
        "entradas_ent = []\n",
        "entradas_ent.append(np.array([1, 1]))\n",
        "entradas_ent.append(np.array([1, 0]))\n",
        "entradas_ent.append(np.array([0, 1]))\n",
        "entradas_ent.append(np.array([0, 0]))\n",
        "\n",
        "etiquetas = np.array([1, 0, 0, 0])\n",
        "\n",
        "'''# entrenamiento OR\n",
        "entradas_ent = []\n",
        "entradas_ent.append(np.array([1, 1]))\n",
        "entradas_ent.append(np.array([1, 0]))\n",
        "entradas_ent.append(np.array([0, 1]))\n",
        "entradas_ent.append(np.array([0, 0]))\n",
        "\n",
        "etiquetas = np.array([1, 1, 1, 0])'''\n",
        "\n",
        "perceptron = Perceptron(2)\n",
        "perceptron.entrenamiento(entradas_ent, etiquetas)\n",
        "\n",
        "entradas = np.array([0, 0])\n",
        "print(perceptron.prediccion(entradas))\n",
        "\n",
        "entradas = np.array([1, 0])\n",
        "print(perceptron.prediccion(entradas))\n",
        "\n",
        "entradas = np.array([0, 1])\n",
        "print(perceptron.prediccion(entradas))\n",
        "\n",
        "entradas = np.array([1, 1])\n",
        "print(perceptron.prediccion(entradas))\n",
        "\n",
        "# vector que contiene el sesgo y pesos\n",
        "print(perceptron.pesos)"
      ],
      "execution_count": null,
      "outputs": [
        {
          "output_type": "stream",
          "text": [
            "0\n",
            "0\n",
            "0\n",
            "1\n",
            "[-0.02  0.01  0.02]\n"
          ],
          "name": "stdout"
        }
      ]
    },
    {
      "cell_type": "markdown",
      "metadata": {
        "id": "Fk2wDVwTD976"
      },
      "source": [
        "# ¿Regresión lógica (mínimos cuadrados)?\n",
        "\n",
        "Después de haber entrenado al `perceptrón`, comprobar que logró aprender y que ya se comporta como esperamos, ¿qué podémos decir respecto a sus pesos y el peso (*bias*)?.\n",
        "\n",
        "Como puedes ver, estos valores corresponden a lo siguiente.\n",
        "\n",
        "\\begin{array}{c}\n",
        "b = -0.2\\\\\n",
        "w_1=0.1\\\\\n",
        "w_2=0.2 \\tag{5}\n",
        "\\end{array}\n",
        "\n",
        "Si usamos estos parámetros para mostrar gráficamente los resultados de nuestro `perceptrón`, tendríamos lo siguiente.\n",
        "\n",
        "\\begin{array}{ccc}\n",
        "\\vec{w}\\circ\\vec{x}+\\vec{b} & = & w_{1}*x_{1}+w_{2}*x_{2}+b\\\\\n",
        " & = & 0.1*x_{1}+0.2*x_{2}-0.2\\\\\n",
        " & \\Rightarrow & x_{2}=\\frac{0.2-0.1*x_{1}}{0.2}\n",
        "\\end{array}\n",
        "\n",
        "Con lo que obtenemos la siguiente gráfica."
      ]
    },
    {
      "cell_type": "code",
      "metadata": {
        "id": "SyZ87bwbJV4N",
        "colab": {
          "base_uri": "https://localhost:8080/",
          "height": 281
        },
        "outputId": "114f277d-e224-419b-8713-7445e7905bf3"
      },
      "source": [
        "# dominio de la grafica\n",
        "dominio = np.linspace(-0.25, 1.25, 10)\n",
        "# funcion a graficar\n",
        "graf = lambda x: (0.2-0.1*x)/0.2\n",
        "\n",
        "# definimos algunos parámetros para la gráfica\n",
        "fig, ax = plt.subplots()\n",
        "# recta generada por el perceptron\n",
        "ax.plot(dominio, graf(dominio))\n",
        "# valores de entrada para el perceptron\n",
        "xs = [0,1,0,1]\n",
        "ys = [0,0,1,1]\n",
        "# etiquetas \n",
        "ax.scatter(xs, ys)\n",
        "ax.annotate('(0,0)', (xs[0],ys[0]), xytext=(0.125, 0.125), arrowprops = dict(  arrowstyle=\"->\",\n",
        "                        connectionstyle=\"angle3,angleA=0,angleB=-90\")) \n",
        "ax.annotate('(1,0)', (xs[1],ys[1]), xytext=(1, 0.125), arrowprops = dict(  arrowstyle=\"->\",\n",
        "                        connectionstyle=\"angle3,angleA=0,angleB=-90\")) \n",
        "ax.annotate('(0,1)', (xs[2],ys[2]), xytext=(0.125, 0.75), arrowprops = dict(  arrowstyle=\"->\",\n",
        "                        connectionstyle=\"angle3,angleA=0,angleB=-90\")) \n",
        "ax.annotate('(1,1)', (xs[3],ys[3]), xytext=(1, 0.75), arrowprops = dict(  arrowstyle=\"->\",\n",
        "                        connectionstyle=\"angle3,angleA=0,angleB=-90\")) \n",
        "# ejes coordenados\n",
        "ax.axhline(y=0, color='k')\n",
        "ax.axvline(x=0, color='k')\n",
        "plt.title(\"Perceptrón\")\n",
        "\n",
        "plt.grid()\n",
        "plt.show()"
      ],
      "execution_count": null,
      "outputs": [
        {
          "output_type": "display_data",
          "data": {
            "image/png": "[encoded data removed]",
            "text/plain": [
              "<Figure size 432x288 with 1 Axes>"
            ]
          },
          "metadata": {
            "tags": [],
            "needs_background": "light"
          }
        }
      ]
    },
    {
      "cell_type": "markdown",
      "metadata": {
        "id": "-QM9ENukM-ka"
      },
      "source": [
        "Con esta gráfica se puede apreciar, que el `perceptrón` fue capaz de encontrar los valores de los pesos y sesgo que nos ayudan a dividir (ó en otras palabras a **clasificar**) los valores de entrada que se le muestran al mismo.\n",
        "\n",
        "Es curioso que todo este procedimiento se asemeja al procedimiento de regresión lineal haciendo uso de **mínimos cuadrados**.\n",
        "\n",
        "Puedes encontrar una explicación más detallada de este procedimiento en el siguiente [enlace](https://colab.research.google.com/github/jugernaut/Prometeo/blob/master/04_M%C3%A9todosNum%C3%A9ricos/02_M%C3%ADnimosCuadrados/01_Minimos_cuadrados.ipynb)."
      ]
    },
    {
      "cell_type": "markdown",
      "metadata": {
        "id": "kVIBoj3V2WOc"
      },
      "source": [
        "# Aprendizaje\n",
        "\n",
        "Como podemos notar, el `perceptrón` ha aprendido y después de haberlo entrenado ya logra reproducir el comportamiento del operador lógico *AND* (&&) y eso que solo hemos hecho uso de un solo `perceptrón`.\n",
        "\n",
        "Ya que comprendimos su funcionamiento, surgen nuevas preguntas:\n",
        "\n",
        "*   ¿Podémos hacer que este `perceptrón` logre \"aprender\" **cualquier comportamiento**, por ejemplo el operador $OR$ o el operador $XOR$?.\n",
        "*   ¿Qué sucede si generamos \"capas\" de **perceptrones enlazados** donde las salidas de toda una capa sean las entradas de otra nueva capa?.\n",
        "*   ¿Podémos pensar en el proceso de aprendizaje como un **problema de minimización** de costos?, y de ser así ¿conoces algúna función matemática que nos ayude a encontrar **valores mínimos**?.\n",
        "\n",
        "\n",
        "\n",
        "\n"
      ]
    },
    {
      "cell_type": "markdown",
      "metadata": {
        "id": "oniRCJqcpkPf"
      },
      "source": [
        "<center>\n",
        "<img src=\"https://github.com/jugernaut/Numerico2021/blob/desarrollo/Figuras/redesNeuronales/perceptron1.gif?raw=1\" width=\"550\">\n",
        "</center>"
      ]
    },
    {
      "cell_type": "markdown",
      "metadata": {
        "id": "_AQHpP046Z6_"
      },
      "source": [
        "#  Referencias\n",
        "\n",
        "*   [Prometeo](https://github.com/jugernaut/Prometeo)\n",
        "*   [Perceptrón](https://medium.com/@thomascountz/19-line-line-by-line-python-perceptron-b6f113b161f3)\n",
        "*   [Brilliant](https://brilliant.org/practice/intelligent-computers-menace/?chapter=introduction-to-neural-networks)\n",
        "*   [Simulador](https://ml4a.github.io/ml4a/es/neural_networks/)\n",
        "*   [NetLogo](https://ccl.northwestern.edu/netlogo/)\n",
        "*   [Red neuronal desde cero](https://futurelab.mx/redes%20neuronales/inteligencia%20artificial/2019/06/25/intro-a-redes-neuronales-pt-1/)\n",
        "*   [Libro Web](http://neuralnetworksanddeeplearning.com/index.html)\n",
        "*   [Aprendizaje profundo](https://www.deeplearningbook.org/)\n",
        "*   [Lista de videos](https://www.youtube.com/playlist?list=PLo8YL3HL50lUHQS80oE_ypxFi0Y3uCVal)\n",
        "*   [Algebra Lineal](https://www.youtube.com/playlist?list=PLIb_io8a5NB2DddFf-PwvZDCOUNT1GZoA)\n"
      ]
    }
  ]
}