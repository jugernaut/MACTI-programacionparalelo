{
  "nbformat": 4,
  "nbformat_minor": 0,
  "metadata": {
    "colab": {
      "name": "Simulacion_SCP.ipynb",
      "provenance": [],
      "collapsed_sections": [],
      "toc_visible": true,
      "include_colab_link": true
    },
    "kernelspec": {
      "name": "python3",
      "display_name": "Python 3"
    }
  },
  "cells": [
    {
      "cell_type": "markdown",
      "metadata": {
        "id": "view-in-github",
        "colab_type": "text"
      },
      "source": [
        "<a href=\"https://colab.research.google.com/github/jugernaut/ProgramacionEnParalelo/blob/desarrollo/Introduccion/Simulacion_SCP.ipynb\" target=\"_parent\"><img src=\"https://colab.research.google.com/assets/colab-badge.svg\" alt=\"Open In Colab\"/></a>"
      ]
    },
    {
      "cell_type": "markdown",
      "metadata": {
        "id": "IOfkNTIteZsD"
      },
      "source": [
        "<font color=\"Teal\" face=\"Comic Sans MS,arial\">\r\n",
        "  <h1 align=\"center\"><i>Simulación.</i></h1>\r\n",
        "  </font>\r\n",
        "  <font color=\"Black\" face=\"Comic Sans MS,arial\">\r\n",
        "  <h5 align=\"center\"><i>Profesor: M.en.C. Miguel Angel Pérez León.</i></h5>\r\n",
        "    <h5 align=\"center\"><i>Ayudante: Jesús Iván Coss Calderón.</i></h5>\r\n",
        "    <h5 align=\"center\"><i>Ayudante: Mario Arturo .</i></h5>\r\n",
        "  <h5 align=\"center\"><i>Materia: Seminario de programación en paralelo..</i></h5>\r\n",
        "  </font>"
      ]
    },
    {
      "cell_type": "markdown",
      "metadata": {
        "id": "s3qRESqvhpHs"
      },
      "source": [
        "#Introducción.\r\n",
        "\r\n",
        "La ciencia se desarrolla aplicando el método científico, lo que significa que, se observa un fenómeno que se requiere estudiar, se plantea\r\n",
        "una hipótesis que explica el comportamiento de dicho fenómeno y\r\n",
        "finalmente mediante una serie de experimentos (algunos muy\r\n",
        "costosos) se pretende corroborar la hipótesis.\r\n",
        "\r\n",
        "En el campo de las ciencias exactas la simulación por computadora\r\n",
        "ha probado ser una herramienta extremadamente útil, ya que permite\r\n",
        "ahorrar mucho tiempo y dinero. Una simulación por computadora\r\n",
        "normalmente no es muy costosa y se puede repetir las veces que sea\r\n",
        "necesario e incluso se puede acelerar el paso de tiempo del fenómeno\r\n",
        "que se requiere estudiar.\r\n",
        "\r\n",
        "Es por estos motivos que generar simulaciones adecuadas y\r\n",
        "confiables es una habilidad importante de todo estudiante de\r\n",
        "ciencias.\r\n",
        "\r\n"
      ]
    },
    {
      "cell_type": "markdown",
      "metadata": {
        "id": "RdAQUgpwiZgM"
      },
      "source": [
        "##Tipos de simulaciones.\r\n",
        "\r\n",
        "Actualmente existen básicamente 2 tipos de simulaciones. La\r\n",
        "primera de ellas son las simulaciones basadas en modelos\r\n",
        "matemáticos complejos que incorporan el uso de ecuaciones\r\n",
        "diferenciales, sistemas de ecuaciones o integrales para describir\r\n",
        "el comportamiento de un fenómeno, este tipo de simulaciones\r\n",
        "se estudian en materias como análisis numérico o modelación\r\n",
        "matemática.\r\n",
        "\r\n",
        "El otro tipo de simulaciones son las simulaciones basadas en\r\n",
        "agentes (antes autómatas celulares). En este tipo de\r\n",
        "simulaciones, la idea principal es tratar de determinar las\r\n",
        "interacciones locales entre los individuos que conforman el\r\n",
        "sistema, para poder determinar cual sera el comportamiento del\r\n",
        "sistema en el paso siguiente de tiempo.\r\n",
        "Sin importar el tipo de simulación la forma en la que esta debe\r\n",
        "ser construida no cambia mucho.\r\n",
        "\r\n",
        "El algoritmo general seria el siguiente.\r\n",
        "\r\n",
        "1. Se observa un fenómeno de interés.\r\n",
        "2. Se genera un modelo matemático (ya sea complejo o\r\n",
        "basado en agentes).\r\n",
        "3. Se construye el correspondiente modelo computacional.\r\n",
        "4. Finalmente se procede a calibrar y probar la simulación.\r\n",
        "\r\n",
        "Vale la pena aclarar que siempre que sea posible obtener la\r\n",
        "solución del problema planteado, de manera analítica es\r\n",
        "preferible seguir este camino, ya que es el camino que mayor\r\n",
        "exactitud y confiabilidad ofrece."
      ]
    },
    {
      "cell_type": "markdown",
      "metadata": {
        "id": "rI1YUeFQihaK"
      },
      "source": [
        "##Modelos matemáticos.\r\n",
        "\r\n",
        "<center>\r\n",
        "<img src=\"https://github.com/jugernaut/Numerico2021/blob/master/Imagenes/simulacion/regla90.PNG?raw=1\" width=\"600\"> \r\n",
        "</center>\r\n",
        "\r\n",
        "<center>\r\n",
        "<img src=\"https://github.com/jugernaut/Numerico2021/blob/master/Imagenes/simulacion/juegovida.PNG?raw=1\" width=\"600\"> \r\n",
        "</center>\r\n",
        "\r\n",
        "<center>\r\n",
        "<img src=\"https://github.com/jugernaut/Numerico2021/blob/master/Imagenes/simulacion/trafico.PNG?raw=1\" width=\"300\">\r\n",
        "</center>\r\n",
        "\r\n",
        "<center>\r\n",
        "<img src=\"https://github.com/jugernaut/Numerico2021/blob/master/Imagenes/simulacion/pluvial.PNG?raw=1\" width=\"300\">\r\n",
        "</center>\r\n",
        "\r\n",
        "<center>\r\n",
        "<img src=\"https://github.com/jugernaut/Numerico2021/blob/desarrollo/Figuras/derivacion/yacimiento.PNG?raw=1\" width=\"300\">\r\n",
        "</center>\r\n",
        "\r\n",
        "$$\\frac{\\delta}{\\delta t}\\left(\\frac{\\Phi S_{w}}{B_{w}}\\right)=\\nabla\\cdot\\left(T_{w}\\left[\\nabla p_{w}-\\rho_{w}\\vec{g}\\right]\\right)+\\frac{qWs}{B_{w}}$$\r\n",
        "\r\n",
        "$$\\frac{\\delta}{\\delta t}\\left(\\frac{\\Phi S_{o}}{B_{o}}\\right)=\\nabla\\cdot\\left(T_{o}\\left[\\nabla p_{o}-\\rho_{o}\\vec{g}\\right]\\right)+\\frac{qOs}{B_{o}}$$\r\n",
        "\r\n",
        "<center>\r\n",
        "<img src=\"https://github.com/jugernaut/Numerico2021/blob/desarrollo/Figuras/derivacion/dinamica.PNG?raw=1\" width=\"300\">\r\n",
        "</center>\r\n",
        "\r\n",
        "$$\\frac{\\delta\\rho}{\\delta t}+\\frac{\\delta}{\\delta x_{j}}\\left[\\rho u_{j}\\right]=0$$\r\n",
        "\r\n",
        "$$\\frac{\\delta}{\\delta t}\\left(\\rho u_{i}\\right)+\\frac{\\delta}{\\delta x_{j}}\\left[\\rho u_{i}u_{j}+p\\delta_{ij}-\\tau_{ji}\\right]=0,\\quad i=1,2,3$$\r\n",
        "\r\n",
        "<center>\r\n",
        "<img src=\"https://github.com/jugernaut/Numerico2021/blob/desarrollo/Figuras/derivacion/estru.PNG?raw=1\" width=\"300\">\r\n",
        "</center>\r\n",
        "\r\n",
        "$$\\nabla\\cdot\\sigma+F=\\rho\\frac{\\delta^{2}u}{\\delta t^{2}}$$\r\n",
        "\r\n",
        "$$\\varepsilon=\\frac{1}{2}\\left[\\nabla u+\\left(\\nabla u\\right)\\right]$$\r\n",
        "\r\n",
        "$$\\sigma=C:\\varepsilon$$\r\n",
        "\r\n",
        "<center>\r\n",
        "<img src=\"https://github.com/jugernaut/Numerico2021/blob/desarrollo/Figuras/derivacion/equi.PNG?raw=1\" width=\"300\">\r\n",
        "</center>\r\n",
        "\r\n",
        "$$\\delta x=\\delta B-5x\\,\\delta t$$\r\n"
      ]
    },
    {
      "cell_type": "markdown",
      "metadata": {
        "id": "eUicn-h2jLg3"
      },
      "source": [
        "#Autómatas celulares(modelos basadas en agentes.)\r\n",
        "\r\n",
        "Un autómata celular es un modelo matemático que, basado en\r\n",
        "las interacciones locales permite mostrar la evolución de un\r\n",
        "sistema dinámico que avanza a pasos discretos de tiempo.\r\n",
        "\r\n",
        "Existe diferentes científicos que han aportado en gran medida a\r\n",
        "lo que hoy se conoce como autómata celular (A.C.), sin\r\n",
        "embargo se puede decir que la persona responsable de la\r\n",
        "definición de A.C. fue John von Neumann.\r\n",
        "\r\n",
        "Por otro lado Stephen Wolfram llevo a un nuevo nivel la\r\n",
        "definición de A.C. ya que el los clasifico y realizo múltiples\r\n",
        "investigaciones muy importantes al respecto.\r\n",
        "\r\n",
        "Dicho sea de paso Stephen Wolfram es el creador de Wolfram\r\n",
        "Alpha, gran aliado y salvador de todo estudiante de la Facultad\r\n",
        "de Ciencias."
      ]
    },
    {
      "cell_type": "markdown",
      "metadata": {
        "id": "vGcMMJhWjgCy"
      },
      "source": [
        "##Descripción.\r\n",
        "\r\n",
        "No se tiene como tal una definición matemática formal de lo\r\n",
        "que es un A.C., pero podemos pensar en el mismo como una\r\n",
        "tupla, es decir un conjunto de elementos ordenados\r\n",
        "\r\n",
        "\r\n",
        "*   Una rejilla o cuadricula (lattice) de enteros, infinitamente\r\n",
        "extendida y con dimensión $d ∈ Z^{+}$. Cada celda es conocida como célula.\r\n",
        "*   Una célula puede tomar un valor en Z a partir de un\r\n",
        "conjunto finito de estados k.\r\n",
        "*   Cada célula ademas se caracteriza por su vecindad,\r\n",
        "conjunto finito de células que colindan con la célula en\r\n",
        "cuestión.\r\n",
        "*   La función de transición, toma el estado actual de la\r\n",
        "célula y los valores de la vecindad de la célula en cuestión y\r\n",
        "regresa el nuevo valor de la célula que tendrá en el paso\r\n",
        "siguiente de tiempo. Esta función se aplica de manera\r\n",
        "homogénea a todas las células del A.C. por cada paso de\r\n",
        "tiempo.\r\n",
        "\r\n",
        "\r\n",
        "\r\n"
      ]
    },
    {
      "cell_type": "markdown",
      "metadata": {
        "id": "EsRlhjY2kHxN"
      },
      "source": [
        "##Autómata celular(90).\r\n",
        "\r\n",
        "En suma todos estos elementos permiten mostrar como evoluciona un\r\n",
        "sistema dinámico, veamos el ejemplo de la regla 90. Se le llama regla\r\n",
        "90 dado que la función de transición representa el número 90 en\r\n",
        "binario\r\n",
        "\r\n",
        "\r\n",
        "*   Rejilla unidimensional con el numero de células deseadas\r\n",
        "para el modelo.\r\n",
        "*   Conjunto de estados: cada célula puede tomar el valor de\r\n",
        "{0, 1}.\r\n",
        "*   Vecindad: la vecindad de una célula sera la célula anterior\r\n",
        "y la célula posterior. La frontera es continua, es decir\r\n",
        "que la ultima célula esta conectada con la primera.\r\n",
        "*   Función de transición: esta definida de la siguiente manera.\r\n",
        "\r\n",
        "Vecindad  | 111 |110 | 101 | 100 | 011 | 010 | 001 | 000|\r\n",
        "----|----|----|-------|-----|----|----|----|-\r\n",
        "paso de tiempo|0 | 1 | 0 | 1 | 1 | 0 | 1 | 0|\r\n",
        "\r\n",
        "\r\n",
        "Veamos como evoluciona este a.c. después de un par de pasos\r\n",
        "de tiempo.\r\n",
        "\r\n",
        "Tiempo 0  | 0  |0  | 0 | 0 | 1  | 0  | 0  | 0  | 0|\r\n",
        "----|---- |----|-------|---|--  |----|----|----|- |\r\n",
        "Tiempo 1  | 0  |0  | 0 | 1 |0   | 1  | 0  | 0  | 0|\r\n",
        "----|---- |----|-------|---|--- |----|----|-   |\r\n",
        "Tiempo 2  | 0  | 0 | 1 |0  | 0  | 0  | 1  | 0  | 0|\r\n",
        "----|---- |----|-------|---|----|----|----|-   |\r\n",
        "Tiempo 3  | 0  | 1 | 0 |1  | 0  | 1  | 0  | 1  | 0|\r\n",
        "----|---- |----|-------|---|----|----|----|-   |\r\n",
        "Tiempo 4  | 1  | 0 | 0 |0  | 0  | 0  | 0  | 0  | 1|\r\n",
        "----|---- |----|---|---|---|--  |----|----|----|-|\r\n",
        "\r\n",
        "Después de muchos pasos de tiempo se comienza a ver un\r\n",
        "patrón que se replica en todo la rejilla. Veamos la\r\n",
        "simulación con NetLogo.\r\n",
        "\r\n",
        "\r\n",
        "\r\n",
        "\r\n",
        "\r\n"
      ]
    },
    {
      "cell_type": "markdown",
      "metadata": {
        "id": "03qW5Dum724j"
      },
      "source": [
        "##Autómata celular(184).\r\n",
        "\r\n",
        "Esta regla es la que modela el flujo vehicular empleado en un a.c.\r\n",
        "elemental de igual manera que el autómata anterior, este toma su\r\n",
        "nombre del valor en decimal de la función de transición. Los\r\n",
        "elementos que definen a este a.c. son los mismos que el del autómata\r\n",
        "anterior:\r\n",
        "Rejilla unidimensional con el numero de células deseadas\r\n",
        "para el modelo.\r\n",
        "Conjunto de estados: cada célula puede tomar el valor de\r\n",
        "{0, 1}.\r\n",
        "Vecindad: la vecindad de una célula sera la célula anterior\r\n",
        "y la célula posterior. La frontera es continua, es decir\r\n",
        "que la ultima célula esta conectada con la primera.\r\n",
        "\r\n",
        "Vecindad  | 111 |110 | 101 | 100 | 011 | 010 | 001 | 000|\r\n",
        "----|----|----|-------|-----|----|----|----|-\r\n",
        "paso de tiempo|1 | 0 | 1 | 1 | 1 | 0 | 0 | 0|\r\n",
        "\r\n",
        "Veamos como evoluciona este a.c. después de un par de pasos\r\n",
        "de tiempo.\r\n",
        "\r\n",
        "Tiempo 0  | 1  |0  | 0 | 1 | 0  | 1  | 0  | 0  | \r\n",
        "----|---- |----|-------|---|--  |----|----|----|\r\n",
        "Tiempo 1  | 0  |1  | 0 | 0 |1   | 0  | 1  | 0  | \r\n",
        "----|---- |----|-------|---|--- |----|----|-   |\r\n",
        "Tiempo 2  | 0  | 0 | 1 |0  | 0  | 1  | 0  | 1  | \r\n",
        "----|---- |----|-------|---|----|----|----|-   |\r\n",
        "Tiempo 3  | 1  | 0 | 0 |1  | 0  | 0  | 1  | 0  | \r\n",
        "----|---- |----|-------|---|----|----|----|-   |\r\n",
        "Tiempo 4  | 0  | 1 | 0 |0  | 1  | 0  | 1  | 0  | \r\n",
        "----|---- |----|---|---|---|--  |----|----|----|\r\n",
        "\r\n",
        "\r\n",
        "Como pueden notar, después de un cierto numero de pasos\r\n",
        "de tiempo (y dadas las condiciones iniciales) se repite el\r\n",
        "patrón que muestra el a.c."
      ]
    },
    {
      "cell_type": "markdown",
      "metadata": {
        "id": "4bvyp9Pt88cg"
      },
      "source": [
        "#Simulación de probabilidades.\r\n",
        "\r\n",
        "En gran parte de las simulaciones que se pueden generar, incluir\r\n",
        "procesos estocásticos es de vital importancia ya que así es como se\r\n",
        "logran modelar fenómenos de interés, como lo seria el que al lanzar\r\n",
        "una moneda se obtenga una cara un otra.\r\n",
        "\r\n",
        "Los métodos de Montecarlo, son métodos que han probado ser\r\n",
        "altamente efectivos y estos se basan en la idea de generar un\r\n",
        "muestreo aleatorio uniformemente distribuido.\r\n",
        "\r\n",
        "Dado que las simulaciones se realizan empleando una computadora,\r\n",
        "los valores aleatorios que se tienen que generar también se calculan\r\n",
        "dentro de la computadora.\r\n",
        "\r\n",
        "Sin embargo ya que los recursos de una computadora son finitos, los\r\n",
        "valores aleatorios que se pueden generar en realidad están acotados\r\n",
        "por las limitaciones de la computadora donde se generen estos\r\n",
        "valores. Es por esta razón que se conocen como valores\r\n",
        "pseudoaleatorios."
      ]
    },
    {
      "cell_type": "markdown",
      "metadata": {
        "id": "cQGYivvM9HC_"
      },
      "source": [
        "##Creación de valores aleatorios.\r\n",
        "\r\n",
        "La mayoría de los lenguajes de programación actuales ya\r\n",
        "cuentan con una amplia biblioteca de herramientas para generar\r\n",
        "valores pseudoaleatorios, la forma en la que se generan estos\r\n",
        "valores normalmente es la siguiente:\r\n",
        "\r\n",
        "\r\n",
        "*   Se invoca una función o método que recibe como\r\n",
        "parámetro una semilla (seed).\r\n",
        "*   Esta semilla tiene la finalidad de ayudar a generar estos\r\n",
        "valores pseudoaleatorios.\r\n",
        "*   Opcionalmente se puede indicar el rango en el cual se\r\n",
        "requiere el valor pseudoaleatorio.\r\n",
        "*   Se genera el valor pseudoaleatorio.\r\n",
        "\r\n",
        "*   Por ultimo se emplea este valor en el proceso estocástico\r\n",
        "en cuestión y se procede a generar el siguiente.a\r\n",
        "\r\n",
        "\r\n",
        "\r\n"
      ]
    },
    {
      "cell_type": "markdown",
      "metadata": {
        "id": "rpl9xy0c9iC7"
      },
      "source": [
        "#Referencias.\r\n",
        "\r\n",
        "1. Thomas H. Cormen: Introduction to Algorithms.\r\n",
        "\r\n",
        "2. Libro Web: Introduccion a Python.\r\n",
        "3. Daniel T. Joyce: Object-Oriented Data Structures.\r\n",
        "4. John C. Mitchell: Concepts in programing Languages."
      ]
    }
  ]
}
