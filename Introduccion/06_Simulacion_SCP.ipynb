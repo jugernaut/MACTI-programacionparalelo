{
  "nbformat": 4,
  "nbformat_minor": 0,
  "metadata": {
    "colab": {
      "name": "Simulacion_SCP.ipynb",
      "provenance": [],
      "collapsed_sections": [],
      "toc_visible": true,
      "include_colab_link": true
    },
    "kernelspec": {
      "name": "python3",
      "display_name": "Python 3"
    }
  },
  "cells": [
    {
      "cell_type": "markdown",
      "metadata": {
        "id": "view-in-github",
        "colab_type": "text"
      },
      "source": [
        "<a href=\"https://colab.research.google.com/github/jugernaut/ProgramacionEnParalelo/blob/desarrollo/Introduccion/06_Simulacion_SCP.ipynb\" target=\"_parent\"><img src=\"https://colab.research.google.com/assets/colab-badge.svg\" alt=\"Open In Colab\"/></a>"
      ]
    },
    {
      "cell_type": "markdown",
      "metadata": {
        "id": "IOfkNTIteZsD"
      },
      "source": [
        "<font color=\"Teal\" face=\"Comic Sans MS,arial\">\n",
        "  <h1 align=\"center\"><i>Simulación</i></h1>\n",
        "  </font>\n",
        "  <font color=\"Black\" face=\"Comic Sans MS,arial\">\n",
        "  <h5 align=\"center\"><i>Profesor: M. en C. Miguel Angel Pérez León</i></h5>\n",
        "    <h5 align=\"center\"><i>Ayudante: Jesús Iván Coss Calderón</i></h5>\n",
        "    <h5 align=\"center\"><i>Ayudante: Andrea Fernanda Muñiz Patiño</i></h5>\n",
        "  <h5 align=\"center\"><i>Materia: Seminario de programación en paralelo</i></h5>\n",
        "  </font>"
      ]
    },
    {
      "cell_type": "markdown",
      "metadata": {
        "id": "s3qRESqvhpHs"
      },
      "source": [
        "#Introducción\n",
        "\n",
        "La ciencia se desarrolla aplicando el método científico, lo que significa que, se observa un fenómeno que se requiere estudiar, se plantea\n",
        "una hipótesis que explica el comportamiento de dicho fenómeno y\n",
        "finalmente mediante una serie de experimentos (algunos muy\n",
        "costosos) se pretende corroborar la hipótesis.\n",
        "\n",
        "En el campo de las ciencias exactas la simulación por computadora\n",
        "ha probado ser una herramienta extremadamente útil, ya que permite\n",
        "ahorrar mucho tiempo y dinero. Una simulación por computadora\n",
        "normalmente no es muy costosa y se puede repetir las veces que sea\n",
        "necesario e incluso se puede acelerar el paso de tiempo del fenómeno\n",
        "que se requiere estudiar.\n",
        "\n",
        "Es por estos motivos que generar simulaciones adecuadas y\n",
        "confiables es una habilidad importante de todo estudiante de\n",
        "ciencias.\n",
        "\n"
      ]
    },
    {
      "cell_type": "markdown",
      "metadata": {
        "id": "RdAQUgpwiZgM"
      },
      "source": [
        "## Tipos de simulaciones\n",
        "\n",
        "Actualmente existen básicamente 2 tipos de simulaciones. La\n",
        "primera de ellas son las simulaciones basadas en modelos\n",
        "matemáticos complejos que incorporan el uso de ecuaciones\n",
        "diferenciales, sistemas de ecuaciones o integrales para describir\n",
        "el comportamiento de un fenómeno, este tipo de simulaciones\n",
        "se estudian en materias como **análisis numérico** o **modelación\n",
        "matemática**.\n",
        "\n",
        "El otro tipo de simulaciones son las simulaciones basadas en\n",
        "agentes (antes autómatas celulares). En este tipo de\n",
        "simulaciones, la idea principal es prestar atención a las\n",
        "interacciones locales entre los individuos que conforman el\n",
        "sistema, para poder determinar cual será el comportamiento del\n",
        "sistema en el paso siguiente de tiempo.\n",
        "Sin importar el tipo de simulación la forma en la que esta debe\n",
        "ser construida no cambia mucho.\n",
        "\n",
        "El algoritmo general seria el siguiente.\n",
        "\n",
        "1. Se observa un fenómeno de interés.\n",
        "2. Se genera un modelo matemático (ya sea complejo o\n",
        "basado en agentes).\n",
        "3. Se construye el correspondiente modelo computacional.\n",
        "4. Finalmente se procede a calibrar y probar la simulación.\n",
        "\n",
        "Vale la pena aclarar que siempre que sea posible obtener la\n",
        "solución del problema planteado, de manera analítica es\n",
        "preferible seguir este camino, ya que es el camino que mayor\n",
        "exactitud y confiabilidad ofrece."
      ]
    },
    {
      "cell_type": "markdown",
      "metadata": {
        "id": "rI1YUeFQihaK"
      },
      "source": [
        "## Modelos matemáticos\n",
        "\n",
        "<center>\n",
        "<img src=\"https://github.com/jugernaut/Numerico2021/blob/master/Imagenes/simulacion/regla90.PNG?raw=1\" width=\"600\"> \n",
        "</center>\n",
        "\n",
        "<center>\n",
        "<img src=\"https://github.com/jugernaut/Numerico2021/blob/master/Imagenes/simulacion/juegovida.PNG?raw=1\" width=\"600\"> \n",
        "</center>\n",
        "\n",
        "<center>\n",
        "<img src=\"https://github.com/jugernaut/Numerico2021/blob/master/Imagenes/simulacion/trafico.PNG?raw=1\" width=\"500\">\n",
        "</center>\n",
        "\n",
        "<center>\n",
        "<img src=\"https://github.com/jugernaut/Numerico2021/blob/master/Imagenes/simulacion/pluvial.PNG?raw=1\" width=\"500\">\n",
        "</center>\n",
        "\n",
        "<center>\n",
        "<img src=\"https://github.com/jugernaut/Numerico2021/blob/desarrollo/Figuras/derivacion/yacimiento.PNG?raw=1\" width=\"500\">\n",
        "</center>\n",
        "\n",
        "$$\\frac{\\delta}{\\delta t}\\left(\\frac{\\Phi S_{w}}{B_{w}}\\right)=\\nabla\\cdot\\left(T_{w}\\left[\\nabla p_{w}-\\rho_{w}\\vec{g}\\right]\\right)+\\frac{qWs}{B_{w}}$$\n",
        "\n",
        "$$\\frac{\\delta}{\\delta t}\\left(\\frac{\\Phi S_{o}}{B_{o}}\\right)=\\nabla\\cdot\\left(T_{o}\\left[\\nabla p_{o}-\\rho_{o}\\vec{g}\\right]\\right)+\\frac{qOs}{B_{o}}$$\n",
        "\n",
        "<center>\n",
        "<img src=\"https://github.com/jugernaut/Numerico2021/blob/desarrollo/Figuras/derivacion/dinamica.PNG?raw=1\" width=\"500\">\n",
        "</center>\n",
        "\n",
        "$$\\frac{\\delta\\rho}{\\delta t}+\\frac{\\delta}{\\delta x_{j}}\\left[\\rho u_{j}\\right]=0$$\n",
        "\n",
        "$$\\frac{\\delta}{\\delta t}\\left(\\rho u_{i}\\right)+\\frac{\\delta}{\\delta x_{j}}\\left[\\rho u_{i}u_{j}+p\\delta_{ij}-\\tau_{ji}\\right]=0,\\quad i=1,2,3$$\n",
        "\n",
        "<center>\n",
        "<img src=\"https://github.com/jugernaut/Numerico2021/blob/desarrollo/Figuras/derivacion/estru.PNG?raw=1\" width=\"500\">\n",
        "</center>\n",
        "\n",
        "$$\\nabla\\cdot\\sigma+F=\\rho\\frac{\\delta^{2}u}{\\delta t^{2}}$$\n",
        "\n",
        "$$\\varepsilon=\\frac{1}{2}\\left[\\nabla u+\\left(\\nabla u\\right)\\right]$$\n",
        "\n",
        "$$\\sigma=C:\\varepsilon$$\n",
        "\n",
        "<center>\n",
        "<img src=\"https://github.com/jugernaut/Numerico2021/blob/desarrollo/Figuras/derivacion/equi.PNG?raw=1\" width=\"500\">\n",
        "</center>\n",
        "\n",
        "$$\\delta x=\\delta B-5x\\,\\delta t$$\n"
      ]
    },
    {
      "cell_type": "markdown",
      "metadata": {
        "id": "eUicn-h2jLg3"
      },
      "source": [
        "# Autómatas celulares (modelos basados en agentes)\n",
        "\n",
        "Un autómata celular es un modelo matemático que, basado en\n",
        "las interacciones locales permite mostrar la evolución de un\n",
        "sistema dinámico que avanza a pasos discretos de tiempo.\n",
        "\n",
        "Existe diferentes científicos que han aportado en gran medida a\n",
        "lo que hoy se conoce como autómata celular (A.C.), sin\n",
        "embargo se puede decir que la persona responsable de la\n",
        "definición de A.C. fue **John von Neumann**.\n",
        "\n",
        "Por otro lado **Stephen Wolfram** llevo a un nuevo nivel la\n",
        "definición de A.C. ya que el los clasificó y realizó múltiples\n",
        "investigaciones muy importantes al respecto.\n",
        "\n",
        "Dicho sea de paso Stephen Wolfram es el creador de **Wolfram\n",
        "Alpha**, gran aliado y salvador de todo estudiante de la Facultad\n",
        "de Ciencias."
      ]
    },
    {
      "cell_type": "markdown",
      "metadata": {
        "id": "vGcMMJhWjgCy"
      },
      "source": [
        "## Descripción\n",
        "\n",
        "No se tiene como tal una definición matemática formal de lo\n",
        "que es un A.C., pero podemos pensar en el mismo como una\n",
        "tupla, es decir un conjunto de elementos ordenados.\n",
        "\n",
        "*   Una rejilla o cuadricula (lattice) de enteros, infinitamente\n",
        "extendida y con dimensión $d ∈ Z^{+}$. Cada celda es conocida como célula.\n",
        "*   Una célula puede tomar un valor en Z a partir de un\n",
        "conjunto finito de estados k.\n",
        "*   Cada célula ademas se caracteriza por su vecindad,\n",
        "conjunto finito de células que colindan con la célula en\n",
        "cuestión.\n",
        "*   La función de transición, toma el estado actual de la\n",
        "célula y los valores de la vecindad de la célula en cuestión y\n",
        "regresa el nuevo valor de la célula que tendrá en el paso\n",
        "siguiente de tiempo. Esta función se aplica de manera\n",
        "homogénea a todas las células del A.C. por cada paso de\n",
        "tiempo."
      ]
    },
    {
      "cell_type": "markdown",
      "metadata": {
        "id": "EsRlhjY2kHxN"
      },
      "source": [
        "## Autómata celular regla (90)\n",
        "\n",
        "En suma todos estos elementos permiten mostrar como evoluciona un\n",
        "sistema dinámico, veamos el ejemplo de la **regla 90**. Se le llama regla\n",
        "90 dado que la función de transición representa el número 90 en\n",
        "binario.\n",
        "\n",
        "*   Rejilla unidimensional con el numero de células deseadas\n",
        "para el modelo.\n",
        "*   Conjunto de estados: cada célula puede tomar el valor de\n",
        "{0, 1}.\n",
        "*   Vecindad: la vecindad de una célula sera la célula anterior\n",
        "y la célula posterior. La frontera es continua, es decir\n",
        "que la ultima célula esta conectada con la primera.\n",
        "*   Función de transición: esta definida de la siguiente manera.\n",
        "\n",
        "Vecindad  | 111 |110 | 101 | 100 | 011 | 010 | 001 | 000|\n",
        "----|----|----|-------|-----|----|----|----|-\n",
        "paso de tiempo|0 | 1 | 0 | 1 | 1 | 0 | 1 | 0|\n",
        "\n",
        "Veamos como evoluciona este a.c. después de un par de pasos\n",
        "de tiempo.\n",
        "\n",
        "Tiempo 0  | 0  |0  | 0 | 0 | 1  | 0  | 0  | 0  | 0|\n",
        "----|---- |----|-------|---|--  |----|----|----|- |\n",
        "Tiempo 1  | 0  |0  | 0 | 1 |0   | 1  | 0  | 0  | 0|\n",
        "----|---- |----|-------|---|--- |----|----|-   |\n",
        "Tiempo 2  | 0  | 0 | 1 |0  | 0  | 0  | 1  | 0  | 0|\n",
        "----|---- |----|-------|---|----|----|----|-   |\n",
        "Tiempo 3  | 0  | 1 | 0 |1  | 0  | 1  | 0  | 1  | 0|\n",
        "----|---- |----|-------|---|----|----|----|-   |\n",
        "Tiempo 4  | 1  | 0 | 0 |0  | 0  | 0  | 0  | 0  | 1|\n",
        "----|---- |----|---|---|---|--  |----|----|----|-|\n",
        "\n",
        "Después de muchos pasos de tiempo se comienza a ver un\n",
        "patrón que se replica en todo la rejilla. Una simulación de este a.c. se puede ver en **NetLogo**."
      ]
    },
    {
      "cell_type": "markdown",
      "metadata": {
        "id": "03qW5Dum724j"
      },
      "source": [
        "##Autómata celular regla (184)\n",
        "\n",
        "Esta regla es la que modela el flujo vehicular empleado en un a.c.\n",
        "elemental de igual manera que el autómata anterior, este toma su\n",
        "nombre del valor en decimal de la función de transición. Los\n",
        "elementos que definen a este a.c. son los mismos que el del autómata\n",
        "anterior:\n",
        "\n",
        "*   Rejilla unidimensional con el numero de células deseadas para el modelo\n",
        "*   Conjunto de estados, cada célula puede tomar el valor de\n",
        "{0, 1}.\n",
        "*   Vecindad: la vecindad de una célula sera la célula anterior\n",
        "y la célula posterior. La frontera es continua, es decir\n",
        "que la ultima célula esta conectada con la primera.\n",
        "\n",
        "Vecindad  | 111 |110 | 101 | 100 | 011 | 010 | 001 | 000|\n",
        "----|----|----|-------|-----|----|----|----|-\n",
        "paso de tiempo|1 | 0 | 1 | 1 | 1 | 0 | 0 | 0|\n",
        "\n",
        "Veamos como evoluciona este a.c. después de un par de pasos\n",
        "de tiempo.\n",
        "\n",
        "Tiempo 0  | 1  |0  | 0 | 1 | 0  | 1  | 0  | 0  | \n",
        "----|---- |----|-------|---|--  |----|----|----|\n",
        "Tiempo 1  | 0  |1  | 0 | 0 |1   | 0  | 1  | 0  | \n",
        "----|---- |----|-------|---|--- |----|----|-   |\n",
        "Tiempo 2  | 0  | 0 | 1 |0  | 0  | 1  | 0  | 1  | \n",
        "----|---- |----|-------|---|----|----|----|-   |\n",
        "Tiempo 3  | 1  | 0 | 0 |1  | 0  | 0  | 1  | 0  | \n",
        "----|---- |----|-------|---|----|----|----|-   |\n",
        "Tiempo 4  | 0  | 1 | 0 |0  | 1  | 0  | 1  | 0  | \n",
        "----|---- |----|---|---|---|--  |----|----|----|\n",
        "\n",
        "Como pueden notar, después de un cierto numero de pasos\n",
        "de tiempo (y dadas las condiciones iniciales) se repite el\n",
        "patrón que muestra el a.c."
      ]
    },
    {
      "cell_type": "markdown",
      "metadata": {
        "id": "4bvyp9Pt88cg"
      },
      "source": [
        "# Simulación de probabilidades\n",
        "\n",
        "En gran parte de las simulaciones que se pueden generar, incluir\n",
        "**procesos estocásticos** es de vital importancia ya que así es como se\n",
        "logran modelar fenómenos de interés, como lo seria el que, al lanzar\n",
        "una moneda se obtenga una cara un otra.\n",
        "\n",
        "Los **métodos de Montecarlo**, son métodos que han probado ser\n",
        "altamente efectivos y estos se basan en la idea de generar un\n",
        "**muestreo aleatorio uniformemente distribuido**.\n",
        "\n",
        "Dado que las simulaciones se realizan empleando una computadora,\n",
        "los valores aleatorios que se tienen que generar también se calculan\n",
        "dentro de la computadora.\n",
        "\n",
        "Sin embargo ya que los recursos de una computadora son finitos, los\n",
        "valores aleatorios que se pueden generar en realidad están acotados\n",
        "por las limitaciones de la computadora donde se generen estos\n",
        "valores. Es por esta razón que se conocen como valores\n",
        "**pseudoaleatorios**."
      ]
    },
    {
      "cell_type": "markdown",
      "metadata": {
        "id": "cQGYivvM9HC_"
      },
      "source": [
        "## Creación de valores aleatorios\n",
        "\n",
        "La mayoría de los lenguajes de programación actuales ya\n",
        "cuentan con una amplia biblioteca de herramientas para generar\n",
        "valores pseudoaleatorios, la forma en la que se generan estos\n",
        "valores normalmente es la siguiente:\n",
        "\n",
        "*   Se invoca una función o método que recibe como\n",
        "parámetro una semilla (seed).\n",
        "*   Esta semilla tiene la finalidad de ayudar a generar estos\n",
        "valores pseudoaleatorios.\n",
        "*   Opcionalmente se puede indicar el rango en el cual se\n",
        "requiere el valor pseudoaleatorio.\n",
        "*   Se genera el valor pseudoaleatorio.\n",
        "*   Por ultimo se emplea este valor en el proceso estocástico\n",
        "en cuestión y se procede a generar el siguiente."
      ]
    },
    {
      "cell_type": "markdown",
      "metadata": {
        "id": "rpl9xy0c9iC7"
      },
      "source": [
        "#Referencias\n",
        "\n",
        "1. Thomas H. Cormen: Introduction to Algorithms.\n",
        "2. [Netlogo](https://ccl.northwestern.edu/netlogo/)\n",
        "3. Libro Web: Introduccion a Python.\n",
        "4. Daniel T. Joyce: Object-Oriented Data Structures.\n",
        "5. John C. Mitchell: Concepts in programing Languages.\n"
      ]
    }
  ]
}