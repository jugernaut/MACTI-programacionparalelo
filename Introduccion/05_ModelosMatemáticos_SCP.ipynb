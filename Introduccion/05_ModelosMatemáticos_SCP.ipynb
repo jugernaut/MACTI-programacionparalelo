{
  "nbformat": 4,
  "nbformat_minor": 0,
  "metadata": {
    "kernelspec": {
      "display_name": "Python 3.7 (tensorflow)",
      "language": "python",
      "name": "tensorflow"
    },
    "language_info": {
      "codemirror_mode": {
        "name": "ipython",
        "version": 3
      },
      "file_extension": ".py",
      "mimetype": "text/x-python",
      "name": "python",
      "nbconvert_exporter": "python",
      "pygments_lexer": "ipython3",
      "version": "3.7.7"
    },
    "colab": {
      "name": "ModelosMatemáticos_SCP.ipynb",
      "provenance": [],
      "collapsed_sections": [],
      "toc_visible": true,
      "include_colab_link": true
    },
    "widgets": {
      "application/vnd.jupyter.widget-state+json": {
        "19b4098eeba5483eab0f55d6cc687641": {
          "model_module": "@jupyter-widgets/controls",
          "model_name": "VBoxModel",
          "model_module_version": "1.5.0",
          "state": {
            "_view_name": "VBoxView",
            "_dom_classes": [
              "widget-interact"
            ],
            "_model_name": "VBoxModel",
            "_view_module": "@jupyter-widgets/controls",
            "_model_module_version": "1.5.0",
            "_view_count": null,
            "_view_module_version": "1.5.0",
            "box_style": "",
            "layout": "IPY_MODEL_6018321a913f4c099ef01de5b474aa3a",
            "_model_module": "@jupyter-widgets/controls",
            "children": [
              "IPY_MODEL_c2bf1453d1f7485e91f885c2cfbe8a57",
              "IPY_MODEL_838e791903e1408cb0e9889e762717d0"
            ]
          }
        },
        "6018321a913f4c099ef01de5b474aa3a": {
          "model_module": "@jupyter-widgets/base",
          "model_name": "LayoutModel",
          "model_module_version": "1.2.0",
          "state": {
            "_view_name": "LayoutView",
            "grid_template_rows": null,
            "right": null,
            "justify_content": null,
            "_view_module": "@jupyter-widgets/base",
            "overflow": null,
            "_model_module_version": "1.2.0",
            "_view_count": null,
            "flex_flow": null,
            "width": null,
            "min_width": null,
            "border": null,
            "align_items": null,
            "bottom": null,
            "_model_module": "@jupyter-widgets/base",
            "top": null,
            "grid_column": null,
            "overflow_y": null,
            "overflow_x": null,
            "grid_auto_flow": null,
            "grid_area": null,
            "grid_template_columns": null,
            "flex": null,
            "_model_name": "LayoutModel",
            "justify_items": null,
            "grid_row": null,
            "max_height": null,
            "align_content": null,
            "visibility": null,
            "align_self": null,
            "height": null,
            "min_height": null,
            "padding": null,
            "grid_auto_rows": null,
            "grid_gap": null,
            "max_width": null,
            "order": null,
            "_view_module_version": "1.2.0",
            "grid_template_areas": null,
            "object_position": null,
            "object_fit": null,
            "grid_auto_columns": null,
            "margin": null,
            "display": null,
            "left": null
          }
        },
        "c2bf1453d1f7485e91f885c2cfbe8a57": {
          "model_module": "@jupyter-widgets/controls",
          "model_name": "IntSliderModel",
          "model_module_version": "1.5.0",
          "state": {
            "_view_name": "IntSliderView",
            "style": "IPY_MODEL_ddc1311934d6429cbd2ef565dc98322f",
            "_dom_classes": [],
            "description": "t",
            "step": 1,
            "_model_name": "IntSliderModel",
            "orientation": "horizontal",
            "max": 100,
            "_view_module": "@jupyter-widgets/controls",
            "_model_module_version": "1.5.0",
            "value": 12,
            "_view_count": null,
            "disabled": false,
            "_view_module_version": "1.5.0",
            "min": 0,
            "continuous_update": true,
            "readout_format": "d",
            "description_tooltip": null,
            "readout": true,
            "_model_module": "@jupyter-widgets/controls",
            "layout": "IPY_MODEL_b65bbd0c28b34bfba9042f8384ce0945"
          }
        },
        "838e791903e1408cb0e9889e762717d0": {
          "model_module": "@jupyter-widgets/output",
          "model_name": "OutputModel",
          "model_module_version": "1.0.0",
          "state": {
            "_view_name": "OutputView",
            "msg_id": "",
            "_dom_classes": [],
            "_model_name": "OutputModel",
            "outputs": [
              {
                "output_type": "display_data",
                "data": {
                  "image/png": "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\n",
                  "text/plain": "<Figure size 432x288 with 1 Axes>"
                },
                "metadata": {
                  "needs_background": "light"
                }
              }
            ],
            "_view_module": "@jupyter-widgets/output",
            "_model_module_version": "1.0.0",
            "_view_count": null,
            "_view_module_version": "1.0.0",
            "layout": "IPY_MODEL_34401c2ba3d5492b8496171e19e1f2c5",
            "_model_module": "@jupyter-widgets/output"
          }
        },
        "ddc1311934d6429cbd2ef565dc98322f": {
          "model_module": "@jupyter-widgets/controls",
          "model_name": "SliderStyleModel",
          "model_module_version": "1.5.0",
          "state": {
            "_view_name": "StyleView",
            "handle_color": null,
            "_model_name": "SliderStyleModel",
            "description_width": "",
            "_view_module": "@jupyter-widgets/base",
            "_model_module_version": "1.5.0",
            "_view_count": null,
            "_view_module_version": "1.2.0",
            "_model_module": "@jupyter-widgets/controls"
          }
        },
        "b65bbd0c28b34bfba9042f8384ce0945": {
          "model_module": "@jupyter-widgets/base",
          "model_name": "LayoutModel",
          "model_module_version": "1.2.0",
          "state": {
            "_view_name": "LayoutView",
            "grid_template_rows": null,
            "right": null,
            "justify_content": null,
            "_view_module": "@jupyter-widgets/base",
            "overflow": null,
            "_model_module_version": "1.2.0",
            "_view_count": null,
            "flex_flow": null,
            "width": null,
            "min_width": null,
            "border": null,
            "align_items": null,
            "bottom": null,
            "_model_module": "@jupyter-widgets/base",
            "top": null,
            "grid_column": null,
            "overflow_y": null,
            "overflow_x": null,
            "grid_auto_flow": null,
            "grid_area": null,
            "grid_template_columns": null,
            "flex": null,
            "_model_name": "LayoutModel",
            "justify_items": null,
            "grid_row": null,
            "max_height": null,
            "align_content": null,
            "visibility": null,
            "align_self": null,
            "height": null,
            "min_height": null,
            "padding": null,
            "grid_auto_rows": null,
            "grid_gap": null,
            "max_width": null,
            "order": null,
            "_view_module_version": "1.2.0",
            "grid_template_areas": null,
            "object_position": null,
            "object_fit": null,
            "grid_auto_columns": null,
            "margin": null,
            "display": null,
            "left": null
          }
        },
        "34401c2ba3d5492b8496171e19e1f2c5": {
          "model_module": "@jupyter-widgets/base",
          "model_name": "LayoutModel",
          "model_module_version": "1.2.0",
          "state": {
            "_view_name": "LayoutView",
            "grid_template_rows": null,
            "right": null,
            "justify_content": null,
            "_view_module": "@jupyter-widgets/base",
            "overflow": null,
            "_model_module_version": "1.2.0",
            "_view_count": null,
            "flex_flow": null,
            "width": null,
            "min_width": null,
            "border": null,
            "align_items": null,
            "bottom": null,
            "_model_module": "@jupyter-widgets/base",
            "top": null,
            "grid_column": null,
            "overflow_y": null,
            "overflow_x": null,
            "grid_auto_flow": null,
            "grid_area": null,
            "grid_template_columns": null,
            "flex": null,
            "_model_name": "LayoutModel",
            "justify_items": null,
            "grid_row": null,
            "max_height": null,
            "align_content": null,
            "visibility": null,
            "align_self": null,
            "height": null,
            "min_height": null,
            "padding": null,
            "grid_auto_rows": null,
            "grid_gap": null,
            "max_width": null,
            "order": null,
            "_view_module_version": "1.2.0",
            "grid_template_areas": null,
            "object_position": null,
            "object_fit": null,
            "grid_auto_columns": null,
            "margin": null,
            "display": null,
            "left": null
          }
        }
      }
    }
  },
  "cells": [
    {
      "cell_type": "markdown",
      "metadata": {
        "id": "view-in-github",
        "colab_type": "text"
      },
      "source": [
        "<a href=\"https://colab.research.google.com/github/jugernaut/ProgramacionEnParalelo/blob/main/Introduccion/05_ModelosMatem%C3%A1ticos_SCP.ipynb\" target=\"_parent\"><img src=\"https://colab.research.google.com/assets/colab-badge.svg\" alt=\"Open In Colab\"/></a>"
      ]
    },
    {
      "cell_type": "markdown",
      "metadata": {
        "id": "sh8cvp-EpbXK"
      },
      "source": [
        "<font color=\"Teal\" face=\"Comic Sans MS,arial\">\n",
        "  <h1 align=\"center\"><i>Modelos Matemáticos</i></h1>\n",
        "  </font>\n",
        "  <font color=\"Black\" face=\"Comic Sans MS,arial\">\n",
        "  <h5 align=\"center\"><i>Profesor: M. en C. Miguel Angel Pérez León</i></h5>\n",
        "    <h5 align=\"center\"><i>Ayudante: Jesús Iván Coss Calderón</i></h5>\n",
        "    <h5 align=\"center\"><i>Ayudante: Andrea Fernanda Muñiz Patiño</i></h5>\n",
        "  <h5 align=\"center\"><i>Materia: Seminario de programación en paralelo</i></h5>\n",
        "  </font>"
      ]
    },
    {
      "cell_type": "markdown",
      "metadata": {
        "id": "0p8AHXBvDBiU"
      },
      "source": [
        "# Introducción\n",
        "\n",
        "Recordemos como se calcula el polinomio de Lagrange con $n+1$ nodos de interpolación, ya que para la construcción de la derivada numérica es muy ilustrativo.\n",
        "\n",
        "$$P\\left(x\\right)=\\sum_{i=0}^{n}L_{i}(x)f(x_{i})$$"
      ]
    },
    {
      "cell_type": "markdown",
      "metadata": {
        "id": "ZqsqRyYsC6gm"
      },
      "source": [
        "## Construcción de la aproximación mediante Lagrange\n",
        "\n",
        "Se define la Formula de Derivación Numérica para aproximar $f'\\left(x_{*}\\right)$ sobre los nodos de interpolación $\\left\\{ x_{0},x_{1},\\ldots,x_{n}\\right\\}$ \n",
        "\n",
        "$$f'\\left(x_{*}\\right)\\approx\\sum_{i=0}^{n}C_{i}f(x_{i})$$\n",
        "\n",
        "Donde $C_{i}$ son los coeficientes o pesos de la formula. Es decir $C_{i}=L_{i}^{'}\\left(x_{*}\\right)$, con $L_{i}$ los respectivos coeficientes del polinomio de Lagrange."
      ]
    },
    {
      "cell_type": "markdown",
      "metadata": {
        "id": "HAe_HcEL8Kyh"
      },
      "source": [
        "## Definición\n",
        "\n",
        "Sea $f\\left(x\\right)$ una función derivable en $x_{*}$ y dada la formula de derivación numérica para aproximar $f'\\left(x_{*}\\right)$ sobre los nodos $\\left\\{ x_{0},x_{1},\\ldots,x_{n}\\right\\}$  donde \n",
        "\n",
        "$$f'\\left(x_{*}\\right)\\approx f_{*}^{'}=\\sum_{i=0}^{n}C_{i}f(x_{i})$$\n",
        "\n",
        "El error de truncamiento de la aproximación de la derivada para la función $f\\left(x\\right)$ en el punto $x_{*}$ esta dado por\n",
        "\n",
        "$$E_{f}\\left(x_{*}\\right)=f'\\left(x_{*}\\right)-f_{*}^{'}$$"
      ]
    },
    {
      "cell_type": "markdown",
      "metadata": {
        "id": "eZvZgiRkDLhA"
      },
      "source": [
        "## Construcción de la aproximación mediante Newton\n",
        "\n",
        "Sean los puntos $\\left\\{ x_{0},x_{1}\\right\\}$ , el polinomio interpolador de Newton de $f\\left(x\\right)$ esta dado por \n",
        "\n",
        "$$f\\left(x\\right)\\approx P_{1}\\left(x\\right)=f\\left(x_{0}\\right)+\\frac{f\\left(x_{1}\\right)-f\\left(x_{0}\\right)}{x_{1}-x_{0}}\\left(x-x_{0}\\right)=f\\left(x_{0}\\right)+\\frac{x\\left(f\\left(x_{1}\\right)-f\\left(x_{0}\\right)\\right)}{x_{1}-x_{0}}-\\frac{x_{0}\\left(f\\left(x_{1}\\right)-f\\left(x_{0}\\right)\\right)}{x_{1}-x_{0}}$$\n",
        "\n",
        "Dado que ya calculamos $P_{1}\\left(x\\right)$ basta encontrar una aproximación de $f'\\left(x_{*}\\right)$ mediante la formula de derivación numérica\n",
        "\n",
        "$$f'\\left(x_{0}\\right)\\approx P_{1}^{'}\\left(x_{0}\\right)=\\frac{f\\left(x_{1}\\right)-f\\left(x_{0}\\right)}{x_{1}-x_{0}} \\tag{1}$$\n",
        "\n",
        "Si definimos $h=x_{1}-x_{0}$ y substituimos en (1) \n",
        "\n",
        "$$f'\\left(x_{0}\\right)\\approx P_{1}^{'}\\left(x_{0}\\right)=\\frac{f\\left(x_{0}+h\\right)-f\\left(x_{0}\\right)}{h} \\tag{2}$$\n",
        "\n",
        "A la ecuación (2) se le conoce como **diferencia hacia adelante**, ya que toma $x_{0}$ y el siguiente punto $x_{1}$ para aproximar la derivada. \n",
        "\n",
        "Por otro lado si se toman los puntos $x_{0}$ y su antecesor, la ecuación (1) se transforma en \n",
        "\n",
        "$$f'\\left(x_{0}\\right)\\approx P_{1}^{'}\\left(x_{0}\\right)=\\frac{f\\left(x_{0}\\right)-f\\left(x_{0}-h\\right)}{h} \\tag{3}$$\n",
        "\n",
        "A la ecuación (3) se le conoce como **diferencia hacia atrás**, ya que toma $x_{0}$ y el punto anterior para aproximar la derivada. \n",
        "\n",
        "Estas 2 formas de calcular la 1er. derivada en un punto empleando el polinomio de Newton son útiles, pero aun hace falta tener más precisión en los cálculos. "
      ]
    },
    {
      "cell_type": "markdown",
      "metadata": {
        "id": "0SCDQqM5BQR7"
      },
      "source": [
        "\n",
        "## Construcción de la aproximación mediante Taylor\n",
        "\n",
        "Recordando la expansión en series de Taylor alrededor del punto $x_{i}$, con $x_{i+1}=x_i+h$ tenemos\n",
        "\n",
        "$$f\\left(x_{i+1}\\right)=f\\left(x_{i}\\right)+f'\\left(x_{i}\\right)(x_{i+1}-x_{i})+\\frac{f''\\left(x_{i}\\right)(x_{i+1}-x_{i})^{2}}{2!}+\\cdots$$"
      ]
    },
    {
      "cell_type": "markdown",
      "metadata": {
        "id": "3Igeqdcgpur0"
      },
      "source": [
        "### Diferencias hacia adelante\n",
        "\n",
        "Como $h=x_{i+1}-x_{i}$ y usando los 2 primeros términos de la serie, se tiene\n",
        "\n",
        "$$f\\left(x_{i+1}\\right)=f\\left(x_i\\right)+hf'\\left(x_i\\right)+\\frac{h^{2}}{2}f''\\left(x_i\\right) \\tag{4}$$\n",
        "\n",
        "Al despejar $f'\\left(x\\right)$ \n",
        "\n",
        "$$hf'\\left(x_i\\right)=f\\left(x_{i+1}\\right)-f\\left(x_i\\right)-\\frac{h^{2}}{2}f''\\left(x_i\\right)$$\n",
        "$$\\Longrightarrow f'\\left(x_i\\right)=\\frac{f(x_{i+1})-f(x_i)}{h}-\\frac{h}{2}f''\\left(x_i\\right)$$\n",
        "\n",
        "Como el último termino de la ecuación anterior es proporcional a $h$, el error es del orden de $h$ \n",
        "\n",
        "$$\\therefore f'\\left(x_{i}\\right)=\\frac{f\\left(x_{i+1}\\right)-f\\left(x_{i}\\right)}{h}+O\\left(h\\right) \\tag{5}$$\n",
        "\n",
        "La ecuación (5) es otra forma de construir la **diferencias finitas hacia adelante**."
      ]
    },
    {
      "cell_type": "markdown",
      "metadata": {
        "id": "KSzLfxB8p1AU"
      },
      "source": [
        "### Diferencias hacia atrás\n",
        "\n",
        "Por otro lado, podemos aproximar la derivada empleando un punto hacia atrás, mediante el siguiente desarollo.\n",
        "\n",
        "$$f\\left(x_{i-1}\\right)=f\\left(x_i\\right)-hf'\\left(x_i\\right)+\\frac{h^{2}}{2}f''\\left(x_i\\right) \\tag{6}$$\n",
        "\n",
        "$$f'\\left(x_{i}\\right)=\\frac{f\\left(x_{i}\\right)-f\\left(x_{i-1}\\right)}{h}+O\\left(h\\right) \\tag{7}$$\n",
        "\n",
        "A la ecuación (7) se le conoce como **diferencias finitas hacia atrás**."
      ]
    },
    {
      "cell_type": "markdown",
      "metadata": {
        "id": "FVpz0EcBqAEt"
      },
      "source": [
        "### Diferencias centradas\n",
        "\n",
        "Ahora, si tomamos los primeros 4 terminos de las ecuaciones (4) y (6) y los restamos, tenemos que.\n",
        "\n",
        "$$f\\left(x_{i+1}\\right)=f\\left(x_i\\right)+hf'\\left(x_i\\right)+\\frac{h^{2}}{2}f''\\left(x_i\\right) \\tag{4}$$\n",
        "\n",
        "$$f\\left(x_{i-1}\\right)=f\\left(x_i\\right)-hf'\\left(x_i\\right)+\\frac{h^{2}}{2}f''\\left(x_i\\right) \\tag{6}$$\n",
        "\n",
        "$$f\\left(x_{i+1}\\right)-f\\left(x_{i-1}\\right)=f(x_i)+hf'(x_i)+\\frac{h^{2}}{2}f''(x_i)+\\frac{h^{3}}{6}f'''(x_i)-f(x_i)+hf'(x_i)-\\frac{h^{2}}{2}f''(x_i)+\\frac{h^{3}}{6}f'''(x_i)$$\n",
        "\n",
        "$$ \\Longrightarrow f(x+h)-f(x-h)=2hf'(x)+2\\frac{h^{3}}{6}f'''(x)$$\n",
        "\n",
        "Al despejar $f'(x)$, tenemos que.\n",
        "\n",
        "$$2hf'(x)=f(x+h)-f(x-h)-2\\frac{h^{3}}{6}f'''(x)$$\n",
        "\n",
        "$$f'(x)=\\frac{f(x+h)-f(x-h)-2\\frac{h^{3}}{6}f'''(x)}{2h}$$\n",
        "\n",
        "$$f'\\left(x\\right)=\\frac{f(x_{i+h})-f(x)}{h}-\\frac{h}{2}f''\\left(x\\right)$$\n",
        "\n",
        "$$\\therefore f'\\left(x_{i}\\right)=\\frac{f\\left(x_{i+1}\\right)-f\\left(x_{i-1}\\right)}{2h}+O\\left(h^{2}\\right)$$"
      ]
    },
    {
      "cell_type": "markdown",
      "metadata": {
        "id": "c4o_2eg8Dcgp"
      },
      "source": [
        "### Ejemplo\n",
        "\n",
        "Sea la función $f(x)=\\ln x$ y $x_{0}=1.8$ aproxime la derivada de $f\\left(x_{0}\\right)$\n",
        "\n",
        "**Solución**: \n",
        "\n",
        "Empleando la diferencia hacia adelante.\n",
        "\n",
        "$$\\frac{f\\left(1.8+h\\right)-f\\left(1.8\\right)}{h}$$\n",
        "\n",
        "Esta definición, nos ayuda a aproximar $f'\\left(1.8\\right)$, los resultados de la siguiente tabla se dan con distintos tamaños de paso $h$.\n",
        "\n",
        "| h| $f\\left(1.8+h\\right)$ |  $\\frac{f\\left(1.8+h\\right)-f\\left(1.8\\right)}{h}$| error|\n",
        "| :-:  | :-: | :-: |  :-: | \n",
        "| 0.1  | 0.64185389\t|0.540672200000\t|0.0154321|\n",
        "| 0.01 | 0.59332685\t|0.55401800000\t|0.0015432|\n",
        "| 0.001\t|0.58834207\t|0.55540130000\t|0.0001543|"
      ]
    },
    {
      "cell_type": "markdown",
      "metadata": {
        "id": "AnORDSqVpbXV"
      },
      "source": [
        "# Diferencias Finitas\n",
        "\n",
        "Como se dijo desde el principio del curso, la idea del mismo es, que uds. como estudiantes tengan la capacidad de abstracción para poder modelar algún fenómeno de su interés y con base en este modelo, encontrar una solución numérica al mismo.\n",
        "\n",
        "Dicha solución numérica, representa la solución al problema que inicialmente se quería analizar y mediante esta solución se pueden tomar decisiones.\n",
        "\n",
        "Estos modelos matemáticos en ciencia e ingeniería generalmente toman la forma de ecuaciones diferenciales.\n",
        "\n",
        "Algunos de estos modelos se muestran a continuación.\n",
        "\n",
        "<center>\n",
        "<img src=\"https://github.com/jugernaut/Numerico2021/blob/desarrollo/Figuras/derivacion/yacimiento.PNG?raw=1\" width=\"500\">\n",
        "</center>\n",
        "\n",
        "$$\\frac{\\delta}{\\delta t}\\left(\\frac{\\Phi S_{w}}{B_{w}}\\right)=\\nabla\\cdot\\left(T_{w}\\left[\\nabla p_{w}-\\rho_{w}\\vec{g}\\right]\\right)+\\frac{qWs}{B_{w}}$$\n",
        "\n",
        "$$\\frac{\\delta}{\\delta t}\\left(\\frac{\\Phi S_{o}}{B_{o}}\\right)=\\nabla\\cdot\\left(T_{o}\\left[\\nabla p_{o}-\\rho_{o}\\vec{g}\\right]\\right)+\\frac{qOs}{B_{o}}$$\n",
        "\n",
        "<center>\n",
        "<img src=\"https://github.com/jugernaut/Numerico2021/blob/desarrollo/Figuras/derivacion/dinamica.PNG?raw=1\" width=\"500\">\n",
        "</center>\n",
        "\n",
        "$$\\frac{\\delta\\rho}{\\delta t}+\\frac{\\delta}{\\delta x_{j}}\\left[\\rho u_{j}\\right]=0$$\n",
        "\n",
        "$$\\frac{\\delta}{\\delta t}\\left(\\rho u_{i}\\right)+\\frac{\\delta}{\\delta x_{j}}\\left[\\rho u_{i}u_{j}+p\\delta_{ij}-\\tau_{ji}\\right]=0,\\quad i=1,2,3$$\n",
        "\n",
        "<center>\n",
        "<img src=\"https://github.com/jugernaut/Numerico2021/blob/desarrollo/Figuras/derivacion/estru.PNG?raw=1\" width=\"500\">\n",
        "</center>\n",
        "\n",
        "$$\\nabla\\cdot\\sigma+F=\\rho\\frac{\\delta^{2}u}{\\delta t^{2}}$$\n",
        "\n",
        "$$\\varepsilon=\\frac{1}{2}\\left[\\nabla u+\\left(\\nabla u\\right)\\right]$$\n",
        "\n",
        "$$\\sigma=C:\\varepsilon$$\n",
        "\n",
        "<center>\n",
        "<img src=\"https://github.com/jugernaut/Numerico2021/blob/desarrollo/Figuras/derivacion/equi.PNG?raw=1\" width=\"500\">\n",
        "</center>\n",
        "\n",
        "$$\\delta x=\\delta B-5x\\,\\delta t$$\n",
        "\n"
      ]
    },
    {
      "cell_type": "markdown",
      "metadata": {
        "id": "8-fpqcs7D4Yh"
      },
      "source": [
        "## Motivación\n",
        "\n",
        "En la mayoría de los modelos solo existen soluciones analíticas para casos sencillos.\n",
        "\n",
        "Pero el creciente poder de computo ha hecho posible que estos y otros modelos tengan una solución numérica y que puedan ser analizados mas a detalle.\n",
        "\n",
        "<center>\n",
        "<img src=\"https://github.com/jugernaut/Numerico2021/blob/desarrollo/Figuras/derivacion/comp.PNG?raw=1\" width=\"600\">\n",
        "</center>\n",
        "\n",
        "### Idea Básica\n",
        "\n",
        "<center>\n",
        "<img src=\"https://github.com/jugernaut/Numerico2021/blob/desarrollo/Figuras/derivacion/disc.PNG?raw=1\" width=\"600\">\n",
        "</center>\n"
      ]
    },
    {
      "cell_type": "markdown",
      "metadata": {
        "id": "L0FuAMpYEChy"
      },
      "source": [
        "\n",
        "## Método de Diferencias Finitas\n",
        "\n",
        "Definición de derivada\n",
        "\n",
        "$$f'\\left(x\\right)=\\lim_{\\triangle x\\rightarrow0}\\frac{f\\left(x+\\triangle x\\right)-f\\left(x\\right)}{\\triangle x}$$\n",
        "\n",
        "Ya se mostró que de esta def. se deriva la formula para aproximar la primera derivada\n",
        "\n",
        "$$f'\\left(x\\right)\\approx\\frac{f\\left(x+\\triangle x\\right)-f\\left(x\\right)}{\\triangle x}$$\n",
        "\n",
        "Y también se pueden encontrar otras expresiones\n",
        "\n",
        "$$f'\\left(x\\right)\\approx\\frac{f\\left(x\\right)-f\\left(x-\\triangle x\\right)}{\\triangle x}\\quad f'\\left(x\\right)\\approx\\frac{f\\left(x+\\triangle x\\right)-f\\left(x-\\triangle x\\right)}{2\\triangle x}$$\n",
        "\n",
        "Segunda derivada (Diferencias Finitas Centradas)\n",
        "\n",
        "$$f''\\left(x\\right)\\approx\\frac{f\\left(x+2\\triangle x\\right)-2\\triangle f\\left(x\\right)+f\\left(x-2\\triangle x\\right)}{4\\triangle x^{2}}$$\n",
        "\n",
        "Funciones de múltiples variables\n",
        "\n",
        "<center>\n",
        "<img src=\"https://github.com/jugernaut/Numerico2021/blob/desarrollo/Figuras/derivacion/ecuaciones.PNG?raw=1\" width=\"600\">\n",
        "</center>"
      ]
    },
    {
      "cell_type": "markdown",
      "metadata": {
        "id": "uF6lQ5bWGJjA"
      },
      "source": [
        "### Ejemplo\n",
        "\n",
        "Aproximar la solución del problema:\n",
        "\n",
        "$$\\frac{\\delta y}{\\delta t}\\left(t\\right)=ay\\left(t\\right)\\quad y\\left(0\\right)=b\\quad t>0$$\n",
        "\n",
        "Donde a y b son constantes. Solución analítica $y\\left(t\\right)=be^{at}$\n",
        "\n",
        "<center>\n",
        "<img src=\"https://github.com/jugernaut/Numerico2021/blob/desarrollo/Figuras/derivacion/dominio.PNG?raw=1\" width=\"600\">\n",
        "</center>\n",
        "\n",
        "Aplicando diferencias finitas a la ecuación diferencial en $t_{i}$:\n",
        "\n",
        "$$\\frac{y\\left(t_{i}+\\triangle t\\right)-y\\left(t_{i}\\right)}{\\triangle t}=ay\\left(t_{i}\\right)$$\n",
        "\n",
        "Con la notación: $y\\left(t_{i}\\right)=y_{i},\\,y\\left(t_{i}+\\triangle t\\right)=y_{i+1}$\n",
        "\n",
        "$$\\frac{y_{i+1}-y_{i}}{\\triangle t}=ay_{i}$$\n",
        "\n",
        "Despejando $y_{i+1}$: \n",
        "\n",
        "$$y_{i+1}=y_{i}\\left(a\\triangle t+1\\right)$$\n",
        "\n",
        "¡Con esta expresión podemos **aproximar la solución**!\n"
      ]
    },
    {
      "cell_type": "code",
      "metadata": {
        "id": "cv-ZQUn5MRog",
        "colab": {
          "base_uri": "https://localhost:8080/",
          "height": 482
        },
        "outputId": "79f74eb4-539d-4ee5-d49f-8f24d02a36b7"
      },
      "source": [
        "# bibliotecas\n",
        "!git clone https://github.com/jugernaut/Numerico2021.git\n",
        "import numpy as np\n",
        "import Numerico2021.Utils.gutils as vis\n",
        "\n",
        "# solucion analitica\n",
        "def f(t,a,b):\n",
        "    return b*(np.e)**(a*t)\n",
        "\n",
        "# funcion que aproxima la solucion\n",
        "def diferenciasFinitas(a, b, N, xmax):\n",
        "    # discretizacion del problema\n",
        "    x = np.linspace(0,xmax,N+1)\n",
        "    # solucion analitica\n",
        "    yanalitica = f(x, a, b)\n",
        "    # calculo de la delta\n",
        "    delta = float(xmax)/N\n",
        "    # discretizacion \n",
        "    yaprox = np.zeros([N+1])\n",
        "    # condicion inicial\n",
        "    yaprox[0] = b\n",
        "    for i in range(N):\n",
        "        yaprox[i+1] = yaprox[i]*(a*delta+1)\n",
        "    return x,yanalitica,yaprox\n",
        "\n",
        "# graficas\n",
        "par = [{'title':'Real v.s. Aprox.', \n",
        "        'xlabel':'$t$',\n",
        "        'ylabel':'$y$'}]\n",
        "\n",
        "graf = vis.planoCartesiano(par=par)\n",
        "\n",
        "# solucion aproximada\n",
        "x, yanalitica, yaprox = diferenciasFinitas(-0.5, 50, 10, 10)\n",
        "\n",
        "#se generan las graficas\n",
        "graf.plot(x=x, y=yaprox, par={'ls':'-', 'lw':1, 'color':'blue', 'label':'Aproximacion'})\n",
        "graf.plot(x=x, y=yanalitica, par={'ls':'-', 'lw':1, 'color':'red', 'label':'Analitica'})\n",
        "graf.legend()"
      ],
      "execution_count": null,
      "outputs": [
        {
          "output_type": "stream",
          "text": [
            "Cloning into 'Numerico2021'...\n",
            "remote: Enumerating objects: 44, done.\u001b[K\n",
            "remote: Counting objects: 100% (44/44), done.\u001b[K\n",
            "remote: Compressing objects: 100% (42/42), done.\u001b[K\n",
            "remote: Total 3521 (delta 17), reused 0 (delta 0), pack-reused 3477\u001b[K\n",
            "Receiving objects: 100% (3521/3521), 43.64 MiB | 34.67 MiB/s, done.\n",
            "Resolving deltas: 100% (2157/2157), done.\n"
          ],
          "name": "stdout"
        },
        {
          "output_type": "display_data",
          "data": {
            "image/png": "[encoded data removed]",
            "text/plain": [
              "<Figure size 720x360 with 1 Axes>"
            ]
          },
          "metadata": {
            "tags": []
          }
        }
      ]
    },
    {
      "cell_type": "markdown",
      "metadata": {
        "id": "1G_2-yv1EPPV"
      },
      "source": [
        "## Esquema Explícito del método de Diferencias Finitas\n",
        "\n",
        "Aproximar la solución del problema:\n",
        "\n",
        "$$\\frac{\\delta T}{\\delta t}=K\\frac{\\delta^{2}T}{\\delta x^{2}}\\quad0\\leq x\\leq x_{max}\\quad t\\geq0 \\tag 1$$\n",
        "\n",
        "$$T\\left(x,0\\right)=a,\\quad T\\left(0,t\\right)=b,\\quad T\\left(x_{max},t\\right)=c$$\n",
        "\n",
        "Donde $K,a,b$ y $c$ son constantes, a la ecuación (1) se le conoce como la **ecuación de calor**.\n",
        "\n",
        "$$Discretizaci\\acute{o}n:\\begin{cases}\n",
        "Espacial & \\triangle x=\\frac{x_{max}}{N_{x}},\\quad x_{i}=i\\triangle x,\\quad i=0,\\ldots,N_{x}\\\\\n",
        "Temporal & t^{n}=n\\triangle t\\quad n=0,\\ldots,N_{t}\n",
        "\\end{cases}$$\n",
        "\n",
        "Aplicando diferencias finitas centrales en el espacio y hacia adelante en el tiempo:\n",
        "\n",
        "$$\\frac{T\\left(x_{i},t^{n}+\\nabla t\\right)-T\\left(x_{i},t^{n}\\right)}{\\triangle t}=K\\frac{T\\left(x_{i+1},t^{n}\\right)-2T\\left(x,t^{n}\\right)+T\\left(x_{i-1},t^{n}\\right)}{\\triangle x^{2}}$$\n",
        "\n",
        "<center>\n",
        "<img src=\"https://github.com/jugernaut/Numerico2021/blob/desarrollo/Figuras/derivacion/esq2.PNG?raw=1\" width=\"600\">\n",
        "</center>\n",
        "\n",
        "Usando la notación $T\\left(x_{i},t^{n}\\right)=T_{i}^{n}$\n",
        "\n",
        "$$\\frac{T_{i}^{n+1}-T_{i}^{n}}{\\triangle t}=K\\frac{T_{i+1}^{n}-2T_{i}^{n}+T_{i-1}^{n}}{\\triangle x^{2}}$$\n",
        "\n",
        "Despejando $T_{i}^{n+1}$\n",
        "\n",
        "$$T_{i}^{n+1}=T_{i}^{n}+\\frac{\\triangle tK}{\\triangle x^{2}}\\left(T_{i+1}^{n}-2T_{i}^{n}+T_{i-1}^{n}\\right)$$\n",
        "\n",
        "**Esquema Explícito**: La solución al tiempo $n+1$ solo depende de la solución al tiempo $n$.\n",
        "\n",
        "Dado que ya sabemos que la solución en el tiempo n+1 esta dada por\n",
        "\n",
        "$$T_{i}^{n+1}=T_{i}^{n}+\\frac{\\triangle tK}{\\triangle x^{2}}\\left(T_{i+1}^{n}-2T_{i}^{n}+T_{i-1}^{n}\\right)$$\n",
        "\n",
        "Tiempo 0 (condiciones iniciales): $T_{i}^{0}$\n",
        "\n",
        "$$T_{i}^{0}=a\\quad i=0,\\ldots,N_{x}$$\n",
        "\n",
        "Tiempo 1: $T_{i}^{1}\\quad n=0$\n",
        "\n",
        "$$T_{i}^{1}=T_{i}^{0}+\\frac{\\triangle tK}{\\triangle x^{2}}\\left(T_{i+1}^{0}-2T_{i}^{0}+T_{i-1}^{0}\\right)$$\n",
        "\n",
        "Tiempo 1: $T_{i}^{2}\\quad n=1$\n",
        "\n",
        "$$T_{i}^{2}=T_{i}^{1}+\\frac{\\triangle tK}{\\triangle x^{2}}\\left(T_{i+1}^{1}-T_{i}^{1}+T_{i-1}^{1}\\right)$$\n",
        "\n",
        "$$ \\vdots $$\n",
        "\n",
        "¿Y que sucede con las condiciones de frontera?\n",
        "\n",
        "$$T_{i}^{n+1}=T_{i}^{n}+\\frac{\\triangle tK}{\\triangle x^{2}}\\left(T_{i+1}^{n}-2T_{i}^{n}+T_{i-1}^{n}\\right)$$\n",
        "\n",
        "Se conoce la solución en los puntos $x_{0}=b,\\quad x_{N_{x}}=c$\n",
        "\n",
        "Tiempo 0 (condiciones iniciales): $T_{i}^{0}$\n",
        "\n",
        "$$T_{0}^{0}=b\\quad T_{i}^{0}=a\\quad i=0,\\ldots,N_{x}-1\\quad T_{N_{x}}^{0}=c$$\n",
        "\n",
        "Tiempo 1: $T_{i}^{1}\\quad n=0$\n",
        "\n",
        "$$T_{0}^{1}=b,\\quad T_{i}^{1}=T_{i}^{0}+\\frac{\\triangle tK}{\\triangle x^{2}}\\left(T_{i+1}^{0}-2T_{i}^{0}+T_{i-1}^{0}\\right)\\,i=0,\\ldots,N_{x}-1\\quad T_{N_{x}}^{1}=c$$\n",
        "\n",
        "$$ \\vdots $$\n",
        "\n",
        "<center>\n",
        "<img src=\"https://github.com/jugernaut/Numerico2021/blob/desarrollo/Figuras/derivacion/dif.PNG?raw=1\" width=\"600\">\n",
        "</center>\n"
      ]
    },
    {
      "cell_type": "markdown",
      "metadata": {
        "id": "kI097NPkEe_l"
      },
      "source": [
        "### Resultados del esquema explícito\n",
        "\n",
        "Tiempo cero.\n",
        "\n",
        "<center>\n",
        "<img src=\"https://github.com/jugernaut/Numerico2021/blob/desarrollo/Figuras/derivacion/tiempocero.PNG?raw=1\" width=\"600\">\n",
        "</center>\n",
        "\n",
        "Tiempo uno.\n",
        "\n",
        "<center>\n",
        "<img src=\"https://github.com/jugernaut/Numerico2021/blob/desarrollo/Figuras/derivacion/tiempouno.PNG?raw=1\" width=\"600\">\n",
        "</center>\n",
        "\n",
        "Tiempo 10.\n",
        "\n",
        "<center>\n",
        "<img src=\"https://github.com/jugernaut/Numerico2021/blob/desarrollo/Figuras/derivacion/tiempo10.png?raw=1\" width=\"600\">\n",
        "</center>\n",
        "\n",
        "Tiempo 30.\n",
        "\n",
        "<center>\n",
        "<img src=\"https://github.com/jugernaut/Numerico2021/blob/desarrollo/Figuras/derivacion/tiempo30.png?raw=1\" width=\"600\">\n",
        "</center>\n",
        "\n",
        "Tiempo 50.\n",
        "\n",
        "<center>\n",
        "<img src=\"https://github.com/jugernaut/Numerico2021/blob/desarrollo/Figuras/derivacion/tiempo50.png?raw=1\" width=\"600\">\n",
        "</center>\n",
        "\n",
        "Tiempo 70.\n",
        "\n",
        "<center>\n",
        "<img src=\"https://github.com/jugernaut/Numerico2021/blob/desarrollo/Figuras/derivacion/tiempo70.png?raw=1\" width=\"600\">\n",
        "</center>\n",
        "\n",
        "Tiempo 90.\n",
        "\n",
        "<center>\n",
        "<img src=\"https://github.com/jugernaut/Numerico2021/blob/desarrollo/Figuras/derivacion/tiempo90.png?raw=1\" width=\"600\">\n",
        "</center>\n",
        "\n",
        "Tiempo 100.\n",
        "\n",
        "<center>\n",
        "<img src=\"https://github.com/jugernaut/Numerico2021/blob/desarrollo/Figuras/derivacion/tiempo100.png?raw=1\" width=\"600\">\n",
        "</center>\n",
        "\n",
        "<center>\n",
        "<img src=\"https://github.com/jugernaut/Numerico2021/blob/desarrollo/Figuras/derivacion/DiFini1D.gif?raw=1\" width=\"600\">\n",
        "</center>\n",
        "\n",
        "Sobre el eje $x$, se tiene los puntos sobre la barra que se quiere simular, sobre el eje $y$, la temperatura que alcanza cada uno de estos puntos. Estos resultados se obtuvieron con los siguientes parámetros:\n",
        "\n",
        "* $K=e^{-2}$\n",
        "\n",
        "* $a=323$\n",
        "\n",
        "* $b=273$\n",
        "\n",
        "* $c=373$\n",
        "\n",
        "* $N_{x}=25$\n",
        "\n",
        "* $\\triangle t=0.001$\n",
        "\n",
        "* $N_{t}=100$\n",
        "\n",
        "* $xmax=0.5$\n",
        "\n",
        "¿Que sucede si se incrementa el paso de tiempo, digamos a 0.01?.\n",
        "\n",
        "<center>\n",
        "<img src=\"https://github.com/jugernaut/Numerico2021/blob/desarrollo/Figuras/derivacion/paso_0_01.png?raw=1\" width=\"600\">\n",
        "</center>\n",
        "\n",
        "Se puede mostrar que este algoritmo es inestable siempre que\n",
        "\n",
        "$$K\\frac{\\triangle t}{\\triangle x^{2}}>0.5$$\n",
        "\n",
        "Por lo que el pseudocódigo puede ser modificado, para agregar una sentencia en la cual para poder realizar el proceso de diferencias finitas mediante el esquema explícito, sea necesario que\n",
        "\n",
        "$$K\\frac{\\triangle t}{\\triangle x^{2}}\\leq0.5$$\n",
        "\n",
        "Es decir,\n",
        "\n",
        "<center>\n",
        "<img src=\"https://github.com/jugernaut/Numerico2021/blob/desarrollo/Figuras/derivacion/calor1D.PNG?raw=1\" width=\"600\">\n",
        "</center>\n",
        "\n"
      ]
    },
    {
      "cell_type": "markdown",
      "metadata": {
        "id": "zEp8uAQKEuVR"
      },
      "source": [
        "## Esquema Implícito del método de Diferencias Finitas\n",
        "\n",
        "Aproximar la solución del problema:\n",
        "\n",
        "$$\\frac{\\delta T}{\\delta t}=K\\frac{\\delta^{2}T}{\\delta x^{2}}\\quad0\\leq x\\leq x_{max}\\quad t\\geq0$$\n",
        "\n",
        "$$T\\left(x,0\\right)=a,\\quad T\\left(0,t\\right)=b,\\quad T\\left(x_{max},t\\right)=c$$\n",
        "\n",
        "Donde K,a,b y c son constantes\n",
        "\n",
        "$$Discretizaci\\acute{o}n:\\begin{cases}\n",
        "Espacial & \\triangle x=\\frac{x_{max}}{N_{x}},\\quad x_{i}=i\\triangle x,\\quad i=0,\\ldots,N_{x}\\\\\n",
        "Temporal & t^{n}=n\\triangle t\\quad n=0,\\ldots,N_{t}\n",
        "\\end{cases}$$\n",
        "\n",
        "Aplicando diferencias finitas centrales en el espacio y hacia atrás en el tiempo:\n",
        "\n",
        "$$\\frac{T\\left(x_{i},t^{n}\\right)-T\\left(x_{i},t^{n}-\\triangle t\\right)}{\\triangle t}=K\\frac{T\\left(x_{i+1},t^{n}\\right)-2T\\left(x,t^{n}\\right)+T\\left(x_{i-1},t^{n}\\right)}{\\triangle x^{2}}$$\n",
        "\n",
        "<center>\n",
        "<img src=\"https://github.com/jugernaut/Numerico2021/blob/desarrollo/Figuras/derivacion/expli.PNG?raw=1\" width=\"600\">\n",
        "</center>\n",
        "\n",
        "Usando la notación $T\\left(x_{i},t^{n}\\right)=T_{i}^{n}$\n",
        "\n",
        "$$\\frac{T_{i}^{n}-T_{i}^{n-1}}{\\triangle t}=K\\frac{T_{i+1}^{n}-2T_{i}^{n}+T_{i-1}^{n}}{\\triangle x^{2}}$$\n",
        "\n",
        "Pasando del lado izquierdo de la igualdad los términos en el tiempo n\n",
        "\n",
        "$$-T_{i-1}^{n}+\\left(\\frac{\\triangle x^{2}}{K\\triangle t}+2\\right)T_{i}^{n}-T_{i+1}^{n}=\\frac{\\triangle x^{2}}{K\\triangle t}T_{i}^{n-1}$$\n",
        "\n",
        "**Esquema Implícito**: La solución al tiempo $n$ solo depende de la solución al tiempo $n$ y $n-1$.\n",
        "\n",
        "Esta ecuación en realidad representa un sistema lineal para encontrar $T$ al tiempo $n$.\n",
        "\n",
        "$$-T_{i-1}^{n}+\\left(\\frac{\\triangle x^{2}}{K\\triangle t}+2\\right)T_{i}^{n}-T_{i+1}^{n}=\\frac{\\triangle x^{2}}{K\\triangle t}T_{i}^{n-1}$$\n",
        "\n",
        "$$dT_{1}^{n}-T_{2}^{n}=rT_{1}^{n-1}+b$$\n",
        "\n",
        "$$-T_{1}^{n}+dT_{2}^{n}-T_{3}^{n}=rT_{2}^{n-1}$$\n",
        "\n",
        "$$-T_{2}^{n}+dT_{3}^{n}-T_{4}^{n}=rT_{3}^{n-1}$$\n",
        "\n",
        "$$\\vdots$$\n",
        "\n",
        "$$-T_{N_{x}-3}^{n}+dT_{N_{x}-2}^{n}-T_{N_{x}-1}^{n}=rT_{N_{x}-2}^{n-1}$$\n",
        "\n",
        "$$-T_{N_{x}-2}^{n}+dT_{N_{x}-1}^{n}=rT_{N_{x}-1}^{n-1}+c$$\n",
        "\n",
        "Es decir, este sistema es parecido al que se construye para encontrar los coeficientes de la interpolación mediante Splines Cúbicos.\n",
        "\n",
        "$$\\left(\\begin{array}{ccccccc}\n",
        "d & -1 & 0 & 0 & 0 & 0 & 0\\\\\n",
        "-1 & d & -1 & \\ddots &  &  & \\vdots\\\\\n",
        "0 & -1 & d & -1 & \\ddots &  & \\vdots\\\\\n",
        "0 &  & \\ddots & \\cdots &  & \\ddots & 0\\\\\n",
        "0 &  &  & \\ddots & -1 & d & -1\\\\\n",
        "0 & \\cdots & \\cdots & \\cdots & \\cdots & -1 & d\n",
        "\\end{array}\\right)\\left(\\begin{array}{c}\n",
        "T_{1}^{n}\\\\\n",
        "T_{2}^{n}\\\\\n",
        "\\vdots\\\\\n",
        "T_{N_{x}-1}^{n}\n",
        "\\end{array}\\right)=\\left(\\begin{array}{c}\n",
        "rT_{1}^{n-1}+b\\\\\n",
        "rT_{2}^{n-1}\\\\\n",
        "\\vdots\\\\\n",
        "rT_{N_{x}}^{n-1}+c\n",
        "\\end{array}\\right)$$\n",
        "\n",
        "$$r=\\frac{\\triangle x^{2}}{K\\triangle t},\\quad d=r+2$$\n",
        "\n"
      ]
    },
    {
      "cell_type": "markdown",
      "metadata": {
        "id": "UyDTa0xTE4_v"
      },
      "source": [
        "### Resultados del esquema implícito\n",
        "\n",
        "Tiempo cero.\n",
        "\n",
        "<center>\n",
        "<img src=\"https://github.com/jugernaut/Numerico2021/blob/desarrollo/Figuras/derivacion/tiempocero.PNG?raw=1\" width=\"600\">\n",
        "</center>\n",
        "\n",
        "Tiempo uno.\n",
        "\n",
        "<center>\n",
        "<img src=\"https://github.com/jugernaut/Numerico2021/blob/desarrollo/Figuras/derivacion/tiempouno.PNG?raw=1\" width=\"600\">\n",
        "</center>\n",
        "\n",
        "Tiempo dos.\n",
        "\n",
        "<center>\n",
        "<img src=\"https://github.com/jugernaut/Numerico2021/blob/desarrollo/Figuras/derivacion/tiempodos.PNG?raw=1\" width=\"600\">\n",
        "</center>\n",
        "\n",
        "Tiempo tres.\n",
        "\n",
        "<center>\n",
        "<img src=\"https://github.com/jugernaut/Numerico2021/blob/desarrollo/Figuras/derivacion/tiempotres.PNG?raw=1\" width=\"600\">\n",
        "</center>\n",
        "\n",
        "<center>\n",
        "<img src=\"https://github.com/jugernaut/Numerico2021/blob/desarrollo/Figuras/derivacion/DiFiniImp.gif?raw=1\" width=\"600\">\n",
        "</center>\n",
        "\n",
        "Estos resultados se obtuvieron con los mismos parámetros del esquema explícito, excepto el paso de tiempo:\n",
        "\n",
        "* $K=e^{-2}$\n",
        "\n",
        "* $a=323$\n",
        "\n",
        "* $b=273$\n",
        "\n",
        "* $c=373$\n",
        "\n",
        "* $N_{x}=25$\n",
        "\n",
        "* $\\triangle t=1$\n",
        "\n",
        "* $N_{t}=100$\n",
        "\n",
        "* $x_{max}=0.5$\n",
        "\n",
        "Es evidente que con un paso mayor de tiempo, se puede obtener una simulación mas amplia con menos cálculos.\n",
        "\n",
        "<center>\n",
        "<img src=\"https://github.com/jugernaut/Numerico2021/blob/desarrollo/Figuras/derivacion/EvsI.PNG?raw=1\" width=\"600\">\n",
        "</center>\n",
        "\n",
        "\n"
      ]
    },
    {
      "cell_type": "markdown",
      "source": [
        "## Simulación interactiva\n",
        "\n",
        "En esta celda veremos como se lleva a cabo esta simulación de manera interactiva"
      ],
      "metadata": {
        "id": "QebCZud3ngu7"
      }
    },
    {
      "cell_type": "code",
      "source": [
        "import numpy as np\n",
        "from IPython.html.widgets import interact\n",
        "import ipywidgets as widgets\n",
        "import matplotlib.pyplot as plt\n",
        "from time import time\n",
        "\n",
        "\"\"\"\n",
        "Método que aproxima la ecuación de calor mediante el esquema explícito\n",
        "K, difusión de calor\n",
        "b, condición inicial T(0,0)\n",
        "c, condición de frontera T(Nx,t)\n",
        "a, valor toman todoas las x's en el tiempo cero\n",
        "Nx, variable espacial\n",
        "Nt, variable temporal\n",
        "delt, cambios en el tiempo\n",
        "\"\"\"\n",
        "\n",
        "def ec_calor_exp(K,a,b,c,Nx,delt,Nt,xmax):\n",
        "    dx=xmax/Nx #Cambios de x                       \n",
        "    D=K*delt/(dx*dx) #Constante de estabilidad\n",
        "    T=np.zeros((Nx,Nt)) #Nx renglones, Nt columnas\n",
        "    T[0][0]=b #Condición inicial\n",
        "    if (D > 0.5): #Condición de estabilidad\n",
        "        print(\"Algoritmo inestable; Terminar\") #Termina si no cumple \n",
        "    else:\n",
        "        #Si cumple con la condición encuentra aproximaciones\n",
        "        for i in range(1,Nx-1): \n",
        "            T[i][0]= a #Valores de x al tiempo 0\n",
        "        T[-1][0]= c #Condición de frontera\n",
        "        tiempo_ini=time() #Tiempo de ejecución antes de inciar el método\n",
        "        for n in range(Nt-1):\n",
        "            T[0][n+1]=b #Se llena la última entrada con la condicion inicial\n",
        "            for i in range (1,Nx-1):\n",
        "                #Cálculo de aproximaciones\n",
        "                T[i][n+1]=T[i][n] + D * (T[i+1][n] - 2*T[i][n] + T[i-1][n]) \n",
        "                T[-1][n+1]=c   \n",
        "        tiempo_fin=time() #Tiempo de ejecución después de terminar el método\n",
        "        print('Tiempo de ejecución: '+str(tiempo_fin - tiempo_ini))\n",
        "    return T     #Cada columna representa las temperaturas en el tiempo n  \n",
        "\n",
        "\"\"\"\n",
        "Método que gráfica la temperatura de cada punto a través del tiempo \n",
        "\"\"\"\n",
        "def grafica(mat, xmax, Nx,n):\n",
        "    disc=np.linspace(0,xmax,Nx) #Discretización\n",
        "    if n==0: #Gráfica para n=0\n",
        "        plt.plot(disc,np.zeros(Nx),'r')\n",
        "        plt.scatter(disc,np.zeros(Nx),c='#8c564b')\n",
        "        plt.title(\"Proyecto Final, Modelo de la Ec. de Calor, Tiempo 0\")\n",
        "        plt.show()\n",
        "    else:\n",
        "        #Grafica los puntos de cada columna de la matriz mat\n",
        "        plt.plot(disc,mat[:,n-1],'r')\n",
        "        plt.scatter(disc,mat[:,n-1],c='#8c564b')        \n",
        "        plt.title(\"Diferencias Finitas Ec. de Calor, Tiempo \"+str(n))\n",
        "        plt.show()\n",
        "\n",
        "#Declaramos las variables \n",
        "K=np.e**(-2)\n",
        "a=323\n",
        "b=273\n",
        "c=373\n",
        "Nx=25 \n",
        "delt=.001\n",
        "Nt=100\n",
        "xmax=0.5\n",
        "\n",
        "#llama a la implementación del esquema explícito\n",
        "explicito=ec_calor_exp(K,a,b,c,Nx,delt,Nt,xmax)\n",
        "@widgets.interact(t=(0, Nt, 1))\n",
        "def f2(t):\n",
        "    return grafica(explicito,xmax,Nx,t)"
      ],
      "metadata": {
        "id": "Gchpdcg5nhmK",
        "outputId": "2a504b20-a541-4b8e-e388-bae589458d13",
        "colab": {
          "base_uri": "https://localhost:8080/",
          "height": 385,
          "referenced_widgets": [
            "19b4098eeba5483eab0f55d6cc687641",
            "6018321a913f4c099ef01de5b474aa3a",
            "c2bf1453d1f7485e91f885c2cfbe8a57",
            "838e791903e1408cb0e9889e762717d0",
            "ddc1311934d6429cbd2ef565dc98322f",
            "b65bbd0c28b34bfba9042f8384ce0945",
            "34401c2ba3d5492b8496171e19e1f2c5"
          ]
        }
      },
      "execution_count": 1,
      "outputs": [
        {
          "output_type": "stream",
          "name": "stdout",
          "text": [
            "Tiempo de ejecución: 0.008867502212524414\n"
          ]
        },
        {
          "output_type": "stream",
          "name": "stderr",
          "text": [
            "/usr/local/lib/python3.7/dist-packages/IPython/html.py:14: ShimWarning: The `IPython.html` package has been deprecated since IPython 4.0. You should import from `notebook` instead. `IPython.html.widgets` has moved to `ipywidgets`.\n",
            "  \"`IPython.html.widgets` has moved to `ipywidgets`.\", ShimWarning)\n"
          ]
        },
        {
          "output_type": "display_data",
          "data": {
            "application/vnd.jupyter.widget-view+json": {
              "model_id": "19b4098eeba5483eab0f55d6cc687641",
              "version_minor": 0,
              "version_major": 2
            },
            "text/plain": [
              "interactive(children=(IntSlider(value=50, description='t'), Output()), _dom_classes=('widget-interact',))"
            ]
          },
          "metadata": {}
        }
      ]
    },
    {
      "cell_type": "markdown",
      "metadata": {
        "id": "BXTIqxQPFEKc"
      },
      "source": [
        "## Ecuación de Calor 2D\n",
        "\n",
        "<center>\n",
        "<img src=\"https://github.com/jugernaut/Numerico2021/blob/desarrollo/Figuras/derivacion/calor2D.PNG?raw=1\" width=\"600\">\n",
        "</center>\n",
        "\n",
        "<center>\n",
        "<img src=\"https://github.com/jugernaut/Numerico2021/blob/desarrollo/Figuras/derivacion/DiFini2D.gif?raw=1\" width=\"700\">\n",
        "</center>"
      ]
    },
    {
      "cell_type": "markdown",
      "metadata": {
        "id": "ztXB4-75pbXb"
      },
      "source": [
        "# Anexo\n",
        "\n",
        "A continuación, se resolverá la siguiente ecuación diferencial, por el método explícito de diferencias finitas."
      ]
    },
    {
      "cell_type": "markdown",
      "metadata": {
        "id": "qV_YkT5epbXe"
      },
      "source": [
        "$$ \\frac{\\partial G}{\\partial t} =\\gamma   \\frac{\\partial G}{\\partial x^{2}} \\quad , \\gamma \\in \\mathbb{R}  \\tag{A.1.}$$"
      ]
    },
    {
      "cell_type": "markdown",
      "metadata": {
        "id": "7hAueCNzpbXg"
      },
      "source": [
        "Aplicando el esquema de diferencias finitas hacia delante a $\\frac{\\partial G}{\\partial t}$ y diferencias centradas a $\\frac{\\partial G}{\\partial x^{2}}$, se tiene que \n",
        "\n",
        "$$ \\frac{G \\left(x, t + \\Delta t \\right)-G \\left(x,  t \\right)}{\\Delta t} = \\gamma \\frac{G \\left(x+\\Delta x,  t \\right) -2 G \\left(x,  t \\right)+ G \\left(x -\\Delta x,  t \\right)}{\\Delta x ^{2}}$$\n",
        "\n",
        "Despejando $G \\left(x, t + \\Delta t \\right)$ se obtiene\n",
        "\n",
        "$$ G \\left(x, t + \\Delta t \\right) = \\gamma \\frac{\\Delta t}{\\Delta x^{2}} \\{ G \\left(x+\\Delta x,  t \\right)+ G \\left(x -\\Delta x,  t \\right) \\}+  \\{ 1- 2 \\gamma \\frac{\\Delta t}{\\Delta x^{2}} \\} G \\left(x,  t \\right)  $$\n",
        "\n",
        "entonces \n",
        "\n",
        "$$ G \\left(x_{i}, t_{j+1} \\right) = \\gamma \\frac{\\Delta t}{\\Delta x^{2}} \\{ G \\left(x_{i+1},  t_{j} \\right)+ G \\left(x_{i-1},  t_{j} \\right) \\}+  \\{ 1- 2 \\gamma \\frac{\\Delta t}{\\Delta x^{2}} \\} G \\left(x_{i},  t_{j} \\right)  \\tag{A.2.}$$\n",
        "\n",
        "A la ec (A.2.) se le conoce como esquema explícito.\n",
        "\n",
        "$\\color{blue}{Observaciones}$: \n",
        "\n",
        "Si $j=0$ e $i=1$\n",
        "\n",
        "$$ G \\left(x_{1}, t_{1} \\right) = \\gamma \\frac{\\Delta t}{\\Delta x^{2}} \\{ G \\left(x_{2},  t_{0} \\right)+ G \\left(x_{0},  t_{0} \\right) \\}+  \\{ 1- 2 \\gamma \\frac{\\Delta t}{\\Delta x^{2}} \\} G \\left(x_{1},  t_{0} \\right)  $$\n",
        "\n",
        "Si $j=0$ e $i=n$\n",
        "\n",
        "$$ G \\left(x_{n}, t_{1} \\right) = \\gamma \\frac{\\Delta t}{\\Delta x^{2}} \\{ G \\left(x_{n+1},  t_{0} \\right)+ G \\left(x_{n-1},  t_{0} \\right) \\}+  \\{ 1- 2 \\gamma \\frac{\\Delta t}{\\Delta x^{2}} \\} G \\left(x_{n},  t_{0} \\right)  $$\n",
        "\n"
      ]
    },
    {
      "cell_type": "markdown",
      "metadata": {
        "id": "jtMMKNM4pbXY"
      },
      "source": [
        "# Referencias\n",
        "\n",
        "1. Yuri N. Skiba: Introducción a los métodos numéricos, Dirección General de Publicaciones U.N.A.M.\n",
        "2. Ward Cheney, David Kincaid: Métodos Numéricos y Computación, Cenage Learning.\n",
        "3. Richard L. Burden, J. Douglas Faires: Análisis Numérico, Math Learning.\n",
        "4. Riswan Butt: Numerical Analysys Using Matlab, Jones and Bartlett.\n",
        "5. Quarteroni, A, Sacco R.: Numerical mathematics, Springer. 2007."
      ]
    }
  ]
}
