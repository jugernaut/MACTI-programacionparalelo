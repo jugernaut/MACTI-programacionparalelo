{
  "nbformat": 4,
  "nbformat_minor": 0,
  "metadata": {
    "colab": {
      "name": "Merge_Sort_SCP.ipynb",
      "provenance": [],
      "collapsed_sections": [],
      "toc_visible": true,
      "include_colab_link": true
    },
    "kernelspec": {
      "name": "python3",
      "display_name": "Python 3"
    }
  },
  "cells": [
    {
      "cell_type": "markdown",
      "metadata": {
        "id": "view-in-github",
        "colab_type": "text"
      },
      "source": [
        "<a href=\"https://colab.research.google.com/github/jugernaut/ProgramacionEnParalelo/blob/desarrollo/Introduccion/02_Merge_Sort_SCP.ipynb\" target=\"_parent\"><img src=\"https://colab.research.google.com/assets/colab-badge.svg\" alt=\"Open In Colab\"/></a>"
      ]
    },
    {
      "cell_type": "markdown",
      "metadata": {
        "id": "JAsbRnI2Mz94"
      },
      "source": [
        "<font color=\"Teal\" face=\"Comic Sans MS,arial\">\r\n",
        "  <h1 align=\"center\"><i>MergeSort (análisis)</i></h1>\r\n",
        "  </font>\r\n",
        "  <font color=\"Black\" face=\"Comic Sans MS,arial\">\r\n",
        "  <h5 align=\"center\"><i>Profesor: M.en.C. Miguel Angel Pérez León.</i></h5>\r\n",
        "    <h5 align=\"center\"><i>Ayudante: Jesús Iván Coss Calderón.</i></h5>\r\n",
        "    <h5 align=\"center\"><i>Ayudante: Mario Arturo Nieto Butron.</i></h5>\r\n",
        "  <h5 align=\"center\"><i>Seminario de programación en paralelo.</i></h5>\r\n",
        "  </font>"
      ]
    },
    {
      "cell_type": "markdown",
      "metadata": {
        "id": "Uf8-6ok_Q8I9"
      },
      "source": [
        "#Introducción\r\n",
        "\r\n",
        "El algoritmo de ordenamiento MergeSort, es uno de los algoritmos que se estudia con frecuencia cuando se comienza con el anñalisis de algoritmos.\r\n",
        " \r\n",
        "La estrategia principal de este algoritmo de ordenamiento es la conocida como \"divide y venceras\". Inicialmente se tiene un conjunto o estructura de datos (lista, vector, arreglo, etc) de tamaño $n$ que se encuentran desordenados y que mediante algun atributo podemos ordenar, la idea de este algoritmo es la siguiente:\r\n",
        "\r\n",
        "1.   Partir el conjunto en 2 subconjuntos de tamaño $\\frac{n}2$.\r\n",
        "2.   Posteriormente volver a dividir estos en 4 subconjuntos de tamaño $\\frac{n}4$, se repite este proceso hasta que se tienen subconjuntos de tamaño 2.\r\n",
        "3.   Ya que se tienen conjuntos de tamaño a lo mas 2, se ordenan de manera individualmente cada uno de ellos.\r\n",
        "4.   Cada uno de estos subconjuntos ordenados se mezclan de manera recursiva y ordenada, hasta que todo el conjunto de datos se encuentran ordenados.\r\n",
        "\r\n",
        "<center>\r\n",
        "<img src=\"https://github.com/jugernaut/ProgramacionEnParalelo/blob/desarrollo/Imagenes/Introduccion/merge.gif?raw=1\" width=\"550\">\r\n",
        "</center> \r\n",
        "\r\n",
        "Dado estos antecedentes procedemos a definir la función de recurrencia, para poder identificar a que orden de complejidad pertenece este algoritmo recursivo."
      ]
    },
    {
      "cell_type": "markdown",
      "metadata": {
        "id": "aC3klh28RH4k"
      },
      "source": [
        "# Análisis"
      ]
    },
    {
      "cell_type": "markdown",
      "metadata": {
        "id": "mlm6KfnURLCA"
      },
      "source": [
        "## Función de recurrencia\r\n",
        "\r\n",
        "Para el caso cuando se requiere ordenar una colección (lista) de tamaño 1 (o 0 caso trivial), basta con devolver dicha lista ya que esta ya esta ordenada, lo cual toma tiempo constante, digamos $b$.\r\n",
        "\r\n",
        "Para el caso de una colección de tamaño 2 ó mayor, es necesario partir a la mitad dicha colección, ordenar ambas subcolecciones y mezclarlas. Ahora consideremos que para simplificar el análisis de la complejidad diremos que $a$ es el tiempo que toma al microprocesador realizar una operación.\r\n",
        "\r\n",
        "Es por esto que ordenar una colección de tamaño $n$ tomará en total \r\n",
        "$$2T(\\frac{n}{2})+a\\cdot n$$"
      ]
    },
    {
      "cell_type": "markdown",
      "metadata": {
        "id": "eEEEkd74Ra-s"
      },
      "source": [
        "## Algoritmo básico\r\n",
        "\r\n",
        "A continuación se muestra el pseudocódigo del algoritmo para ordenar por mezcla.\r\n",
        "\r\n",
        "<center>\r\n",
        "<img src=\"https://github.com/jugernaut/Numerico2021/blob/master/Imagenes/Merge/merge.PNG?raw=1\" width=\"600\"> \r\n",
        "</center>"
      ]
    },
    {
      "cell_type": "code",
      "metadata": {
        "colab": {
          "base_uri": "https://localhost:8080/"
        },
        "id": "CdKfAPmTIUP7",
        "outputId": "d1d1b098-350c-44e5-b589-926b165aaa9a"
      },
      "source": [
        "# Algoritmo de ordenamiento\n",
        "def mergeSort(lista):\n",
        "    # si la coleccion es de tamano 1 o 0 se devuelve\n",
        "    if (len(lista) < 2):\n",
        "        return lista # 1 operacion\n",
        "    # si no se parte la coleccion y se ordena recursivamente    \n",
        "    else:\n",
        "        medio = len(lista)//2\n",
        "        izquierda = mergeSort(lista[:medio]) #T(n/2)\n",
        "        derecha = mergeSort(lista[medio:])  #T(n/2)\n",
        "        # se mezclan ambas listas (n operaciones)\n",
        "        return merge(izquierda, derecha)\n",
        "\n",
        "# Algoritmo que mezcla 2 listas ordenadas\n",
        "def merge(l1, l2):\n",
        "    i,j=0,0\n",
        "    mezcla=[]\n",
        "    # mientras haya elementos, se comparan y se mezclan\n",
        "    while(i < len(l1) and j < len(l2)):\n",
        "        if l1[i] <= l2[j]:\n",
        "            mezcla.append(l1[i])\n",
        "            i = i+1\n",
        "        else:\n",
        "            mezcla.append(l2[j])\n",
        "            j = j+1  \n",
        "    # agrega lo que falta, si i o j ya son len(lista) no agregan\n",
        "    mezcla += l1[i:]\n",
        "    mezcla += l2[j:]\n",
        "    # se devuelve la coleccion ordenada\n",
        "    return mezcla\n",
        "\n",
        "print(mergeSort([2,8,5,3,9,4,1,7]))"
      ],
      "execution_count": 4,
      "outputs": [
        {
          "output_type": "stream",
          "text": [
            "[1, 2, 3, 4, 5, 7, 8, 9]\n"
          ],
          "name": "stdout"
        }
      ]
    },
    {
      "cell_type": "markdown",
      "metadata": {
        "id": "A8nU41pJRxKf"
      },
      "source": [
        "## ¿Qué sucede con colecciones de tamaño $n$?\r\n",
        "\r\n",
        "Dado el análisis (y el pseudocódigo del algoritmo) podemos ver que ordenar una colección de tamaño $n$ tomara $2T(\\frac{n}{2})+a\\cdot n$. Pero este valor aun no permite identificar a que orden de complejidad pertenece este algoritmo.\r\n",
        "\r\n",
        "Es por eso que necesitamos definir la función de recurrencia de la siguiente forma.\r\n",
        "\r\n",
        "Función de recurrencia para el algoritmo de ordenamiento MergeSort:\r\n",
        "\r\n",
        "$$T(n)=\\begin{cases}\r\n",
        "b & n=0\\,\\acute{o}\\,n=1\\\\\r\n",
        "2T(\\frac{n}{2})+a\\cdot n & n\\geq2\r\n",
        "\\end{cases}$$\r\n",
        "\r\n",
        "Con lo que podemos concluir que...\r\n"
      ]
    },
    {
      "cell_type": "markdown",
      "metadata": {
        "id": "iczZjvRuSCCk"
      },
      "source": [
        "## Demostración\r\n",
        "\r\n",
        "Esta demostración se sustenta en el análisis realizado previamene y en el [teorema maestro](https://es.wikipedia.org/wiki/Teorema_maestro).\r\n",
        "\r\n",
        "Sea $T(n)$ el numero de operaciones que le toma al algoritmo anterior ordenar una lista de tamaño $n$ y dada la función de recurrencia. \r\n",
        "\r\n",
        "P.D. $$T(n)=n\\cdot b+a\\cdot n\\cdot\\log_{2}n$$\r\n",
        "\r\n",
        "Para mayor claridad de la demostración definimos $n=2^{k}$\r\n",
        "\r\n",
        "$$\\begin{eqnarray*}\r\n",
        "T(n)\t& = &\tT(2^{k}) \\\\\r\n",
        "  & = & 2T(2^{k-1})+a\\cdot2^{k}....Definición\\\\\r\n",
        "  & = & 2(2T(2^{k-2})+a\\cdot2^{k-1})+a\\cdot2^{k}.....Leyes\\,exponentes\\,y\\,Función\\,recurrencia \\\\\r\n",
        "  & = & 2^{2}T(2^{k-2})+a\\cdot2^{k}+a\\cdot2^{k}.......Algebra\\,elemental\\\\\r\n",
        "\t& = & 2^{2}(2T(2^{k-3})+a\\cdot2^{k-2})+2\\cdot a\\cdot2^{k}.....Función\\,recurrencia\\\\ \r\n",
        "i-veces & \\vdots & \\\\\r\n",
        "\t& = & 2^{i}T(2^{k-i})+i\\cdot a\\cdot2^{k} \\\\\r\n",
        "i=k\t\t& \\vdots & \\\\\r\n",
        "\t& = & 2^{k}T(2^{k-k})+k\\cdot a\\cdot2^{k}......2^{k-k}=1 \\\\\r\n",
        "\t& = &\t2^{k}b+k\\cdot a\\cdot2^{k}........T(1)=b \\\\\r\n",
        "\t& = &\tn\\cdot b+k\\cdot a\\cdot n......n=2^{k} \\\\\r\n",
        "\t& = &\tn\\cdot \\color{red}b+ \\color{red}a\\cdot n\\cdot\\log_{2}n \\\\\r\n",
        "\\end{eqnarray*}$$\r\n",
        "\r\n"
      ]
    },
    {
      "cell_type": "markdown",
      "metadata": {
        "id": "7NJYrNzSSYxe"
      },
      "source": [
        "#Orden de complejidad (cota superior asintótica)\r\n",
        "\r\n",
        "Ya que de $n\\cdot b$ (donde $b$ es una constante) y $a\\cdot n\\cdot\\log_{2}n$, la última es la función que 'crece' mas rápidamente.\r\n",
        "\r\n",
        "Se puede concluir que $T(n)\\in O(n\\cdot\\log_{2}n)$, es decir que el orden de complejidad al cual pertenece el algoritmo MergeSort es $n\\cdot\\log_{2}n$.\r\n",
        "\r\n",
        "En otras palabras podemos decir que el numero de operaciones que le toma a MergeSort ordenar una colección de tamaño $n$ es proporcional a $n\\cdot\\log_{2}n$.\r\n",
        "\r\n",
        "Esto significa (con sustento matemático) que MergeSort tiene un mejor desempeño que *InsertionSort, SeleccionSort* o *BubbleSort* en cuanto a la cantidad de operaciones (tiempo) que le toma ordenar una colección de datos.\r\n",
        "\r\n",
        "En otros términos podemos decir que si pusiéramos a competir (en teérminos de tiempo) a *MergeSort* contra, por ejemplo *BubbleSort*, el ganador seria *MergeSort*.\r\n"
      ]
    },
    {
      "cell_type": "markdown",
      "metadata": {
        "id": "YHiyGAPySr_f"
      },
      "source": [
        "#Referencias\r\n",
        "\r\n",
        "1. Thomas H. Cormen: Introduction to Algorithms.\r\n",
        "2. Libro Web: [Introduccion a Python](https://uniwebsidad.com/libros/algoritmos-python/capitulo-20/cuanto-cuesta-el-merge-sort?from=librosweb).\r\n",
        "3. Daniel T. Joyce: Object-Oriented Data Structures.\r\n",
        "4. John C. Mitchell: Concepts in programing Languages."
      ]
    }
  ]
}
