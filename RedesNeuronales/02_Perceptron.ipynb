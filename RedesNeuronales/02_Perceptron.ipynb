{
  "nbformat": 4,
  "nbformat_minor": 0,
  "metadata": {
    "colab": {
      "name": "01_RedesNeuronales.ipynb",
      "provenance": [],
      "toc_visible": true,
      "authorship_tag": "ABX9TyOvlNKIIJEKi4rCfyHTK6YC",
      "include_colab_link": true
    },
    "kernelspec": {
      "name": "python3",
      "display_name": "Python 3"
    },
    "widgets": {
      "application/vnd.jupyter.widget-state+json": {
        "79c0887d922c4de6bfd7afcf8954b7a8": {
          "model_module": "@jupyter-widgets/controls",
          "model_name": "VBoxModel",
          "state": {
            "_view_name": "VBoxView",
            "_dom_classes": [
              "widget-interact"
            ],
            "_model_name": "VBoxModel",
            "_view_module": "@jupyter-widgets/controls",
            "_model_module_version": "1.5.0",
            "_view_count": null,
            "_view_module_version": "1.5.0",
            "box_style": "",
            "layout": "IPY_MODEL_3e7f7a905cac4204921d780b6b004dea",
            "_model_module": "@jupyter-widgets/controls",
            "children": [
              "IPY_MODEL_1e62c59db71442f5820465371b9ab691",
              "IPY_MODEL_b01c4c9de4eb47418ec2c1115a768b11",
              "IPY_MODEL_0a0030d274834eceaab17f44394e9f83",
              "IPY_MODEL_1146d7e2658d4634b7008690a4aefff9"
            ]
          }
        },
        "3e7f7a905cac4204921d780b6b004dea": {
          "model_module": "@jupyter-widgets/base",
          "model_name": "LayoutModel",
          "state": {
            "_view_name": "LayoutView",
            "grid_template_rows": null,
            "right": null,
            "justify_content": null,
            "_view_module": "@jupyter-widgets/base",
            "overflow": null,
            "_model_module_version": "1.2.0",
            "_view_count": null,
            "flex_flow": null,
            "width": null,
            "min_width": null,
            "border": null,
            "align_items": null,
            "bottom": null,
            "_model_module": "@jupyter-widgets/base",
            "top": null,
            "grid_column": null,
            "overflow_y": null,
            "overflow_x": null,
            "grid_auto_flow": null,
            "grid_area": null,
            "grid_template_columns": null,
            "flex": null,
            "_model_name": "LayoutModel",
            "justify_items": null,
            "grid_row": null,
            "max_height": null,
            "align_content": null,
            "visibility": null,
            "align_self": null,
            "height": null,
            "min_height": null,
            "padding": null,
            "grid_auto_rows": null,
            "grid_gap": null,
            "max_width": null,
            "order": null,
            "_view_module_version": "1.2.0",
            "grid_template_areas": null,
            "object_position": null,
            "object_fit": null,
            "grid_auto_columns": null,
            "margin": null,
            "display": null,
            "left": null
          }
        },
        "1e62c59db71442f5820465371b9ab691": {
          "model_module": "@jupyter-widgets/controls",
          "model_name": "IntSliderModel",
          "state": {
            "_view_name": "IntSliderView",
            "style": "IPY_MODEL_aa483442170243adaf989733fb0aca84",
            "_dom_classes": [],
            "description": "x1",
            "step": 1,
            "_model_name": "IntSliderModel",
            "orientation": "horizontal",
            "max": 3,
            "_view_module": "@jupyter-widgets/controls",
            "_model_module_version": "1.5.0",
            "value": 2,
            "_view_count": null,
            "disabled": false,
            "_view_module_version": "1.5.0",
            "min": -1,
            "continuous_update": true,
            "readout_format": "d",
            "description_tooltip": null,
            "readout": true,
            "_model_module": "@jupyter-widgets/controls",
            "layout": "IPY_MODEL_8397fcc347a741a391263b390ec64045"
          }
        },
        "b01c4c9de4eb47418ec2c1115a768b11": {
          "model_module": "@jupyter-widgets/controls",
          "model_name": "IntSliderModel",
          "state": {
            "_view_name": "IntSliderView",
            "style": "IPY_MODEL_18d44b8cab09405ab49ecf38623e652e",
            "_dom_classes": [],
            "description": "x2",
            "step": 1,
            "_model_name": "IntSliderModel",
            "orientation": "horizontal",
            "max": 3,
            "_view_module": "@jupyter-widgets/controls",
            "_model_module_version": "1.5.0",
            "value": 2,
            "_view_count": null,
            "disabled": false,
            "_view_module_version": "1.5.0",
            "min": -1,
            "continuous_update": true,
            "readout_format": "d",
            "description_tooltip": null,
            "readout": true,
            "_model_module": "@jupyter-widgets/controls",
            "layout": "IPY_MODEL_d2345f232fbb47639aa367fcf9cdab7c"
          }
        },
        "0a0030d274834eceaab17f44394e9f83": {
          "model_module": "@jupyter-widgets/controls",
          "model_name": "IntSliderModel",
          "state": {
            "_view_name": "IntSliderView",
            "style": "IPY_MODEL_9c7b0e25f44543cc813cc0c28b967be2",
            "_dom_classes": [],
            "description": "x3",
            "step": 1,
            "_model_name": "IntSliderModel",
            "orientation": "horizontal",
            "max": 3,
            "_view_module": "@jupyter-widgets/controls",
            "_model_module_version": "1.5.0",
            "value": 0,
            "_view_count": null,
            "disabled": false,
            "_view_module_version": "1.5.0",
            "min": -1,
            "continuous_update": true,
            "readout_format": "d",
            "description_tooltip": null,
            "readout": true,
            "_model_module": "@jupyter-widgets/controls",
            "layout": "IPY_MODEL_3b57ae5404e04e2c9eeb74bc0aaea999"
          }
        },
        "1146d7e2658d4634b7008690a4aefff9": {
          "model_module": "@jupyter-widgets/output",
          "model_name": "OutputModel",
          "state": {
            "_view_name": "OutputView",
            "msg_id": "",
            "_dom_classes": [],
            "_model_name": "OutputModel",
            "outputs": [
              {
                "output_type": "stream",
                "metadata": {
                  "tags": []
                },
                "text": "1.0\n",
                "stream": "stdout"
              }
            ],
            "_view_module": "@jupyter-widgets/output",
            "_model_module_version": "1.0.0",
            "_view_count": null,
            "_view_module_version": "1.0.0",
            "layout": "IPY_MODEL_1441be6ae8c24d88bdc4006d862a70c0",
            "_model_module": "@jupyter-widgets/output"
          }
        },
        "aa483442170243adaf989733fb0aca84": {
          "model_module": "@jupyter-widgets/controls",
          "model_name": "SliderStyleModel",
          "state": {
            "_view_name": "StyleView",
            "handle_color": null,
            "_model_name": "SliderStyleModel",
            "description_width": "",
            "_view_module": "@jupyter-widgets/base",
            "_model_module_version": "1.5.0",
            "_view_count": null,
            "_view_module_version": "1.2.0",
            "_model_module": "@jupyter-widgets/controls"
          }
        },
        "8397fcc347a741a391263b390ec64045": {
          "model_module": "@jupyter-widgets/base",
          "model_name": "LayoutModel",
          "state": {
            "_view_name": "LayoutView",
            "grid_template_rows": null,
            "right": null,
            "justify_content": null,
            "_view_module": "@jupyter-widgets/base",
            "overflow": null,
            "_model_module_version": "1.2.0",
            "_view_count": null,
            "flex_flow": null,
            "width": null,
            "min_width": null,
            "border": null,
            "align_items": null,
            "bottom": null,
            "_model_module": "@jupyter-widgets/base",
            "top": null,
            "grid_column": null,
            "overflow_y": null,
            "overflow_x": null,
            "grid_auto_flow": null,
            "grid_area": null,
            "grid_template_columns": null,
            "flex": null,
            "_model_name": "LayoutModel",
            "justify_items": null,
            "grid_row": null,
            "max_height": null,
            "align_content": null,
            "visibility": null,
            "align_self": null,
            "height": null,
            "min_height": null,
            "padding": null,
            "grid_auto_rows": null,
            "grid_gap": null,
            "max_width": null,
            "order": null,
            "_view_module_version": "1.2.0",
            "grid_template_areas": null,
            "object_position": null,
            "object_fit": null,
            "grid_auto_columns": null,
            "margin": null,
            "display": null,
            "left": null
          }
        },
        "18d44b8cab09405ab49ecf38623e652e": {
          "model_module": "@jupyter-widgets/controls",
          "model_name": "SliderStyleModel",
          "state": {
            "_view_name": "StyleView",
            "handle_color": null,
            "_model_name": "SliderStyleModel",
            "description_width": "",
            "_view_module": "@jupyter-widgets/base",
            "_model_module_version": "1.5.0",
            "_view_count": null,
            "_view_module_version": "1.2.0",
            "_model_module": "@jupyter-widgets/controls"
          }
        },
        "d2345f232fbb47639aa367fcf9cdab7c": {
          "model_module": "@jupyter-widgets/base",
          "model_name": "LayoutModel",
          "state": {
            "_view_name": "LayoutView",
            "grid_template_rows": null,
            "right": null,
            "justify_content": null,
            "_view_module": "@jupyter-widgets/base",
            "overflow": null,
            "_model_module_version": "1.2.0",
            "_view_count": null,
            "flex_flow": null,
            "width": null,
            "min_width": null,
            "border": null,
            "align_items": null,
            "bottom": null,
            "_model_module": "@jupyter-widgets/base",
            "top": null,
            "grid_column": null,
            "overflow_y": null,
            "overflow_x": null,
            "grid_auto_flow": null,
            "grid_area": null,
            "grid_template_columns": null,
            "flex": null,
            "_model_name": "LayoutModel",
            "justify_items": null,
            "grid_row": null,
            "max_height": null,
            "align_content": null,
            "visibility": null,
            "align_self": null,
            "height": null,
            "min_height": null,
            "padding": null,
            "grid_auto_rows": null,
            "grid_gap": null,
            "max_width": null,
            "order": null,
            "_view_module_version": "1.2.0",
            "grid_template_areas": null,
            "object_position": null,
            "object_fit": null,
            "grid_auto_columns": null,
            "margin": null,
            "display": null,
            "left": null
          }
        },
        "9c7b0e25f44543cc813cc0c28b967be2": {
          "model_module": "@jupyter-widgets/controls",
          "model_name": "SliderStyleModel",
          "state": {
            "_view_name": "StyleView",
            "handle_color": null,
            "_model_name": "SliderStyleModel",
            "description_width": "",
            "_view_module": "@jupyter-widgets/base",
            "_model_module_version": "1.5.0",
            "_view_count": null,
            "_view_module_version": "1.2.0",
            "_model_module": "@jupyter-widgets/controls"
          }
        },
        "3b57ae5404e04e2c9eeb74bc0aaea999": {
          "model_module": "@jupyter-widgets/base",
          "model_name": "LayoutModel",
          "state": {
            "_view_name": "LayoutView",
            "grid_template_rows": null,
            "right": null,
            "justify_content": null,
            "_view_module": "@jupyter-widgets/base",
            "overflow": null,
            "_model_module_version": "1.2.0",
            "_view_count": null,
            "flex_flow": null,
            "width": null,
            "min_width": null,
            "border": null,
            "align_items": null,
            "bottom": null,
            "_model_module": "@jupyter-widgets/base",
            "top": null,
            "grid_column": null,
            "overflow_y": null,
            "overflow_x": null,
            "grid_auto_flow": null,
            "grid_area": null,
            "grid_template_columns": null,
            "flex": null,
            "_model_name": "LayoutModel",
            "justify_items": null,
            "grid_row": null,
            "max_height": null,
            "align_content": null,
            "visibility": null,
            "align_self": null,
            "height": null,
            "min_height": null,
            "padding": null,
            "grid_auto_rows": null,
            "grid_gap": null,
            "max_width": null,
            "order": null,
            "_view_module_version": "1.2.0",
            "grid_template_areas": null,
            "object_position": null,
            "object_fit": null,
            "grid_auto_columns": null,
            "margin": null,
            "display": null,
            "left": null
          }
        },
        "1441be6ae8c24d88bdc4006d862a70c0": {
          "model_module": "@jupyter-widgets/base",
          "model_name": "LayoutModel",
          "state": {
            "_view_name": "LayoutView",
            "grid_template_rows": null,
            "right": null,
            "justify_content": null,
            "_view_module": "@jupyter-widgets/base",
            "overflow": null,
            "_model_module_version": "1.2.0",
            "_view_count": null,
            "flex_flow": null,
            "width": null,
            "min_width": null,
            "border": null,
            "align_items": null,
            "bottom": null,
            "_model_module": "@jupyter-widgets/base",
            "top": null,
            "grid_column": null,
            "overflow_y": null,
            "overflow_x": null,
            "grid_auto_flow": null,
            "grid_area": null,
            "grid_template_columns": null,
            "flex": null,
            "_model_name": "LayoutModel",
            "justify_items": null,
            "grid_row": null,
            "max_height": null,
            "align_content": null,
            "visibility": null,
            "align_self": null,
            "height": null,
            "min_height": null,
            "padding": null,
            "grid_auto_rows": null,
            "grid_gap": null,
            "max_width": null,
            "order": null,
            "_view_module_version": "1.2.0",
            "grid_template_areas": null,
            "object_position": null,
            "object_fit": null,
            "grid_auto_columns": null,
            "margin": null,
            "display": null,
            "left": null
          }
        },
        "b33228b2e73440069a8360f46c0022d0": {
          "model_module": "@jupyter-widgets/controls",
          "model_name": "VBoxModel",
          "state": {
            "_view_name": "VBoxView",
            "_dom_classes": [
              "widget-interact"
            ],
            "_model_name": "VBoxModel",
            "_view_module": "@jupyter-widgets/controls",
            "_model_module_version": "1.5.0",
            "_view_count": null,
            "_view_module_version": "1.5.0",
            "box_style": "",
            "layout": "IPY_MODEL_755a27bbaa70441483fa33acdfbfed38",
            "_model_module": "@jupyter-widgets/controls",
            "children": [
              "IPY_MODEL_7de14f13e8664599920f3a7415d8153e",
              "IPY_MODEL_137bc22d7c9e4ca6b15be926f0c52d1d",
              "IPY_MODEL_82e843c5f92d403887fa11928294c6a3",
              "IPY_MODEL_f5a5b0420e3743b6881e3119a70e9f7c"
            ]
          }
        },
        "755a27bbaa70441483fa33acdfbfed38": {
          "model_module": "@jupyter-widgets/base",
          "model_name": "LayoutModel",
          "state": {
            "_view_name": "LayoutView",
            "grid_template_rows": null,
            "right": null,
            "justify_content": null,
            "_view_module": "@jupyter-widgets/base",
            "overflow": null,
            "_model_module_version": "1.2.0",
            "_view_count": null,
            "flex_flow": null,
            "width": null,
            "min_width": null,
            "border": null,
            "align_items": null,
            "bottom": null,
            "_model_module": "@jupyter-widgets/base",
            "top": null,
            "grid_column": null,
            "overflow_y": null,
            "overflow_x": null,
            "grid_auto_flow": null,
            "grid_area": null,
            "grid_template_columns": null,
            "flex": null,
            "_model_name": "LayoutModel",
            "justify_items": null,
            "grid_row": null,
            "max_height": null,
            "align_content": null,
            "visibility": null,
            "align_self": null,
            "height": null,
            "min_height": null,
            "padding": null,
            "grid_auto_rows": null,
            "grid_gap": null,
            "max_width": null,
            "order": null,
            "_view_module_version": "1.2.0",
            "grid_template_areas": null,
            "object_position": null,
            "object_fit": null,
            "grid_auto_columns": null,
            "margin": null,
            "display": null,
            "left": null
          }
        },
        "7de14f13e8664599920f3a7415d8153e": {
          "model_module": "@jupyter-widgets/controls",
          "model_name": "IntSliderModel",
          "state": {
            "_view_name": "IntSliderView",
            "style": "IPY_MODEL_62137c06d6b84b1a8652d7784a652df0",
            "_dom_classes": [],
            "description": "x1",
            "step": 1,
            "_model_name": "IntSliderModel",
            "orientation": "horizontal",
            "max": 3,
            "_view_module": "@jupyter-widgets/controls",
            "_model_module_version": "1.5.0",
            "value": 3,
            "_view_count": null,
            "disabled": false,
            "_view_module_version": "1.5.0",
            "min": -1,
            "continuous_update": true,
            "readout_format": "d",
            "description_tooltip": null,
            "readout": true,
            "_model_module": "@jupyter-widgets/controls",
            "layout": "IPY_MODEL_ce9fb51640c0413c952d958495a2f350"
          }
        },
        "137bc22d7c9e4ca6b15be926f0c52d1d": {
          "model_module": "@jupyter-widgets/controls",
          "model_name": "IntSliderModel",
          "state": {
            "_view_name": "IntSliderView",
            "style": "IPY_MODEL_81279122bbdb45afbc98e0511c150e51",
            "_dom_classes": [],
            "description": "x2",
            "step": 1,
            "_model_name": "IntSliderModel",
            "orientation": "horizontal",
            "max": 3,
            "_view_module": "@jupyter-widgets/controls",
            "_model_module_version": "1.5.0",
            "value": 3,
            "_view_count": null,
            "disabled": false,
            "_view_module_version": "1.5.0",
            "min": -1,
            "continuous_update": true,
            "readout_format": "d",
            "description_tooltip": null,
            "readout": true,
            "_model_module": "@jupyter-widgets/controls",
            "layout": "IPY_MODEL_c9529d404ce64a2ca3402e65d7c0b076"
          }
        },
        "82e843c5f92d403887fa11928294c6a3": {
          "model_module": "@jupyter-widgets/controls",
          "model_name": "IntSliderModel",
          "state": {
            "_view_name": "IntSliderView",
            "style": "IPY_MODEL_605938cdcda144e7b48942c421b00a3b",
            "_dom_classes": [],
            "description": "x3",
            "step": 1,
            "_model_name": "IntSliderModel",
            "orientation": "horizontal",
            "max": 3,
            "_view_module": "@jupyter-widgets/controls",
            "_model_module_version": "1.5.0",
            "value": 1,
            "_view_count": null,
            "disabled": false,
            "_view_module_version": "1.5.0",
            "min": -1,
            "continuous_update": true,
            "readout_format": "d",
            "description_tooltip": null,
            "readout": true,
            "_model_module": "@jupyter-widgets/controls",
            "layout": "IPY_MODEL_c74c1430ac37425da0e6883b45199eea"
          }
        },
        "f5a5b0420e3743b6881e3119a70e9f7c": {
          "model_module": "@jupyter-widgets/output",
          "model_name": "OutputModel",
          "state": {
            "_view_name": "OutputView",
            "msg_id": "",
            "_dom_classes": [],
            "_model_name": "OutputModel",
            "outputs": [
              {
                "output_type": "stream",
                "metadata": {
                  "tags": []
                },
                "text": "¡¡¡Se activa la neurona!!!\n",
                "stream": "stdout"
              }
            ],
            "_view_module": "@jupyter-widgets/output",
            "_model_module_version": "1.0.0",
            "_view_count": null,
            "_view_module_version": "1.0.0",
            "layout": "IPY_MODEL_544c48118955485fa0c4e99a344595f0",
            "_model_module": "@jupyter-widgets/output"
          }
        },
        "62137c06d6b84b1a8652d7784a652df0": {
          "model_module": "@jupyter-widgets/controls",
          "model_name": "SliderStyleModel",
          "state": {
            "_view_name": "StyleView",
            "handle_color": null,
            "_model_name": "SliderStyleModel",
            "description_width": "",
            "_view_module": "@jupyter-widgets/base",
            "_model_module_version": "1.5.0",
            "_view_count": null,
            "_view_module_version": "1.2.0",
            "_model_module": "@jupyter-widgets/controls"
          }
        },
        "ce9fb51640c0413c952d958495a2f350": {
          "model_module": "@jupyter-widgets/base",
          "model_name": "LayoutModel",
          "state": {
            "_view_name": "LayoutView",
            "grid_template_rows": null,
            "right": null,
            "justify_content": null,
            "_view_module": "@jupyter-widgets/base",
            "overflow": null,
            "_model_module_version": "1.2.0",
            "_view_count": null,
            "flex_flow": null,
            "width": null,
            "min_width": null,
            "border": null,
            "align_items": null,
            "bottom": null,
            "_model_module": "@jupyter-widgets/base",
            "top": null,
            "grid_column": null,
            "overflow_y": null,
            "overflow_x": null,
            "grid_auto_flow": null,
            "grid_area": null,
            "grid_template_columns": null,
            "flex": null,
            "_model_name": "LayoutModel",
            "justify_items": null,
            "grid_row": null,
            "max_height": null,
            "align_content": null,
            "visibility": null,
            "align_self": null,
            "height": null,
            "min_height": null,
            "padding": null,
            "grid_auto_rows": null,
            "grid_gap": null,
            "max_width": null,
            "order": null,
            "_view_module_version": "1.2.0",
            "grid_template_areas": null,
            "object_position": null,
            "object_fit": null,
            "grid_auto_columns": null,
            "margin": null,
            "display": null,
            "left": null
          }
        },
        "81279122bbdb45afbc98e0511c150e51": {
          "model_module": "@jupyter-widgets/controls",
          "model_name": "SliderStyleModel",
          "state": {
            "_view_name": "StyleView",
            "handle_color": null,
            "_model_name": "SliderStyleModel",
            "description_width": "",
            "_view_module": "@jupyter-widgets/base",
            "_model_module_version": "1.5.0",
            "_view_count": null,
            "_view_module_version": "1.2.0",
            "_model_module": "@jupyter-widgets/controls"
          }
        },
        "c9529d404ce64a2ca3402e65d7c0b076": {
          "model_module": "@jupyter-widgets/base",
          "model_name": "LayoutModel",
          "state": {
            "_view_name": "LayoutView",
            "grid_template_rows": null,
            "right": null,
            "justify_content": null,
            "_view_module": "@jupyter-widgets/base",
            "overflow": null,
            "_model_module_version": "1.2.0",
            "_view_count": null,
            "flex_flow": null,
            "width": null,
            "min_width": null,
            "border": null,
            "align_items": null,
            "bottom": null,
            "_model_module": "@jupyter-widgets/base",
            "top": null,
            "grid_column": null,
            "overflow_y": null,
            "overflow_x": null,
            "grid_auto_flow": null,
            "grid_area": null,
            "grid_template_columns": null,
            "flex": null,
            "_model_name": "LayoutModel",
            "justify_items": null,
            "grid_row": null,
            "max_height": null,
            "align_content": null,
            "visibility": null,
            "align_self": null,
            "height": null,
            "min_height": null,
            "padding": null,
            "grid_auto_rows": null,
            "grid_gap": null,
            "max_width": null,
            "order": null,
            "_view_module_version": "1.2.0",
            "grid_template_areas": null,
            "object_position": null,
            "object_fit": null,
            "grid_auto_columns": null,
            "margin": null,
            "display": null,
            "left": null
          }
        },
        "605938cdcda144e7b48942c421b00a3b": {
          "model_module": "@jupyter-widgets/controls",
          "model_name": "SliderStyleModel",
          "state": {
            "_view_name": "StyleView",
            "handle_color": null,
            "_model_name": "SliderStyleModel",
            "description_width": "",
            "_view_module": "@jupyter-widgets/base",
            "_model_module_version": "1.5.0",
            "_view_count": null,
            "_view_module_version": "1.2.0",
            "_model_module": "@jupyter-widgets/controls"
          }
        },
        "c74c1430ac37425da0e6883b45199eea": {
          "model_module": "@jupyter-widgets/base",
          "model_name": "LayoutModel",
          "state": {
            "_view_name": "LayoutView",
            "grid_template_rows": null,
            "right": null,
            "justify_content": null,
            "_view_module": "@jupyter-widgets/base",
            "overflow": null,
            "_model_module_version": "1.2.0",
            "_view_count": null,
            "flex_flow": null,
            "width": null,
            "min_width": null,
            "border": null,
            "align_items": null,
            "bottom": null,
            "_model_module": "@jupyter-widgets/base",
            "top": null,
            "grid_column": null,
            "overflow_y": null,
            "overflow_x": null,
            "grid_auto_flow": null,
            "grid_area": null,
            "grid_template_columns": null,
            "flex": null,
            "_model_name": "LayoutModel",
            "justify_items": null,
            "grid_row": null,
            "max_height": null,
            "align_content": null,
            "visibility": null,
            "align_self": null,
            "height": null,
            "min_height": null,
            "padding": null,
            "grid_auto_rows": null,
            "grid_gap": null,
            "max_width": null,
            "order": null,
            "_view_module_version": "1.2.0",
            "grid_template_areas": null,
            "object_position": null,
            "object_fit": null,
            "grid_auto_columns": null,
            "margin": null,
            "display": null,
            "left": null
          }
        },
        "544c48118955485fa0c4e99a344595f0": {
          "model_module": "@jupyter-widgets/base",
          "model_name": "LayoutModel",
          "state": {
            "_view_name": "LayoutView",
            "grid_template_rows": null,
            "right": null,
            "justify_content": null,
            "_view_module": "@jupyter-widgets/base",
            "overflow": null,
            "_model_module_version": "1.2.0",
            "_view_count": null,
            "flex_flow": null,
            "width": null,
            "min_width": null,
            "border": null,
            "align_items": null,
            "bottom": null,
            "_model_module": "@jupyter-widgets/base",
            "top": null,
            "grid_column": null,
            "overflow_y": null,
            "overflow_x": null,
            "grid_auto_flow": null,
            "grid_area": null,
            "grid_template_columns": null,
            "flex": null,
            "_model_name": "LayoutModel",
            "justify_items": null,
            "grid_row": null,
            "max_height": null,
            "align_content": null,
            "visibility": null,
            "align_self": null,
            "height": null,
            "min_height": null,
            "padding": null,
            "grid_auto_rows": null,
            "grid_gap": null,
            "max_width": null,
            "order": null,
            "_view_module_version": "1.2.0",
            "grid_template_areas": null,
            "object_position": null,
            "object_fit": null,
            "grid_auto_columns": null,
            "margin": null,
            "display": null,
            "left": null
          }
        }
      }
    }
  },
  "cells": [
    {
      "cell_type": "markdown",
      "metadata": {
        "id": "view-in-github",
        "colab_type": "text"
      },
      "source": [
        "<a href=\"https://colab.research.google.com/github/jugernaut/ProgramacionEnParalelo/blob/desarrollo/RedesNeuronales/02_Perceptron.ipynb\" target=\"_parent\"><img src=\"https://colab.research.google.com/assets/colab-badge.svg\" alt=\"Open In Colab\"/></a>"
      ]
    },
    {
      "cell_type": "markdown",
      "metadata": {
        "id": "wXSdMY-R3hny"
      },
      "source": [
        "<font color=\"Teal\" face=\"Comic Sans MS,arial\">\n",
        "  <h1 align=\"center\"><i>Perceptron</i></h1>\n",
        "  </font>\n",
        "  <font color=\"Black\" face=\"Comic Sans MS,arial\">\n",
        "  <h5 align=\"center\"><i>Profesor: M. en C. Miguel Ángel Pérez León."
      ]
    },
    {
      "cell_type": "markdown",
      "metadata": {
        "id": "UdSUVg0fNCxN"
      },
      "source": [
        "# Introducción\n",
        "\n",
        "El perceptrón es un tipo de neurona artificial que fue inventada en 1957 por Frank Rosenblatt.\n",
        "\n",
        "Las principales diferencias con respecto a las neuronas vistas previamente es que el perceptrón es capaz de aprender (machine learning) y además su valores de entrada y de salida son binarios. Aunque no es complicado modificar el modelo para tratar con campos no binarios.\n"
      ]
    },
    {
      "cell_type": "markdown",
      "metadata": {
        "id": "pv34b5WB2PKL"
      },
      "source": [
        "#  Anatomía del Perceptrón\n",
        "\n",
        "Todos los elementos vistos previamente se mantienen.\n",
        "\n",
        "*   **Entradas**\n",
        "*   **Pesos**\n",
        "*   **Sesgo**\n",
        "*   **Función de activación**\n",
        "\n",
        "Aunque para el caso particular del perceptrón, la función de activavción será la conocida como paso binario y es tan sencilla como la siguiente imagen."
      ]
    },
    {
      "cell_type": "code",
      "metadata": {
        "colab": {
          "base_uri": "https://localhost:8080/",
          "height": 265
        },
        "id": "401mBZpW5qmw",
        "outputId": "e6897250-1f72-4560-e9f8-95b33dffb2c9"
      },
      "source": [
        "# se importan algunas funciones importantes\n",
        "import matplotlib.pyplot as plt\n",
        "import numpy as np\n",
        "%matplotlib inline\n",
        "import math\n",
        "# dominio de las graficas\n",
        "x = np.linspace(-3, 3, 20)\n",
        "\n",
        "# funciones comunes de activasion\n",
        "PasoBinario = lambda x: np.heaviside(x,1)\n",
        "\n",
        "# Definimos algunos parámetros para la gráfica\n",
        "plt.plot(x, PasoBinario(x),label=\"Paso Binario\")\n",
        "plt.legend()\n",
        "\n",
        "# Mostramos la leyenda de las gráficas\n",
        "plt.show()"
      ],
      "execution_count": null,
      "outputs": [
        {
          "output_type": "display_data",
          "data": {
            "image/png": "[encoded data removed]",
            "text/plain": [
              "<Figure size 432x288 with 1 Axes>"
            ]
          },
          "metadata": {
            "tags": [],
            "needs_background": "light"
          }
        }
      ]
    },
    {
      "cell_type": "markdown",
      "metadata": {
        "id": "YsMAqa3YbTyo"
      },
      "source": [
        "Es decir.\n",
        "\n",
        "$$f\\left(x\\right)=\\begin{cases}\n",
        "1 \\quad si & x\\gt0\\\\\n",
        "0 \\quad & e.o.c.\n",
        "\\end{cases}$$\n",
        "\n",
        "En el contexto de las redes neuronales podemos pensar en esta función de la siguiente manera.\n",
        "\n",
        "$$f\\left(\\vec{x}\\right)=\\begin{cases}\n",
        "1 \\quad si & \\vec{w} * \\vec{x} +b\\gt0\\\\\n",
        "0 \\quad & e.o.c.\n",
        "\\end{cases}$$\n",
        "\n",
        "Donde:\n",
        "\n",
        "*   $\\vec{w}$ es el vector de pesos asociados a las entradas.\n",
        "*   $\\vec{x}$ es el vector de entradas.\n",
        "*   $b$ es el sesgo o bias.\n",
        "\n",
        "Estos cambios en la función de activación se deben a que, para fines prácticos es mejor pensar en las entradas de una neurona (o red neuronal) como un vector, además recordemos que las GPU's estan optimizadas para operaciones con vectores y con matrices.\n"
      ]
    },
    {
      "cell_type": "markdown",
      "metadata": {
        "id": "i_9Fue_POL2I"
      },
      "source": [
        "## Ejemplo operador *AND*\n",
        "\n",
        "Igual que en el caso del cerebro humano, existen diferentes zonas del cerebro que muestran actividad con diferentes estimulos, tratemos de diseñar una neurona artificial que funcione reproduzca el comportamiento del operador logico *AND* (&&). \n",
        "\n",
        "Recordemos la tabla de verdad de este operador lógico.\n",
        "\n",
        "| $x_1$ | $x_2$ | $and$ | \n",
        "| :-:   |    :-:|  :-:  | \n",
        "| 0     | 0     | 0     |\n",
        "| 0     | 1     | 0     |\n",
        "| 1     | 0     | 0     |\n",
        "| 1     | 1     | 1     |\n",
        "\n",
        "La idea es que podamos definir un algoritmo que funcione como el operador lógico *AND*.\n"
      ]
    },
    {
      "cell_type": "markdown",
      "metadata": {
        "id": "K8A4aZheBeMH"
      },
      "source": [
        "### Inteligencia Artificial (tradicional)\n",
        "\n",
        "La forma más sencilla de definir este operador es con un *if*, es decir."
      ]
    },
    {
      "cell_type": "code",
      "metadata": {
        "id": "uVCn6cCWyiDZ",
        "colab": {
          "base_uri": "https://localhost:8080/"
        },
        "outputId": "a33533d9-e45d-426d-989b-9a4ee1ed347c"
      },
      "source": [
        "# neurona básica que solo recibe 3 parametros y los suma\n",
        "def perceptrAND(x, w=None, b=None):\n",
        "    if x[0]==1 and x[1]==1:\n",
        "        return 1\n",
        "    else:\n",
        "        return 0\n",
        "\n",
        "print(perceptrAND([0,0])) \n"
      ],
      "execution_count": 3,
      "outputs": [
        {
          "output_type": "stream",
          "text": [
            "0\n"
          ],
          "name": "stdout"
        }
      ]
    },
    {
      "cell_type": "markdown",
      "metadata": {
        "id": "U9f3yuaYCoXf"
      },
      "source": [
        "Esta es la forma tradicional en la cual se resolvian muchos de los problemas de inteligencia artificial antes de la llegada del *machine learning*.\n",
        "\n",
        "El código de la celda anterior funciona y resuelve el problema planteado inicialmente, sin embargo esta solución es estática, ya no puede modificarse por si misma para \"aprender\" un nuevo comportamiento."
      ]
    },
    {
      "cell_type": "markdown",
      "metadata": {
        "id": "2oe9M4cTDbNP"
      },
      "source": [
        "### Razonamiento cognitivo\n",
        "\n",
        "Veamos otra forma de solucionar el mismo problema.\n",
        "\n",
        "Lo primero que debemos notar de la tabla de verdad es que, si c**ambiamos el orden de las entradas** ($x_1, x_2$) en cada caso, el resultado no cambia.\n",
        "\n",
        "Lo segundo que hay que notar es que la suma $\\vec{w} * \\vec{x} +b$ siempre debe ser negativa, excepto cuando $x_1=1$ y $x_2=1$, tal como se muestra en la tabla de verdad.\n",
        "\n",
        "Reescribiendo nuestra tabla de verdad para considerar las entradas del perceptron la podemos pensar de la siguiente forma.\n",
        "\n",
        "\\begin{array}{c}\n",
        "1w+1w+b>0\\\\\n",
        "0w+1w+b\\leq0\\\\\n",
        "1w+0w+b\\leq0\\\\\n",
        "0w+0w+b\\leq0 \n",
        "\\end{array} \\\\tag{1}\n",
        "\n",
        "Por otro lado, sabemos que:\n",
        "\n",
        "*   $x*0=0$\n",
        "*   $1x+1x=2x$\n",
        "*   $1x=x$\n",
        "\n"
      ]
    },
    {
      "cell_type": "markdown",
      "metadata": {
        "id": "o-Y0ImDdOhj3"
      },
      "source": [
        "# Pesos (Weight) y Sesgo (Bias)\n",
        "\n",
        "Los pesos son un elemento importante dentro de toda red neuronal artificial, ya que indican que tan fuerte o débil debe ser la conexión entre la neurona y las señales de entrada.\n",
        "\n",
        "Imaginemos que se quiere usar una neurona artificial para determinar si es buena idea invertir en una empresa dedicada al desarrollo de microprocesadores.\n",
        "\n",
        "Las entradas que recibiría nuestra neurona seguirían siendo las 3 variables antes mencionadas $(x_1, x_2, x_3)$, pero en este caso estos valores representan:\n",
        "\n",
        "*   $x_1:$ valor del oro en la bolsa de valores.\n",
        "*   $x_2:$ cotización en la ultima semana de dicha empresa.\n",
        "*   $x_3:$ probabilidad de lluvia.\n",
        "\n",
        "**Pesos**: ahora nos interesa modelar que el valor del oro tiene una mayor relevancia en la fabricación de un microporocesador que la probabilidad de lluvia y de la misma manera la cotización de la empresa en la última semana. Por lo que los pesos para cada señal de entrada serían:\n",
        "\n",
        "*   $w_1:$ relevancia del valor del oro.\n",
        "*   $w_2:$ relevancia de la cotización de la empresa.\n",
        "*   $w_3:$ relevancia de probabilidad de lluvia.\n",
        "\n",
        "**Sesgo (Bias)**: el sesgo es un valor (normalmente llamado $b$) que ayuda a modificar la suma ponderada de las señales de entrada. De tal manera que este sesgo permite modificar la salida de la función de activación. \n",
        "\n",
        "\n"
      ]
    },
    {
      "cell_type": "code",
      "metadata": {
        "id": "rydpZ9rAPUVi",
        "colab": {
          "base_uri": "https://localhost:8080/",
          "height": 147,
          "referenced_widgets": [
            "79c0887d922c4de6bfd7afcf8954b7a8",
            "3e7f7a905cac4204921d780b6b004dea",
            "1e62c59db71442f5820465371b9ab691",
            "b01c4c9de4eb47418ec2c1115a768b11",
            "0a0030d274834eceaab17f44394e9f83",
            "1146d7e2658d4634b7008690a4aefff9",
            "aa483442170243adaf989733fb0aca84",
            "8397fcc347a741a391263b390ec64045",
            "18d44b8cab09405ab49ecf38623e652e",
            "d2345f232fbb47639aa367fcf9cdab7c",
            "9c7b0e25f44543cc813cc0c28b967be2",
            "3b57ae5404e04e2c9eeb74bc0aaea999",
            "1441be6ae8c24d88bdc4006d862a70c0"
          ]
        },
        "outputId": "5d5cf10f-b308-46a1-980b-58e759c63eae"
      },
      "source": [
        "'''\n",
        "  x1: valor del oro\n",
        "  x2: cotizacion de la empresa\n",
        "  x3: probabilidad de lluvia\n",
        "'''\n",
        "def neurona2(x1, x2, x3):\n",
        "    # sesgo\n",
        "    b = -2.0\n",
        "    # suma ponderada\n",
        "    suma = x1*0.9+x2*0.6+x3*.02\n",
        "    # se imprime el resultado\n",
        "    print(b+suma) \n",
        "\n",
        "# interactivo \n",
        "interact(neurona2, x1=widgets.IntSlider(min=-1,max=3,step=1,value=0), \n",
        "         x2=widgets.IntSlider(min=-1,max=3,step=1,value=0),x3=widgets.IntSlider(min=-1,max=3,step=1,value=0))"
      ],
      "execution_count": null,
      "outputs": [
        {
          "output_type": "display_data",
          "data": {
            "application/vnd.jupyter.widget-view+json": {
              "model_id": "79c0887d922c4de6bfd7afcf8954b7a8",
              "version_minor": 0,
              "version_major": 2
            },
            "text/plain": [
              "interactive(children=(IntSlider(value=0, description='x1', max=3, min=-1), IntSlider(value=0, description='x2'…"
            ]
          },
          "metadata": {
            "tags": []
          }
        },
        {
          "output_type": "execute_result",
          "data": {
            "text/plain": [
              "<function __main__.neurona2>"
            ]
          },
          "metadata": {
            "tags": []
          },
          "execution_count": 2
        }
      ]
    },
    {
      "cell_type": "markdown",
      "metadata": {
        "id": "2F4nh1heOnZU"
      },
      "source": [
        "# Función de Activación\n",
        "\n",
        "Diremos que una neurona se activa cuando transmite y establece una conexión con el resto de las neuronas, en otro caso la neurona permanece desactivada y por lo tanto no transmite señales al resto de las neuronas.\n",
        "\n",
        "La función de activación es el equivalente biológico a la forma en la cuál una neurona **determina si se activa o permanece desactivada**.\n",
        "\n",
        "A continuación veremos algunos ejemplos de funciones de activación."
      ]
    },
    {
      "cell_type": "markdown",
      "metadata": {
        "id": "WvAgphBSRqvy"
      },
      "source": [
        "### Tipos de funciones de activación\n"
      ]
    },
    {
      "cell_type": "markdown",
      "metadata": {
        "id": "taS2cMdvkq5o"
      },
      "source": [
        "<center>\n",
        "<img src=\"https://github.com/jugernaut/Numerico2021/blob/desarrollo/Figuras/redesNeuronales/funcionesact.png?raw=1\" width=\"650\">\n",
        "</center>"
      ]
    },
    {
      "cell_type": "code",
      "metadata": {
        "id": "vYyNXFZApHrE",
        "colab": {
          "base_uri": "https://localhost:8080/",
          "height": 147,
          "referenced_widgets": [
            "b33228b2e73440069a8360f46c0022d0",
            "755a27bbaa70441483fa33acdfbfed38",
            "7de14f13e8664599920f3a7415d8153e",
            "137bc22d7c9e4ca6b15be926f0c52d1d",
            "82e843c5f92d403887fa11928294c6a3",
            "f5a5b0420e3743b6881e3119a70e9f7c",
            "62137c06d6b84b1a8652d7784a652df0",
            "ce9fb51640c0413c952d958495a2f350",
            "81279122bbdb45afbc98e0511c150e51",
            "c9529d404ce64a2ca3402e65d7c0b076",
            "605938cdcda144e7b48942c421b00a3b",
            "c74c1430ac37425da0e6883b45199eea",
            "544c48118955485fa0c4e99a344595f0"
          ]
        },
        "outputId": "25bf6e9b-56a7-427f-9623-479ca5ec744e"
      },
      "source": [
        "'''\n",
        "  x1: valor del oro\n",
        "  x2: cotizacion de la empresa\n",
        "  x3: probabilidad de lluvia\n",
        "'''\n",
        "def neurona3(x1, x2, x3):\n",
        "    # sesgo\n",
        "    b = -2.0\n",
        "    # suma ponderada\n",
        "    suma = x1*0.9+x2*0.6+x3*.02\n",
        "    evaluacion = suma+b\n",
        "    # funcion de activacion\n",
        "    relu = lambda x: np.maximum(0,x)\n",
        "    # veamos si se activa la neurona\n",
        "    if relu(evaluacion) > 0:\n",
        "        print(\"¡¡¡Se activa la neurona!!!\")\n",
        "    else:\n",
        "        print(\"No se activa la neurona :(\")\n",
        "        \n",
        "# interactivo \n",
        "interact(neurona3, x1=widgets.IntSlider(min=-1,max=3,step=1,value=0), \n",
        "         x2=widgets.IntSlider(min=-1,max=3,step=1,value=0),x3=widgets.IntSlider(min=-1,max=3,step=1,value=0))"
      ],
      "execution_count": null,
      "outputs": [
        {
          "output_type": "display_data",
          "data": {
            "application/vnd.jupyter.widget-view+json": {
              "model_id": "b33228b2e73440069a8360f46c0022d0",
              "version_minor": 0,
              "version_major": 2
            },
            "text/plain": [
              "interactive(children=(IntSlider(value=0, description='x1', max=3, min=-1), IntSlider(value=0, description='x2'…"
            ]
          },
          "metadata": {
            "tags": []
          }
        },
        {
          "output_type": "execute_result",
          "data": {
            "text/plain": [
              "<function __main__.neurona3>"
            ]
          },
          "metadata": {
            "tags": []
          },
          "execution_count": 6
        }
      ]
    },
    {
      "cell_type": "markdown",
      "metadata": {
        "id": "oniRCJqcpkPf"
      },
      "source": [
        "<center>\n",
        "<img src=\"https://github.com/jugernaut/Numerico2021/blob/desarrollo/Figuras/redesNeuronales/perceptron1.gif?raw=1\" width=\"550\">\n",
        "</center>"
      ]
    },
    {
      "cell_type": "markdown",
      "metadata": {
        "id": "kVIBoj3V2WOc"
      },
      "source": [
        "# Aprendizaje\n",
        "\n",
        "Bueno hasta este momento ya conocemos los elementos que integran una neurona artificial, elementos como:\n",
        "\n",
        "*   **Entradas**: valores $(x_1, x_2,...,x_n)$ que entran en la neurona.\n",
        "*   **Pesos**: son valores $(w_1, w_2,...,w_n)$ que ayudan a determinar que \"tan relevante\" es cada una de las entradas.\n",
        "*   **Sesgo**: podemos pensar en este valor como un limite que la suma ponderada tiene que rebasar para que la neurona se active.\n",
        "*   **Función de activación**: esta función \"comprime\" la suma ponderada de entradas, pesos y sesgo y nos ayuda a determinar la intensidad de la activación de la neurona en cuestión.\n",
        "\n",
        "Pero surgen preguntas como, ¿en que momento una neurona artificial lleva a cabo el **proceso de aprendizaje**?, ¿como es que una red neuronal artificial lleva a cabo tareas tan complejas como **reconocer imágenes** o **identificar los gustos de un usuario de facebook**?.\n",
        "\n",
        "La respuesta corta a estas preguntas es **PERCEPTRON** y **PERCEPTRON MULTICAPA** (red neuronal artificial).\n",
        "\n",
        "En esencia un perceptrón es una neurona artificial capaz de \"aprender\" y un perceptrón multicapa, son muchas neuronas artificiales capaces de aprender conectadas unas con otras, igual que sucede con el cerebro humano.\n",
        "\n",
        "\n"
      ]
    },
    {
      "cell_type": "markdown",
      "metadata": {
        "id": "_AQHpP046Z6_"
      },
      "source": [
        "#  Referencias\n",
        "\n",
        "*   [Prometeo](https://github.com/jugernaut/Prometeo)\n",
        "*   [Perceptron](https://medium.com/@thomascountz/19-line-line-by-line-python-perceptron-b6f113b161f3)\n",
        "*   [Brilliant](https://brilliant.org/practice/intelligent-computers-menace/?chapter=introduction-to-neural-networks)\n",
        "*   [Simulador](https://ml4a.github.io/ml4a/es/neural_networks/)\n",
        "*   [NetLogo](https://ccl.northwestern.edu/netlogo/)\n",
        "*   [Red neuronal desde cero](https://futurelab.mx/redes%20neuronales/inteligencia%20artificial/2019/06/25/intro-a-redes-neuronales-pt-1/)\n",
        "*   [Libro Web](http://neuralnetworksanddeeplearning.com/index.html)\n",
        "*   [Aprendizaje profundo](https://www.deeplearningbook.org/)\n",
        "*   [Lista de videos](https://www.youtube.com/playlist?list=PLo8YL3HL50lUHQS80oE_ypxFi0Y3uCVal)\n",
        "*   [Algebra Lineal](https://www.youtube.com/playlist?list=PLIb_io8a5NB2DddFf-PwvZDCOUNT1GZoA)\n"
      ]
    }
  ]
}