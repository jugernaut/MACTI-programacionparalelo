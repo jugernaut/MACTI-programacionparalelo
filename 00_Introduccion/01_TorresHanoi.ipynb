{
  "nbformat": 4,
  "nbformat_minor": 0,
  "metadata": {
    "colab": {
      "name": "TorresHanoi2_SCP.ipynb",
      "provenance": [],
      "toc_visible": true,
      "include_colab_link": true
    },
    "kernelspec": {
      "name": "python3",
      "display_name": "Python 3"
    },
    "widgets": {
      "application/vnd.jupyter.widget-state+json": {
        "5bae95efafc6405a9e6d65e0e31dfb68": {
          "model_module": "@jupyter-widgets/controls",
          "model_name": "VBoxModel",
          "model_module_version": "1.5.0",
          "state": {
            "_dom_classes": [
              "widget-interact"
            ],
            "_model_module": "@jupyter-widgets/controls",
            "_model_module_version": "1.5.0",
            "_model_name": "VBoxModel",
            "_view_count": null,
            "_view_module": "@jupyter-widgets/controls",
            "_view_module_version": "1.5.0",
            "_view_name": "VBoxView",
            "box_style": "",
            "children": [
              "IPY_MODEL_e0b6d83f26dc440d8d2160e9ab8a3fd9",
              "IPY_MODEL_d789c9a2431b439f952b8bbf4a397f99"
            ],
            "layout": "IPY_MODEL_df783cc76a7441178a24197b7fcf349d"
          }
        },
        "e0b6d83f26dc440d8d2160e9ab8a3fd9": {
          "model_module": "@jupyter-widgets/controls",
          "model_name": "IntSliderModel",
          "model_module_version": "1.5.0",
          "state": {
            "_dom_classes": [],
            "_model_module": "@jupyter-widgets/controls",
            "_model_module_version": "1.5.0",
            "_model_name": "IntSliderModel",
            "_view_count": null,
            "_view_module": "@jupyter-widgets/controls",
            "_view_module_version": "1.5.0",
            "_view_name": "IntSliderView",
            "continuous_update": true,
            "description": "c",
            "description_tooltip": null,
            "disabled": false,
            "layout": "IPY_MODEL_6e61396998604c8a9710183aae176bcf",
            "max": 3,
            "min": -1,
            "orientation": "horizontal",
            "readout": true,
            "readout_format": "d",
            "step": 1,
            "style": "IPY_MODEL_5aa662a455644d96b644602575396657",
            "value": 1
          }
        },
        "d789c9a2431b439f952b8bbf4a397f99": {
          "model_module": "@jupyter-widgets/output",
          "model_name": "OutputModel",
          "model_module_version": "1.0.0",
          "state": {
            "_dom_classes": [],
            "_model_module": "@jupyter-widgets/output",
            "_model_module_version": "1.0.0",
            "_model_name": "OutputModel",
            "_view_count": null,
            "_view_module": "@jupyter-widgets/output",
            "_view_module_version": "1.0.0",
            "_view_name": "OutputView",
            "layout": "IPY_MODEL_5842893f0c35455ab57048b4a8b18d36",
            "msg_id": "",
            "outputs": []
          }
        },
        "df783cc76a7441178a24197b7fcf349d": {
          "model_module": "@jupyter-widgets/base",
          "model_name": "LayoutModel",
          "model_module_version": "1.2.0",
          "state": {
            "_model_module": "@jupyter-widgets/base",
            "_model_module_version": "1.2.0",
            "_model_name": "LayoutModel",
            "_view_count": null,
            "_view_module": "@jupyter-widgets/base",
            "_view_module_version": "1.2.0",
            "_view_name": "LayoutView",
            "align_content": null,
            "align_items": null,
            "align_self": null,
            "border": null,
            "bottom": null,
            "display": null,
            "flex": null,
            "flex_flow": null,
            "grid_area": null,
            "grid_auto_columns": null,
            "grid_auto_flow": null,
            "grid_auto_rows": null,
            "grid_column": null,
            "grid_gap": null,
            "grid_row": null,
            "grid_template_areas": null,
            "grid_template_columns": null,
            "grid_template_rows": null,
            "height": null,
            "justify_content": null,
            "justify_items": null,
            "left": null,
            "margin": null,
            "max_height": null,
            "max_width": null,
            "min_height": null,
            "min_width": null,
            "object_fit": null,
            "object_position": null,
            "order": null,
            "overflow": null,
            "overflow_x": null,
            "overflow_y": null,
            "padding": null,
            "right": null,
            "top": null,
            "visibility": null,
            "width": null
          }
        },
        "6e61396998604c8a9710183aae176bcf": {
          "model_module": "@jupyter-widgets/base",
          "model_name": "LayoutModel",
          "model_module_version": "1.2.0",
          "state": {
            "_model_module": "@jupyter-widgets/base",
            "_model_module_version": "1.2.0",
            "_model_name": "LayoutModel",
            "_view_count": null,
            "_view_module": "@jupyter-widgets/base",
            "_view_module_version": "1.2.0",
            "_view_name": "LayoutView",
            "align_content": null,
            "align_items": null,
            "align_self": null,
            "border": null,
            "bottom": null,
            "display": null,
            "flex": null,
            "flex_flow": null,
            "grid_area": null,
            "grid_auto_columns": null,
            "grid_auto_flow": null,
            "grid_auto_rows": null,
            "grid_column": null,
            "grid_gap": null,
            "grid_row": null,
            "grid_template_areas": null,
            "grid_template_columns": null,
            "grid_template_rows": null,
            "height": null,
            "justify_content": null,
            "justify_items": null,
            "left": null,
            "margin": null,
            "max_height": null,
            "max_width": null,
            "min_height": null,
            "min_width": null,
            "object_fit": null,
            "object_position": null,
            "order": null,
            "overflow": null,
            "overflow_x": null,
            "overflow_y": null,
            "padding": null,
            "right": null,
            "top": null,
            "visibility": null,
            "width": null
          }
        },
        "5aa662a455644d96b644602575396657": {
          "model_module": "@jupyter-widgets/controls",
          "model_name": "SliderStyleModel",
          "model_module_version": "1.5.0",
          "state": {
            "_model_module": "@jupyter-widgets/controls",
            "_model_module_version": "1.5.0",
            "_model_name": "SliderStyleModel",
            "_view_count": null,
            "_view_module": "@jupyter-widgets/base",
            "_view_module_version": "1.2.0",
            "_view_name": "StyleView",
            "description_width": "",
            "handle_color": null
          }
        },
        "5842893f0c35455ab57048b4a8b18d36": {
          "model_module": "@jupyter-widgets/base",
          "model_name": "LayoutModel",
          "model_module_version": "1.2.0",
          "state": {
            "_model_module": "@jupyter-widgets/base",
            "_model_module_version": "1.2.0",
            "_model_name": "LayoutModel",
            "_view_count": null,
            "_view_module": "@jupyter-widgets/base",
            "_view_module_version": "1.2.0",
            "_view_name": "LayoutView",
            "align_content": null,
            "align_items": null,
            "align_self": null,
            "border": null,
            "bottom": null,
            "display": null,
            "flex": null,
            "flex_flow": null,
            "grid_area": null,
            "grid_auto_columns": null,
            "grid_auto_flow": null,
            "grid_auto_rows": null,
            "grid_column": null,
            "grid_gap": null,
            "grid_row": null,
            "grid_template_areas": null,
            "grid_template_columns": null,
            "grid_template_rows": null,
            "height": null,
            "justify_content": null,
            "justify_items": null,
            "left": null,
            "margin": null,
            "max_height": null,
            "max_width": null,
            "min_height": null,
            "min_width": null,
            "object_fit": null,
            "object_position": null,
            "order": null,
            "overflow": null,
            "overflow_x": null,
            "overflow_y": null,
            "padding": null,
            "right": null,
            "top": null,
            "visibility": null,
            "width": null
          }
        }
      }
    }
  },
  "cells": [
    {
      "cell_type": "markdown",
      "metadata": {
        "id": "view-in-github",
        "colab_type": "text"
      },
      "source": [
        "<a href=\"https://colab.research.google.com/github/jugernaut/ProgramacionEnParalelo/blob/main/Introduccion/01_TorresHanoi.ipynb\" target=\"_parent\"><img src=\"https://colab.research.google.com/assets/colab-badge.svg\" alt=\"Open In Colab\"/></a>"
      ]
    },
    {
      "cell_type": "markdown",
      "metadata": {
        "id": "Q26tjzsyYiot"
      },
      "source": [
        "<font color=\"Teal\" face=\"Comic Sans MS,arial\">\n",
        "  <h1 align=\"center\"><i>Torres de Hanoi</i></h1>\n",
        "  </font>\n",
        "  <font color=\"Black\" face=\"Comic Sans MS,arial\">\n",
        "  <h5 align=\"center\"><i>Ayudante: Lucía Martínez Rivas</i></h5>\n",
        "  <h5 align=\"center\"><i>Ayudante: Erick Jesús Rios Gonzalez</i></h5>\n",
        "  <h5 align=\"center\"><i>correo: zeus@ciencias.unam.mx</i></h5>\n",
        "  <h5 align=\"center\"><i>Materia: Programación en Paralelo</i></h5>\n",
        "  </font>"
      ]
    },
    {
      "cell_type": "markdown",
      "metadata": {
        "id": "oDiIM4pIaWOe"
      },
      "source": [
        "# Torres de Hanoi\n",
        "\n",
        "El algoritmo para resolver las torres de Hanoi es un ejemplo ampliamente conocido en el contexto computacional.\n",
        "\n",
        "Es por este motivo que en este documento se parte del hecho que el lector conoce tanto el planteamiento, como el algoritmo iterativo y recursivo.\n",
        "\n",
        "Dado estos antecedentes procedemos a definir la función de recurrencia, para poder identificar a que orden de complejidad pertenece este algoritmo recursivo."
      ]
    },
    {
      "cell_type": "markdown",
      "metadata": {
        "id": "DBFJ7LfrarLa"
      },
      "source": [
        "## Algoritmo recursivo\n",
        "\n",
        "Para el caso cuando solo se tiene un disco, basta con pasar el disco en cuestión a la pila final. Lo que toma un solo movimiento.\n",
        "\n",
        "Para el caso de 2 discos, basta con mover el disco 1 (disco de diámetro mas pequeño, D1), a la pila auxiliar y D2 a la pila final. Finalmente D1 a la pila final (sobre D2). Con lo que ya se logro el objetivo y todos los discos están en la pila final. Esto tomo 3 movimientos.\n",
        "\n",
        "Cuando se tiene 3 discos, caemos en el caso de mover 2 discos a la pila auxiliar, mover un disco a la pila final y por ultimo mover 2 discos de la pila auxiliar a la pila final. Es decir **7 movimientos**, un caso de 2 discos (3 movimientos) más mover un disco, más un caso de 2 discos (3 movimientos).\n",
        "\n",
        "<center>\n",
        "<img src=\"https://github.com/jugernaut/ProgramacionEnParalelo/blob/desarrollo/Imagenes/Introduccion/3discos.gif?raw=1\" width=\"550\">\n",
        "</center>\n",
        "\n",
        "Para el caso de 4 discos se tiene, un caso de 3 discos (7 movimientos) más un movimiento, mas un caso de 3 discos (7 movimientos), en **total 15 movimientos**.\n",
        "\n",
        "<center>\n",
        "<img src=\"https://github.com/jugernaut/ProgramacionEnParalelo/blob/desarrollo/Imagenes/Introduccion/4discos.gif?raw=1\" width=\"550\">\n",
        "</center>\n",
        "\n",
        "Podemos ver que se comienza a formar un patrón, o dicho de otra forma podemos pensar que **es posible medir el desempeño** de este algoritmo medíante un polinomio o función.\n",
        "\n",
        "Veamoslo así, el caso de 3 discos se descompone en 2 casos de 2 discos más un caso de un solo disco. El caso de 4 discos se descompone en 2 casos de 3 discos más un caso de un disco. Podemos imaginar que el caso de 5 discos se descompone en 2 casos de 4 discos más un caso de un disco.\n",
        "\n",
        "Completa la siguiente tabla y de ser posible define la función $T(n)$ que dado un número de discos $n$, nos devuelva el número de movimientos necesarios para completar la tarea.\n",
        "\n",
        "| Número de discos | Número de movimientos de discos para cada caso |\n",
        "| :-:           |           :-:              |\n",
        "| 1       | $T(1)=1$ |\n",
        "| 2       | $T(2)=T(1)+T(1)+1=1+1+1=3$ |\n",
        "| 3       | $T(3)=T(2)+T(2)+1=3+3+1=7$ |\n",
        "| 4       | $T(4)=T(3)+T(3)+1=7+7+1=15$ |\n",
        "| 5       | $T(5)=?$ |\n",
        "| ..      | ........ |\n",
        "| n       | $T(n)=?$ |\n",
        "\n",
        "\n",
        "## Código del algoritmo recursivo\n",
        "\n",
        "Si se programa de manera recursiva, este algoritmo usando un lenguaje de programación, el código se vería de la siguiente manera."
      ]
    },
    {
      "cell_type": "code",
      "metadata": {
        "id": "HHVBXkHadoVq",
        "colab": {
          "base_uri": "https://localhost:8080/"
        },
        "outputId": "6ddd515e-ad9d-49e8-aab0-9c7076c9084a"
      },
      "source": [
        "# Algoritmo recursivo que resuelve el problema de las torres de Hanoi\n",
        "def torre_Hanoi(discos, torre_Inicial, torre_Auxiliar, torre_Final):\n",
        "  # caso base\n",
        "  if(discos <=  1):\n",
        "    print('Disco ' , str(discos) , \" de \" , torre_Inicial , \" a \" , torre_Final)\n",
        "  # llamadas recursivas\n",
        "  else:\n",
        "    torre_Hanoi(discos-1, torre_Inicial, torre_Final, torre_Auxiliar)\n",
        "    print ('Disco ' , str(discos) , \" de \" , torre_Inicial , \" a \" , torre_Final)\n",
        "    torre_Hanoi(discos-1, torre_Auxiliar, torre_Inicial, torre_Final)\n",
        "# pruebas\n",
        "discos = 4\n",
        "torre_Hanoi(discos, 'torre Inicial', 'torre Auxiliar', 'torre Final')"
      ],
      "execution_count": null,
      "outputs": [
        {
          "output_type": "stream",
          "name": "stdout",
          "text": [
            "Disco  1  de  torre Inicial  a  torre Auxiliar\n",
            "Disco  2  de  torre Inicial  a  torre Final\n",
            "Disco  1  de  torre Auxiliar  a  torre Final\n",
            "Disco  3  de  torre Inicial  a  torre Auxiliar\n",
            "Disco  1  de  torre Final  a  torre Inicial\n",
            "Disco  2  de  torre Final  a  torre Auxiliar\n",
            "Disco  1  de  torre Inicial  a  torre Auxiliar\n",
            "Disco  4  de  torre Inicial  a  torre Final\n",
            "Disco  1  de  torre Auxiliar  a  torre Final\n",
            "Disco  2  de  torre Auxiliar  a  torre Inicial\n",
            "Disco  1  de  torre Final  a  torre Inicial\n",
            "Disco  3  de  torre Auxiliar  a  torre Final\n",
            "Disco  1  de  torre Inicial  a  torre Auxiliar\n",
            "Disco  2  de  torre Inicial  a  torre Final\n",
            "Disco  1  de  torre Auxiliar  a  torre Final\n"
          ]
        }
      ]
    },
    {
      "cell_type": "markdown",
      "metadata": {
        "id": "1k8TQMzxj2U4"
      },
      "source": [
        "## Algoritmo iterativo\n",
        "\n",
        "La versión iterativa de este algoritmo lo podemos ver en la siguiente imagen, tiene ventajas y desventajas pero eso lo comentaremos más adelante.\n",
        "\n",
        "Una de sus principales desventajas es que por lo general es necesario escribir más código que en la versión recursiva.\n",
        "\n",
        "<center>\n",
        "<img src=\"https://github.com/jugernaut/ManejoDatos/blob/main/Imagenes/Introduccion/hanoiiterativo.png?raw=1\" width=\"1050\">\n",
        "</center>"
      ]
    },
    {
      "cell_type": "markdown",
      "metadata": {
        "id": "XspmW-zTXMoT"
      },
      "source": [
        "# Análisis\n",
        "\n",
        "Dada la descripción básica (y el código del algoritmo) podemos concluir que para $n-discos$ tomará **$T(n-1)$ movimientos**, más **un movimiento**, más **$T(n-1)$ movimientos**.\n",
        "\n",
        "Lo cual nos lleva a definir la función de recurrencia de la siguiente forma.\n",
        "\n",
        "Función de recurrencia para el algoritmo de las torres de Hanoi:\n",
        "\n",
        "$$T(n)=\\begin{cases}\n",
        "1 & n=1\\\\\n",
        "2T(n-1)+1 & n\\geq2\n",
        "\\end{cases}$$\n",
        "\n",
        "Con lo que podemos concluir que..."
      ]
    },
    {
      "cell_type": "markdown",
      "metadata": {
        "id": "XkAP9DWqYoDR"
      },
      "source": [
        "## Demostración\n",
        "\n",
        "Sea $T(n)$ el número de movimientos que le toma al algoritmo anterior cumplir con su objetivo y dada la función de recurrencia P.D. $T(n)=2^{n}-1$.\n",
        "\n",
        "$$\\begin{eqnarray*}\n",
        "T(n)\t& = &\t2T(n-1)+1 \\\\\n",
        "\t& = &\t2(2T(n-2)+1)+1.....Funci\\acute{o}n\\,de\\,recurrencia \\\\\n",
        "\t& = &\t2^{2}T(n-2)+2+1.......Algebra\\,elemental \\\\\n",
        "\t& = &\t2^{2}(2T(n-3)+1)+2+1.....Funci\\acute{o}n\\,de\\,recurrencia \\\\\n",
        "\t& = &\t2^{3}T(n-3)+2^{2}+2+1.......Algebra\\,elemental \\\\\n",
        "k-veces & \\vdots & \\\\\n",
        "\t& = &\t2^{k}T(n-k)+2^{k-1}+\\cdots+2+1 \\\\\n",
        "k=n-1\t\t& \\vdots & \\\\\n",
        "\t& = &\t2^{n-1}T(n-(n-1))+2^{n-1-1}+\\cdots+2+1 \\\\\n",
        "\t& = &\t2^{n-1}T(1)+2^{n-2}+\\cdots+2+1........T(1)=1 \\\\\n",
        "\t& = &\t2^{n-1}+2^{n-2}+\\cdots+2^{2}+2+1......(suma\\,potencias\\,de\\,2) \\\\\n",
        "\t& = &\t2^{n}-1......\\square \\\\\n",
        "\\end{eqnarray*}$$"
      ]
    },
    {
      "cell_type": "markdown",
      "metadata": {
        "id": "ZUHmNPcNf79c"
      },
      "source": [
        "# Cota superior asintótica\n",
        "\n",
        "La cota superior asintótica (O grande) es una forma de clasificar a los algoritmos de acuerdo a su comportamiento y desempeño.\n",
        "\n",
        "Se usa en todas las ramas de las ciencias de computación ya que con base en esta medida (y algunas otras) podemos identificar que tan bueno o malo es nuestro algoritmo comparado con otros.\n"
      ]
    },
    {
      "cell_type": "markdown",
      "metadata": {
        "id": "emWRB_vys8cR"
      },
      "source": [
        "## Definición\n",
        "\n",
        "Cota superior asintótica: sea $g\\left(x\\right)$ una función continua y $f\\left(x\\right)$ la función que describe el comportamiento de nuestro algoritmo, diremos que $f$ pertenece al orden $g$ si.\n",
        "\n",
        "$$O\\left(g\\left(x\\right)\\right)=\\left\\{ f\\left(x\\right)\\colon\\exists\\,x_{0},c>0\\mid\\forall x\\geq x_{0}>0\\colon0\\leq\\left|f\\left(x\\right)\\right|\\leq c\\left|g\\left(x\\right)\\right|\\right\\} $$\n",
        "\n",
        "<center>\n",
        "<img src=\"https://github.com/jugernaut/ProgramacionEnParalelo/blob/desarrollo/Imagenes/Introduccion/cota.png?raw=1\" width=\"550\">\n",
        "</center>\n",
        "\n",
        "Como te podrás dar cuenta, la cota superior asintótica nos sirve\n",
        "para definir categorías (orden de complejidad) dentro del\n",
        "desempeño de los mucho algoritmos existentes. Y esto sirve\n",
        "para poder identificar cuales algoritmos son más eficientes que\n",
        "otros.\n",
        "\n",
        "| orden de Complejidad        | Nombre            |\n",
        "| :-:           |    :-:        |\n",
        "| $O(1) $       | Orden constante |\n",
        "| $O(log n) $   | Orden logarítmico     |\n",
        "| $O(n) $       | Orden lineal      |\n",
        "| $O(n log n) $ | Orden n log n      |\n",
        "| $O( n^{2}) $  | Orden cuadrático      |\n",
        "| $O( n^{a}) $  | Orden polinomial ($a>2$)     |\n",
        "| $O( a^{n}) $  | Orden exponencial ($a>2$)     |\n",
        "| $O( n!)    $  | Orden factorial      |"
      ]
    },
    {
      "cell_type": "markdown",
      "metadata": {
        "id": "_-I6WPXGtOMt"
      },
      "source": [
        "## Orden de complejidad computacional\n",
        "\n",
        "Dada la demostración anterior podemos concluir que el orden complejidad al que pertenece este algoritmo es exponencial.\n",
        "\n",
        "Es decir $T(n)\\in O(2^{n})$ con respecto al tiempo, el número de movimientos u operaciones que le toma a este algoritmo devolver un resultado.\n",
        "\n",
        "Estos son los ordenes de complejidad computacional más comúnes.\n",
        "\n",
        "<center>\n",
        "<img src=\"https://github.com/jugernaut/ProgramacionEnParalelo/blob/desarrollo/Imagenes/Introduccion/complejidad.png?raw=1\" width=\"550\">\n",
        "</center>"
      ]
    },
    {
      "cell_type": "markdown",
      "metadata": {
        "id": "J3CprzhiSUUo"
      },
      "source": [
        "## Gráfica discos v.s. movimientos\n",
        "\n",
        "Ya que conocemos el orden de complejidad al que pertenece este algorimo y hemos probado que el número de movimientos que le toma a este algoritmo mover n-discos, $T(n)=2^{n}-1$, veamos que sucede con ambas graficas en python."
      ]
    },
    {
      "cell_type": "code",
      "metadata": {
        "id": "PxWbuJYTS9nY",
        "colab": {
          "base_uri": "https://localhost:8080/",
          "height": 542,
          "referenced_widgets": [
            "5bae95efafc6405a9e6d65e0e31dfb68",
            "e0b6d83f26dc440d8d2160e9ab8a3fd9",
            "d789c9a2431b439f952b8bbf4a397f99",
            "df783cc76a7441178a24197b7fcf349d",
            "6e61396998604c8a9710183aae176bcf",
            "5aa662a455644d96b644602575396657",
            "5842893f0c35455ab57048b4a8b18d36"
          ]
        },
        "outputId": "e5d97eeb-e970-45fe-ba68-fefef08061da"
      },
      "source": [
        "import numpy as np\n",
        "import matplotlib.pyplot as plt\n",
        "from ipywidgets import interact\n",
        "import ipywidgets as widgets\n",
        "\n",
        "def cotaSuperior(c):\n",
        "  # dominio en el cual se genera la grafica\n",
        "  x = np.linspace(0,5,10)\n",
        "  # constante para acotar\n",
        "  # c\n",
        "  # cota superior asintotica\n",
        "  g = (2**x)*c\n",
        "  # funcion que define el comportamiento del algoritmo de Hanoi\n",
        "  f = (2**x) - 1\n",
        "  # se grafican ambas rectas\n",
        "  plt.plot(x,f,label = '$2**x - 1-Algoritmo$', color='crimson')\n",
        "  plt.plot(x,g,label = '$c * 2**x-CotaSuperior$', color='b' )\n",
        "  plt.xlabel('$numero-discos$')\n",
        "  plt.ylabel('$movimientos$')\n",
        "  plt.title('Discos v.s. Movimeintos')\n",
        "  plt.grid()\n",
        "  plt.legend()\n",
        "\n",
        "interact(cotaSuperior, c=widgets.IntSlider(min=-1,max=3,step=1,value=1))"
      ],
      "execution_count": null,
      "outputs": [
        {
          "output_type": "display_data",
          "data": {
            "text/plain": [
              "interactive(children=(IntSlider(value=1, description='c', max=3, min=-1), Output()), _dom_classes=('widget-int…"
            ],
            "application/vnd.jupyter.widget-view+json": {
              "version_major": 2,
              "version_minor": 0,
              "model_id": "5bae95efafc6405a9e6d65e0e31dfb68"
            }
          },
          "metadata": {}
        },
        {
          "output_type": "execute_result",
          "data": {
            "text/plain": [
              "<function __main__.cotaSuperior(c)>"
            ]
          },
          "metadata": {},
          "execution_count": 3
        },
        {
          "output_type": "display_data",
          "data": {
            "text/plain": [
              "<Figure size 640x480 with 1 Axes>"
            ],
            "image/png": "[encoded data removed]"
          },
          "metadata": {}
        }
      ]
    },
    {
      "cell_type": "markdown",
      "metadata": {
        "id": "0RT9kNygjsIS"
      },
      "source": [
        "## Interpretación\n",
        "Ya con ambas graficas es evidente que como lo indica la definición, la cota superior asintótica es una función que siempre sera mayor o igual que la función que describe el comportamiento del algoritmo analizado. Además podemos notar que la $c$ que se da en la definición es un \"comodín\" que sirve para desplazar $g(x)$ de tal manera que sea la función que acote de manera justa la función asociada al algoritmo $f(x)$.\n",
        "\n",
        "# ¿Para qué me sirve conocer a que orden de complejidad al que pertenece un algoritmo?\n",
        "\n",
        "Ya que conocemos la cota superior asintótica, es decir el orden de complejidad al que pertenece este algoritmo podemos resolver las dudas planteadas inicialmente. Por ejemplo, ¿tiene sentido intentar resolver este problema para **25 discos**?. Supongamos que tenemos una computadora que realiza **un movimiento de disco por segundo** (en realidad las computadoras actuales realizan millones de operaciones por segundo) entonces ya que conocemos la cota podemos asumir que para 25 discos.\n",
        "\n",
        "$$\\begin{array}{ccc}\n",
        "T\\left(n\\right)=T\\left(25\\right)=2^{25}-1 & = & 3.3554431\\times10{{}^7}\\qquad segundos\\\\\n",
        "3.3554431\\times10{{}^7}\\qquad segundos & = & 9.320675278\\times10{{}^3}\\qquad horas\\\\\n",
        "9.320675278\\times10{{}^3}\\qquad horas & = & 3.883614699\\times10{{}^2}\\qquad d\\acute{\\imath}as\\\\\n",
        "3.883614699\\times10{{}^2}\\qquad d\\acute{\\imath}as & = & 1\\qquad a\\tilde{n}o!!!\n",
        "\\end{array}$$\n",
        "\n",
        "Pero.....¿Qué se puede decir con respecto a la cota superior asintótica respecto a la memoria?.\n",
        "\n",
        "¿La versión recursiva e iterativa de este algoritmo pertenecen a los mismos ordenes de complejidad tanto en **tiempo (operaciones)**, como en **espacio (memoria)**?.\n",
        "\n",
        "# Conclusiones del análisis\n",
        "\n",
        "Reuniendo todo lo visto en las 2 primeras clases podemos responder casi todas las preguntas planteadas inicialmente.\n",
        "\n",
        "Por ejemplo, **¿tiene sentido emplear este algoritmo para resolver este problema con 25 discos?.**\n",
        "\n",
        "De tal manera que es evidente que la respuesta es **¡no!**, a pesar de ser el mejor algoritmo para el problema de las torres de Hanoi, intentar usar este algoritmo para una cantidad mayor o igual a 25 discos, tomará mas de un año para que devuelva un resultado. Así que de hoy en adelante sabemos que antes de emplear algún algoritmo es buena idea tomarse un poco de tiempo para analizarlo y poder determinar si es una buena solución al problema inicial."
      ]
    },
    {
      "cell_type": "markdown",
      "metadata": {
        "id": "znYoAx6chSMj"
      },
      "source": [
        "# Referencias  \n",
        "\n",
        "*   Thomas H. Cormen, Introduction to Algorithms.\n",
        "*   Libro Web, Introduccion a Python.\n",
        "*   Daniel T. Joyce, Object-Oriented Data Structures.\n",
        "*   John C. Mitchell, Concepts in programing Languages.\n",
        "*   [Hanoi en linea](https://www.mathplayground.com/logic_tower_of_hanoi.html)."
      ]
    }
  ]
}