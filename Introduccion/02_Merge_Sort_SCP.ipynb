{
  "nbformat": 4,
  "nbformat_minor": 0,
  "metadata": {
    "colab": {
      "name": "Merge_Sort_SCP.ipynb",
      "provenance": [],
      "collapsed_sections": [],
      "toc_visible": true,
      "include_colab_link": true
    },
    "kernelspec": {
      "name": "python3",
      "display_name": "Python 3"
    }
  },
  "cells": [
    {
      "cell_type": "markdown",
      "metadata": {
        "id": "view-in-github",
        "colab_type": "text"
      },
      "source": [
        "<a href=\"https://colab.research.google.com/github/jugernaut/ProgramacionEnParalelo/blob/desarrollo/Introduccion/Merge_Sort_SCP.ipynb\" target=\"_parent\"><img src=\"https://colab.research.google.com/assets/colab-badge.svg\" alt=\"Open In Colab\"/></a>"
      ]
    },
    {
      "cell_type": "markdown",
      "metadata": {
        "id": "JAsbRnI2Mz94"
      },
      "source": [
        "<font color=\"Teal\" face=\"Comic Sans MS,arial\">\r\n",
        "  <h1 align=\"center\"><i>MergeSort (análisis)</i></h1>\r\n",
        "  </font>\r\n",
        "  <font color=\"Black\" face=\"Comic Sans MS,arial\">\r\n",
        "  <h5 align=\"center\"><i>Profesor: M.en.C. Miguel Angel Pérez León.</i></h5>\r\n",
        "    <h5 align=\"center\"><i>Ayudante: Jesús Iván Coss Calderón.</i></h5>\r\n",
        "    <h5 align=\"center\"><i>Ayudante: Mario Arturo .</i></h5>\r\n",
        "  <h5 align=\"center\"><i>Materia: Seminario de programación en paralelo..</i></h5>\r\n",
        "  </font>"
      ]
    },
    {
      "cell_type": "markdown",
      "metadata": {
        "id": "Uf8-6ok_Q8I9"
      },
      "source": [
        "#Introducción.\r\n",
        "\r\n",
        "En clase se dio la descripción del algoritmo de ordenamiento MergeSort.\r\n",
        "\r\n",
        " \r\n",
        "Es por este motivo que en este documento se parte del hecho que el lector conoce tanto el planteamiento, como el pseudocódigo de este algoritmo.\r\n",
        "\r\n",
        " \r\n",
        "Dado estos antecedentes procedemos a definir la función de recurrencia, para poder definir a que orden de complejidad pertenece este algoritmo recursivo."
      ]
    },
    {
      "cell_type": "markdown",
      "metadata": {
        "id": "aC3klh28RH4k"
      },
      "source": [
        "#Función de Recurrencia."
      ]
    },
    {
      "cell_type": "markdown",
      "metadata": {
        "id": "mlm6KfnURLCA"
      },
      "source": [
        "##Análisis.\r\n",
        "\r\n",
        "Para el caso cuando se requiere ordenar una colección (lista) de tamaño 1 (o 0 caso trivial), basta con devolver dicha lista ya que esta ya esta ordenada, lo cual toma tiempo constante, digamos b.\r\n",
        "\r\n",
        " \r\n",
        "Para el caso de una colección de tamaño 2 ó mayor, es necesario partir a la mitad dicha colección, ordenar ambas subcolecciones y mezclarlas. Ahora consideremos que para simplificar el análisis de la complejidad diremos que a es el tiempo que toma al microprocesador realizar cada operación.\r\n",
        "\r\n",
        " \r\n",
        "\r\n",
        "Es por esto que ordenar una colección de tamaño n tomará en total \r\n",
        "$$2T(\\frac{n}{2})+a\\cdot n$$."
      ]
    },
    {
      "cell_type": "markdown",
      "metadata": {
        "id": "eEEEkd74Ra-s"
      },
      "source": [
        "##Algoritmo básico.\r\n",
        "\r\n",
        "A continuación se muestra el pseudocódigo del algoritmo para ordenar por mezcla.\r\n",
        "\r\n",
        "<center>\r\n",
        "<img src=\"https://github.com/jugernaut/Numerico2021/blob/master/Imagenes/Merge/merge.PNG?raw=1\" width=\"600\"> \r\n",
        "</center>"
      ]
    },
    {
      "cell_type": "markdown",
      "metadata": {
        "id": "A8nU41pJRxKf"
      },
      "source": [
        "##¿Que sucede con colecciones de tamaño n?.\r\n",
        "\r\n",
        "Dado el análisis (y el pseudocódigo del algoritmo) podemos ver que ordenar una colección de tamaño n tomara $2T(\\frac{n}{2})+a\\cdot n$. Pero este valor aun no permite identificar a que orden de complejidad pertenece este algoritmo.\r\n",
        "\r\n",
        " \r\n",
        "\r\n",
        "Es por eso que necesitamos definir la función de recurrencia de la siguiente forma.\r\n",
        "\r\n",
        "Función de recurrencia para el algoritmo de ordenamiento MergeSort:\r\n",
        "\r\n",
        "$$T(n)=\\begin{cases}\r\n",
        "b, & n=0\\,\\acute{o}\\,n=1\\\\\r\n",
        "2T(\\frac{n}{2})+a\\cdot n & n\\geq2\r\n",
        "\\end{cases}$$\r\n",
        "\r\n",
        "Con lo que podemos concluir que...\r\n"
      ]
    },
    {
      "cell_type": "markdown",
      "metadata": {
        "id": "iczZjvRuSCCk"
      },
      "source": [
        "##Demostración.\r\n",
        "\r\n",
        "Sea T(n) el numero de operaciones que le toma al algoritmo anterior ordenar una lista de tamaño n y dada la función de recurrencia. \r\n",
        "\r\n",
        "P.D. $T(n)=n\\cdot b+a\\cdot n\\cdot\\log_{2}n$, para mayor claridad de la demostración definimos $n=2^{k}$\r\n",
        "\r\n",
        "$$T(n)=T(2^{k})=2T(2^{k-1})+a\\cdot2^{k}....Definición\\\\=2(2T(2^{k-2})+a\\cdot2^{k-1})+a\\cdot2^{k}.....Leyes\\,exponentes\\,y\\,Función\\,recurrencia\\\\=2^{2}T(2^{k-2})+a\\cdot2^{k}+a\\cdot2^{k}.......Algbra\\,elemental\\\\=2^{2}(2T(2^{k-3})+a\\cdot2^{k-2})+2\\cdot a\\cdot2^{k}\\\\i-veces \\quad \\vdots \\\\=2^{i}T(2^{k-i})+i\\cdot a\\cdot2^{k}\\\\i=k-veces \\quad \\vdots \\\\=2^{k}T(2^{k-k})+k\\cdot a\\cdot2^{k}......2^{k-k}=1\\\\=2^{k}b+k\\cdot a\\cdot2^{k}........T(1)=b\\\\=n\\cdot b+k\\cdot a\\cdot n......n=2^{k}\\\\=n\\cdot b+{\\color{red}a\\cdot n\\cdot\\log_{2}n}$$\r\n",
        "\r\n"
      ]
    },
    {
      "cell_type": "markdown",
      "metadata": {
        "id": "7NJYrNzSSYxe"
      },
      "source": [
        "#Orden de complejidad (cota superior asintótica).\r\n",
        "\r\n",
        "Ya que de $n\\cdot b$ (donde b es una constante) y $a\\cdot n\\cdot\\log_{2}n$, la última es la función que 'crece' mas rápidamente.\r\n",
        "\r\n",
        " \r\n",
        "\r\n",
        "Se puede concluir que $T(n)\\in O(n\\cdot\\log_{2}n)$, es decir que el orden de complejidad al cual pertenece el algoritmo MergeSort es $n\\cdot\\log_{2}n$.\r\n",
        "\r\n",
        " \r\n",
        "\r\n",
        "En otras palabras podemos decir que el numero de operaciones que le toma a MergeSort ordenar una colección de tamaño n es proporcional a $n\\cdot\\log_{2}n$.\r\n",
        "\r\n",
        " \r\n",
        "\r\n",
        "Esto significa (con sustento matemático) que MergeSort tiene un mejor desempeño que InsertionSort, SeleccionSort o BubbleSort en cuanto a la cantidad de operaciones (tiempo) que le toma ordenar una colección de datos.\r\n",
        "\r\n",
        " \r\n",
        "\r\n",
        "En otros términos podemos decir que si pusiéramos a competir a 'MegaSort' contra, por ejemplo 'BulbaSort', el ganador seria MergeSort.\r\n"
      ]
    },
    {
      "cell_type": "markdown",
      "metadata": {
        "id": "YHiyGAPySr_f"
      },
      "source": [
        "#Referencias.\r\n",
        "\r\n",
        "1. Thomas H. Cormen: Introduction to Algorithms.\r\n",
        "\r\n",
        "2. Libro Web: Introduccion a Python.\r\n",
        "\r\n",
        "3. Daniel T. Joyce: Object-Oriented Data Structures.\r\n",
        "\r\n",
        "4. John C. Mitchell: Concepts in programing Languages."
      ]
    }
  ]
}
