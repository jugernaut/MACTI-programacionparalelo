{
  "nbformat": 4,
  "nbformat_minor": 0,
  "metadata": {
    "colab": {
      "name": "Envoltorios_SCP.ipynb",
      "provenance": [],
      "collapsed_sections": [],
      "toc_visible": true,
      "include_colab_link": true
    },
    "kernelspec": {
      "name": "python3",
      "display_name": "Python 3"
    }
  },
  "cells": [
    {
      "cell_type": "markdown",
      "metadata": {
        "id": "view-in-github",
        "colab_type": "text"
      },
      "source": [
        "<a href=\"https://colab.research.google.com/github/jugernaut/ProgramacionEnParalelo/blob/main/Envoltorios/Envoltorios_SCP.ipynb\" target=\"_parent\"><img src=\"https://colab.research.google.com/assets/colab-badge.svg\" alt=\"Open In Colab\"/></a>"
      ]
    },
    {
      "cell_type": "markdown",
      "metadata": {
        "id": "HCy4sQbk6TDS"
      },
      "source": [
        "<font color=\"Teal\" face=\"Comic Sans MS,arial\">\n",
        "  <h1 align=\"center\"><i>Envoltorios (Wrappers)</i></h1>\n",
        "  </font>\n",
        "  <font color=\"Black\" face=\"Comic Sans MS,arial\">\n",
        "  <h5 align=\"center\"><i>Profesor: M.en.C. Miguel Angel Pérez León.</i></h5>\n",
        "    <h5 align=\"center\"><i>Ayudante: Jesús Iván Coss Calderón.</i></h5>\n",
        "    <h5 align=\"center\"><i>Ayudante: Mario Arturo .</i></h5>\n",
        "  <h5 align=\"center\"><i>Materia: Seminario de programación en paralelo..</i></h5>\n",
        "  </font>"
      ]
    },
    {
      "cell_type": "markdown",
      "metadata": {
        "id": "wsaIeAtF6T1G"
      },
      "source": [
        "#Introducción.\n",
        "\n",
        "Una vez que ya se conocen las principales API's para programar en paralelo como OpenMP, MPI o CUDA, así como sus ventajas y desventajas podemos comenzar a utilizar alternativas como lo son los wrappers (envoltorios).\n",
        "\n",
        " \n",
        "\n",
        "Un wrapper es un conjunto de librerías y herramientas (en otro lenguaje diferente a C) que actúa como puente y oculta muchos de los detalles de este tipo de API's.\n",
        "\n",
        " \n",
        "\n",
        "Existe una infinidad de lenguajes de alto nivel que permiten hacer uso de estos wrappers, como lo son JAVA, Python, R, etc.\n",
        "\n",
        " \n",
        "\n",
        "Para esta presentación nos enfocaremos en el lenguaje Python y algunos de los wrappers que existen en este lenguaje ya que las ventajas que ofrece este lenguaje lo hacen ideal para su uso en este curso.\n",
        "\n",
        "Dos de los envoltorios más populares para Python son Numba y TensorFlow.\n",
        "\n",
        "A pesar de la gran cantidad de wrappers que existen actualmente, debido a los alcances del curso, solo podremos revisar Numba y TensorFlow.\n",
        "\n",
        "<center>\n",
        "<img src=\"https://github.com/jugernaut/Numerico2021/blob/master/Imagenes/Wrappers/wrapper.png?raw=1\" width=\"600\"> \n",
        "</center>\n",
        "\n",
        "\n",
        "\n",
        "<center>\n",
        "<img src=\"https://github.com/jugernaut/Numerico2021/blob/master/Imagenes/Wrappers/arribabajo.png?raw=1\" width=\"600\"> \n",
        "</center>\n",
        "\n",
        "<center>\n",
        "<img src=\"https://github.com/jugernaut/Numerico2021/blob/master/Imagenes/Wrappers/numba.png?raw=1\" width=\"600\"> \n",
        "</center>\n",
        "\n",
        "<center>\n",
        "<img src=\"https://github.com/jugernaut/Numerico2021/blob/master/Imagenes/Wrappers/numba-arch.png?raw=1\" width=\"600\"> \n",
        "</center>\n",
        "\n",
        "<center>\n",
        "<img src=\"https://github.com/jugernaut/Numerico2021/blob/master/Imagenes/Wrappers/tensor2.png?raw=1\" width=\"600\"> \n",
        "</center>\n",
        "\n",
        "<center>\n",
        "<img src=\"https://github.com/jugernaut/Numerico2021/blob/master/Imagenes/Wrappers/tensor1.png?raw=1\" width=\"600\"> \n",
        "</center>\n",
        "\n",
        "<center>\n",
        "<img src=\"https://github.com/jugernaut/Numerico2021/blob/master/Imagenes/Wrappers/tensordevice.jpg?raw=1\" width=\"600\"> \n",
        "</center>"
      ]
    },
    {
      "cell_type": "markdown",
      "metadata": {
        "id": "9PPn3oSp8WaM"
      },
      "source": [
        "#Numba.\n"
      ]
    },
    {
      "cell_type": "markdown",
      "metadata": {
        "id": "DOiTvC5u8cQP"
      },
      "source": [
        "##¿Cómo funciona.?\n",
        "\n",
        "Numba tiene multiples formás de optimizar codigo y lograr que este funcione de manera más rápida, esto lo realiza mediante alguna de las siguientes variantes:\n",
        "\n",
        "• Convierte código python en código de maquina: al compilar código empleando numba, este convierte el código en código de maquina y la segunda vez que sea ejecutado este mostrara un mejor desempeño que se traduce en una ejecución más rápida.\n",
        "\n",
        "• Es posible utilizar una capa (layer) para acceder a características de OpenMP.\n",
        "\n",
        "• Es posible paralelizar código empleando utilidades de MPI.\n",
        "\n",
        "• Tiene soporte para el uso de GPU's utilizando CUDA como background.\n"
      ]
    },
    {
      "cell_type": "markdown",
      "metadata": {
        "id": "PehjbuHF8sKR"
      },
      "source": [
        "##Ventajas.\n",
        "\n",
        "Numba posee múltiples ventajas, aunque una de las más importantes es poder decidir como optimizar el código escrito en python.\n",
        "\n",
        " \n",
        "Es muy sencillo de instalar mediante pip e igual de fácil de usar que python.\n",
        "\n",
        " \n",
        "Se tiene una gran capacidad de acoplamiento con numpy (biblioteca para computo cientifico).\n",
        "\n",
        "Además de ser posible optar por un mecanismo para optimizar el código, numba permite escribir código híbrido que combine lo mejor de las diferentes formás de optimizar código.\n",
        "\n",
        " \n",
        "\n",
        "Emplear numba es tan sencillo como importar la biblioteca y hacer uso de sus decoradores para optimizar el código.\n"
      ]
    },
    {
      "cell_type": "markdown",
      "metadata": {
        "id": "mJhW1gUa9DdF"
      },
      "source": [
        "##Desventajas.\n",
        "\n",
        "Numba tiene en realidad muy pocas desventajas.\n",
        "\n",
        "La más evidente de estas, es que encapsula mucho de su funcionamiento, es decir que en realidad funciona como caja negra.\n",
        "\n"
      ]
    },
    {
      "cell_type": "markdown",
      "metadata": {
        "id": "asKyxjQD9Pip"
      },
      "source": [
        "##Instalación.\n",
        "\n",
        "Dado que a partir de este punto del curso es posible emplear diferentes versiones de python o de sus bibliotecas, se recomienda crear un entorno virtual y en este entorno instalar numba.\n",
        "\n",
        " \n",
        "Supongamos que ya se cuenta virtualenv, python 2.7 y pip.\n",
        "\n",
        "\n",
        "\n",
        "1.   Crear entorno virtual: \n",
        "\n",
        "\\$mkdir numba\n",
        "\n",
        "\\$virtualenv numba\n",
        "\n",
        "\n",
        "2.   Activar entorno virtual:\n",
        "\n",
        "\\$source numba/bin/activate\n",
        "\n",
        "\n",
        "3.   Instalar numba:\n",
        "\n",
        "(numba)\\$pip install numba\n"
      ]
    },
    {
      "cell_type": "markdown",
      "metadata": {
        "id": "rg_-5MXa94pG"
      },
      "source": [
        "###Decoradores.\n",
        "\n",
        "Un decorador en Numba es una forma de modificar funciones de manera tal que pueda ser optimizada empleando alguna de las técnicas previamente mencionadas.\n",
        "\n",
        " \n",
        "\n",
        "Se puede pensar en un decorador en una función que recibe una función como parámetro y devuelve otra función optimizada como salida.\n",
        "\n",
        " \n",
        "\n",
        "Una función de python es envuelta por uno o más decoradores, una vez que se define esta función el decorador es evaluado y Numba devuelve una función optimizada que puede ser invocada desde python.\n",
        "\n",
        " \n",
        "\n",
        "El alcance del o de los decoradores se limita al alcance de la función definida a la cual se le aplique dichos decoradores.\n",
        "\n"
      ]
    },
    {
      "cell_type": "markdown",
      "metadata": {
        "id": "QY9qCM04-zEJ"
      },
      "source": [
        "###nopython\n",
        "\n",
        "La forma en la se utiliza un decorador es con la sentencia @jit(parametros).\n",
        "\n",
        " \n",
        "\n",
        "La forma más básica en la cual se puede usar Numba, es mediante el decorador nopython=True.\n",
        "\n",
        " \n",
        "\n",
        "Esta sentencia lo que le indica a Numba es que el código en el cual esta envuelta la función, debe se compilado y ejecutado sin utilizar el entono de python. Lo que significa que una vez que ha sido compilada esta función se ejecutara de manera más eficiente que empleando el interprete de python. \n",
        "\n",
        " \n",
        "\n",
        "Existe otro modo de compilación conocido como object mode, y se accede a este cuando no se hace uso de nopython=True. Sin embargo este modo se limita a optimizar unicamente los ciclos y no todo el código definido en la función.\n",
        "\n"
      ]
    },
    {
      "cell_type": "markdown",
      "metadata": {
        "id": "-0LL39Jv-9l8"
      },
      "source": [
        "###parallel=True\n",
        "\n",
        "Otro decorador muy útil pero a la vez 'obscuro' es, @njit(parrallel=True).\n",
        "\n",
        " \n",
        "\n",
        "Este decorador va de la mano de la palabra reservada prange y en conjunto permiten ejecutar en paralelo ciclos dentro de la función definida.\n",
        "\n",
        " \n",
        "\n",
        "Este decorador oculta mucho del proceso que se realiza al ejecutar un algoritmo en paralelo. Sin embargo ya que a esta altura del curso se conoce cual es el transfondo (OpenMP, MPI, CUDA), podemos obviar el mismo.\n",
        "\n",
        " \n",
        "\n",
        "La parlabra reservada prange se emplea para especificar el ciclo que se quiere realizar en paralelo y no solo eso, también realiza la operación conocida como reduction de alguna variable.\n",
        "\n"
      ]
    },
    {
      "cell_type": "markdown",
      "metadata": {
        "id": "Uifxfic__Wcw"
      },
      "source": [
        "#Numba +CUDA\n",
        "\n",
        "Numba ofrece soporte para programación de GPU mediante CUDA, permitiendo compilar un subconjunto restringido de código escrito en python que se traduce en funciones tipo kernel y tipo device.\n",
        "\n",
        " \n",
        "\n",
        "Una característica importante de Numba, es que al definir funciones de tipo kernel, Numba hace parecer que esa función tiene acceso directo a arreglos de tipo numpy. Los arreglos de tipo numpy que se pasan como parámetro a las funciones de tipo kernel se transfieren de forma automática entre la memoria del CPU y del GPU.\n",
        "\n",
        " \n",
        "\n",
        "Numba no tiene una implementación directa para todo el API de CUDA, de tal forma que algunas características de CUDA no son accesibles desde Numba. Sin embargo las funciones definidas en Numba son suficientes para comenzar a desarrollar algoritmos que hagan uso del o de los GPU's de una computadora.\n",
        "\n"
      ]
    },
    {
      "cell_type": "markdown",
      "metadata": {
        "id": "4hiK7syt_wgx"
      },
      "source": [
        "##Declaración y uso de un kernel.\n",
        "\n",
        "La misma terminología empleada en el desarrollo de código usando CUDA, se aplica para el desarrollo de código mediante Numba.\n",
        "\n",
        "• Una función de tipo kernel no puede devolver un tipo de manera explicita; cualquier resultado de la función kernel debe ser almacenado en el arreglo de tipo numpy que se pasa coma parámetro a esta función.\n",
        "\n",
        "• Cuando se ejecuta un kernel se debe declarar de manera explicita la jerarquía de hilos, es decir; el numero de bloques de hilos y el numero de hilos por bloque.\n",
        "\n",
        "• Es importante notar que un kernel se compila una sola vez, pero puede ser llamado con diferentes tamaños de bloque o de grid.\n",
        "\n",
        "• En caso de tener acceso a una tarjeta Nvidia, es posible emplear el simulador de CUDA [https://nyu-cds.github.io/python-numba/05-cuda/].\n",
        "\n"
      ]
    },
    {
      "cell_type": "markdown",
      "metadata": {
        "id": "CQdZbn11_-Ih"
      },
      "source": [
        "##Ejemplo Numba+CUDA.\n",
        "\n",
        "Supongamos que se quiere definir una función de tipo kernel llamada incremento_en_uno, que incremente en uno cada posición del arreglo que se recibe como parámetro esta función se tiene que definir así.\n",
        "\n",
        "\n",
        "\n"
      ]
    },
    {
      "cell_type": "code",
      "metadata": {
        "id": "SRL1bLpBAifL"
      },
      "source": [
        "@cuda.jitdef \n",
        "incremento_en_uno_paralelo(arreglo):"
      ],
      "execution_count": null,
      "outputs": []
    },
    {
      "cell_type": "markdown",
      "metadata": {
        "id": "UJzncBGiAjGG"
      },
      "source": [
        "\n",
        "\n",
        " \n",
        "\n",
        "Una vez definido el kernel, solo resta invocarlo de la siguiente forma:\n",
        "\n"
      ]
    },
    {
      "cell_type": "code",
      "metadata": {
        "id": "EhdKyXYDAnmj"
      },
      "source": [
        "// hilosporbloque\n",
        "\n",
        "hilosporbloque = 32 bloquesporgrid = (arreglo.size + (hilosporbloque - 1))  \n",
        "\n",
        "incremento_en_uno_paralelo[bloquesporgrid, hilosporbloque](arreglo)"
      ],
      "execution_count": null,
      "outputs": []
    },
    {
      "cell_type": "markdown",
      "metadata": {
        "id": "i3WQ33GHAwOz"
      },
      "source": [
        "##Observaciones y Recomendaciones.\n",
        "\n",
        "Por default la ejecución del kernel se realiza de manera síncrona; la función termina cuando el kernel ha terminado su ejecución y los datos son persistentes.\n",
        "\n",
        " \n",
        "Para elegir el tamaño del bloque, es decir el numero de hilos por bloque hay que considerar 2 cosas: 1.- Del lado del software: el tamaño del bloque determina cuantos hilos comparten memoria.\n",
        "\n",
        "Del lado del hardware: el tamaño del bloque debe ser suficientemente grande para ocupar todas las unidades de ejecución.\n",
        "\n",
        " \n",
        "Sugerencias para identificar el tamaño del bloque pueden encontrarse en este sitio [https://docs.nvidia.com/cuda/cuda-c-programming-guide/]"
      ]
    },
    {
      "cell_type": "markdown",
      "metadata": {
        "id": "stEwY6wIBNBZ"
      },
      "source": [
        "#Tensorflow.\n",
        "\n",
        "TensorFlow es un conjunto de herramientas que proporciona Google para el desarrollo de algoritmos de aprendizaje automático, algunas de sus características son:\n",
        "\n",
        "• Cuenta con diferentes versiones se su API para lenguajes tales como; C++, Haskell, Java y Go entre algunos, aunque la versión mas usada es la de Python.\n",
        "\n",
        "• Existen versiones optimizadas de TensorFlow que hacen uso de programación mediante GPU's o incluso mediante TPU's.\n",
        "\n",
        "• Una de sus aplicaciones mas comunes es en el desarrollo de redes neuronales.\n",
        "\n",
        "• El desarrollo de TensorFlow es mediante licencia de código abierto, lo que significa que no hace falta pagar una licencia para hacer uso del mismo."
      ]
    },
    {
      "cell_type": "markdown",
      "metadata": {
        "id": "WlEvJkJPBUtk"
      },
      "source": [
        "##Aplicaciones.\n",
        "\n",
        "TensorFlow tiene bastas aplicaciones, algunas de ellas son:\n",
        "\n",
        "• I.A. detrás de las fotografiás en smarthphones: recientemente se ha empleado técnicas de i.a. para mejorar la captura de imágenes en un smartphone, detrás de esta i.a podemos encontrar bibliotecas como tensorflow.\n",
        "\n",
        "• Diagnostico médico: TensorFlow ya está mejorando las herramientas que utilizan los médicos, por ejemplo ayudando a analizar radiografías o fotografiás de pacientes y sugiriendo un diagnostico casi de inmediato.\n",
        "\n",
        "• Procesamiento de imágenes: Una de las aplicaciones más conocidas de TensorFlow es el software automatizado de procesamiento de imágenes, DeepDream es de los ejemplos mas conocidos al respecto. \n",
        "\n",
        "• El desarrollo de TensorFlow es mediante licencia de código abierto, lo que significa que no hace falta pagar una licencia para hacer uso del mismo.\n"
      ]
    },
    {
      "cell_type": "markdown",
      "metadata": {
        "id": "sX6YRj3mBavU"
      },
      "source": [
        "##¿Cómo funciona?.\n",
        "\n",
        "La idea de TensorFlow es definir el cómputo de datos como una gráfica conformada por nodos y tensores (aristas).\n",
        "\n",
        "• Grafo: un grafo es un conjunto de nodos y aristas que representan el cómputo de información que se recibe como entrada.\n",
        "\n",
        "• Nodo: en el contexto de tensor flow, un nodo es conocido como una operación (op), la cual recibe uno o mas tensores y realiza la operación indicada.\n",
        "\n",
        "• Tensor (arista): es una agrupación de datos que puede tomar diferentes formas dependiendo del rango; rango 0 es un escalar, rango 1 es un vector, rango 2 una matriz, etc.\n",
        "\n",
        "• Sesión: para poder realizar los cálculos definidos en el grafo, se debe llevar a cabo mediante una sesión que representa el cálculo que se desea realizar."
      ]
    },
    {
      "cell_type": "markdown",
      "metadata": {
        "id": "MgF-TNuVBjec"
      },
      "source": [
        "##Visualización.\n",
        "\n",
        "Podemos pensar en un grafo de la siguiente forma.\n",
        "\n",
        "<center>\n",
        "<img src=\"https://github.com/jugernaut/Numerico2021/blob/master/Imagenes/Wrappers/op1.png?raw=1\" width=\"600\"> \n",
        "</center>\n",
        "\n",
        "<center>\n",
        "<img src=\"https://github.com/jugernaut/Numerico2021/blob/master/Imagenes/Wrappers/op2.png?raw=1\" width=\"600\"> \n",
        "</center>\n",
        "\n",
        "<center>\n",
        "<img src=\"https://github.com/jugernaut/Numerico2021/blob/master/Imagenes/Wrappers/opn.png?raw=1\" width=\"600\"> \n",
        "</center>\n",
        "\n",
        "<center>\n",
        "<img src=\"https://github.com/jugernaut/Numerico2021/blob/master/Imagenes/Wrappers/som.gif?raw=1\" width=\"600\"> \n",
        "</center>\n",
        "\n"
      ]
    },
    {
      "cell_type": "markdown",
      "metadata": {
        "id": "L6qgBqlwCGJO"
      },
      "source": [
        "##Instalación.\n",
        "\n",
        "Supongamos que ya se cuenta virtualenv, python 2.7 y pip.\n",
        "\n",
        "\n",
        "\n",
        "1.   Crear entorno virtual: \n",
        "\n",
        "\\$mkdir tensorflow\n",
        "\n",
        "\\$virtualenv tensorflow\n",
        "\n",
        "\n",
        "2.   Activar entorno virtual:\n",
        "\n",
        "\\$source tensorflow/bin/activate\n",
        "\n",
        "\n",
        "3.   Instalar numba:\n",
        "\n",
        "(numba)\\$pip install tensorflow==2.0\n"
      ]
    },
    {
      "cell_type": "markdown",
      "metadata": {
        "id": "1dsaFmbyCamn"
      },
      "source": [
        "#Glosario.\n",
        "\n",
        "Layer: Capa informática, nivel o capa que se oculta una parte del software.\n",
        "\n",
        " \n",
        "\n",
        "Background: En computación entorno que da soporte a un determinado software. "
      ]
    },
    {
      "cell_type": "markdown",
      "metadata": {
        "id": "3J_aD2oaChF-"
      },
      "source": [
        "#Referencias.\n",
        "\n",
        "1. https://nyu-cds.github.io/python-numba/01-jit/\n",
        "\n",
        "2. https://christophdeil.com/download/2019-07-11_Christoph_Deil_Numba.pdf\n",
        "\n",
        "3. https://numba.pydata.org/numba-doc/dev/cuda/kernels.html\n",
        "\n",
        "4. Tolga Soyata:\\newblock GPU Parallel Program Development Using CUDA."
      ]
    }
  ]
}
