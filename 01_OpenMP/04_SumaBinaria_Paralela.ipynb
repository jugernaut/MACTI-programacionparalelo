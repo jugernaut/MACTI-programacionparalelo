{
 "cells": [
  {
   "cell_type": "markdown",
   "metadata": {},
   "source": [
    "<a href=\"https://colab.research.google.com/github/jugernaut/MACTI-programacionparalelo/blob/main/01_OpenMP/04_SumaBinaria_Paralela.ipynb\" target=\"_parent\"><img src=\"https://colab.research.google.com/assets/colab-badge.svg\" alt=\"Open In Colab\"/></a>"
   ]
  },
  {
   "cell_type": "markdown",
   "metadata": {
    "id": "i4hKF5yxLZ38"
   },
   "source": [
    "<font color=\"Teal\" face=\"Comic Sans MS,arial\">\n",
    "  <h1 align=\"center\"><i>Suma Binaria Paralela</i></h1>\n",
    "  </font>\n",
    "  <font color=\"Black\" face=\"Comic Sans MS,arial\">\n",
    "<h5 align=\"center\"><i>Profesor: M. en C. Miguel Angel Pérez León</i></h5>\n",
    "  <h5 align=\"center\"><i>Ayudante: Lenin Pavón Alvarez</i></h5>\n",
    "  <h5 align=\"center\"><i>Ayudante: Lucía Martínez Rivas</i></h5>\n",
    "  <h5 align=\"center\"><i>Materia: Seminario de programación en paralelo</i></h5>\n",
    "  </font>"
   ]
  },
  {
   "cell_type": "markdown",
   "metadata": {
    "id": "jYpFnteADTSh"
   },
   "source": [
    "\n",
    "# Suma Binaria Paralela\n",
    "\n",
    "### Teoría\n",
    "\n",
    "A continuación se presenta un ejemplo de la suma binaria  secuencial de dos números.\n",
    "Se sumará el número 77 con 36 en su representación binaria, de manera secuencial. A continuación se muestra la representación binaria de ambos números.\n",
    "\n",
    "<center>\n",
    "<img src=\"https://github.com/jugernaut/ProgramacionEnParalelo/blob/desarrollo/Imagenes/OpenMP/ejemploSumaBinaria.png?raw=1\" width=\"600\"> \n",
    "</center>\n",
    "\n",
    "### Suma secuencial\n",
    "\n",
    "La suma se realiza de derecha a izquierda, sumando dígito a dígito, recordando que $0 + 1 = 1$ e inversamente tenemos que $1 + 0 = 1$ y que $0 + 0 = 0$ y que sumar uno más uno es igual a cero pero acarreando un uno $1 + 1 = 0$. Hasta el momento de sumar el tercer dígito obtenemos un acarreo, esto se muestra en el Cuadro \\ref{Acarreo}.\n",
    "\n",
    "\n",
    "<center>\n",
    "<img src=\"https://github.com/jugernaut/ProgramacionEnParalelo/blob/desarrollo/Imagenes/OpenMP/SBSecuencial.png?raw=1\" width=\"600\"> \n",
    "</center>\n",
    "\n",
    "### Suma paralela\n",
    "\n",
    "A continuación se plantea la suma binaria paralela vista en la clase teórica. \\\\\n",
    "\n",
    "Se tiene una suma que tiene ocho pares de dígitos y la estrategia indica que hay que dividir en sumas hasta tener de dos pares de dígitos. \n",
    "Para el ejemplo planteado de forma secuencial tenemos inicialmente una suma de ocho dígitos, ésta se parte en dos y cada una tiene que sumar cuatro pares de dígitos las cuales a la vez se dividen a la mitad obteniendo así cuatro sumas de dos pares de dígitos, para este paso ya se puede realizar la suma, puesto que tenemos el caso base. Luego se realiza **backtracking** sumando el acarreo a la suma del lado izquierdo que se presente. \n",
    "\n",
    "\n",
    "<center>\n",
    "<img src=\"https://github.com/jugernaut/ProgramacionEnParalelo/blob/desarrollo/Imagenes/OpenMP/SBParalela.png?raw=1\" width=\"600\"> \n",
    "</center>\n",
    "\n",
    "\n",
    "## Actividad\n",
    "\n",
    "1. Implementar la suma de cualesquiera dos números binarios de forma secuencial y paralela usando arreglos de tamaño $k$ con $k = 2^n$; es decir, cada número será representado en un arreglo, tal que el tamaño de éste es potencia de dos. Esto es sin pérdida de generalidad.\n",
    "    \n",
    "2. Realizar un experimento práctico el cual consiste en obtener los valores de Tiempo de ejecución, Velocidad, Eficiencia y Fracción serial.\n",
    "    \n",
    "3. Elaborar un reporte donde especifiques el número de procesadores y núcleos que tiene el equipo donde ejecutaste la práctica, así cómo una descripción de como obtuviste esta información. \n",
    "    \n",
    "4. Indicar en el reporte los valores de tiempo obtenidos para ambos algoritmos, así como un análisis de estos valores.\n",
    "    \n",
    "\n"
   ]
  }
 ],
 "metadata": {
  "colab": {
   "name": "04_SumaBinaria_Paralela.ipynb",
   "provenance": []
  },
  "kernelspec": {
   "display_name": "Python 3 (ipykernel)",
   "language": "python",
   "name": "python3"
  },
  "language_info": {
   "codemirror_mode": {
    "name": "ipython",
    "version": 3
   },
   "file_extension": ".py",
   "mimetype": "text/x-python",
   "name": "python",
   "nbconvert_exporter": "python",
   "pygments_lexer": "ipython3",
   "version": "3.11.6"
  }
 },
 "nbformat": 4,
 "nbformat_minor": 4
}
