{
  "nbformat": 4,
  "nbformat_minor": 0,
  "metadata": {
    "colab": {
      "provenance": [],
      "authorship_tag": "ABX9TyOgycmCtq6Q+ZkSdz7tecRO",
      "include_colab_link": true
    },
    "kernelspec": {
      "name": "python3",
      "display_name": "Python 3"
    },
    "language_info": {
      "name": "python"
    }
  },
  "cells": [
    {
      "cell_type": "markdown",
      "metadata": {
        "id": "view-in-github",
        "colab_type": "text"
      },
      "source": [
        "<a href=\"https://colab.research.google.com/github/jugernaut/ProgramacionEnParalelo/blob/desarrollo/Introduccion/Documento1.ipynb\" target=\"_parent\"><img src=\"https://colab.research.google.com/assets/colab-badge.svg\" alt=\"Open In Colab\"/></a>"
      ]
    },
    {
      "cell_type": "markdown",
      "source": [
        "# Introducción\n",
        "\n",
        "Este es un documento de prueba.\n",
        "\n",
        "$\\vec{x} = [0,1,2,3,4]$\n"
      ],
      "metadata": {
        "id": "0nD56g3f7hrr"
      }
    },
    {
      "cell_type": "code",
      "execution_count": null,
      "metadata": {
        "id": "SApHZBuPhUme",
        "colab": {
          "base_uri": "https://localhost:8080/"
        },
        "outputId": "e57520e5-175c-4e49-dab8-0d5a3c977450"
      },
      "outputs": [
        {
          "output_type": "stream",
          "name": "stdout",
          "text": [
            "Hola mundo\n"
          ]
        }
      ],
      "source": [
        "print(\"Hola mundo\")"
      ]
    },
    {
      "cell_type": "markdown",
      "source": [
        "/content/sample_data/mnist_train_small.csv"
      ],
      "metadata": {
        "id": "6W9c-hWW-ZJY"
      }
    },
    {
      "cell_type": "markdown",
      "source": [
        "## Subsección"
      ],
      "metadata": {
        "id": "O1f_MGSW8KVw"
      }
    }
  ]
}