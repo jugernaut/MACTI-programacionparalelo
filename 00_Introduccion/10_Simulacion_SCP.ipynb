{
 "cells": [
  {
   "cell_type": "markdown",
   "metadata": {
    "colab_type": "text",
    "id": "view-in-github"
   },
   "source": [
    "<a href=\"https://colab.research.google.com/github/jugernaut/MACTI-programacionparalelo/blob/main/00_Introduccion/10_Simulacion_SCP.ipynb\" target=\"_parent\"><img src=\"https://colab.research.google.com/assets/colab-badge.svg\" alt=\"Open In Colab\"/></a>"
   ]
  },
  {
   "cell_type": "markdown",
   "metadata": {
    "id": "IOfkNTIteZsD"
   },
   "source": [
    "<font color=\"Teal\" face=\"Comic Sans MS,arial\">\n",
    "  <h1 align=\"center\"><i>Simulación</i></h1>\n",
    "  </font>\n",
    "  <font color=\"Black\" face=\"Comic Sans MS,arial\">\n",
    "<h5 align=\"center\"><i>Profesor: M. en C. Miguel Angel Pérez León</i></h5>\n",
    "  <h5 align=\"center\"><i>Ayudante: Lenin Pavón Alvarez</i></h5>\n",
    "  <h5 align=\"center\"><i>Ayudante: Lucía Martínez Rivas</i></h5>\n",
    "  <h5 align=\"center\"><i>Materia: Seminario de programación en paralelo</i></h5>\n",
    "  </font>"
   ]
  },
  {
   "cell_type": "markdown",
   "metadata": {
    "id": "s3qRESqvhpHs"
   },
   "source": [
    "# Introducción\n",
    "\n",
    "La ciencia se desarrolla aplicando el método científico, lo que significa que, **se observa un fenómeno** que se requiere estudiar, **se plantea una hipótesis** que explica el comportamiento de dicho fenómeno y finalmente **mediante una serie de experimentos (algunos muy costosos) se pretende corroborar la hipótesis**.\n",
    "\n",
    "En el campo de las ciencias exactas la simulación por computadora ha probado ser una herramienta extremadamente útil, ya que permite ahorrar mucho tiempo y dinero. Una simulación por computadora normalmente no es muy costosa y se puede repetir las veces que sea necesario e incluso se puede acelerar el paso de tiempo del fenómeno que se requiere estudiar.\n",
    "\n",
    "Es por estos motivos que generar simulaciones **adecuadas** y **confiables** es una habilidad importante de todo estudiante de ciencias.\n",
    "\n",
    "La ciencia se desarrolla aplicando el método científico, lo que significa que, **se observa un fenómeno** que se requiere estudiar, **se plantea una hipótesis*** que explica el comportamiento de dicho fenómeno y finalmente **mediante una serie de experimentos (algunos muy costosos) se pretende corroborar la hipótesis**.\n",
    "\n",
    "En el campo de las ciencias exactas la simulación por computadora ha probado ser una herramienta extremadamente útil, ya que permite ahorrar mucho tiempo y dinero. Una simulación por computadora normalmente no es muy costosa y se puede repetir las veces que sea necesario e incluso se puede acelerar el paso de tiempo del fenómeno que se requiere estudiar.\n",
    "\n",
    "Es por estos motivos que generar simulaciones **adecuadas** y **confiables** es una habilidad importante de todo estudiante de ciencias."
   ]
  },
  {
   "cell_type": "markdown",
   "metadata": {
    "id": "RdAQUgpwiZgM"
   },
   "source": [
    "## Tipos de Simulaciones\n",
    "\n",
    "Actualmente existen básicamente 2 tipos de simulaciones. La primera de ellas son las simulaciones basadas en **modelos matemáticos complejos** que incorporan el uso de ecuaciones diferenciales, sistemas de ecuaciones o integrales para describir el comportamiento de un fenómeno, este tipo de simulaciones se estudian en materias como **análisis numérico** o **modelación matemática**.\n",
    "\n",
    "El otro tipo de simulaciones son las **simulaciones basadas en agentes** (antes autómatas celulares). En este tipo de simulaciones, la idea principal es tratar de determinar las **interacciones locale entre los individuos** que conforman el sistema, para poder determinar cual sera el comportamiento del sistema en el paso siguiente de tiempo.\n",
    "\n",
    "Sin importar el tipo de simulación la forma en la que esta debe ser construida no cambia mucho.\n",
    "\n",
    "El algoritmo general seria el siguiente. \n",
    "\n",
    "1. Se observa un fenómeno de interés.\n",
    "2. Se genera un modelo matemático (ya sea complejo o basado en agentes).\n",
    "3. Se construye el correspondiente modelo computacional.\n",
    "4. Finalmente se procede a calibrar y probar la simulación.\n",
    "\n",
    "Vale la pena aclarar que siempre que sea posible obtener la solución del problema planteado, de manera analítica es preferible seguir este camino, ya que es el camino que mayor exactitud y confiabilidad ofrece."
   ]
  },
  {
   "cell_type": "markdown",
   "metadata": {
    "id": "rI1YUeFQihaK"
   },
   "source": [
    "## Modelos Matemáticos (autómata celulares)\n",
    "\n",
    "<center>\n",
    "<img src=\"https://github.com/jugernaut/ManejoDatos/blob/desarrollo/Imagenes/Simulacion/regla90.png?raw=1\" width=\"600\"> \n",
    "\n",
    "Figura 1: A.C. Regla 90\n",
    "</center>\n",
    "\n",
    "<center>\n",
    "<img src=\"https://github.com/jugernaut/ManejoDatos/blob/desarrollo/Imagenes/Simulacion/juegovida.png?raw=1\" width=\"600\"> \n",
    "\n",
    "Figura 2: Juego de la vida\n",
    "</center>\n",
    "\n",
    "<center>\n",
    "<img src=\"https://github.com/jugernaut/ManejoDatos/blob/desarrollo/Imagenes/Simulacion/trafico.png?raw=1\" width=\"600\"> \n",
    "\n",
    "Figura 3: Trafico Vehicular\n",
    "</center>"
   ]
  },
  {
   "cell_type": "markdown",
   "metadata": {
    "id": "3VtWxzdyH-gy"
   },
   "source": [
    "## Modeños Matemáticos (métodos numéricos)\n",
    "\n",
    "<center>\n",
    "<img src=\"https://github.com/jugernaut/ManejoDatos/blob/desarrollo/Imagenes/Simulacion/lluvia.png?raw=1\" width=\"600\"> \n",
    "\n",
    "Figura 4: Modelo Pluvial\n",
    "</center>\n",
    "\n",
    "<center>\n",
    "<img src=\"https://github.com/jugernaut/ManejoDatos/blob/desarrollo/Imagenes/Simulacion/Simulaciondeyacimientos.png?raw=1\" width=\"600\"> \n",
    "</center>\n",
    "\n",
    "$$\\frac{\\delta}{\\delta t}\\left(\\frac{\\Phi S_{w}}{B_{w}}\\right)=\\nabla\\cdot\\left(T_{w}\\left[\\nabla p_{w}-\\rho_{w}\\vec{g}\\right]\\right)+\\frac{qWs}{B_{w}}$$\n",
    "$$\\frac{\\delta}{\\delta t}\\left(\\frac{\\Phi S_{o}}{B_{o}}\\right)=\\nabla\\cdot\\left(T_{o}\\left[\\nabla p_{o}-\\rho_{o}\\vec{g}\\right]\\right)+\\frac{qOs}{B_{o}}$$\n",
    "\n",
    "<center>\n",
    "<img src=\"https://github.com/jugernaut/ManejoDatos/blob/desarrollo/Imagenes/Simulacion/DinamicadeFluidos.png?raw=1\" width=\"600\"> \n",
    "</center>\n",
    "\n",
    "$$\\frac{\\delta\\rho}{\\delta t}+\\frac{\\delta}{\\delta x_{j}}\\left[\\rho u_{j}\\right]=0$$\n",
    "$$\\frac{\\delta}{\\delta t}\\left(\\rho u_{i}\\right)+\\frac{\\delta}{\\delta x_{j}}\\left[\\rho u_{i}u_{j}+p\\delta_{ij}-\\tau_{ji}\\right]=0,\\quad i=1,2,3$$\n",
    "\n",
    "<center>\n",
    "<img src=\"https://github.com/jugernaut/ManejoDatos/blob/desarrollo/Imagenes/Simulacion/AnalisisEstructural.png?raw=1\" width=\"600\"> \n",
    "</center>\n",
    "\n",
    "$$\\nabla\\cdot\\sigma+F=\\rho\\frac{\\delta^{2}u}{\\delta t^{2}}$$ $$\\varepsilon=\\frac{1}{2}\\left[\\nabla u+\\left(\\nabla u\\right)\\right]$$\n",
    "$$\\sigma=C:\\varepsilon$$\n",
    "\n",
    "<center>\n",
    "<img src=\"https://github.com/jugernaut/ManejoDatos/blob/desarrollo/Imagenes/Simulacion/EquilibrioEconomico.png?raw=1\" width=\"600\"> \n",
    "</center>\n",
    "\n",
    "$$\\delta x=\\delta B-5x\\,\\delta t$$"
   ]
  },
  {
   "cell_type": "markdown",
   "metadata": {
    "id": "eUicn-h2jLg3"
   },
   "source": [
    "# Autómatas Celulares (modelos basados en agentes)\n",
    "\n",
    "Un autómata celular es un modelo matemático que, basado en las interacciones locales permite mostrar la evolución de un sistema dinámico que avanza a pasos discretos de tiempo. \n",
    "\n",
    "Existe diferentes científicos que han aportado en gran medida a lo que hoy se conoce como autómata celular (A.C.), sin embargo se puede decir que la persona responsable de la definición de A.C. fue **John von Newmann**.\n",
    "\n",
    "Por otro lado **Stephen Wolfram** llevo a un nuevo nivel la definición de A.C. ya que el los clasifico y realizo múltiples investigaciones muy importantes al respecto.\n",
    "\n",
    "Dicho sea de paso Stephen Wolfram es el creador de **Wolfram Alpha**, gran aliado y salvador de todo estudiante de la Facultad de Ciencias. "
   ]
  },
  {
   "cell_type": "markdown",
   "metadata": {
    "id": "vGcMMJhWjgCy"
   },
   "source": [
    "## Descripción\n",
    "\n",
    "No se tiene como tal una definición matemática formal de lo que es un A.C., pero podemos pensar en el mismo como una tupla, es decir un conjunto de elementos ordenados\n",
    "\n",
    "* Una rejilla o cuadricula (lattice) de enteros, infinitamente extendida y con dimensión $d\\in\\mathbb{Z^{+}}$. Cada celda es conocida como **célula**.\n",
    "\n",
    "* Una célula puede tomar un valor en $\\mathbb{Z}$ a partir de un **conjunto finito de estados $k$**.\n",
    "\n",
    "* Cada célula ademas se caracteriza por su **vecindad**, conjunto finito de células que colindan con la célula en cuestión.\n",
    "\n",
    "* La **función de transición**, toma el estado actual de la célula y los valores de la vecindad de la célula en cuestión y regresa el nuevo valor de la célula que tendrá en el paso siguiente de tiempo. Esta función se aplica de manera homogénea a todas las células del A.C. por cada paso de tiempo."
   ]
  },
  {
   "cell_type": "markdown",
   "metadata": {
    "id": "EsRlhjY2kHxN"
   },
   "source": [
    "## A. C. regla 90 = $01011010_2$\n",
    "\n",
    "En suma todos estos elementos permiten mostrar como evoluciona un sistema dinámico, veamos el ejemplo de la regla 90. Se le llama regla 90 dado que la función de transición representa el número 90 en binario\n",
    "\n",
    "* Rejilla unidimensional con el numero de células deseadas para el modelo.\n",
    "\n",
    "* Conjunto de estados: cada célula puede tomar el valor de \\{0,1\\}.\n",
    "\n",
    "* Vecindad: la vecindad de una célula sera la célula anterior y la célula posterior. La **frontesra es continua**, es decir que la ultima célula esta conectada con la primera.\n",
    "\n",
    "* Función de transición: esta definida de la siguiente manera.\n",
    "\n",
    "\\begin{array}{c|c|c|c|c|c|c|c|}\n",
    "Vecindad & 111 & 110 & 101 & 100 & 011 & 010 & 001 & 000\\\\\n",
    "\\hline\n",
    "Paso\\,de\\,tiempo & 0 & 1 & 0 & 1 & 1 & 0 & 1 & 0\n",
    "\\end{array}\n",
    "\n",
    "Veamos como evoluciona este a.c. después de un par de pasos de tiempo\n",
    "\n",
    "* Tiempo 0: \\begin{array}{|c|c|c|c|c|c|c|c|}\n",
    "\\hline\n",
    "0 & 0 & 0 & 0 & 1 & 0 & 0 & 0 & 0\\\\\n",
    "\\hline\n",
    "\\end{array} \n",
    "\n",
    "* Tiempo 1: \\begin{array}{|c|c|c|c|c|c|c|c|}\n",
    "\\hline\n",
    "0 & 0 & 0 & 1 & 0 & 1 & 0 & 0 & 0\\\\\n",
    "\\hline\n",
    "\\end{array} \n",
    "\n",
    "* Tiempo 2: \\begin{array}{|c|c|c|c|c|c|c|c|}\n",
    "\\hline\n",
    "0 & 0 & 1 & 0 & 0 & 0 & 1 & 0 & 0\\\\\n",
    "\\hline\n",
    "\\end{array} \n",
    "\n",
    "* Tiempo 3: \\begin{array}{|c|c|c|c|c|c|c|c|}\n",
    "\\hline\n",
    "0 & 1 & 0 & 0 & 0 & 0 & 0 & 1 & 0\\\\\n",
    "\\hline\n",
    "\\end{array} \n",
    "\n",
    "* Tiempo 4: \\begin{array}{|c|c|c|c|c|c|c|c|}\n",
    "\\hline\n",
    "1 & 0 & 0 & 0 & 0 & 0 & 0 & 0 & 1\\\\\n",
    "\\hline\n",
    "\\end{array} \n",
    "\n",
    "* Después de muchos pasos de tiempo se comienza a ver un patrón que se replica en todo la rejilla. Veamos la simulación con *NetLogo*.\n",
    "\n",
    "<center>\n",
    "<img src=\"https://github.com/jugernaut/ManejoDatos/blob/desarrollo/Imagenes/Simulacion/regla90.gif?raw=1\" width=\"800\"> \n",
    "</center>"
   ]
  },
  {
   "cell_type": "markdown",
   "metadata": {
    "id": "03qW5Dum724j"
   },
   "source": [
    "## A. C, regla 184 = $10111000_2$\n",
    "\n",
    "Esta regla es la que modela el flujo vehicular empleado en un a.c. elemental de igual manera que el autómata anterior, este toma su nombre del valor en decimal de la función de transición. Los elementos que definen a este a.c. son los mismos que el del autómata anterior:\n",
    "\n",
    "* Rejilla unidimensional con el numero de células deseadas para el modelo.\n",
    "\n",
    "* Conjunto de estados: cada célula puede tomar el valor de \\{0,1\\}.\n",
    "\n",
    "* Vecindad: la vecindad de una célula sera la célula anterior y la célula posterior. La **frontera es continua**, es decir que la ultima célula esta conectada con la primera.\n",
    "\n",
    "* Función de transición: esta definida de la siguiente manera.\n",
    "\\begin{array}{c|c|c|c|c|c|c|c|}\n",
    "Vecindad &\t111\t&110\t&101\t&100\t&011\t&010\t&001\t&000\\\\\n",
    "\\hline\n",
    "Paso\\,de\\,tiempo\t&1\t&0\t&1&\t1&\t1&\t0&\t0&\t0\n",
    "\\end{array}\n",
    "\n",
    "Veamos como evoluciona este a.c. después de un par de pasos de tiempo\n",
    "\n",
    "* Tiempo 0: \\begin{array}{|c|c|c|c|c|c|c|}\n",
    "\\hline\n",
    "1 & 0 & 0 & 1 & 0 & 1 & 0 & 0\\\\\n",
    "\\hline\n",
    "\\end{array} \n",
    "\n",
    "* Tiempo 1: \\begin{array}{|c|c|c|c|c|c|c|}\n",
    "\\hline\n",
    "0 & 1 & 0 & 0 & 1 & 0 & 1 & 0\\\\\n",
    "\\hline\n",
    "\\end{array} \n",
    "\n",
    "* Tiempo 2: \\begin{array}{|c|c|c|c|c|c|c|}\n",
    "\\hline\n",
    "0 & 0 & 1 & 0 & 0 & 1 & 0 & 1\\\\\n",
    "\\hline\n",
    "\\end{array} \n",
    "\n",
    "* Tiempo 3: \\begin{array}{|c|c|c|c|c|c|c|}\n",
    "\\hline\n",
    "1 & 0 & 0 & 1 & 0 & 0 & 1 & 0\\\\\n",
    "\\hline\n",
    "\\end{array} \n",
    "\n",
    "* Tiempo 4: \\begin{array}{|c|c|c|c|c|c|c|c|}\n",
    "\\hline\n",
    "0 & 1 & 0 & 0 & 1 & 0 & 1 & 0\\\\\n",
    "\\hline\n",
    "\\end{array} \n",
    "\n",
    "* Como pueden notar, después de un cierto numero de pasos de tiempo (y dadas las condiciones iniciales) se repite el patrón que muestra el a.c. \n",
    "\n",
    "<center>\n",
    "<img src=\"https://github.com/jugernaut/ManejoDatos/blob/desarrollo/Imagenes/Simulacion/regla184.gif?raw=1\" width=\"800\"> \n",
    "</center>\n",
    "\n",
    "<center>\n",
    "<img src=\"https://github.com/jugernaut/ManejoDatos/blob/desarrollo/Imagenes/Simulacion/t3d.gif?raw=1\" width=\"800\"> \n",
    "</center>\n",
    "\n",
    "La versión en linea de *NetLogo* la puedes encontrar en el siguiente [enlace](http://www.netlogoweb.org/launch#http://www.netlogoweb.org/assets/modelslib/Sample%20Models/Chemistry%20&%20Physics/Diffusion%20Limited%20Aggregation/DLA.nlogo).\n",
    "\n"
   ]
  },
  {
   "cell_type": "markdown",
   "metadata": {
    "id": "4bvyp9Pt88cg"
   },
   "source": [
    "# Simulación de Probabilidades\n",
    "\n",
    "En gran parte de las simulaciones que se pueden generar, incluir **procesos estocásticos** es de vital importancia ya que así es como se logran modelar fenómenos de interés, como lo seria el que al lanzar una moneda se obtenga una cara un otra. \n",
    "\n",
    "Los **métoodos de Montecarlo**, son métodos que han probado ser altamente efectivos y estos se basan en la idea de generar un muestreo aleatorio uniformemente distribuido. \n",
    "\n",
    "Dado que las simulaciones se realizan empleando una computadora, los valores aleatorios que se tienen que generar también se calculan dentro de la computadora. \n",
    "\n",
    "Sin embargo ya que los recursos de una computadora son finitos, los valores aleatorios que se pueden generar en realidad están **caotados por las limitaciones de la computadora** donde se generen estos valores. Es por esta razón que se conocen como valores **pseudoaleatorios**."
   ]
  },
  {
   "cell_type": "markdown",
   "metadata": {
    "id": "cQGYivvM9HC_"
   },
   "source": [
    "## Creación de valores aleatorios\n",
    "\n",
    "La mayoría de los lenguajes de programación actuales ya cuentan con una amplia biblioteca de herramientas para generar valores pseudoaleatorios, la forma en la que se generan estos valores normalmente es la siguiente:\n",
    "\n",
    "* Se invoca una función o método que recibe como parámetro una semilla (**semilla**).\n",
    "* Esta semilla tiene la finalidad de ayudar a generar estos valores pseudoaleatorios.\n",
    "* Opcionalmente se puede indicar el rango en el cual se requiere el valor pseudoaleatorio.\n",
    "* Se genera el valor pseudoaleatorio.\n",
    "* Por ultimo se emplea este valor en el proceso estocástico en cuestión y se procede a generar el siguiente."
   ]
  },
  {
   "cell_type": "markdown",
   "metadata": {
    "id": "rpl9xy0c9iC7"
   },
   "source": [
    "#Referencias\n",
    "\n",
    "1. Thomas H. Cormen: Introduction to Algorithms.\n",
    "2. [Netlogo](https://ccl.northwestern.edu/netlogo/)\n",
    "3. Libro Web: Introduccion a Python.\n",
    "4. Daniel T. Joyce: Object-Oriented Data Structures.\n",
    "5. John C. Mitchell: Concepts in programing Languages.\n"
   ]
  }
 ],
 "metadata": {
  "colab": {
   "collapsed_sections": [],
   "include_colab_link": true,
   "name": "Simulacion_SCP.ipynb",
   "provenance": [],
   "toc_visible": true
  },
  "kernelspec": {
   "display_name": "Python 3 (ipykernel)",
   "language": "python",
   "name": "python3"
  },
  "language_info": {
   "codemirror_mode": {
    "name": "ipython",
    "version": 3
   },
   "file_extension": ".py",
   "mimetype": "text/x-python",
   "name": "python",
   "nbconvert_exporter": "python",
   "pygments_lexer": "ipython3",
   "version": "3.11.6"
  }
 },
 "nbformat": 4,
 "nbformat_minor": 4
}
