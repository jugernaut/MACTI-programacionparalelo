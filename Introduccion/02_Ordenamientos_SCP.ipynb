{
  "nbformat": 4,
  "nbformat_minor": 0,
  "metadata": {
    "colab": {
      "name": "Ordenamientos_SCP.ipynb",
      "provenance": [],
      "collapsed_sections": [],
      "toc_visible": true,
      "include_colab_link": true
    },
    "kernelspec": {
      "name": "python3",
      "display_name": "Python 3"
    }
  },
  "cells": [
    {
      "cell_type": "markdown",
      "metadata": {
        "id": "view-in-github",
        "colab_type": "text"
      },
      "source": [
        "<a href=\"https://colab.research.google.com/github/jugernaut/ProgramacionEnParalelo/blob/desarrollo/Introduccion/02_Ordenamientos_SCP.ipynb\" target=\"_parent\"><img src=\"https://colab.research.google.com/assets/colab-badge.svg\" alt=\"Open In Colab\"/></a>"
      ]
    },
    {
      "cell_type": "markdown",
      "metadata": {
        "id": "JAsbRnI2Mz94"
      },
      "source": [
        "<font color=\"Teal\" face=\"Comic Sans MS,arial\">\r\n",
        "  <h1 align=\"center\"><i>Ordenamientos (análisis)</i></h1>\r\n",
        "  </font>\r\n",
        "  <font color=\"Black\" face=\"Comic Sans MS,arial\">\r\n",
        "  <h5 align=\"center\"><i>Profesor: M.en.C. Miguel Angel Pérez León.</i></h5>\r\n",
        "    <h5 align=\"center\"><i>Ayudante: Jesús Iván Coss Calderón.</i></h5>\r\n",
        "    <h5 align=\"center\"><i>Ayudante: Mario Arturo Nieto Butron.</i></h5>\r\n",
        "  <h5 align=\"center\"><i>Seminario de programación en paralelo.</i></h5>\r\n",
        "  </font>"
      ]
    },
    {
      "cell_type": "markdown",
      "metadata": {
        "id": "Uf8-6ok_Q8I9"
      },
      "source": [
        "#Introducción\r\n",
        "\r\n",
        "Los algoritmos de ordenamiento son de los algoritmos que se comienzan a estudiar cuando uno se introduce en las **ciencias de la computación**.\r\n",
        "\r\n",
        "Estos algoritmos se prestan ampliamente para ser analizados desde diferentes puntos de vista, tales como:\r\n",
        "\r\n",
        "*   **Tiempo de ejecución**, que se refiere a la cantidad de operaciones (comparaciones, intercambios de memoria, etc.) que se realizan para ordenar una colección de datos.\r\n",
        "*   **Consumo de memoria**, esta parte se refiere a cuanta memoria adicional a la ya empleada para almacenar la colección de datos, se requiere para ordenar dicha colección\r\n",
        "*   **Desempeño estadistico**, se cuenta con una gran cantidad de algoritmos de ordenamiento y la idea es poder clasificarlos para identificar ventajas y desventajas de cada uno, es por esto que se analiza su desempeño de forma práctica, normalmente tomando como punto de partida el peor caso o el caso promedio.\r\n",
        "\r\n",
        "Los algoritmos de ordenamiento son utilizados actualmente en multiples plataformas y aplicaciones, sin emabrgo donde se utilizan con con mayor frecuencia es en bases de datos. Y como ya es bien conocido las bases de datos aparecen hoy en día en todos lados:\r\n",
        "\r\n",
        "*   Buscadores como google.\r\n",
        "*   Redes sociales, facebook, twitter, etc.\r\n",
        "*   Plataformas bancarias.\r\n",
        "*   Sistemas médicos.\r\n",
        "\r\n",
        "Es por estos (y muchos otros) motivos por los cuáles es buea idea analizar este tipo de algoritmos en el seminario."
      ]
    },
    {
      "cell_type": "markdown",
      "metadata": {
        "id": "Z2HsvTi77D9Y"
      },
      "source": [
        "# MergeSort\n",
        "\n",
        "El algoritmo de ordenamiento *MergeSort*, es uno de los algoritmos que se estudia con frecuencia cuando se comienza con el anñalisis de algoritmos.\n",
        " \n",
        "La estrategia principal de este algoritmo de ordenamiento es la conocida como \"divide y venceras\". Inicialmente se tiene un conjunto o estructura de datos (lista, vector, arreglo, etc) de tamaño $n$ que se encuentran desordenados y que mediante algun atributo podemos ordenar, la idea de este algoritmo es la siguiente:\n",
        "\n",
        "1.   Partir el conjunto en 2 subconjuntos de tamaño $\\frac{n}2$.\n",
        "2.   Posteriormente volver a dividir estos en 4 subconjuntos de tamaño $\\frac{n}4$, se repite este proceso hasta que se tienen subconjuntos de tamaño 2.\n",
        "3.   Ya que se tienen conjuntos de tamaño a lo mas 2, se ordenan de manera individual cada uno de ellos.\n",
        "4.   Cada uno de estos subconjuntos ordenados se mezclan de manera recursiva y ordenada, hasta que todo el conjunto de datos se encuentran ordenados.\n",
        "\n",
        "<center>\n",
        "<img src=\"https://github.com/jugernaut/ProgramacionEnParalelo/blob/desarrollo/Imagenes/Introduccion/merge.gif?raw=1\" width=\"550\">\n",
        "</center> \n",
        "\n",
        "Dado estos antecedentes procedemos a definir la función de recurrencia, para poder identificar a que orden de complejidad pertenece este algoritmo recursivo."
      ]
    },
    {
      "cell_type": "markdown",
      "metadata": {
        "id": "mlm6KfnURLCA"
      },
      "source": [
        "## Análisis\r\n",
        "\r\n",
        "Para el caso cuando se requiere ordenar una colección (lista) de tamaño 1 (o 0 caso trivial), basta con devolver dicha lista ya que esta ya esta ordenada, lo cual toma tiempo constante, digamos $b$.\r\n",
        "\r\n",
        "Para el caso de una colección de tamaño 2 ó mayor, es necesario partir a la mitad dicha colección, ordenar ambas subcolecciones y mezclarlas. Ahora consideremos que para simplificar el análisis de la complejidad diremos que $a$ es el tiempo que toma al microprocesador realizar una operación.\r\n",
        "\r\n",
        "Es por esto que ordenar una colección de tamaño $n$ tomará en total \r\n",
        "\r\n",
        "$$2T(\\frac{n}{2})+a\\cdot n$$\r\n",
        "\r\n"
      ]
    },
    {
      "cell_type": "markdown",
      "metadata": {
        "id": "eEEEkd74Ra-s"
      },
      "source": [
        "## Algoritmo básico\r\n",
        "\r\n",
        "A continuación se muestra el pseudocódigo del algoritmo para ordenar por mezcla.\r\n",
        "\r\n",
        "<center>\r\n",
        "<img src=\"https://github.com/jugernaut/Numerico2021/blob/master/Imagenes/Merge/merge.PNG?raw=1\" width=\"600\"> \r\n",
        "</center>"
      ]
    },
    {
      "cell_type": "code",
      "metadata": {
        "colab": {
          "base_uri": "https://localhost:8080/"
        },
        "id": "CdKfAPmTIUP7",
        "outputId": "d1d1b098-350c-44e5-b589-926b165aaa9a"
      },
      "source": [
        "# Algoritmo de ordenamiento\n",
        "def mergeSort(lista):\n",
        "    # si la coleccion es de tamano 1 o 0 se devuelve\n",
        "    if (len(lista) < 2):\n",
        "        return lista # 1 operacion\n",
        "    # si no se parte la coleccion y se ordena recursivamente    \n",
        "    else:\n",
        "        medio = len(lista)//2\n",
        "        izquierda = mergeSort(lista[:medio]) #T(n/2)\n",
        "        derecha = mergeSort(lista[medio:])  #T(n/2)\n",
        "        # se mezclan ambas listas (n operaciones)\n",
        "        return merge(izquierda, derecha)\n",
        "\n",
        "# Algoritmo que mezcla 2 listas ordenadas\n",
        "def merge(l1, l2):\n",
        "    i,j=0,0\n",
        "    mezcla=[]\n",
        "    # mientras haya elementos, se comparan y se mezclan\n",
        "    while(i < len(l1) and j < len(l2)):\n",
        "        if l1[i] <= l2[j]:\n",
        "            mezcla.append(l1[i])\n",
        "            i = i+1\n",
        "        else:\n",
        "            mezcla.append(l2[j])\n",
        "            j = j+1  \n",
        "    # agrega lo que falta, si i o j ya son len(lista) no agregan\n",
        "    mezcla += l1[i:]\n",
        "    mezcla += l2[j:]\n",
        "    # se devuelve la coleccion ordenada\n",
        "    return mezcla\n",
        "\n",
        "print(mergeSort([2,8,5,3,9,4,1,7]))"
      ],
      "execution_count": null,
      "outputs": [
        {
          "output_type": "stream",
          "text": [
            "[1, 2, 3, 4, 5, 7, 8, 9]\n"
          ],
          "name": "stdout"
        }
      ]
    },
    {
      "cell_type": "markdown",
      "metadata": {
        "id": "A8nU41pJRxKf"
      },
      "source": [
        "## ¿Qué sucede con colecciones de tamaño $n$?\r\n",
        "\r\n",
        "Dado el análisis (y el pseudocódigo del algoritmo) podemos ver que ordenar una colección de tamaño $n$ tomara $2T(\\frac{n}{2})+a\\cdot n$. Pero este valor aun no permite identificar a que orden de complejidad pertenece este algoritmo.\r\n",
        "\r\n",
        "Es por eso que necesitamos definir la función de recurrencia de la siguiente forma.\r\n",
        "\r\n",
        "Función de recurrencia para el algoritmo de ordenamiento *MergeSort*:\r\n",
        "\r\n",
        "$$T(n)=\\begin{cases}\r\n",
        "b & n=0\\,\\acute{o}\\,n=1\\\\\r\n",
        "2T(\\frac{n}{2})+a\\cdot n & n\\geq2\r\n",
        "\\end{cases} \\tag{1}$$\r\n",
        "\r\n",
        "A la función (1), se le conoce como la función de recurrencia asociada al algoritmo de ordenamiento *MergeSort*. Ya que conocemos la función de recurrencia podemos tratar de determinar de manera formal cuantas operaciones le toma a este algoritmo ordenar una colección de datos.\r\n"
      ]
    },
    {
      "cell_type": "markdown",
      "metadata": {
        "id": "iczZjvRuSCCk"
      },
      "source": [
        "## Demostración\r\n",
        "\r\n",
        "Esta demostración se sustenta en el análisis realizado previamene y en el [teorema maestro](https://es.wikipedia.org/wiki/Teorema_maestro).\r\n",
        "\r\n",
        "Sea $T(n)$ el numero de operaciones que le toma al algoritmo anterior ordenar una lista de tamaño $n$ y dada la función de recurrencia. \r\n",
        "\r\n",
        "P.D. $$T(n)=n\\cdot b+a\\cdot n\\cdot\\log_{2}n$$\r\n",
        "\r\n",
        "Para mayor claridad de la demostración definimos $n=2^{k}$\r\n",
        "\r\n",
        "$$\\begin{eqnarray*}\r\n",
        "T(n)\t& = &\tT(2^{k}) \\\\\r\n",
        "  & = & 2T(2^{k-1})+a\\cdot2^{k}....Definición\\\\\r\n",
        "  & = & 2(2T(2^{k-2})+a\\cdot2^{k-1})+a\\cdot2^{k}.....Leyes\\,exponentes\\,y\\,Función\\,recurrencia \\\\\r\n",
        "  & = & 2^{2}T(2^{k-2})+a\\cdot2^{k}+a\\cdot2^{k}.......Algebra\\,elemental\\\\\r\n",
        "\t& = & 2^{2}(2T(2^{k-3})+a\\cdot2^{k-2})+2\\cdot a\\cdot2^{k}.....Función\\,recurrencia\\\\ \r\n",
        "i-veces & \\vdots & \\\\\r\n",
        "\t& = & 2^{i}T(2^{k-i})+i\\cdot a\\cdot2^{k} \\\\\r\n",
        "i=k\t\t& \\vdots & \\\\\r\n",
        "\t& = & 2^{k}T(2^{k-k})+k\\cdot a\\cdot2^{k}......2^{k-k}=1 \\\\\r\n",
        "\t& = &\t2^{k}b+k\\cdot a\\cdot2^{k}........T(1)=b \\\\\r\n",
        "\t& = &\tn\\cdot b+k\\cdot a\\cdot n......n=2^{k} \\\\\r\n",
        "\t& = &\tn\\cdot \\color{red}b+ \\color{red}a\\cdot n\\cdot\\log_{2}n....(2) \\\\\r\n",
        "\\end{eqnarray*}$$\r\n",
        "\r\n"
      ]
    },
    {
      "cell_type": "markdown",
      "metadata": {
        "id": "7NJYrNzSSYxe"
      },
      "source": [
        "## Orden de complejidad (cota superior asintótica)\r\n",
        "\r\n",
        "Ya que $a$ y $b$ son constantes podemos concluir que de la ecuación (2), la función que 'crece' más rápido es \r\n",
        "\r\n",
        "$$a\\cdot n\\cdot\\log_{2}n$$\r\n",
        "\r\n",
        "Esa es la función que **acota superiormente el desempeño del algoritmo** *MergeSort*.\r\n",
        "\r\n",
        "Finalmente si asuminos que $a=c$, entoces se puede concluir que $T(n)\\in O(n\\cdot\\log_{2}n)$, es decir que el orden de complejidad al cual pertenece el algoritmo *MergeSort* es $n\\cdot\\log_{2}n$.\r\n",
        "\r\n",
        "En otras palabras podemos decir que el numero de operaciones que le toma a *MergeSort* ordenar una colección de tamaño $n$ es proporcional a $n\\cdot\\log_{2}n$.\r\n",
        "\r\n",
        "Esto significa (con sustento matemático) que *MergeSort* tiene un mejor desempeño que *InsertionSort, SeleccionSort* o *BubbleSort* en cuanto a la cantidad de operaciones (tiempo) que le toma ordenar una colección de datos.\r\n",
        "\r\n",
        "En otros términos podemos decir que si pusiéramos a competir (en teérminos de tiempo) a *MergeSort* contra, por ejemplo *BubbleSort*, el ganador seria *MergeSort*.\r\n"
      ]
    },
    {
      "cell_type": "markdown",
      "metadata": {
        "id": "qjDkvoF89_3n"
      },
      "source": [
        "# QuickSort\n",
        "\n",
        "Otro de los algoritmos que ha mostrado un desempeño muy bueno en términos de tiempo de ejecución es el agoritmo conocido como *QuickSort*.\n",
        " \n",
        "La forma en la que funciona *QuickSort* es muy similar a *MergeSort* en el sentido de que inicialmente se tiene un conjunto o estructura de datos (lista, vector, arreglo, etc) de tamaño $n$ que se encuentran desordenados y que mediante algun atributo podemos ordenar. La diferencia entre ambos algoritmos es que *QuickSort* se toma un **pivote** para poder acomodar a los menores y mayores. \n",
        "\n",
        "1.   Tomamos un valor de la lista de datos a ordenar (que idealmente parte a la colección a la mitad), a ese valor le llamamos pivote.\n",
        "2.   Una vez que se eligio al pivote, comparamos a todos los elementos contra el pivote y **almacenamos los menores al lado izquierdo del pivote y a los mayores del lado derecho** los cual nos deja 2 subconjuntos de tamaño $\\frac{n}2$.\n",
        "2.   Posteriormente volvemos a tomar un pivote en cada una de las respectivas subconjuntos, e idealmente volvemos a dividir estas en 4 subconjuntos de tamaño $\\frac{n}4$, se repite este proceso hasta que se tienen subconjuntos de tamaño 2.\n",
        "3.   Ya que se tienen conjuntos de tamaño a lo mas 2, se ordenan de manera individual cada uno de ellos.\n",
        "4.   Cada uno de estos subconjuntos ordenados se mezclan de manera recursiva y ordenada, hasta que todo el conjunto de datos se encuentran ordenados.\n",
        "\n",
        "<center>\n",
        "<img src=\"https://github.com/jugernaut/ProgramacionEnParalelo/blob/desarrollo/Imagenes/Introduccion/quicksort.jpg?raw=1\" width=\"550\">\n",
        "</center> "
      ]
    },
    {
      "cell_type": "markdown",
      "metadata": {
        "id": "gsxkxdZvznIp"
      },
      "source": [
        "## Análisis\n",
        "\n",
        "Para el caso cuando se requiere ordenar una colección (lista) de tamaño 1 (o 0 caso trivial), basta con devolver dicha lista ya que esta ya esta ordenada, lo cual toma tiempo constante, digamos $b$, podemos pensar que este valor $b$ **es el tiempo que le toma al microprocesador de propósito general ejecutar la instrucción** *return*.\n",
        "\n",
        "Para el caso de una colección de tamaño 2 ó mayor, es necesario partir a la mitad dicha colección, ordenar ambas subcolecciones y mezclarlas. Ahora consideremos que para simplificar el análisis de la complejidad diremos que $a$ es el **tiempo que toma al microprocesador realizar una operación lógica o aritmética**.\n",
        "\n",
        "Es por esto que ordenar una colección de tamaño $n$ tomará en total \n",
        "\n",
        "$$2T(\\frac{n}{2})+a\\cdot n$$\n",
        "\n",
        "Similar al tiempo que le toma ordenar una colección al algoritmo MergeSort."
      ]
    },
    {
      "cell_type": "code",
      "metadata": {
        "id": "x1UrNM561WKo",
        "outputId": "fd0baeee-05cc-4422-bc23-bc414446c5b5",
        "colab": {
          "base_uri": "https://localhost:8080/"
        }
      },
      "source": [
        "# Definicion recursiva de quicksort\n",
        "def quickSort(lista):\n",
        "  # si la lista es de tamano 1 o menor se devuelve\n",
        "  if len(lista) < 2:\n",
        "    return lista\n",
        "  # en otro caso se parte la lista y se resuelve recursivamente\n",
        "  else:\n",
        "    # se parte la lista original (n operaciones)\n",
        "    menores, pivote, mayores = particion(lista) \n",
        "    # 2*T(n/2)\n",
        "    return quickSort(menores)+[pivote]+quickSort(mayores)\n",
        "\n",
        "# Definicion del algoritmo para partir una lista en mayores y menores\n",
        "def particion(lista):\n",
        "  mayores, menores = [], []\n",
        "  # pivote para realizar la comparación\n",
        "  pivote = lista[0]\n",
        "  for i in range(1,len(lista)):\n",
        "    if lista[i] < pivote:\n",
        "      menores.append(lista[i])\n",
        "    else:\n",
        "      mayores.append(lista[i])\n",
        "  # se devuelven ambas listas y el pivote\n",
        "  return menores, pivote, mayores\n",
        "\n",
        "print(quickSort([2,8,5,3,9,4,1,7]))"
      ],
      "execution_count": 1,
      "outputs": [
        {
          "output_type": "stream",
          "text": [
            "[1, 2, 3, 4, 5, 7, 8, 9]\n"
          ],
          "name": "stdout"
        }
      ]
    },
    {
      "cell_type": "markdown",
      "metadata": {
        "id": "ou8sIl3O27CY"
      },
      "source": [
        "## Orden de complejidad (cota superior asintótica)\n",
        "\n",
        "Dado que la función de recurrencia de *QuickSort* es idéntica a la del algoritmo *MergeSort*, el orden de complejidad al que pertenece el algoritmo *QuickSort* es idéntico al de *MergeSort*, es decir $T(n)\\in O(n\\cdot\\log_{2}n)$.\n",
        "\n"
      ]
    },
    {
      "cell_type": "markdown",
      "metadata": {
        "id": "dTMtQcsc4QA8"
      },
      "source": [
        "# Secuencial v.s. Paralelo\n",
        "\n",
        "Existen muchas restricciones y detalles a tomar en cuenta antes de comenzar con el análisis de algoritmos en paralelo, si embargo una de las más importantes es la ley de Amdahal."
      ]
    },
    {
      "cell_type": "markdown",
      "metadata": {
        "id": "pc6ND99T6HDA"
      },
      "source": [
        "## Ley de Amdahal\n",
        "\n",
        "Sea $f$ la fracción de operaciones en un calculo computacional que será llevado a cabo de manera secuencial, donde $0\\leq f\\leq1$. La máxima velocidad $\\Psi$ alcanzada mediante programación en paralelo con una computadora con $p$ procesadores enfocados en el mismo calculo es:\n",
        "\n",
        "$$\\Psi\\leq\\frac{1}{f+(1-f)/p}$$"
      ]
    },
    {
      "cell_type": "markdown",
      "metadata": {
        "id": "YHiyGAPySr_f"
      },
      "source": [
        "#Referencias\r\n",
        "\r\n",
        "1. Thomas H. Cormen: Introduction to Algorithms.\r\n",
        "2. Libro Web: [Introduccion a Python](https://uniwebsidad.com/libros/algoritmos-python/capitulo-20/cuanto-cuesta-el-merge-sort?from=librosweb).\r\n",
        "3. Daniel T. Joyce: Object-Oriented Data Structures.\r\n",
        "4. John C. Mitchell: Concepts in programing Languages."
      ]
    }
  ]
}