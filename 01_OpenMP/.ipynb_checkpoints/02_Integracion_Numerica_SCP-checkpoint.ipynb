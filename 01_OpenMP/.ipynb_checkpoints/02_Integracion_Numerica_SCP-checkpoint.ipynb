{
 "cells": [
  {
   "cell_type": "markdown",
   "metadata": {
    "colab_type": "text",
    "id": "view-in-github"
   },
   "source": [
    "<a href=\"https://colab.research.google.com/github/jugernaut/ProgramacionEnParalelo/blob/main/OpenMP/02_Integracion_Numerica_SCP.ipynb\" target=\"_parent\"><img src=\"https://colab.research.google.com/assets/colab-badge.svg\" alt=\"Open In Colab\"/></a>"
   ]
  },
  {
   "cell_type": "markdown",
   "metadata": {
    "id": "ScSKHDcow79x"
   },
   "source": [
    "<font color=\"Teal\" face=\"Comic Sans MS,arial\">\n",
    "  <h1 align=\"center\"><i>Integración numérica</i></h1>\n",
    "  </font>\n",
    "  <font color=\"Black\" face=\"Comic Sans MS,arial\">\n",
    "  <h5 align=\"center\"><i>Profesor: M. en C. Miguel Angel Pérez León</i></h5>\n",
    "  <h5 align=\"center\"><i>Ayudante: Lucía Martínez Rivas</i></h5>\n",
    "  <h5 align=\"center\"><i>Ayudante: Erick Jesús Rios Gonzalez</i></h5>\n",
    "  <h5 align=\"center\"><i>Materia: Seminario de programación en paralelo</i></h5>\n",
    "  </font>"
   ]
  },
  {
   "cell_type": "markdown",
   "metadata": {
    "id": "cbG3g1S0w79y"
   },
   "source": [
    "# Introducción\n",
    "\n",
    "Muy frecuentemente es necesario evaluar la integral definida de una función $f\\left(x\\right)$ en un intervalo $\\left[a,b\\right]$. El objetivo de esta sección es encontrar métodos para aproximar la integral\n",
    "\n",
    "$$\\int_{a}^{b}f\\left(x\\right)dx$$\n",
    "\n",
    "Si se conoce a priori la **antiderivada** $F\\left(x\\right)$ entonces es evidente que podemos encontrar el valor exacto de la integral, aplicando el siguiente teorema\n"
   ]
  },
  {
   "cell_type": "markdown",
   "metadata": {
    "id": "LxClLbNDH-rL"
   },
   "source": [
    "## Teorema Fundamental de Cálculo\n",
    "\n",
    "Sea $f\\left(x\\right)$ integrable en el intervalo $\\left[a,b\\right]$ y $F'\\left(x\\right)=f\\left(x\\right)$ entonces, \n",
    "\n",
    "$$\\int_{a}^{b}f\\left(x\\right)dx=F\\left(b\\right)-F\\left(a\\right)$$\n",
    "\n",
    "\n",
    "Sin embargo como en otras partes del curso, a veces encontrar a $F$ es muy complicado, de tal manera que la mejor opción es encontrar una aproximación del valor exacto de.\n",
    "\n",
    "$$\\int_{a}^{b}f\\left(x\\right)dx$$\n",
    "\n",
    "La forma básica para encontrar una aproximación de $\\int_{a}^{b}f\\left(x\\right)dx$, se conoce como **cuadratura numérica** y emplea una suma del tipo.\n",
    "\n",
    "$$\\sum_{i=0}^{n}a_{i}f\\left(x_{i}\\right)$$\n",
    "\n",
    "Existen diferentes aproximaciones de la integral de $f\\left(x\\right)$ mediante cuadratura numérica, en esta sección revisaremos algunas de las más comunes."
   ]
  },
  {
   "cell_type": "markdown",
   "metadata": {
    "id": "QNpXtFzFw79z"
   },
   "source": [
    "# Cuadratura Numérica\n",
    "\n",
    "Los métodos de integración numérica se basan en los polinomios de Lagrange visto en secciones previas. La idea básica es que seleccionamos un conjunto de nodos distintos $x_{0},\\ldots,x_{n}$ en el intervalo $ \\left[a,b\\right]$. Después se integra el polinomio de Lagrange.\n",
    "\n",
    "$$P_{n}\\left(x\\right)=\\sum_{i=0}^{n}f\\left(x_{i}\\right)L_{i}\\left(x\\right)$$\n",
    "\n",
    "Y también se integra el termino de error de truncamiento en $\\left[a,b\\right]$\n",
    "\n",
    "$$\\prod_{i=0}^{n}\\left(x-x_{i}\\right)\\frac{f^{\\left(n+1\\right)}\\left(\\xi\\left(x\\right)\\right)}{\\left(n+1\\right)!}dx$$\n",
    "\n",
    "De tal manera que obtenemos\n",
    "\n",
    "$$ \\int_{a}^{b}f\\left(x\\right)dx=\\int_{a}^{b}\\sum_{i=0}^{n}f\\left(x_{i}\\right)L_{i}\\left(x\\right)dx+\\int_{a}^{b}\\prod_{i=0}^{n}\\left(x-x_{i}\\right)\\frac{f^{\\left(n+1\\right)}\\left(\\xi\\left(x\\right)\\right)}{\\left(n+1\\right)!}dx\\\\=\\sum_{i=0}^{n}a_{i}f\\left(x_{i}\\right)+\\frac{1}{\\left(n+1\\right)!}\\int_{a}^{b}\\prod_{i=0}^{n}\\left(x-x_{i}\\right)f^{\\left(n+1\\right)}\\left(\\xi\\left(x\\right)\\right)dx $$\n",
    "\n",
    "Donde $\\xi\\left(x\\right)$ se encuentra en $\\left[a,b\\right]$ para cada $x$\n",
    "\n",
    "$$a_{i}=\\int_{a}^{b}L_{i}\\left(x\\right)dx,\\quad \\forall\\;i=0,1,\\ldots,n$$\n",
    "\n",
    "Por lo tanto, la formula de la cuadratura es\n",
    "\n",
    "$$\\int_{a}^{b}f\\left(x\\right)dx=\\sum_{i=0}^{n}a_{i}f\\left(x_{i}\\right) \\tag{1}$$\n",
    "\n",
    "Con un error dado por\n",
    "\n",
    "$$E\\left(f\\right)=\\frac{1}{\\left(n+1\\right)!}\\int_{a}^{b}\\prod_{i=0}^{n}\\left(x-x_{i}\\right)f^{\\left(n+1\\right)}\\left(\\xi\\left(x\\right)\\right)dx$$\n",
    "\n",
    "De la misma manera que en otros temas vistos en el curso, la aproximación será más exacta si subdividimos el intervalo $\\left[a,b\\right]$ en tantos subintervalos como sea necesario, es decir.\n",
    "\n",
    "Sea\n",
    "\n",
    "$$\\left[a,b\\right]=\\left[a,x_{1}\\right]\\cup\\left[x_{1},x_{2}\\right]\\cup\\cdots\\cup\\left[x_{n-2},x_{n-1}\\right]\\cup\\left[x_{n-1},b\\right]$$\n",
    "\n",
    "Donde\n",
    "\n",
    "$$x_{k}=a+\\frac{b-a}{n}k,\\quad n=0,1,2,\\ldots,n,\\quad x_{0}=a,\\,x_{n}=b$$\n",
    "\n",
    "\n",
    "Tendremos\n",
    "\n",
    "$$\\int_{a}^{b}f\\left(x\\right)dx=\\int_{a}^{x_{1}}f\\left(x\\right)dx+\\cdots+\\int_{x_{k}}^{x_{k+1}}f\\left(x\\right)dx+\\cdots+\\int_{x_{n-1}}^{b}f\\left(x\\right)dx \\tag{2} $$\n",
    "\n",
    "Observación, todos los nodos son igualmente espaciados.\n",
    "\n"
   ]
  },
  {
   "cell_type": "markdown",
   "metadata": {
    "id": "xRjpaWQHTd9k"
   },
   "source": [
    "### Cuadratura del rectángulo\n",
    "\n",
    "La forma de cuadratura más simple es la que emplea rectángulos de base $\\left(b-a\\right)$ y altura $f\\left(a\\right)$\n",
    "\n",
    "$$\\int_{a}^{b}f\\left(x\\right)dx=\\left(b-a\\right)f\\left(a\\right)+E\\left(f\\right) \\tag{3}$$\n",
    "\n",
    "Combinando $(1)$ y $(3)$, se obtiene la forma general de la cuadratura mediante rectángulos\n",
    "\n",
    "$$\\int_{a}^{b}f\\left(x\\right)dx=\\frac{b-a}{n}\\sum_{i=0}^{n-1}f\\left(x_{i}\\right)+E\\left(f\\right)$$\n",
    "\n"
   ]
  },
  {
   "cell_type": "code",
   "execution_count": 1,
   "metadata": {},
   "outputs": [
    {
     "name": "stdout",
     "output_type": "stream",
     "text": [
      "Requirement already satisfied: ipywidgets in /opt/conda/lib/python3.11/site-packages (8.1.1)\n",
      "Requirement already satisfied: comm>=0.1.3 in /opt/conda/lib/python3.11/site-packages (from ipywidgets) (0.1.4)\n",
      "Requirement already satisfied: ipython>=6.1.0 in /opt/conda/lib/python3.11/site-packages (from ipywidgets) (8.16.1)\n",
      "Requirement already satisfied: traitlets>=4.3.1 in /opt/conda/lib/python3.11/site-packages (from ipywidgets) (5.11.2)\n",
      "Requirement already satisfied: widgetsnbextension~=4.0.9 in /opt/conda/lib/python3.11/site-packages (from ipywidgets) (4.0.9)\n",
      "Requirement already satisfied: jupyterlab-widgets~=3.0.9 in /opt/conda/lib/python3.11/site-packages (from ipywidgets) (3.0.9)\n",
      "Requirement already satisfied: backcall in /opt/conda/lib/python3.11/site-packages (from ipython>=6.1.0->ipywidgets) (0.2.0)\n",
      "Requirement already satisfied: decorator in /opt/conda/lib/python3.11/site-packages (from ipython>=6.1.0->ipywidgets) (5.1.1)\n",
      "Requirement already satisfied: jedi>=0.16 in /opt/conda/lib/python3.11/site-packages (from ipython>=6.1.0->ipywidgets) (0.19.1)\n",
      "Requirement already satisfied: matplotlib-inline in /opt/conda/lib/python3.11/site-packages (from ipython>=6.1.0->ipywidgets) (0.1.6)\n",
      "Requirement already satisfied: pickleshare in /opt/conda/lib/python3.11/site-packages (from ipython>=6.1.0->ipywidgets) (0.7.5)\n",
      "Requirement already satisfied: prompt-toolkit!=3.0.37,<3.1.0,>=3.0.30 in /opt/conda/lib/python3.11/site-packages (from ipython>=6.1.0->ipywidgets) (3.0.39)\n",
      "Requirement already satisfied: pygments>=2.4.0 in /opt/conda/lib/python3.11/site-packages (from ipython>=6.1.0->ipywidgets) (2.16.1)\n",
      "Requirement already satisfied: stack-data in /opt/conda/lib/python3.11/site-packages (from ipython>=6.1.0->ipywidgets) (0.6.2)\n",
      "Requirement already satisfied: pexpect>4.3 in /opt/conda/lib/python3.11/site-packages (from ipython>=6.1.0->ipywidgets) (4.8.0)\n",
      "Requirement already satisfied: parso<0.9.0,>=0.8.3 in /opt/conda/lib/python3.11/site-packages (from jedi>=0.16->ipython>=6.1.0->ipywidgets) (0.8.3)\n",
      "Requirement already satisfied: ptyprocess>=0.5 in /opt/conda/lib/python3.11/site-packages (from pexpect>4.3->ipython>=6.1.0->ipywidgets) (0.7.0)\n",
      "Requirement already satisfied: wcwidth in /opt/conda/lib/python3.11/site-packages (from prompt-toolkit!=3.0.37,<3.1.0,>=3.0.30->ipython>=6.1.0->ipywidgets) (0.2.8)\n",
      "Requirement already satisfied: executing>=1.2.0 in /opt/conda/lib/python3.11/site-packages (from stack-data->ipython>=6.1.0->ipywidgets) (1.2.0)\n",
      "Requirement already satisfied: asttokens>=2.1.0 in /opt/conda/lib/python3.11/site-packages (from stack-data->ipython>=6.1.0->ipywidgets) (2.4.0)\n",
      "Requirement already satisfied: pure-eval in /opt/conda/lib/python3.11/site-packages (from stack-data->ipython>=6.1.0->ipywidgets) (0.2.2)\n",
      "Requirement already satisfied: six>=1.12.0 in /opt/conda/lib/python3.11/site-packages (from asttokens>=2.1.0->stack-data->ipython>=6.1.0->ipywidgets) (1.16.0)\n",
      "Note: you may need to restart the kernel to use updated packages.\n"
     ]
    }
   ],
   "source": [
    "pip install ipywidgets"
   ]
  },
  {
   "cell_type": "code",
   "execution_count": 2,
   "metadata": {
    "colab": {
     "base_uri": "https://localhost:8080/",
     "height": 416,
     "referenced_widgets": [
      "ee73434847f84eb78b8f62717d13ebe8",
      "848b4579080341d0b8f7149693016442",
      "4197f0e5bd2f41799346d9cf48f4239f",
      "7e231a8482bb4e92bcbba3c97927cafb",
      "440c6bd99298469cbe0cd930910c7fd7",
      "4c95f406285c4aa1b3cb5b298c91c546",
      "cc9f48ab9549445aa06bfac9dc0a3af4"
     ]
    },
    "id": "xoCX7k-_w790",
    "outputId": "b5ca8a5e-f9ae-4d40-8bac-a749e42fdea3"
   },
   "outputs": [
    {
     "data": {
      "application/vnd.jupyter.widget-view+json": {
       "model_id": "1afd7ec0b3f7454d82c1b84e5c13b777",
       "version_major": 2,
       "version_minor": 0
      },
      "text/plain": [
       "interactive(children=(IntSlider(value=1, description='n', max=30, min=1), Output()), _dom_classes=('widget-int…"
      ]
     },
     "metadata": {},
     "output_type": "display_data"
    },
    {
     "data": {
      "text/plain": [
       "<function __main__.Rectangulo(n)>"
      ]
     },
     "execution_count": 2,
     "metadata": {},
     "output_type": "execute_result"
    }
   ],
   "source": [
    "# import de las bibliotecas necesarias\n",
    "import numpy as np\n",
    "from ipywidgets import interact\n",
    "import ipywidgets as widgets\n",
    "import matplotlib.pyplot as plt\n",
    "\n",
    "# funcion que define la cuadratura mediante rectangulos\n",
    "# cantidad de puntos que usaran en la cuadratura\n",
    "def Rectangulo(n): \n",
    "    # a punto inicial del intervalo  \n",
    "    a=0\n",
    "    # b punto final del intervalo\n",
    "    b=1\n",
    "    # f funcion a integrar **\n",
    "    #def f(x):\n",
    "        #return x*x\n",
    "    # f funcion a integrar\n",
    "    f = lambda x: x*x\n",
    "    \n",
    "    # para grficar f(x)\n",
    "    xp=np.linspace(a,b,30)\n",
    "    fp=f(xp)\n",
    "    plt.plot(xp,fp,color='black')\n",
    "    \n",
    "    # discretizacion para la cuadratura\n",
    "    x=np.linspace(a,b,n+1)\n",
    "    fx=[ f(x[i]) for i in range(len(x))]\n",
    "    plt.bar(x,fx,width=(-(b-a)/n),color='orange', align='edge')\n",
    "    plt.title(\"Aproximacion de la integral con el metodo de la cuadratura del rectangulo\")\n",
    "    plt.xlabel(\"x\")\n",
    "    plt.ylabel(r\"$f \\left(x\\right) = x^{2}$\")\n",
    "    plt.grid()\n",
    "\n",
    "    # aproximacion mediante la cuadratura del rectangulo\n",
    "    cuadratura=0.0\n",
    "    for i in range (len(x)):\n",
    "        cuadratura+=f(x[i])\n",
    "    # valor aproximado    \n",
    "    integral=((b-a)/n)*cuadratura\n",
    "\n",
    "    print(\"el valor de la integral mediante el metodo de cuadratura del rectangulo es: {}\".format(integral)) \n",
    "\n",
    "interact(Rectangulo,n=widgets.IntSlider(min=1,max=30,step=1,value=1))"
   ]
  },
  {
   "cell_type": "markdown",
   "metadata": {
    "id": "NM8gZ8Dqw794"
   },
   "source": [
    "### Cuadratura del punto medio\n",
    "\n",
    "Una aproximación de la integral $\\int_{a}^{b}f\\left(x\\right)dx$ consiste en aproximar el área bajo la curva $y=f\\left(x\\right)$ por un rectángulo de base $b-a$ y altura $f\\left(\\frac{a+b}{2}\\right)$, entonces\n",
    "\n",
    "$$\\int_{a}^{b}f\\left(x\\right)dx=\\left(b-a\\right)f\\left(\\frac{a+b}{2}\\right)+E\\left(f\\right) \\tag{4} $$\n",
    "\n",
    "Donde $E\\left(f\\right)$, si $f$ tiene primera y segunda derivada continuas en $\\left[a,b\\right]$, se expresa así\n",
    "\n",
    "$$E\\left(f\\right)=\\frac{\\left(b-a\\right)^{2}}{24}f''\\left(\\xi\\right)\\quad\\xi\\in\\left[a,b\\right]$$\n",
    "\n",
    "Combinando $(1)$ y $(4)$, se obtiene la forma general de la cuadratura del punto medio\n",
    "\n",
    "$$\\int_{a}^{b}f\\left(x\\right)dx=\\frac{b-a}{n}\\sum_{i=0}^{n-1}f\\left(\\frac{x_{i}+x_{i+1}}{2}\\right)+E\\left(f\\right)$$\n",
    "\n"
   ]
  },
  {
   "cell_type": "code",
   "execution_count": 3,
   "metadata": {
    "colab": {
     "base_uri": "https://localhost:8080/",
     "height": 362,
     "referenced_widgets": [
      "636b8498af9a49e6b05fac69100d4183",
      "acfd381dd4f5486bb6d5df6ec9e9b8ab",
      "8d3339d7f81144b7bfd9fbaa817a8515",
      "e056a845a37f4e3ba1f00afcf5cb6545",
      "d61957fde34c4de5ad9c56576b7b121f",
      "3ace7723bd6643b7a9e06c4f9a3dbed7",
      "963caec9d9764e9f891affd364a7daad"
     ]
    },
    "id": "OZOU5EaVw796",
    "outputId": "ca199e9a-8d8c-4fc2-ccaa-d8ba12c86a8f"
   },
   "outputs": [
    {
     "data": {
      "application/vnd.jupyter.widget-view+json": {
       "model_id": "c1f0b19a4ad0499bbcd47a20f8668639",
       "version_major": 2,
       "version_minor": 0
      },
      "text/plain": [
       "interactive(children=(IntSlider(value=1, description='n', max=30, min=1), Output()), _dom_classes=('widget-int…"
      ]
     },
     "metadata": {},
     "output_type": "display_data"
    },
    {
     "data": {
      "text/plain": [
       "<function __main__.PuntoMedio(n)>"
      ]
     },
     "execution_count": 3,
     "metadata": {},
     "output_type": "execute_result"
    }
   ],
   "source": [
    "def PuntoMedio(n):\n",
    "    # a punto inicial del intervalo  \n",
    "    a=0\n",
    "    # b punto final del intervalo\n",
    "    b=1\n",
    "    # f funcion a integrar **\n",
    "    #def f(x):\n",
    "        #return x*x\n",
    "    # f funcion a integrar\n",
    "    f = lambda x: x*x\n",
    "    \n",
    "    # para grficar f(x)\n",
    "    xp=np.linspace(a,b,30)\n",
    "    fp=f(xp)\n",
    "    plt.plot(xp,fp,color='black')\n",
    "    \n",
    "    # discretizacion para la cuadratura\n",
    "    x=np.linspace(a,b,n+1)\n",
    "    am = a+(float(a)/2)\n",
    "    bm = b+(float(b)/2)\n",
    "    fx=[ f(x[i]) for i in range(len(x))]\n",
    "    plt.bar(x,fx,width=((bm-am)/n),color='orange')\n",
    "    plt.title(\"Aproximacion de la integral con el metodo de la cuadratura del punto medio\")\n",
    "    plt.xlabel(\"x\")\n",
    "    plt.ylabel(r\"$f \\left(x\\right) = x^{2}$\")\n",
    "    plt.grid()\n",
    "\n",
    "    # aproximacion mediante la cuadratura del punto medio\n",
    "    cuadratura=0.0\n",
    "    for i in range (len(x)-1):\n",
    "        cuadratura+=f( (x[i]+x[i+1])/2 )\n",
    "    # valor aproximado     \n",
    "    integral=((b-a)/n)*cuadratura\n",
    "    \n",
    "    print(\"el valor de la integral mediante el metodo de cuadratura del punto medio es: {}\".format(integral)) \n",
    "\n",
    "interact(PuntoMedio,n=widgets.IntSlider(min=1,max=30,step=1,value=1))"
   ]
  },
  {
   "cell_type": "markdown",
   "metadata": {
    "id": "nE9yuzw9w79_"
   },
   "source": [
    "### Cuadratura del trapecio\n",
    "\n",
    "A fin de construir la regla del trapecio para aproximar $\\int_{a}^{b}f\\left(x\\right)dx$, tomemos $x_{0}=a,\\,x_{1}=b,\\,h=b-a$ y calculando el polinomio lineal de Lagrange\n",
    "\n",
    "$$P\\left(x\\right)=\\left(\\frac{x-x_{1}}{x_{0}-x_{1}}\\right)f(x_{0})+\\left(\\frac{x-x_{0}}{x_{1}-x_{0}}\\right)f(x_{1})$$\n",
    "\n",
    "Al integrar este polinomio se tiene\n",
    "\n",
    "$$\\int_{a}^{b}f\\left(x\\right)dx=\\int_{x_{0}}^{x_{1}}\\left[\\left(\\frac{x-x_{1}}{x_{0}-x_{1}}\\right)f(x_{0})+\\left(\\frac{x-x_{0}}{x_{1}-x_{0}}\\right)f(x_{1})\\right]dx\\\\+\\frac{1}{2}\\int_{x_{0}}^{x_{1}}f''\\left(\\xi\\left(x\\right)\\right)\\left(x-x_{0}\\right)\\left(x-x_{1}\\right)dx$$\n",
    "\n",
    "Donde la integral del error es $-\\frac{h^{3}}{6}f''\\left(\\xi\\right)$, lo que nos lleva a la forma general de la cuadratura del trapecio\n",
    "\n",
    "$$\\int_{a}^{b}f\\left(x\\right)dx=\\left[\\frac{x-x_{1}}{2\\left(x_{0}-x_{1}\\right)}f(x_{0})+\\frac{x-x_{0}}{2\\left(x_{1}-x_{0}\\right)}f(x_{1})\\right]_{x_{0}}^{x_{1}}-\\frac{h^{3}}{12}f''\\left(\\xi\\right)\\\\=\\frac{\\left(x_{1}-x_{0}\\right)}{2}\\left[f\\left(x_{0}\\right)+f\\left(x_{1}\\right)\\right]-\\frac{h^{3}}{12}f''\\left(\\xi\\right) $$\n",
    "\n",
    "Tomando en cuenta que $h=x_{1}-x_{0}$, obtenemos la forma general de la cuadratura del trapecio\n",
    "\n",
    "$$\\int_{a}^{b}f\\left(x\\right)dx=\\frac{h}{2}\\left[f\\left(x_{0}\\right)+f\\left(x_{1}\\right)\\right]-\\frac{h^{3}}{12}f''\\left(\\xi\\right)$$\n",
    "\n"
   ]
  },
  {
   "cell_type": "code",
   "execution_count": 4,
   "metadata": {
    "colab": {
     "base_uri": "https://localhost:8080/"
    },
    "id": "sFvxeX94w79_",
    "outputId": "af40b2fd-71c5-4d9e-96d8-46876390e786"
   },
   "outputs": [
    {
     "name": "stdout",
     "output_type": "stream",
     "text": [
      "el valor de la integral mediante el metodo de cuadratura del Trapecio: 0.5\n"
     ]
    }
   ],
   "source": [
    "def Trapecio():\n",
    "    # a punto inicial del intervalo \n",
    "    # b punto final del intervalo \n",
    "    # f funcion a integrar\n",
    "    a=0\n",
    "    b=1\n",
    "    def f(x):\n",
    "        return x*x\n",
    "    \n",
    "    integral=((b-a)/2)*(f(a)+f(b))\n",
    "    print(\"el valor de la integral mediante el metodo de cuadratura del Trapecio: {}\".format(integral))\n",
    "\n",
    "Trapecio()"
   ]
  },
  {
   "cell_type": "markdown",
   "metadata": {
    "id": "f1IO7V-qw7-D"
   },
   "source": [
    "### Cuadratura del trapecio compuesto\n",
    "\n",
    "Sean los nodos $a=x_{0}<x_{1}<\\cdots<x_{n}=b$ con $h_{i}=x_{i+1}-x_{i}$, se busca aproximar el valor de $\\int_{a}^{b}f\\left(x\\right)dx$. Ademas aprovechamos el hecho de que \n",
    "\n",
    "$$\\int_{a}^{b}f\\left(x\\right)dx\t=\t\\int_{a}^{c}f\\left(x\\right)dx+\\int_{c}^{b}f\\left(x\\right)dx$$\n",
    "\n",
    "Integrando sobre los subintervalos $\\left[x_{i},x_{i+1}\\right]$, para $i=0,\\ldots,n-1$ y aplicando la regla del trapecio simple, se obtiene\n",
    "\n",
    "$$\\int_{a}^{b}f\\left(x\\right)dx=\\sum_{i=0}^{n-1}\\int_{x_{i}}^{x_{i+1}}f\\left(x\\right)=\\sum_{i=0}^{n-1}\\frac{h_{i}}{2}\\left[f\\left(x_{i}\\right)+f\\left(x_{i+1}\\right)\\right]-\\sum_{i=0}^{n-1}\\frac{h_{i}^{3}}{12}f''\\left(\\xi_{i}\\right),\\quad\\xi_{i}\\in\\left(x_{i+1},x_{i}\\right) $$\n",
    "\n",
    "Si consideramos $h=h_{i}$ para $i=0,\\ldots,n-1$ y $f''\\left(x\\right)$ continua, entonces obtenemos el error total\n",
    "\n",
    "$$E_{T}=-\\frac{h^{3}}{12}\\sum_{i=0}^{n-1}f''\\left(\\xi_{i}\\right)=-\\frac{h^{3}}{12}nf''\\left(\\xi\\right)=-\\frac{h^{2}}{12}nhf''\\left(\\xi\\right)$$\n",
    "\n",
    "Donde $\\xi\\in\\left(x_{0},x_{n}\\right)$ y $h=\\frac{x_{n}-x_{0}}{n}$ entonces $E_{T}=-\\frac{h^{2}}{12}\\left(x_{n}-x_{0}\\right)f''\\left(\\xi\\right)$, es decir\n",
    "\n",
    "$$ \\int_{a}^{b}f\\left(x\\right)dx=\\frac{h}{2}\\left[f\\left(x_{0}\\right)+2f\\left(x_{1}\\right)+\\cdots+2f\\left(x_{n-1}\\right)+f\\left(x_{n}\\right)\\right]-\\frac{h^{2}}{12}\\left(x_{n}-x_{0}\\right)f''\\left(\\xi\\right)$$\n",
    "\n",
    "Así que\n",
    "\n",
    "$$\\int_{a}^{b}f\\left(x\\right)dx=\\frac{h}{2}\\left[f\\left(a\\right)+2\\sum_{i=1}^{n-1}f\\left(x_{i}\\right)+f\\left(b\\right)\\right]-\\frac{b-a}{12}h^{2}f''\\left(\\xi\\right)$$\n",
    "\n",
    "Es la forma general de la cuadratura del trapecio compuesto.\n",
    "\n"
   ]
  },
  {
   "cell_type": "code",
   "execution_count": 5,
   "metadata": {
    "colab": {
     "base_uri": "https://localhost:8080/",
     "height": 362,
     "referenced_widgets": [
      "399c275d2ad4406db51ba8dbe524da65",
      "d1e8d54e64924013a864af85c9070283",
      "97baf2e944e849c5b2e43e4a1faf2c43",
      "7c3e6a77d75a4d4484124174f749b4ad",
      "fcb301d710e24fbb8925dd82a2a2e3ca",
      "3a45a889b9444e6aaaf68b21c98fc39c",
      "e7b696a4890b4df4b61922a2f5fe42d9"
     ]
    },
    "id": "LWgI2-zkw7-E",
    "outputId": "97df58ee-c010-4170-a6fd-e8f01b8f1b31"
   },
   "outputs": [
    {
     "data": {
      "application/vnd.jupyter.widget-view+json": {
       "model_id": "cc3bb7520ecd420dac8af3242ea936ca",
       "version_major": 2,
       "version_minor": 0
      },
      "text/plain": [
       "interactive(children=(IntSlider(value=1, description='n', max=30, min=1), Output()), _dom_classes=('widget-int…"
      ]
     },
     "metadata": {},
     "output_type": "display_data"
    },
    {
     "data": {
      "text/plain": [
       "<function __main__.TrapecioCompuesto(n)>"
      ]
     },
     "execution_count": 5,
     "metadata": {},
     "output_type": "execute_result"
    }
   ],
   "source": [
    "def TrapecioCompuesto(n): \n",
    "    # n los puntos que se usaran para integrar \n",
    "    # a punto inicial del intervalo\n",
    "    a=0\n",
    "    # b punto final del intervalo \n",
    "    b=1\n",
    "    # f funcion a integrar\n",
    "    f = lambda x:x*x\n",
    "    # grafica de f(x)\n",
    "    xp=np.linspace(a,b,30)\n",
    "    fp=f(xp)\n",
    "    plt.plot(xp,fp,color='black')\n",
    "    # se grafican los trapecios\n",
    "    x=np.linspace(a,b,n+1)\n",
    "    for i in range(n):\n",
    "      xs = [x[i],x[i],x[i+1],x[i+1]]\n",
    "      ys = [0,f(x[i]),f(x[i+1]),0]\n",
    "      plt.fill(xs,ys,alpha=0.7,edgecolor='b')\n",
    "    # datos de la grafica\n",
    "    plt.title(\"Aproximacion de la integral con el metodo del Trapecio compuesto\")\n",
    "    plt.xlabel(\"x\")\n",
    "    plt.ylabel(r\"$f \\left(x\\right) = x^{2}$\")\n",
    "    plt.grid()\n",
    "    # formula del trapecio compuesto\n",
    "    cuadratura=0.0\n",
    "    for i in range (1,len(x)-1):\n",
    "        cuadratura+=f( x[i])\n",
    "\n",
    "    integral=((b-a)/(2*n))*(2*cuadratura+f(a)+f(b))\n",
    "    \n",
    "    print(\"el valor de la integral mediante el metodo de cuadratura del  Trapecio Compuesto es: {}\".format(integral)) \n",
    "\n",
    "interact(TrapecioCompuesto,n=widgets.IntSlider(min=1,max=30,step=1,value=1))"
   ]
  },
  {
   "cell_type": "markdown",
   "metadata": {
    "id": "sjL0EQ79w7-J"
   },
   "source": [
    "### Cuadratura de Simpson $\\frac{1}{3}$\n",
    "\n",
    "Se obtiene al integrar en $\\left[a,b\\right]$ el segundo polinomio de Lagrange con los nodos $x_{0}=a,\\,x_{1}=a+h$ y $x_{2}=b$ donde $h=\\frac{b-a}{2}$\n",
    "\n",
    "$$\\int_{a}^{b}f\\left(x\\right)dx=\\int_{x_{0}}^{x_{2}}\\left[\\frac{\\left(x-x_{1}\\right)\\left(x-x_{2}\\right)}{\\left(x_{0}-x_{1}\\right)\\left(x_{0}-x_{2}\\right)}f(x_{0})+\\frac{\\left(x-x_{0}\\right)\\left(x-x_{2}\\right)}{\\left(x_{1}-x_{0}\\right)\\left(x_{1}-x_{2}\\right)}f(x_{1})\\right]\\\\+\\int_{x_{0}}^{x_{2}}\\left[\\frac{\\left(x-x_{0}\\right)\\left(x-x_{1}\\right)}{\\left(x_{2}-x_{0}\\right)\\left(x_{2}-x_{1}\\right)}f(x_{2})\\right]\\\\+\\frac{1}{6}\\int_{x_{0}}^{x_{2}}f'''\\left(\\xi\\left(x\\right)\\right)\\left(x-x_{0}\\right)\\left(x-x_{1}\\right)\\left(x-x_{2}\\right)dx $$\n",
    "\n",
    "Sin embargo, al deducir la regla de Simpson de esta manera, unicamente se obtiene un término de error $O\\left(h^{4}\\right)$ que contiene a $f^{\\left(3\\right)}$. Pero si construimos la regla de otra forma, podemos deducir un termino de orden superior que incluya a $f^{\\left(4\\right)}$\n",
    "\n",
    "Supongamos que $f$ se expande mediante el tercer polinomio de Taylor alrededor de $x_{1}$. Entonces, para cada $x$ en $\\left[x_{0},x_{2}\\right]$, existe un número $\\xi\\left(x\\right)\\in\\left(x_{0},x_{2}\\right)$ tal que\n",
    "\n",
    "$$f\\left(x\\right)=f\\left(x_{1}\\right)+f'\\left(x_{1}\\right)\\left(x-x_{1}\\right)+\\frac{f''\\left(x_{1}\\right)\\left(x-x_{1}\\right)^{2}}{2!}\\\\+\\frac{f'''\\left(x_{1}\\right)\\left(x-x_{1}\\right)^{3}}{3!}+\\frac{f^{\\left(4\\right)}\\left(\\xi\\left(x\\right)\\right)\\left(x-x_{1}\\right)^{4}}{4!}$$\n",
    "\n",
    "Si $h=\\left(x-x_{1}\\right)$ entonces\n",
    "\n",
    "$$\\int_{x_{0}}^{x_{2}}f\\left(x\\right)dx=\\left[f\\left(x_{1}\\right)h+\\frac{f'\\left(x_{1}\\right)h^{2}}{2!}+\\frac{f''\\left(x_{1}\\right)h^{3}}{3!}+\\frac{f^{\\left(3\\right)}\\left(x_{1}\\right)h^{4}}{4!}\\right]_{x_{0}}^{x_{2}}+\\frac{1}{24}\\int_{x_{0}}^{x_{2}}f^{\\left(4\\right)}\\left(\\xi\\left(x\\right)\\right)h^{4}dx \\tag{5}$$\n",
    "\n",
    "Puesto que $\\left(x-x_{1}\\right)^{4}$ nunca es negativo en $\\left[x_{0},x_{2}\\right]$ y por el Teorema del Valor Medio ponderado, entonces\n",
    "\n",
    "$$\\frac{1}{24}\\int_{x_{0}}^{x_{2}}f^{\\left(4\\right)}\\left(\\xi\\left(x\\right)\\right)h^{4}dx=\\frac{f^{\\left(4\\right)}\\left(\\xi_{1}\\right)h^{4}}{24}\\int_{x_{0}}^{x_{2}}h^{4}dx=\\frac{f^{\\left(4\\right)}\\left(\\xi_{1}\\right)}{120}h^{5}\\mid_{x_{0}}^{x2}$$\n",
    "\n",
    "Para algún número $\\xi_{1}\\in\\left(x_{0},x_{2}\\right)$. Pero por otro lado $h=x_{2}-x_{1}=x_{1}-x_{0}$, así que\n",
    "\n",
    "$$\\left(x_{2}-x_{1}\\right)^{2}-\\left(x_{1}-x_{0}\\right)^{2}=\\left(x_{2}-x_{1}\\right)^{4}-\\left(x_{1}-x_{0}\\right)^{4}=0 $$\n",
    "\n",
    "Mientras que\n",
    "\n",
    "$$\\left(x_{2}-x_{1}\\right)^{3}-\\left(x_{1}-x_{0}\\right)^{3}=2h^{3} \\quad y \\quad \\left(x_{2}-x_{1}\\right)^{5}-\\left(x_{1}-x_{0}\\right)^{5}=2h^{5}$$\n",
    "\n",
    "Así que (5), se puede reescribir así\n",
    "\n",
    "$$\\int_{x_{0}}^{x_{2}}f\\left(x\\right)dx=2hf\\left(x_{1}\\right)+\\frac{h^{3}f''\\left(x_{1}\\right)}{3}+\\frac{f^{\\left(4\\right)}\\left(\\xi_{1}\\right)h^{5}}{60}$$\n",
    "\n",
    "Pero si ahora reemplazamos $f''\\left(x_{1}\\right)$ por su aproximación en diferencias finitas, se tiene\n",
    "\n",
    "$$\\int_{x_{0}}^{x_{2}}f\\left(x\\right)dx=2hf\\left(x_{1}\\right)+\\frac{h^{3}}{3}\\left\\{ \\frac{1}{h^{2}}\\left[f\\left(x_{0}\\right)-2f\\left(x_{1}\\right)+f\\left(x_{2}\\right)\\right]-\\frac{h^{2}}{12}f^{\\left(4\\right)}\\left(\\xi_{2}\\right)\\right\\} \\\\+\\frac{f^{\\left(4\\right)}\\left(\\xi_{1}\\right)h^{5}}{60}\\\\=\\frac{h}{3}\\left[f\\left(x_{0}\\right)+4f\\left(x_{1}\\right)+f\\left(x_{2}\\right)\\right]-\\frac{h^{5}}{12}\\left[\\frac{1}{3}f^{\\left(4\\right)}\\left(\\xi_{2}\\right)-\\frac{1}{5}f^{\\left(4\\right)}\\left(\\xi_{1}\\right)\\right] $$\n",
    "\n",
    "Así tenemos que\n",
    "\n",
    "$$\\int_{x_{0}}^{x_{2}}f\\left(x\\right)dx=\\frac{h}{3}\\left[f\\left(x_{0}\\right)+4f\\left(x_{1}\\right)+f\\left(x_{2}\\right)\\right]-\\frac{h^{5}}{90}f^{\\left(4\\right)}\\left(\\xi_{1}\\right)$$\n",
    "\n",
    "Es la forma general de la regla de Simpson $\\frac{1}{3}$\n"
   ]
  },
  {
   "cell_type": "markdown",
   "metadata": {
    "id": "UroVPZEG8k8o"
   },
   "source": [
    "#### Ejemplo \n",
    "\n",
    "La regla del trapecio para una función $f$ en el intervalo $\\left[0,2\\right]$ es \n",
    "\n",
    "$$\\int_{0}^{2}f\\left(x\\right)dx\\approx f\\left(0\\right)+f\\left(2\\right)$$\n",
    "\n",
    "y la regla de Simpson para $f$ en $\\left[0,2\\right]$ es\n",
    "\n",
    "$$\\int_{0}^{2}f\\left(x\\right)dx\\approx\\frac{1}{3}\\left[f\\left(0\\right)+4f\\left(1\\right)+f\\left(2\\right)\\right] $$\n",
    "\n",
    "Calcular las correspondientes aproximaciones para\n",
    "\n",
    "$$x^{2},x^{4},\\frac{1}{\\left(x+1\\right)},\\,\\sqrt{1+x^{2}},\\,sen\\,x,\\,e^{x}$$\n",
    "\n",
    "Notar como en todos los casos, la regla de Simpson, proporciona una mejor aproximación.\n",
    "\n",
    "| $f\\left(x\\right)$        | $x^{2}$ |  $x^{4}$ | $\\frac{1}{x+1}$|$\\sqrt{1+x^{2}}$ |sen x |$e^{x}$ |\n",
    "| :-:  | :-: | :-: |  :-: | :-:  |   :-: |   :-: | \n",
    "| Valores exactos  | 2.667 |6.400 |1.099 |2.958 |1.416 |6.389 |\n",
    "| Trapecio | 4.00\t|16.00\t|1.333|\t3.326|\t0.909|\t8.389|\n",
    "| Simpson\t|2.667|\t6.667|\t1.111|\t2.964|\t1.425|\t6.421|"
   ]
  },
  {
   "cell_type": "code",
   "execution_count": 6,
   "metadata": {
    "colab": {
     "base_uri": "https://localhost:8080/"
    },
    "id": "VPf_wwHmw7-K",
    "outputId": "5e78b244-25cc-4e16-a5ff-3205e3d60e80"
   },
   "outputs": [
    {
     "name": "stdout",
     "output_type": "stream",
     "text": [
      "el valor de la integral mediante el metodo de cuadratura del  Simpson 1/3: 0.3333333333333333\n"
     ]
    }
   ],
   "source": [
    "#@title\n",
    "def Simpson1_3():\n",
    "    # x0 punto inicial del intervalo \n",
    "    # x2 punto final del intervalo \n",
    "    # f funcion a integrar\n",
    "    x0=0\n",
    "    x2=1\n",
    "    h=(x2-x0)/2\n",
    "    x1=x0+h\n",
    "\n",
    "    def f(x):\n",
    "        return x*x\n",
    "        \n",
    "    integral=(h/3)*(f(x0)+4*f(x1)+f(x2))\n",
    "    \n",
    "    print(\"el valor de la integral mediante el metodo de cuadratura del  Simpson 1/3: {}\".format(integral)) \n",
    "\n",
    "Simpson1_3()"
   ]
  },
  {
   "cell_type": "code",
   "execution_count": 7,
   "metadata": {
    "colab": {
     "base_uri": "https://localhost:8080/"
    },
    "id": "ZgHMfA9-_rDj",
    "outputId": "1046e8d7-c4ed-4913-fca2-f256ad8af554"
   },
   "outputs": [
    {
     "name": "stdout",
     "output_type": "stream",
     "text": [
      "el valor de la integral mediante el metodo de cuadratura de Simpson es: 2.6666666666666665\n",
      "el valor de la integral mediante el metodo de cuadratura de Simpson es: 6.666666666666666\n",
      "el valor de la integral mediante el metodo de cuadratura de Simpson es: 1.1111111111111112\n",
      "el valor de la integral mediante el metodo de cuadratura de Simpson es: 2.9643074089973895\n",
      "el valor de la integral mediante el metodo de cuadratura de Simpson es: 1.4250604553524227\n",
      "el valor de la integral mediante el metodo de cuadratura de Simpson es: 6.42072780425561\n"
     ]
    }
   ],
   "source": [
    "import numpy as np\n",
    "\n",
    "def Simpson1_3():\n",
    "    # x0 punto inicial del intervalo \n",
    "    # x2 punto final del intervalo \n",
    "    # f funcion a integrar\n",
    "    x0=0\n",
    "    x2=2\n",
    "    h=(x2-x0)/2\n",
    "    x1=x0+h\n",
    "\n",
    "    f1 = lambda x: x*x\n",
    "    f2 = lambda x: x**(4)\n",
    "    f3 = lambda x: 1/(x+1)\n",
    "    f4 = lambda x: np.sqrt(1+x*x)\n",
    "    f5 = lambda x: np.sin(x)\n",
    "    f6 = lambda x: np.exp(x)\n",
    "        \n",
    "    integral1=(h/3)*(f1(x0)+4*f1(x1)+f1(x2))\n",
    "    integral2=(h/3)*(f2(x0)+4*f2(x1)+f2(x2))\n",
    "    integral3=(h/3)*(f3(x0)+4*f3(x1)+f3(x2))\n",
    "    integral4=(h/3)*(f4(x0)+4*f4(x1)+f4(x2))\n",
    "    integral5=(h/3)*(f5(x0)+4*f5(x1)+f5(x2))\n",
    "    integral6=(h/3)*(f6(x0)+4*f6(x1)+f6(x2))\n",
    "    \n",
    "    print(\"el valor de la integral mediante el metodo de cuadratura de Simpson es: {}\".format(integral1)) \n",
    "    print(\"el valor de la integral mediante el metodo de cuadratura de Simpson es: {}\".format(integral2))\n",
    "    print(\"el valor de la integral mediante el metodo de cuadratura de Simpson es: {}\".format(integral3))\n",
    "    print(\"el valor de la integral mediante el metodo de cuadratura de Simpson es: {}\".format(integral4))\n",
    "    print(\"el valor de la integral mediante el metodo de cuadratura de Simpson es: {}\".format(integral5))\n",
    "    print(\"el valor de la integral mediante el metodo de cuadratura de Simpson es: {}\".format(integral6)) \n",
    "\n",
    "\n",
    "Simpson1_3()"
   ]
  },
  {
   "cell_type": "markdown",
   "metadata": {
    "id": "nWIDZP_Yw7-P"
   },
   "source": [
    "### Cuadratura de Simpson $\\frac{3}{8}$\n",
    "\n",
    "Esta regla se obtiene al integrar el tercer polinomio de Lagrange en $\\left[a,b\\right]$ y tomando los nodos $x_{0}=a,\\,x_{1}=a+h,\\,x_{2}=a+2h$ y $x_{3}=b$ donde $h=\\frac{b-a}{3}$ es decir\n",
    "\n",
    "$$\\int_{a}^{b}f\\left(x\\right)dx\\approx\\int_{a}^{b}P_{3}\\left(x\\right)dx=\\frac{3h}{8} \\left[f\\left(x_{0}\\right)+3f\\left(x_{1}\\right)+3f\\left(x_{2}\\right)+f\\left(x_{3}\\right)\\right]$$\n",
    "\n",
    "Es importante notar que esta regla es una suma ponderada de los valores de $f\\left(x\\right)$ en los dos puntos finales $x_{0}=a$ y $x_{3}=b$, y los dos puntos $x_{1},x_{2}$ divide el intervalo en tres partes iguales.\n",
    "\n"
   ]
  },
  {
   "cell_type": "code",
   "execution_count": 8,
   "metadata": {
    "colab": {
     "base_uri": "https://localhost:8080/"
    },
    "id": "bbLbHny9w7-Q",
    "outputId": "44b393c5-e75d-4430-89da-48967267a5ff"
   },
   "outputs": [
    {
     "name": "stdout",
     "output_type": "stream",
     "text": [
      "el valor de la integral mediante el metodo de cuadratura de Simpson 3/8 es: 0.3333333333333333\n"
     ]
    }
   ],
   "source": [
    "def Simpson3_8():\n",
    "    # x0 punto inicial del intervalo \n",
    "    # x3 punto final del intervalo \n",
    "    # f funcion a integrar\n",
    "    x0=0\n",
    "    x3=1\n",
    "    h=(x3-x0)/3\n",
    "    x1=x0+h\n",
    "    x2=x0+2*h\n",
    "    def f(x):\n",
    "        return x*x\n",
    "        \n",
    "    integral=(3/8)*h*(f(x0)+3*f(x1)+3*f(x2)+f(x3))\n",
    "    \n",
    "    print(\"el valor de la integral mediante el metodo de cuadratura de Simpson 3/8 es: {}\".format(integral)) \n",
    "\n",
    "Simpson3_8()"
   ]
  },
  {
   "cell_type": "markdown",
   "metadata": {
    "id": "N6J_kbU0w7-U"
   },
   "source": [
    "# Cuadratura Gaussiana\n",
    "\n",
    "Las reglas vista en la sección anterior, también son conocidas como reglas de Newton-Cotes, se dedujeron integrando los polinomios de interpolación.\n",
    "\n",
    "El termino de error en el polinomio de interpolación de grado $n$ contiene la $\\left(n+1\\right)-esima$ derivada.\n",
    "\n",
    "En todas las formulas de Newton-Cotes se emplean valores de la función equidistantes. Este procedimiento es adecuado cuando las reglas son combinadas para crear nuevas reglas compuestas, como las vistas con anterioridad.\n",
    "\n",
    "Sin embargo la restricción que pide a los nodo ser equidistantes, puede afectar considerablemente la exactitud de la aproximación.\n",
    "\n",
    "La cuadratura Gaussiana optimiza la forma de seleccionar los puntos a ser evaluados y no los toma en forma igualmente espaciada como se había visto en las reglas de Newton-Cotes.\n",
    "\n",
    "Se escogen los nodos $x_{1},x_{2},\\ldots,x_{n}$ en el intervalo $\\left[a,b\\right]$ y los coeficientes $c_{1},c_{2},\\ldots c_{n}$ para reducir en lo posible el error esperado que se obtiene al efectuar la aproximación\n",
    "\n",
    "$$ \\int_{a}^{b}f\\left(x\\right)dx\\approx\\sum_{i=1}^{n}c_{i}f\\left(x_{i}\\right)$$\n",
    "\n",
    "Los coeficientes (pesos) $c_{1},c_{2},\\ldots c_{n}$ son arbitrarios y los nodos (puntos de Gauss) $x_{1},x_{2},\\ldots,x_{n}$ están restringidos a pertenecer al intervalo $\\left[a,b\\right]$.\n",
    "\n",
    "Esto nos da $2n$ parámetros de donde elegir. Considerando la clase de polinomios de grado máximo $2n-1$ también contiene $2n$ parámetros, si es que los coeficientes de un polinomio se consideran parámetros.\n",
    "\n",
    "Esta clase de polinomios es la más amplia para la cual es razonable esperar que la regla devuelva un resultado exacto.\n",
    "\n",
    "Se mostrará cómo seleccionar los coeficientes y los nodos cuando $n=2$ y cuando el intervalo de integración es $\\left[-1,1\\right]$.\n",
    "\n",
    "Después se explicara el caso más general de una elección arbitraria de puntos y pesos, indicando como modificar el método cuando se integra en un intervalo arbitrario.\n",
    "\n"
   ]
  },
  {
   "cell_type": "markdown",
   "metadata": {
    "id": "4UBd93v1SZyt"
   },
   "source": [
    "## Cuadratura Gaussiana con $n=2$ puntos\n",
    "\n",
    "Supongamos que se requiere determinar $c_{1},c_{2},x_{1},x_{2}$ de modo que la regla de integración\n",
    "\n",
    "$$\\int_{-1}^{1}f\\left(x\\right)dx\\approx c_{1}f\\left(x_{1}\\right)+c_{2}f\\left(x_{2}\\right)$$\n",
    "\n",
    "proporcione el resultado exacto siempre que $f\\left(x\\right)$ sea un polinomio de grado $2\\left(2\\right)-1=3$ o menor, es decir que sea un polinomio de la forma\n",
    "\n",
    "$$ f\\left(x\\right)=a_{0}+a_{1}x+a_{2}x^{2}+a_{3}x^{3} $$\n",
    "\n",
    "Dado que\n",
    "\n",
    "$$\\int f\\left(x\\right)dx=a_{0}\\int1dx+a_{1}\\int xdx+a_{2}\\int x^{2}dx+a_{3}\\int x^{3}d $$\n",
    "\n",
    "esto equivale a demostrar que la regla produce resultados exactos cuando $f\\left(x\\right)$ es $1,x,x^{2},x^{3}$\n",
    "\n",
    "Necesitamos $c_{1},c_{2},x_{1},x_{2}$ de manera tal que\n",
    "\n",
    "$$\\begin{array}{cc}\n",
    "{\\color{blue}{(a)}}\\,c_{1}*1+c_{2}*1=\\int_{-1}^{1}1dx=2\\quad & {\\color{blue}{(b)}}\\,c_{1}x_{1}+c_{2}x_{2}=\\int_{-1}^{1}xdx=0\\\\\n",
    "{\\color{blue}{(c)}}\\,c_{1}x_{1}^{2}+c_{2}x_{2}^{2}=\\int_{-1}^{1}x^{2}dx=\\frac{2}{3} & {\\color{blue}{(d)}}\\,c_{1}x_{1}^{3}+c_{2}x_{2}^{3}=\\int_{-1}^{1}x^{3}dx=0\n",
    "\\end{array}$$\n",
    "\n",
    "Las 4 incógnitas se puede determinar comenzando con $(b)$\n",
    "\n",
    "$$c_{2}=-\\frac{c_{1}x_{1}}{x_{2}} \\tag{6}$$\n",
    "\n",
    "Ahora substituyendo en $(d)$ se tiene\n",
    "\n",
    "$$c_{1}x_{1}^{3}-c_{1}x_{1}x_{2}^{2}=0\\,\\Rightarrow\\,x_{1}^{2}=x_{2}^{2}$$\n",
    "\n",
    "Pero $x_{1}\\neq x_{2}$ por lo tanto se tiene que\n",
    "\n",
    "$$x_{1}=-x_{2} \\tag{7}$$\n",
    "\n",
    "Ahora substituyendo $x_{1}$ en $(6)$, tenemos que $c_{1}=c_{2}$ y usando $(a)$\n",
    "\n",
    "$$ c_{1}=c_{2}=1 \\tag{8}$$\n",
    "\n",
    "Si se substituye $(7)$ y $(8)$ en $(c)$ se tiene\n",
    "\n",
    "$$x_{1}^{2}+x_{2}^{2}=\\frac{2}{3}\\,\\Rightarrow\\,x_{1}^{2}+x_{1}^{2}=\\frac{2}{3}\\,\\Rightarrow\\,2x_{1}^{2}=\\frac{2}{3}\\,\\Rightarrow\\,x_{1}^{2}=\\frac{1}{3}$$\n",
    "\n",
    "$$ \\therefore x_{1}=\\frac{1}{\\sqrt{3}}$$\n",
    "\n",
    "Así tenemos que\n",
    "\n",
    "$$ c_{1}=1,\\quad c_{2}=1,\\quad x_{1}=\\frac{1}{\\sqrt{3}}\\quad y \\quad x_{2}=\\frac{-1}{\\sqrt{3}}$$\n",
    "\n",
    "Así que la regla para 2 puntos es\n",
    "\n",
    "$$\\int_{-1}^{1}f\\left(x\\right)dx\\approx f\\left(\\frac{1}{\\sqrt{3}}\\right)+f\\left(\\frac{-1}{\\sqrt{3}}\\right) $$ \n",
    "\n",
    "\n",
    "\n",
    "|   n  puntos    | Coeficientes (pesos)  $C_{i}$  |   Puntos (integración) Gauss $x_{i}$ | \n",
    "|  :-:   |  :-:  |  :-:  |  \n",
    "| 2  | $c_{1}=c_{2}=1$      | $x_{1}=0.578\\\\x_{2}=-0.578$ |\n",
    "| 3  | $c_{1}=0.556\\\\c_{2}=0.889\\\\c_{3}=0.556$ | $x_{1}=0.774\\\\x_{2}=0\\\\x_{3}=-0.774$ |\n",
    "\n"
   ]
  },
  {
   "cell_type": "markdown",
   "metadata": {
    "id": "Lp9t6jRDSd6A"
   },
   "source": [
    "## Cuadratura Gaussiana general\n",
    "\n",
    "Una integral $\\int_{a}^{b}f\\left(x\\right)dx$ en un intervalo arbitrario $\\left[a,b\\right]$ se puede transformar en otra integral $\\int_{-1}^{1}f\\left(t\\right)dt$ en $\\left[-1,1\\right]$ usando el cambio de variable\n",
    "\n",
    "$$t=\\frac{2x-a-b}{b-a}\\Leftrightarrow x=\\frac{1}{2}\\left[\\left(b-a\\right)t+a+b\\right] $$\n",
    "\n",
    "Donde el diferencial de $x$ es $dx=\\frac{1}{2}\\left(b-a\\right)dt$. Esto nos permite aplicar la cuadratura Gaussiana a cualquier intervalo $\\left[a,b\\right]$, ya que\n",
    "\n",
    "$$ \\int_{a}^{b}f\\left(x\\right)dx=\\int_{-1}^{1}f\\left(\\frac{\\left(b-a\\right)t+\\left(b+a\\right)}{2}\\right)\\frac{\\left(b-a\\right)}{2}dt $$\n",
    "\n"
   ]
  },
  {
   "cell_type": "markdown",
   "metadata": {
    "id": "QUnDN8cOSgz1"
   },
   "source": [
    "### Ejemplo\n",
    "\n",
    "Evalúe $\\int_{0}^{3}e^{-x^{2}}dx$. Usando $n=3$ puntos. Encuentre el error, empleando el valor analítico.\n",
    "\n",
    "El valor de la integral resolviendo de manera analíticamente es 0.886207.\n",
    "\n"
   ]
  },
  {
   "cell_type": "code",
   "execution_count": 9,
   "metadata": {
    "colab": {
     "base_uri": "https://localhost:8080/"
    },
    "id": "TRtZ_9obw7-V",
    "outputId": "b0572e94-9fa9-4f31-94c1-aaf8f18626f0"
   },
   "outputs": [
    {
     "name": "stdout",
     "output_type": "stream",
     "text": [
      "el resultad de la integral con una cuadratura de 3 puntos es :0.8847093533668051\n"
     ]
    }
   ],
   "source": [
    "def CuaGauss():\n",
    "    # a punto inicial del intervalo\n",
    "    a = 0  \n",
    "    #a=0\n",
    "    # b punto final del intervalo\n",
    "    b = 3\n",
    "    #b=1 \n",
    "    # puntos de Gauss\n",
    "    x=np.array([0.774,0.0,-0.774])\n",
    "    # pesos de Gauss\n",
    "    c=np.array([0.556,0.889,0.556])\n",
    "    # f funcion a integrar\n",
    "    #f = lambda x:x*x\n",
    "    f = lambda x: np.exp(-(x)**2)\n",
    "    # acumulador\n",
    "    cuadratura=0.0\n",
    "    # constante de \n",
    "    dx=(b-a)/2\n",
    "    # por cada punto de integracion\n",
    "    for i in range(len(x)):\n",
    "        # nuevo punto de integracion\n",
    "        changeVar=0.0\n",
    "        changeVar=(((b-a)*x[i])+b+a)/2\n",
    "        # se acumula la evualuacion de f en nuevo punto\n",
    "        cuadratura+=c[i]*f(changeVar)\n",
    "        \n",
    "    integral=cuadratura*dx\n",
    "    \n",
    "    print(\"el resultad de la integral con una cuadratura de 3 puntos es :{}\".format(integral))\n",
    "    \n",
    "CuaGauss()"
   ]
  },
  {
   "cell_type": "markdown",
   "metadata": {
    "id": "Jz-VcnxDw7-a"
   },
   "source": [
    "# Referencias\n",
    "\n",
    "*   Riswan Butt, Numerical Analysys Using Matlab, Jones and Bartlett.\n",
    "*   Ward Cheney, David Kincaid, Métodos Numéricos y Computación, Cenage Learning.\n",
    "*   Richard L. Burden, J. Douglas Faires, Análisis Numérico, Math Learning.\n",
    "*   Yuri N. Skiba, Introducción a los Métodos Numéricos.\n",
    "*   Quarteroni, A, Sacco R.: Numerical mathematics, Springer. 2007.\n",
    "\n"
   ]
  }
 ],
 "metadata": {
  "colab": {
   "collapsed_sections": [],
   "include_colab_link": true,
   "name": "Integracion_Numerica_SCP.ipynb",
   "provenance": [],
   "toc_visible": true
  },
  "kernelspec": {
   "display_name": "Python 3 (ipykernel)",
   "language": "python",
   "name": "python3"
  },
  "language_info": {
   "codemirror_mode": {
    "name": "ipython",
    "version": 3
   },
   "file_extension": ".py",
   "mimetype": "text/x-python",
   "name": "python",
   "nbconvert_exporter": "python",
   "pygments_lexer": "ipython3",
   "version": "3.11.6"
  },
  "widgets": {
   "application/vnd.jupyter.widget-state+json": {
    "399c275d2ad4406db51ba8dbe524da65": {
     "model_module": "@jupyter-widgets/controls",
     "model_name": "VBoxModel",
     "state": {
      "_dom_classes": [
       "widget-interact"
      ],
      "_model_module": "@jupyter-widgets/controls",
      "_model_module_version": "1.5.0",
      "_model_name": "VBoxModel",
      "_view_count": null,
      "_view_module": "@jupyter-widgets/controls",
      "_view_module_version": "1.5.0",
      "_view_name": "VBoxView",
      "box_style": "",
      "children": [
       "IPY_MODEL_97baf2e944e849c5b2e43e4a1faf2c43",
       "IPY_MODEL_7c3e6a77d75a4d4484124174f749b4ad"
      ],
      "layout": "IPY_MODEL_d1e8d54e64924013a864af85c9070283"
     }
    },
    "3a45a889b9444e6aaaf68b21c98fc39c": {
     "model_module": "@jupyter-widgets/base",
     "model_name": "LayoutModel",
     "state": {
      "_model_module": "@jupyter-widgets/base",
      "_model_module_version": "1.2.0",
      "_model_name": "LayoutModel",
      "_view_count": null,
      "_view_module": "@jupyter-widgets/base",
      "_view_module_version": "1.2.0",
      "_view_name": "LayoutView",
      "align_content": null,
      "align_items": null,
      "align_self": null,
      "border": null,
      "bottom": null,
      "display": null,
      "flex": null,
      "flex_flow": null,
      "grid_area": null,
      "grid_auto_columns": null,
      "grid_auto_flow": null,
      "grid_auto_rows": null,
      "grid_column": null,
      "grid_gap": null,
      "grid_row": null,
      "grid_template_areas": null,
      "grid_template_columns": null,
      "grid_template_rows": null,
      "height": null,
      "justify_content": null,
      "justify_items": null,
      "left": null,
      "margin": null,
      "max_height": null,
      "max_width": null,
      "min_height": null,
      "min_width": null,
      "object_fit": null,
      "object_position": null,
      "order": null,
      "overflow": null,
      "overflow_x": null,
      "overflow_y": null,
      "padding": null,
      "right": null,
      "top": null,
      "visibility": null,
      "width": null
     }
    },
    "3ace7723bd6643b7a9e06c4f9a3dbed7": {
     "model_module": "@jupyter-widgets/base",
     "model_name": "LayoutModel",
     "state": {
      "_model_module": "@jupyter-widgets/base",
      "_model_module_version": "1.2.0",
      "_model_name": "LayoutModel",
      "_view_count": null,
      "_view_module": "@jupyter-widgets/base",
      "_view_module_version": "1.2.0",
      "_view_name": "LayoutView",
      "align_content": null,
      "align_items": null,
      "align_self": null,
      "border": null,
      "bottom": null,
      "display": null,
      "flex": null,
      "flex_flow": null,
      "grid_area": null,
      "grid_auto_columns": null,
      "grid_auto_flow": null,
      "grid_auto_rows": null,
      "grid_column": null,
      "grid_gap": null,
      "grid_row": null,
      "grid_template_areas": null,
      "grid_template_columns": null,
      "grid_template_rows": null,
      "height": null,
      "justify_content": null,
      "justify_items": null,
      "left": null,
      "margin": null,
      "max_height": null,
      "max_width": null,
      "min_height": null,
      "min_width": null,
      "object_fit": null,
      "object_position": null,
      "order": null,
      "overflow": null,
      "overflow_x": null,
      "overflow_y": null,
      "padding": null,
      "right": null,
      "top": null,
      "visibility": null,
      "width": null
     }
    },
    "4197f0e5bd2f41799346d9cf48f4239f": {
     "model_module": "@jupyter-widgets/controls",
     "model_name": "IntSliderModel",
     "state": {
      "_dom_classes": [],
      "_model_module": "@jupyter-widgets/controls",
      "_model_module_version": "1.5.0",
      "_model_name": "IntSliderModel",
      "_view_count": null,
      "_view_module": "@jupyter-widgets/controls",
      "_view_module_version": "1.5.0",
      "_view_name": "IntSliderView",
      "continuous_update": true,
      "description": "n",
      "description_tooltip": null,
      "disabled": false,
      "layout": "IPY_MODEL_4c95f406285c4aa1b3cb5b298c91c546",
      "max": 30,
      "min": 1,
      "orientation": "horizontal",
      "readout": true,
      "readout_format": "d",
      "step": 1,
      "style": "IPY_MODEL_440c6bd99298469cbe0cd930910c7fd7",
      "value": 1
     }
    },
    "440c6bd99298469cbe0cd930910c7fd7": {
     "model_module": "@jupyter-widgets/controls",
     "model_name": "SliderStyleModel",
     "state": {
      "_model_module": "@jupyter-widgets/controls",
      "_model_module_version": "1.5.0",
      "_model_name": "SliderStyleModel",
      "_view_count": null,
      "_view_module": "@jupyter-widgets/base",
      "_view_module_version": "1.2.0",
      "_view_name": "StyleView",
      "description_width": "",
      "handle_color": null
     }
    },
    "4c95f406285c4aa1b3cb5b298c91c546": {
     "model_module": "@jupyter-widgets/base",
     "model_name": "LayoutModel",
     "state": {
      "_model_module": "@jupyter-widgets/base",
      "_model_module_version": "1.2.0",
      "_model_name": "LayoutModel",
      "_view_count": null,
      "_view_module": "@jupyter-widgets/base",
      "_view_module_version": "1.2.0",
      "_view_name": "LayoutView",
      "align_content": null,
      "align_items": null,
      "align_self": null,
      "border": null,
      "bottom": null,
      "display": null,
      "flex": null,
      "flex_flow": null,
      "grid_area": null,
      "grid_auto_columns": null,
      "grid_auto_flow": null,
      "grid_auto_rows": null,
      "grid_column": null,
      "grid_gap": null,
      "grid_row": null,
      "grid_template_areas": null,
      "grid_template_columns": null,
      "grid_template_rows": null,
      "height": null,
      "justify_content": null,
      "justify_items": null,
      "left": null,
      "margin": null,
      "max_height": null,
      "max_width": null,
      "min_height": null,
      "min_width": null,
      "object_fit": null,
      "object_position": null,
      "order": null,
      "overflow": null,
      "overflow_x": null,
      "overflow_y": null,
      "padding": null,
      "right": null,
      "top": null,
      "visibility": null,
      "width": null
     }
    },
    "636b8498af9a49e6b05fac69100d4183": {
     "model_module": "@jupyter-widgets/controls",
     "model_name": "VBoxModel",
     "state": {
      "_dom_classes": [
       "widget-interact"
      ],
      "_model_module": "@jupyter-widgets/controls",
      "_model_module_version": "1.5.0",
      "_model_name": "VBoxModel",
      "_view_count": null,
      "_view_module": "@jupyter-widgets/controls",
      "_view_module_version": "1.5.0",
      "_view_name": "VBoxView",
      "box_style": "",
      "children": [
       "IPY_MODEL_8d3339d7f81144b7bfd9fbaa817a8515",
       "IPY_MODEL_e056a845a37f4e3ba1f00afcf5cb6545"
      ],
      "layout": "IPY_MODEL_acfd381dd4f5486bb6d5df6ec9e9b8ab"
     }
    },
    "7c3e6a77d75a4d4484124174f749b4ad": {
     "model_module": "@jupyter-widgets/output",
     "model_name": "OutputModel",
     "state": {
      "_dom_classes": [],
      "_model_module": "@jupyter-widgets/output",
      "_model_module_version": "1.0.0",
      "_model_name": "OutputModel",
      "_view_count": null,
      "_view_module": "@jupyter-widgets/output",
      "_view_module_version": "1.0.0",
      "_view_name": "OutputView",
      "layout": "IPY_MODEL_e7b696a4890b4df4b61922a2f5fe42d9",
      "msg_id": "",
      "outputs": [
       {
        "metadata": {
         "tags": []
        },
        "output_type": "stream",
        "stream": "stdout",
        "text": "el valor de la integral mediante el metodo de cuadratura del  Trapecio Compuesto es: 0.33351851851851855\n"
       },
       {
        "image/png": "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\n",
        "metadata": {
         "needs_background": "light",
         "tags": []
        },
        "output_type": "display_data",
        "text/plain": "<Figure size 432x288 with 1 Axes>"
       }
      ]
     }
    },
    "7e231a8482bb4e92bcbba3c97927cafb": {
     "model_module": "@jupyter-widgets/output",
     "model_name": "OutputModel",
     "state": {
      "_dom_classes": [],
      "_model_module": "@jupyter-widgets/output",
      "_model_module_version": "1.0.0",
      "_model_name": "OutputModel",
      "_view_count": null,
      "_view_module": "@jupyter-widgets/output",
      "_view_module_version": "1.0.0",
      "_view_name": "OutputView",
      "layout": "IPY_MODEL_cc9f48ab9549445aa06bfac9dc0a3af4",
      "msg_id": "",
      "outputs": [
       {
        "metadata": {
         "tags": []
        },
        "output_type": "stream",
        "stream": "stdout",
        "text": "el valor de la integral mediante el metodo de cuadratura del rectangulo es: 1.0\n"
       },
       {
        "image/png": "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\n",
        "metadata": {
         "needs_background": "light",
         "tags": []
        },
        "output_type": "display_data",
        "text/plain": "<Figure size 432x288 with 1 Axes>"
       }
      ]
     }
    },
    "848b4579080341d0b8f7149693016442": {
     "model_module": "@jupyter-widgets/base",
     "model_name": "LayoutModel",
     "state": {
      "_model_module": "@jupyter-widgets/base",
      "_model_module_version": "1.2.0",
      "_model_name": "LayoutModel",
      "_view_count": null,
      "_view_module": "@jupyter-widgets/base",
      "_view_module_version": "1.2.0",
      "_view_name": "LayoutView",
      "align_content": null,
      "align_items": null,
      "align_self": null,
      "border": null,
      "bottom": null,
      "display": null,
      "flex": null,
      "flex_flow": null,
      "grid_area": null,
      "grid_auto_columns": null,
      "grid_auto_flow": null,
      "grid_auto_rows": null,
      "grid_column": null,
      "grid_gap": null,
      "grid_row": null,
      "grid_template_areas": null,
      "grid_template_columns": null,
      "grid_template_rows": null,
      "height": null,
      "justify_content": null,
      "justify_items": null,
      "left": null,
      "margin": null,
      "max_height": null,
      "max_width": null,
      "min_height": null,
      "min_width": null,
      "object_fit": null,
      "object_position": null,
      "order": null,
      "overflow": null,
      "overflow_x": null,
      "overflow_y": null,
      "padding": null,
      "right": null,
      "top": null,
      "visibility": null,
      "width": null
     }
    },
    "8d3339d7f81144b7bfd9fbaa817a8515": {
     "model_module": "@jupyter-widgets/controls",
     "model_name": "IntSliderModel",
     "state": {
      "_dom_classes": [],
      "_model_module": "@jupyter-widgets/controls",
      "_model_module_version": "1.5.0",
      "_model_name": "IntSliderModel",
      "_view_count": null,
      "_view_module": "@jupyter-widgets/controls",
      "_view_module_version": "1.5.0",
      "_view_name": "IntSliderView",
      "continuous_update": true,
      "description": "n",
      "description_tooltip": null,
      "disabled": false,
      "layout": "IPY_MODEL_3ace7723bd6643b7a9e06c4f9a3dbed7",
      "max": 30,
      "min": 1,
      "orientation": "horizontal",
      "readout": true,
      "readout_format": "d",
      "step": 1,
      "style": "IPY_MODEL_d61957fde34c4de5ad9c56576b7b121f",
      "value": 18
     }
    },
    "963caec9d9764e9f891affd364a7daad": {
     "model_module": "@jupyter-widgets/base",
     "model_name": "LayoutModel",
     "state": {
      "_model_module": "@jupyter-widgets/base",
      "_model_module_version": "1.2.0",
      "_model_name": "LayoutModel",
      "_view_count": null,
      "_view_module": "@jupyter-widgets/base",
      "_view_module_version": "1.2.0",
      "_view_name": "LayoutView",
      "align_content": null,
      "align_items": null,
      "align_self": null,
      "border": null,
      "bottom": null,
      "display": null,
      "flex": null,
      "flex_flow": null,
      "grid_area": null,
      "grid_auto_columns": null,
      "grid_auto_flow": null,
      "grid_auto_rows": null,
      "grid_column": null,
      "grid_gap": null,
      "grid_row": null,
      "grid_template_areas": null,
      "grid_template_columns": null,
      "grid_template_rows": null,
      "height": null,
      "justify_content": null,
      "justify_items": null,
      "left": null,
      "margin": null,
      "max_height": null,
      "max_width": null,
      "min_height": null,
      "min_width": null,
      "object_fit": null,
      "object_position": null,
      "order": null,
      "overflow": null,
      "overflow_x": null,
      "overflow_y": null,
      "padding": null,
      "right": null,
      "top": null,
      "visibility": null,
      "width": null
     }
    },
    "97baf2e944e849c5b2e43e4a1faf2c43": {
     "model_module": "@jupyter-widgets/controls",
     "model_name": "IntSliderModel",
     "state": {
      "_dom_classes": [],
      "_model_module": "@jupyter-widgets/controls",
      "_model_module_version": "1.5.0",
      "_model_name": "IntSliderModel",
      "_view_count": null,
      "_view_module": "@jupyter-widgets/controls",
      "_view_module_version": "1.5.0",
      "_view_name": "IntSliderView",
      "continuous_update": true,
      "description": "n",
      "description_tooltip": null,
      "disabled": false,
      "layout": "IPY_MODEL_3a45a889b9444e6aaaf68b21c98fc39c",
      "max": 30,
      "min": 1,
      "orientation": "horizontal",
      "readout": true,
      "readout_format": "d",
      "step": 1,
      "style": "IPY_MODEL_fcb301d710e24fbb8925dd82a2a2e3ca",
      "value": 30
     }
    },
    "acfd381dd4f5486bb6d5df6ec9e9b8ab": {
     "model_module": "@jupyter-widgets/base",
     "model_name": "LayoutModel",
     "state": {
      "_model_module": "@jupyter-widgets/base",
      "_model_module_version": "1.2.0",
      "_model_name": "LayoutModel",
      "_view_count": null,
      "_view_module": "@jupyter-widgets/base",
      "_view_module_version": "1.2.0",
      "_view_name": "LayoutView",
      "align_content": null,
      "align_items": null,
      "align_self": null,
      "border": null,
      "bottom": null,
      "display": null,
      "flex": null,
      "flex_flow": null,
      "grid_area": null,
      "grid_auto_columns": null,
      "grid_auto_flow": null,
      "grid_auto_rows": null,
      "grid_column": null,
      "grid_gap": null,
      "grid_row": null,
      "grid_template_areas": null,
      "grid_template_columns": null,
      "grid_template_rows": null,
      "height": null,
      "justify_content": null,
      "justify_items": null,
      "left": null,
      "margin": null,
      "max_height": null,
      "max_width": null,
      "min_height": null,
      "min_width": null,
      "object_fit": null,
      "object_position": null,
      "order": null,
      "overflow": null,
      "overflow_x": null,
      "overflow_y": null,
      "padding": null,
      "right": null,
      "top": null,
      "visibility": null,
      "width": null
     }
    },
    "cc9f48ab9549445aa06bfac9dc0a3af4": {
     "model_module": "@jupyter-widgets/base",
     "model_name": "LayoutModel",
     "state": {
      "_model_module": "@jupyter-widgets/base",
      "_model_module_version": "1.2.0",
      "_model_name": "LayoutModel",
      "_view_count": null,
      "_view_module": "@jupyter-widgets/base",
      "_view_module_version": "1.2.0",
      "_view_name": "LayoutView",
      "align_content": null,
      "align_items": null,
      "align_self": null,
      "border": null,
      "bottom": null,
      "display": null,
      "flex": null,
      "flex_flow": null,
      "grid_area": null,
      "grid_auto_columns": null,
      "grid_auto_flow": null,
      "grid_auto_rows": null,
      "grid_column": null,
      "grid_gap": null,
      "grid_row": null,
      "grid_template_areas": null,
      "grid_template_columns": null,
      "grid_template_rows": null,
      "height": null,
      "justify_content": null,
      "justify_items": null,
      "left": null,
      "margin": null,
      "max_height": null,
      "max_width": null,
      "min_height": null,
      "min_width": null,
      "object_fit": null,
      "object_position": null,
      "order": null,
      "overflow": null,
      "overflow_x": null,
      "overflow_y": null,
      "padding": null,
      "right": null,
      "top": null,
      "visibility": null,
      "width": null
     }
    },
    "d1e8d54e64924013a864af85c9070283": {
     "model_module": "@jupyter-widgets/base",
     "model_name": "LayoutModel",
     "state": {
      "_model_module": "@jupyter-widgets/base",
      "_model_module_version": "1.2.0",
      "_model_name": "LayoutModel",
      "_view_count": null,
      "_view_module": "@jupyter-widgets/base",
      "_view_module_version": "1.2.0",
      "_view_name": "LayoutView",
      "align_content": null,
      "align_items": null,
      "align_self": null,
      "border": null,
      "bottom": null,
      "display": null,
      "flex": null,
      "flex_flow": null,
      "grid_area": null,
      "grid_auto_columns": null,
      "grid_auto_flow": null,
      "grid_auto_rows": null,
      "grid_column": null,
      "grid_gap": null,
      "grid_row": null,
      "grid_template_areas": null,
      "grid_template_columns": null,
      "grid_template_rows": null,
      "height": null,
      "justify_content": null,
      "justify_items": null,
      "left": null,
      "margin": null,
      "max_height": null,
      "max_width": null,
      "min_height": null,
      "min_width": null,
      "object_fit": null,
      "object_position": null,
      "order": null,
      "overflow": null,
      "overflow_x": null,
      "overflow_y": null,
      "padding": null,
      "right": null,
      "top": null,
      "visibility": null,
      "width": null
     }
    },
    "d61957fde34c4de5ad9c56576b7b121f": {
     "model_module": "@jupyter-widgets/controls",
     "model_name": "SliderStyleModel",
     "state": {
      "_model_module": "@jupyter-widgets/controls",
      "_model_module_version": "1.5.0",
      "_model_name": "SliderStyleModel",
      "_view_count": null,
      "_view_module": "@jupyter-widgets/base",
      "_view_module_version": "1.2.0",
      "_view_name": "StyleView",
      "description_width": "",
      "handle_color": null
     }
    },
    "e056a845a37f4e3ba1f00afcf5cb6545": {
     "model_module": "@jupyter-widgets/output",
     "model_name": "OutputModel",
     "state": {
      "_dom_classes": [],
      "_model_module": "@jupyter-widgets/output",
      "_model_module_version": "1.0.0",
      "_model_name": "OutputModel",
      "_view_count": null,
      "_view_module": "@jupyter-widgets/output",
      "_view_module_version": "1.0.0",
      "_view_name": "OutputView",
      "layout": "IPY_MODEL_963caec9d9764e9f891affd364a7daad",
      "msg_id": "",
      "outputs": [
       {
        "metadata": {
         "tags": []
        },
        "output_type": "stream",
        "stream": "stdout",
        "text": "el valor de la integral mediante el metodo de cuadratura del punto medio es: 0.33307613168724276\n"
       },
       {
        "image/png": "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\n",
        "metadata": {
         "needs_background": "light",
         "tags": []
        },
        "output_type": "display_data",
        "text/plain": "<Figure size 432x288 with 1 Axes>"
       }
      ]
     }
    },
    "e7b696a4890b4df4b61922a2f5fe42d9": {
     "model_module": "@jupyter-widgets/base",
     "model_name": "LayoutModel",
     "state": {
      "_model_module": "@jupyter-widgets/base",
      "_model_module_version": "1.2.0",
      "_model_name": "LayoutModel",
      "_view_count": null,
      "_view_module": "@jupyter-widgets/base",
      "_view_module_version": "1.2.0",
      "_view_name": "LayoutView",
      "align_content": null,
      "align_items": null,
      "align_self": null,
      "border": null,
      "bottom": null,
      "display": null,
      "flex": null,
      "flex_flow": null,
      "grid_area": null,
      "grid_auto_columns": null,
      "grid_auto_flow": null,
      "grid_auto_rows": null,
      "grid_column": null,
      "grid_gap": null,
      "grid_row": null,
      "grid_template_areas": null,
      "grid_template_columns": null,
      "grid_template_rows": null,
      "height": null,
      "justify_content": null,
      "justify_items": null,
      "left": null,
      "margin": null,
      "max_height": null,
      "max_width": null,
      "min_height": null,
      "min_width": null,
      "object_fit": null,
      "object_position": null,
      "order": null,
      "overflow": null,
      "overflow_x": null,
      "overflow_y": null,
      "padding": null,
      "right": null,
      "top": null,
      "visibility": null,
      "width": null
     }
    },
    "ee73434847f84eb78b8f62717d13ebe8": {
     "model_module": "@jupyter-widgets/controls",
     "model_name": "VBoxModel",
     "state": {
      "_dom_classes": [
       "widget-interact"
      ],
      "_model_module": "@jupyter-widgets/controls",
      "_model_module_version": "1.5.0",
      "_model_name": "VBoxModel",
      "_view_count": null,
      "_view_module": "@jupyter-widgets/controls",
      "_view_module_version": "1.5.0",
      "_view_name": "VBoxView",
      "box_style": "",
      "children": [
       "IPY_MODEL_4197f0e5bd2f41799346d9cf48f4239f",
       "IPY_MODEL_7e231a8482bb4e92bcbba3c97927cafb"
      ],
      "layout": "IPY_MODEL_848b4579080341d0b8f7149693016442"
     }
    },
    "fcb301d710e24fbb8925dd82a2a2e3ca": {
     "model_module": "@jupyter-widgets/controls",
     "model_name": "SliderStyleModel",
     "state": {
      "_model_module": "@jupyter-widgets/controls",
      "_model_module_version": "1.5.0",
      "_model_name": "SliderStyleModel",
      "_view_count": null,
      "_view_module": "@jupyter-widgets/base",
      "_view_module_version": "1.2.0",
      "_view_name": "StyleView",
      "description_width": "",
      "handle_color": null
     }
    }
   }
  }
 },
 "nbformat": 4,
 "nbformat_minor": 4
}
