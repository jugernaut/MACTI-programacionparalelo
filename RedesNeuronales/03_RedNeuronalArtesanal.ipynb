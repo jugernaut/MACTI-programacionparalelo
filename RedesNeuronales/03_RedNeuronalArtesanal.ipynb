{
  "nbformat": 4,
  "nbformat_minor": 0,
  "metadata": {
    "colab": {
      "name": "03_RedNeuronalArtesanal.ipynb",
      "provenance": [],
      "toc_visible": true,
      "authorship_tag": "ABX9TyNJRzqwLMplZ/ftL6fEE1sA",
      "include_colab_link": true
    },
    "kernelspec": {
      "name": "python3",
      "display_name": "Python 3"
    },
    "language_info": {
      "name": "python"
    }
  },
  "cells": [
    {
      "cell_type": "markdown",
      "metadata": {
        "id": "view-in-github",
        "colab_type": "text"
      },
      "source": [
        "<a href=\"https://colab.research.google.com/github/jugernaut/ProgramacionEnParalelo/blob/desarrollo/RedesNeuronales/03_RedNeuronalArtesanal.ipynb\" target=\"_parent\"><img src=\"https://colab.research.google.com/assets/colab-badge.svg\" alt=\"Open In Colab\"/></a>"
      ]
    },
    {
      "cell_type": "markdown",
      "metadata": {
        "id": "mEMa0gtYo2EJ"
      },
      "source": [
        "<font color=\"Teal\" face=\"Comic Sans MS,arial\">\n",
        "  <h1 align=\"center\"><i>Red Neuronal (artesanal)</i></h1>\n",
        "  </font>\n",
        "  <font color=\"Black\" face=\"Comic Sans MS,arial\">\n",
        "  <h5 align=\"center\"><i>Profesor: M. en C. Miguel Angel Pérez León</i></h5>\n",
        "    <h5 align=\"center\"><i>Ayudante: Jesús Iván Coss Calderón</i></h5>\n",
        "    <h5 align=\"center\"><i>Ayudante: Mario Arturo</i></h5>\n",
        "  <h5 align=\"center\"><i>Materia: Seminario de programación en paralelo</i></h5>\n",
        "  </font>"
      ]
    },
    {
      "cell_type": "markdown",
      "metadata": {
        "id": "h6H4CFkUpUoI"
      },
      "source": [
        "# Introducción\n",
        "\n",
        "Este material se generó con base en los videos e ideas que se muestran en las referencias, para mayor detalle es necesario consultar las mismas."
      ]
    },
    {
      "cell_type": "markdown",
      "metadata": {
        "id": "vrKIfEQzrdnf"
      },
      "source": [
        "# Planteamiento del problema\n",
        "\n",
        "Vamos a generar una red neuronal que nos ayude a clasificar un conjunto de datos.\n",
        "\n",
        "Para hacerlo un poco más interesante, pensemos que lo que estamos buscando es rescatar a los héroes de *Game of Thrones*, para ver un poco más de detalles al respecto visitar este [video](https://youtu.be/uwbHOpp9xkc?t=437).\n",
        "\n",
        "La idea básica es encontrar una forma de delimitar a los datos de color salmón y los datos de color azul, de manera gráfica veríamos lo siguiente."
      ]
    },
    {
      "cell_type": "code",
      "metadata": {
        "colab": {
          "base_uri": "https://localhost:8080/",
          "height": 265
        },
        "id": "Zvr375p2Wsfj",
        "outputId": "eccae1a7-a06f-4dd6-b430-eb560bdd0e55"
      },
      "source": [
        "# import de las bibliotecas necesarias\n",
        "import numpy as np\n",
        "import scipy as sc\n",
        "import matplotlib.pyplot as plt\n",
        "from sklearn.datasets import make_circles\n",
        "\n",
        "# numero de muestras\n",
        "n = 500\n",
        "# tipo de datos\n",
        "p = 2\n",
        "\n",
        "# x=coordeadas, y=valores (adentro o fuera)\n",
        "x, y = make_circles(n_samples=n, factor=0.5, noise=0.05)\n",
        "y = y[:, np.newaxis]\n",
        "\n",
        "# se grafican ambos conjuntos de datos\n",
        "plt.scatter(x[y[:,0]==0 ,0], x[y[:,0]==0 ,1], c='skyblue', label=\"Villanos\")\n",
        "plt.scatter(x[y[:,0]==1, 0], x[y[:,0]==1 ,1], c='salmon', label=\"Heroes Jon Snow\")\n",
        "plt.legend()\n",
        "plt.axis(\"equal\")\n",
        "plt.show()"
      ],
      "execution_count": 23,
      "outputs": [
        {
          "output_type": "display_data",
          "data": {
            "image/png": "[encoded data removed]",
            "text/plain": [
              "<Figure size 432x288 with 1 Axes>"
            ]
          },
          "metadata": {
            "tags": [],
            "needs_background": "light"
          }
        }
      ]
    },
    {
      "cell_type": "markdown",
      "metadata": {
        "id": "-9-G1qkbtcOS"
      },
      "source": [
        "Imaginemos que los datos de color azul son los \"enemigos\" y los datos de color salmón son los \"aliados\".\n",
        "\n",
        "Necesitamos definir un algoritmo que nos ayude a determinar si un par de coordenadas $(x, y)$ corresponden a un **aliado** ó a un **enemigo**.\n",
        "\n",
        "Para tal propósito vamos a crear una red neuronal que nos ayude a clasificar a estos individuos."
      ]
    },
    {
      "cell_type": "markdown",
      "metadata": {
        "id": "cnL5i1jDuayX"
      },
      "source": [
        "# POO (paradigma orientado a objetos)\n",
        "\n",
        "Para una mejor organización de los algoritmos que se mostrarán a continuación, lo mejor es hacer uso del paradigma orientado a objetos. De tal forma que vamos a crear la clase `CapaNeuronal`, dentro de la clase `RedNeuronal`.\n",
        "\n",
        "Además vamos a definir el **comportamiento** y **caracteristicas** de cada clase."
      ]
    },
    {
      "cell_type": "code",
      "metadata": {
        "id": "f3xNrGOLvyzl"
      },
      "source": [
        "# import de las bibliotecas necesarias\n",
        "import numpy as np\n",
        "\n",
        "# Clase para crear redes neuronales\n",
        "class RedNeuronal(object):\n",
        "    '''\n",
        "    Constructor de redes neuronales, usa capas y funcion de act\n",
        "    top:    topologia de la red, la cantidad de neuronas\n",
        "            y de conexiones que existe entre cada capa\n",
        "    act_f:  funcion de activacion para la red, misma que se aplica\n",
        "            en cada capa\n",
        "    ejemplo: topologia = [p, 4, 8, 1], la primera capa tiene p\n",
        "    neuronas, la segunda 4 y asi hasta llegar a 1 salida de la red\n",
        "    '''\n",
        "    def __init__(self, top, act_f):\n",
        "        # capas de la red neuronal\n",
        "        capas = []\n",
        "        # por cada capa en la topologia se crea una objeto de tipo capa\n",
        "        for c in range(len(top[:-1])):\n",
        "            capas.append(RedNeuronal.CapaNeuronal(top[c], top[c+1], act_f))\n",
        "        \n",
        "        self.capas = capas\n",
        "        self.topologia = top\n",
        "        self.fun_act = act_f\n",
        "        \n",
        "    # Define una estructura para una capa de la red\n",
        "    class CapaNeuronal():\n",
        "        '''\n",
        "        constructor\n",
        "        n_conn: numero de conexiones entre las neuronas\n",
        "        n_neur: numero de neuronas en la capa\n",
        "        act_f:  funcion de activacion para esta capa\n",
        "        '''\n",
        "        def __init__(self, n_conn, n_neur, act_f):\n",
        "            self.act_f = act_f\n",
        "            # bias para cada entrada de las neuronas\n",
        "            # se multiplica por 2 y se resta menos 1 para moverlo al rango adecuado\n",
        "            self.b = np.random.rand(1, n_neur) * 2 -1\n",
        "            # matriz de pesos asociados a las neuronas por capa\n",
        "            self.w = np.random.rand(n_conn, n_neur) * 2 -1\n",
        "            \n",
        "    '''\n",
        "    Metodo que implemeta el entrenamiento (y prediccion) de la red neuronal\n",
        "    hace uso del forward pass, backward pass y gradient descend\n",
        "    x: valores de entrenamiento (o prediccion)\n",
        "    y: valores esperados en caso de entrenamiento\n",
        "    f_costo: funcion de costo para el proceso de aprendizaje\n",
        "    aprendizaje: tasa de aprendizaje, que tanto se modifican los parametros\n",
        "    etrenar: modo entrenamiento o prediccion\n",
        "    '''       \n",
        "    def entrenamiento(self, x, y, f_costo, aprendizaje = 0.5, entrenar=True):\n",
        "        # salidas de la red por cada capa, se alamacena la suma ponderada\n",
        "        # y la salida de la funcion de activacion (z, a)\n",
        "        salidas = [(None, x)]\n",
        "        # variable temporal para no sobreescribir y poder actualizar los pesos\n",
        "        _w = None\n",
        "        # para cada capa de la red\n",
        "        for capa in self.capas:\n",
        "            # paso hacia adelante, vector de entrada pasa capa por capa\n",
        "            '''Por cada capa se multiplica la ultima salida (salidas[-1][1] o input)\n",
        "            por la matriz de pesos de la capa (capa.w) y al resultado se le suma\n",
        "            el vector bias (capa.bias). De esta forma en z se almacena la suma \n",
        "            ponderada (z) de toda un capa en forma de vector columa'''\n",
        "            z = np.matmul(salidas[-1][1], capa.w) + capa.b\n",
        "            '''La suma ponderada z se pasa por la funcion de activacion para obtener\n",
        "            el vector columna de salida de la capa actual, eso se almacena en la\n",
        "            variable a'''\n",
        "            a = capa.act_f[0](z)\n",
        "            salidas.append((z, a))\n",
        "        # en caso de entrenar a la red es necesario realizar BACKPROPAGATION\n",
        "        if entrenar:\n",
        "            # vecto que almacena las modificaciones a realizar en los parametros w\n",
        "            # VER VIDEO DE FORMULAR\n",
        "            deltas =[]\n",
        "            # comenzamos del final y vamos hacia el inicio (reversed)\n",
        "            for c in reversed(range(len(self.capas))):\n",
        "                z = salidas[c+1][0]\n",
        "                a = salidas[c+1][1]\n",
        "        \n",
        "                if c == len(self.capas) - 1:\n",
        "                    #calcular delta ultima capa (revisar video deltas)\n",
        "                    deltas.insert(0, f_costo[1](a, y) * self.capas[c].act_f[1](a))\n",
        "                else:\n",
        "                    #calcular resto de las deltas (revisar video deltas)\n",
        "                    deltas.insert(0, deltas[0] @ _w.T * self.capas[c].act_f[1](a)) \n",
        "            \n",
        "                #variable temporal para no sobreescribir\n",
        "                _w = self.capas[c].w\n",
        "                #descenso del gradiente\n",
        "                self.capas[c].b = self.capas[c].b - np.mean(deltas[0], \n",
        "                                        axis=0, keepdims=True) * aprendizaje\n",
        "                self.capas[c].w = self.capas[c].w - salidas[c][1].T @ deltas[0] * aprendizaje\n",
        "        # se devuelve la salida de la última capa\n",
        "        return salidas[-1][1]\n",
        "        "
      ],
      "execution_count": 8,
      "outputs": []
    },
    {
      "cell_type": "markdown",
      "metadata": {
        "id": "l0NuBCBSu2ly"
      },
      "source": [
        "## Clase `CapaNeuronal`\n",
        "\n",
        "Esta clase nos proporciona la estructura de datos para almacenar y representar los componentes de la red.\n",
        "\n",
        "Pensemos en esta clase como la clase que nos ayuda a **abstraer y condensar las caractetisticas** que nos interesan de una capa de la red neuronal.\n",
        "\n",
        "Algunas de estas caracteristicas, serían elementos como:\n",
        "\n",
        "*   Número de nueronas.\n",
        "*   Matriz de peros de las conexiones que entran en cada neurona.\n",
        "*   Valores de los sesgos por cada neurona.\n",
        "*   Función de activación.\n",
        "\n",
        "De tal forma que podemos imaginar que esta clase se ve de la siguiente manera.\n",
        "\n",
        "<center>\n",
        "<img src=\"https://github.com/jugernaut/ProgramacionEnParalelo/blob/desarrollo/Imagenes/RedesNeuronales/Capa.png?raw=1\" width=\"400\">\n",
        "</center>\n",
        "\n",
        "En términos matemáticos podemos pensar que en cada capa se almacenan los elementos necesarios para realizar la suma ponderda y mediante la función de activación determinar el estado de las neuronas de la capa en cuestión."
      ]
    },
    {
      "cell_type": "markdown",
      "metadata": {
        "id": "KhWRIq7e0yOg"
      },
      "source": [
        "## Activaciones (entradas)\n",
        "\n",
        "Las activaciones o entradas no pertenece propiamente a la clase `CapaNeuronal` pero son parte de los elementos que se usan para el calculo de las activaciones, así que es buena idea comenzar a darle una notación.\n",
        "\n",
        "Pensemos que organizamos las activaciones (o entradas en el caso de la capa de entrada) en un vector columna, digamos $\\vec{a}$.\n",
        "\n",
        "Para una mejor organización, usemos un superindice para señalar la capa a la que que pertenecen estan activaciones y un subindice para indicar el renglón al que pertenece dicha activación, es decir $a_{i}^{c}$.\n",
        "\n",
        "En forma matricial estos elementos (correspondientes a la capa de entrada, como se muestra en la imagen) se verían de la siguiente forma.\n",
        "\n",
        "$$\\begin{array}{ccc}\n",
        "a^{0} & = & \\left(\\begin{array}{c}\n",
        "a_{0}^{0}\\\\\n",
        "a_{1}^{0}\n",
        "\\end{array}\\right)\\end{array}$$"
      ]
    },
    {
      "cell_type": "markdown",
      "metadata": {
        "id": "8mW8oSiIvDwI"
      },
      "source": [
        "### Pesos $(w)$\n",
        "\n",
        "Todos los pesos los podemos agrupar en una matriz, en la cual cada renglón contiene los pesos asociados a las conexiones entre la capa $c-1$ y la capa $c$.\n",
        "\n",
        "Esta matriz de pesos (entre la capa de entrada y la siguiente capa) se veria de la siguiente forma.\n",
        "\n",
        "$$W=\\left(\\begin{array}{cc}\n",
        "w_{0,0} & w_{0,1}\\\\\n",
        "w_{1,0} & w_{1,1}\\\\\n",
        "\\vdots & \\vdots\\\\\n",
        "w_{n,0} & w_{n,1}\n",
        "\\end{array}\\right)$$"
      ]
    },
    {
      "cell_type": "markdown",
      "metadata": {
        "id": "R9kjM1lovGRM"
      },
      "source": [
        "### Sesgos $(b)$\n",
        "\n",
        "El vector de sesgos toma una forma similar a las activaciones, es decir.\n",
        "\n",
        "$$\\begin{array}{ccc}\n",
        "b^{1} & = & \\left(\\begin{array}{c}\n",
        "b_{0}^{1}\\\\\n",
        "b_{1}^{1}\n",
        "\\end{array}\\right)\\end{array}$$\n",
        "\n",
        "Para el caso del vector de secgos comenzamos con el superindice 1, ya que la capa de entrada no contiene un vector de sesgos."
      ]
    },
    {
      "cell_type": "markdown",
      "metadata": {
        "id": "BDWLVMnkvr2I"
      },
      "source": [
        "### Notación matricial\n",
        "\n",
        "Ya que contamos con estos elementos es muy sencillo expresar todas los operaciones que se llevan a cabo en una capa cuando se realiza el paso hacia adelante (*forward pass*).\n",
        "\n",
        "Recordando un poco este proceso del paso hacia adelante, se tienen que llevar a cabo las siguientes operaciones.\n",
        "\n",
        "1.   Multiplicaciones de pesos y activaciones (o entradas).\n",
        "2.   Suma ponderada.\n",
        "3.   Suma del sesgo.\n",
        "4.   Hacer uso de la función de activación para cada neurona de la capa.\n",
        "\n",
        "En forma compacta podemos pensar en todas estas operaciones (entre la capa de entrada y la primer capa oculta) de la siguiente forma.\n",
        "\n",
        "$$\\begin{array}{cccccc}\n",
        "\\left(\\begin{array}{cc}\n",
        "w_{0,0} & w_{0,1}\\\\\n",
        "w_{1,0} & w_{1,1}\\\\\n",
        "\\vdots & \\vdots\\\\\n",
        "w_{n,0} & w_{n,1}\n",
        "\\end{array}\\right) & \\left(\\begin{array}{c}\n",
        "a_{0}^{c-1}\\\\\n",
        "a_{1}^{c-1}\n",
        "\\end{array}\\right) & + & \\left(\\begin{array}{c}\n",
        "b_{0}^{c}\\\\\n",
        "b_{1}^{c}\\\\\n",
        "\\vdots\\\\\n",
        "b_{n}^{c}\n",
        "\\end{array}\\right) & = & \\left(\\begin{array}{c}\n",
        "a_{0}^{c-1}*w_{0,0}+a_{1}^{c-1}*w_{0,1}+b_{0}^{c}\\\\\n",
        "a_{0}^{c-1}*w_{1,0}+a_{1}^{c-1}*w_{1,1}+b_{1}^{c}\\\\\n",
        "\\vdots\\\\\n",
        "a_{0}^{c-1}*w_{n,0}+a_{1}^{c-1}*w_{n,1}+b_{n}^{c}\n",
        "\\end{array}\\right)\\end{array}$$\n",
        "\n",
        "Finalmente dado que el resultado es un vector columa, podemos usar este vector y pasarlo por la función de activación para determinar el estado de cada neurona de la capa en cuestión, es decir.\n",
        "\n",
        "$$F\\left(\\vec{X}\\right)$$\n",
        "\n",
        "En este [video](https://youtu.be/jKCQsndqEGQ?t=897) puedes encontrar una expliación más detallada de esta notación.\n",
        "\n",
        "La siguiente celda se muestra el ejemplo de una sola `CapaNeuronal` que contiene **4 neuronas** y cada una de estas neuronas **se conecta con 3 neuronas de la capa previa**, es decir una matriz de $3\\times4$.\n",
        "\n",
        "A su vez también esta capa almacena el vecto de sesgos (*bias*), que en notación matricial corresponde a una matriz de $1\\times4$. Posteriormente **se realizan las transpuestas** de algunos de estos vectores para poder realizar las operaciones matriciales necesarias.\n",
        "\n",
        "No se recibe función de activación ya que la intención de esta celda es solo mostrar la estructura de cada capa."
      ]
    },
    {
      "cell_type": "code",
      "metadata": {
        "colab": {
          "base_uri": "https://localhost:8080/"
        },
        "id": "B37hwNROdzrp",
        "outputId": "81caa16d-680e-4f92-e590-d58b8b2c6188"
      },
      "source": [
        "capa = RedNeuronal.CapaNeuronal(3, 4, None)\n",
        "# matiz de pesos de las conecciones con las neuronas\n",
        "print(capa.w)\n",
        "# vector columna que forma parte de la suma ponderada\n",
        "print(capa.b)"
      ],
      "execution_count": 10,
      "outputs": [
        {
          "output_type": "stream",
          "text": [
            "[[-0.81101268  0.06164904 -0.05619548 -0.84749945]\n",
            " [-0.30609842 -0.26825727  0.33284155  0.25739292]\n",
            " [ 0.06714006  0.23412446  0.38750545 -0.93599347]]\n",
            "[[-0.49437997 -0.55023898 -0.72785824  0.6114556 ]]\n"
          ],
          "name": "stdout"
        }
      ]
    },
    {
      "cell_type": "markdown",
      "metadata": {
        "id": "cxoMgSqM_-H5"
      },
      "source": [
        "## Clase `RedNeuronal`\n",
        "\n",
        "Esta clase reune todas las caracteristicas que nos interesa modelar de una red neuronal ya que en su interior hace uso de capas (`CapaNeuronal`) para modelar la estructura de una red neuronal, además del comportamiento de la misma.\n",
        "\n",
        "La clase `RedNeuronal` encapsula a la clase `CapaNeuronal`, ya que como es costumbre en el POO, las clases que se construyen como en este caso (o la clase lista y nodo) normalmente son definidas de forma anidad.\n",
        "\n",
        "Incluso tú podrías definir la clase `Neurona` como la definimos previamente y con base en esta clase crear las capas de la red neuronal.\n",
        "\n"
      ]
    },
    {
      "cell_type": "markdown",
      "metadata": {
        "id": "y0OHMxXO_3qM"
      },
      "source": [
        "## Constructor\n",
        "\n",
        "El constructor de la clase `RedNeuronal` recibe como parametros una **lista que contiene el número de neuronas por cada capa** y también la **función de activación** que será aplicada a todas las capa de la red.\n",
        "\n",
        "Por cada elemento en la lista (`top`) se genera un objeto de la clase `CapaNeuronal` que contiene el número de neuronas y la función de activación. Esta lista de capas, así como la topología y la función de activación se almacenan como **atributos de la clase** `RedNeuronal`.\n",
        "\n",
        "Veamos un ejemplo de un onjeto de tipo `RedNeuronal`."
      ]
    },
    {
      "cell_type": "code",
      "metadata": {
        "colab": {
          "base_uri": "https://localhost:8080/"
        },
        "id": "7y_mmxMs4Sfl",
        "outputId": "b2756546-709c-4764-9b26-aea165bcaf8c"
      },
      "source": [
        "# topologia de la red\n",
        "topologia = [2, 4, 8, 1]\n",
        "\n",
        "# creamos un objeto de tipo RedNeuronal\n",
        "red = RedNeuronal(topologia, None)\n",
        "\n",
        "# tenemos 3 capas ya que la primera (entrada), no se considera\n",
        "print(red.capas)\n",
        "# primer capa, 2 conexiones y 4 neuronas\n",
        "print(red.capas[0], red.capas[0].w.shape)\n",
        "# primer capa, 4 conexiones y 8 neuronas\n",
        "print(red.capas[1], red.capas[1].w.shape)\n",
        "# primer capa, 8 conexiones y 1 neurona\n",
        "print(red.capas[2], red.capas[2].w.shape)\n"
      ],
      "execution_count": 42,
      "outputs": [
        {
          "output_type": "stream",
          "text": [
            "[<__main__.RedNeuronal.CapaNeuronal object at 0x7fb4dcfeba50>, <__main__.RedNeuronal.CapaNeuronal object at 0x7fb4dd4e2f90>, <__main__.RedNeuronal.CapaNeuronal object at 0x7fb4dd4e2dd0>]\n",
            "<__main__.RedNeuronal.CapaNeuronal object at 0x7fb4dcfeba50> (2, 4)\n",
            "<__main__.RedNeuronal.CapaNeuronal object at 0x7fb4dd4e2f90> (4, 8)\n",
            "<__main__.RedNeuronal.CapaNeuronal object at 0x7fb4dd4e2dd0> (8, 1)\n"
          ],
          "name": "stdout"
        }
      ]
    },
    {
      "cell_type": "markdown",
      "metadata": {
        "id": "avsI7e6TBGdL"
      },
      "source": [
        "## Entrenamieto\n",
        "\n",
        "El método `entrenamiento` tiene 2 formas de operar:\n",
        "\n",
        "*   `entrenar = False`: en este modo, únicamente se procesa un conjunto de datos de entrada y se devuelve una salida (*forwad pass*).\n",
        "*   `entrenar = True`: si este modo es seleccionado, la red es entrenada tomando los valores de entrada y las salidas esperadas de la red neuronal.\n",
        "\n",
        "Si se elige el modo entrenamiento, la red neuronal realiza todos los pasos necesarios para el entrenamiento de la misma:\n",
        "\n",
        "1.   **Paso hacia adelante**, se toma un elemento de los datos de entrenamiento y se procesa hasta obtener una salida.\n",
        "2.   **Evaluación de la función de costo**, se evalua la función de costos, tomando la salida esperada y la salida de la red.\n",
        "3.   **Se calcula el vector gradiente** (descenso del gradiente)\n",
        "4.   **Se aplica el proceso de retropropagación** del error.\n",
        "\n",
        "\n",
        "Para tales fines de entrenamiento es necesario calcular un par de derivadas parciales y dado que desde el punto de vista matemático una red neuronal es un conjunto de composición de funciones, es necesario apoyarse un poco en temas de calculo integral y diferencial como, la **regla de la cadena** y **derivadas parciales**.\n",
        "\n",
        "Para una mayor comprensión de los cálculos realizados en el método de entrenamiento ver este [video](https://youtu.be/M5QHwkkHgAA?t=389)."
      ]
    },
    {
      "cell_type": "markdown",
      "metadata": {
        "id": "BGJwghrTwZ18"
      },
      "source": [
        "## Función de activación\n",
        "\n",
        "En este caso vamos a hacer uso de la función sigmoide y además mediante el mismo identificador de la función vamos a almacenar la derivada de dicha función, ya que se ocupará más adelante."
      ]
    },
    {
      "cell_type": "code",
      "metadata": {
        "colab": {
          "base_uri": "https://localhost:8080/",
          "height": 265
        },
        "id": "opwpRh-bP1uF",
        "outputId": "406c97c8-3b8b-46fe-c26d-8060b83a9ff4"
      },
      "source": [
        "sigm = (lambda x: 1/(1+np.e**(-x)),\n",
        "        lambda x: x *(1 - x))\n",
        "\n",
        "_x = np.linspace(-5, 5, 100)\n",
        "\n",
        "plt.plot(_x, sigm[0](_x), label=\"Sigmoide\")\n",
        "plt.legend()\n",
        "plt.grid()\n",
        "plt.show()"
      ],
      "execution_count": 13,
      "outputs": [
        {
          "output_type": "display_data",
          "data": {
            "image/png": "[encoded data removed]",
            "text/plain": [
              "<Figure size 432x288 with 1 Axes>"
            ]
          },
          "metadata": {
            "tags": [],
            "needs_background": "light"
          }
        }
      ]
    },
    {
      "cell_type": "markdown",
      "metadata": {
        "id": "Z1irdWgzuIUY"
      },
      "source": [
        "# Probando la red\n",
        "\n",
        "Al ejecutar la siguiente celda, podémos ver como la red aprende y de forma iterativa disminuye el error."
      ]
    },
    {
      "cell_type": "code",
      "metadata": {
        "colab": {
          "base_uri": "https://localhost:8080/",
          "height": 517
        },
        "id": "-Yr7AhFjv9hS",
        "outputId": "2d00ccce-049d-40bc-a9e1-cff9d29dee2c"
      },
      "source": [
        "from IPython.display import clear_output\n",
        "import time\n",
        "\n",
        "# funcion de activacion y su derivada\n",
        "sigm = (lambda x: 1/(1+np.e**(-x)),\n",
        "        lambda x: x *(1 - x))\n",
        "\n",
        "# funcion de costo y su derivada\n",
        "funcion_costo = (lambda Yp, Yr : np.mean((Yp - Yr)**2),\n",
        "                  lambda Yp, Yr : (Yp - Yr))\n",
        "\n",
        "# numero de muestras\n",
        "n = 500\n",
        "# tipo de datos\n",
        "p = 2\n",
        "\n",
        "# x=coordeadas, y=valores (aliado o enemigo)\n",
        "x, y = make_circles(n_samples=n, factor=0.5, noise=0.05)\n",
        "y = y[:, np.newaxis]\n",
        "\n",
        "# topologia de la red\n",
        "topologia = [p, 4, 8, 1]\n",
        "\n",
        "# creamos un objeto de tipo RedNeuronal\n",
        "red = RedNeuronal(topologia, sigm)\n",
        "\n",
        "# para imprimir la funcion de costos\n",
        "perdida = []\n",
        "\n",
        "# ciclo de entrenamiento, deberia estar en RedNeuronal\n",
        "for i in range(1000):\n",
        "    # se entrena la red 1 vez por ciclo\n",
        "    py = red.entrenamiento(x, y, funcion_costo, aprendizaje=0.05)\n",
        "    # una vez entrenada se muestran los valores y se evalua el resultado\n",
        "    if i % 25 == 0:\n",
        "        perdida.append(funcion_costo[0](py, y))\n",
        "        res = 50\n",
        "    \n",
        "        _x0 = np.linspace(-1.5, 1.5, res)\n",
        "        _x1 = np.linspace(-1.5, 1.5, res)\n",
        "        _y = np.zeros((res, res))\n",
        "    \n",
        "        # _y nos dice que tan bien o mal va la red\n",
        "        for i0, x0 in enumerate(_x0):\n",
        "            for i1, x1 in enumerate(_x1):\n",
        "                _y[i0, i1] = red.entrenamiento(np.array([[x0, x1]]), y, \n",
        "                                funcion_costo, entrenar=False)[0][0]\n",
        "        \n",
        "        plt.pcolormesh(_x0, _x1, _y, cmap=\"coolwarm\")\n",
        "        plt.axis(\"equal\")\n",
        "        plt.scatter(x[y[:,0]==0 ,0], x[y[:,0]==0 ,1], c='skyblue', label=\"Villanos\")\n",
        "        plt.scatter(x[y[:,0]==1, 0], x[y[:,0]==1 ,1], c='salmon', label=\"Heroes Jon Snow\")\n",
        "        clear_output(wait=True)\n",
        "        plt.legend()\n",
        "        plt.show()\n",
        "\n",
        "        plt.plot(range(len(perdida)), perdida, label=\"Perdida\")\n",
        "        plt.legend()\n",
        "        plt.grid()\n",
        "        plt.show()\n",
        "        time.sleep(0.5)"
      ],
      "execution_count": 43,
      "outputs": [
        {
          "output_type": "display_data",
          "data": {
            "image/png": "[encoded data removed]",
            "text/plain": [
              "<Figure size 432x288 with 1 Axes>"
            ]
          },
          "metadata": {
            "tags": [],
            "needs_background": "light"
          }
        },
        {
          "output_type": "display_data",
          "data": {
            "image/png": "[encoded data removed]",
            "text/plain": [
              "<Figure size 432x288 with 1 Axes>"
            ]
          },
          "metadata": {
            "tags": [],
            "needs_background": "light"
          }
        }
      ]
    },
    {
      "cell_type": "markdown",
      "metadata": {
        "id": "LM4b9FWspm-C"
      },
      "source": [
        "# Referencias\n",
        "\n",
        "*   [Lista de videos redes neuronales (de brothers)](https://www.youtube.com/playlist?list=PLo8YL3HL50lUSfq2CdgAhvWVQfxkLHdw2).\n",
        "*   [Lista de videos redes neuronales (más formal) ](https://www.youtube.com/playlist?list=PLo8YL3HL50lUHQS80oE_ypxFi0Y3uCVal)."
      ]
    }
  ]
}