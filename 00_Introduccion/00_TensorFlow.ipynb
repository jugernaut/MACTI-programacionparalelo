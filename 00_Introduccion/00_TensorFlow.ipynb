{
  "nbformat": 4,
  "nbformat_minor": 0,
  "metadata": {
    "colab": {
      "name": "05_TensorFlow2.ipynb",
      "provenance": [],
      "toc_visible": true,
      "include_colab_link": true
    },
    "kernelspec": {
      "name": "python3",
      "display_name": "Python 3"
    },
    "accelerator": "GPU"
  },
  "cells": [
    {
      "cell_type": "markdown",
      "metadata": {
        "id": "view-in-github",
        "colab_type": "text"
      },
      "source": [
        "<a href=\"https://colab.research.google.com/github/jugernaut/ProgramacionEnParalelo/blob/main/Introduccion/00_TensorFlow.ipynb\" target=\"_parent\"><img src=\"https://colab.research.google.com/assets/colab-badge.svg\" alt=\"Open In Colab\"/></a>"
      ]
    },
    {
      "cell_type": "markdown",
      "metadata": {
        "id": "XKcKm7OJbfaC"
      },
      "source": [
        "<font color=\"Teal\" face=\"Comic Sans MS,arial\">\n",
        "  <h1 align=\"center\"><i>Programación en Paralelo</i></h1>\n",
        "  <h2 align=\"center\"><i>Tensor Flow</i></h2>\n",
        "  </font>\n",
        "  <font color=\"Black\" face=\"Comic Sans MS,arial\">\n",
        "  <h5 align=\"center\"><i>Profesor: M. en C. Miguel Angel Pérez León</i></h5>\n",
        "  <h5 align=\"center\"><i>Ayudante: Lucía Martínez Rivas</i></h5>\n",
        "  <h5 align=\"center\"><i>Ayudante: Erick Jesús Rios Gonzalez</i></h5>\n",
        "  <h5 align=\"center\"><i>correo: zeus@ciencias.unam.mx</i></h5>\n",
        "  </font>"
      ]
    },
    {
      "cell_type": "markdown",
      "metadata": {
        "id": "pL3l51BpO_hL"
      },
      "source": [
        "## Introducción\n",
        "\n",
        "*TensorFlow* es una *API* desarrollada por *Google* y es el conjunto de herramientas libres que se utiliza más ampliamente en el desarrollo de inteligencia artificial.\n",
        "\n",
        "Existen múltiples versiones de *TensorFlow*, sin embargo en esencia vamos a contar con la version 1.x y la versión 2.x. La principal diferencia entre ambas es que la versión 1.x hace uso de **grafos** para representar el flujo de los datos y la versión 2.x se apoya en [Keras](https://enmilocalfunciona.io/deep-learning-basico-con-keras-parte-1/) para generar modelos más intuitivos.\n",
        "\n",
        "En este documento nos enfocaremos en la versión 2.x de *TensorFlow* con soporte para *GPU's*."
      ]
    },
    {
      "cell_type": "markdown",
      "metadata": {
        "id": "2t_BRrcZMhm1"
      },
      "source": [
        "## *Tensor Flow*\n",
        "\n",
        "Existen varias formas de hacer uso de *TensorFlow*, sin embargo dadas las características del curso, nos vamos a enfocar en la forma declarativa.\n",
        "\n",
        "Lo primero que necesitamos hacer para acceder a la versión de *TensorFlow* con soporte para GPU's en Google Colab, es desinstalar la versión actual e instalar la versión con soporte para GPU's, además de cambiar el entorno de ejecución del Jupyter.\n",
        "\n",
        "1.   Para cambiar el entorno de ejecución: Primero, ir al menú *Runtime o Entorno de ejecución*, seleccionar *Cambiar tipo de tiempo de ejecución*, y en el cuadro emergente, en *Acelerador de hardware*, seleccione *GPU*, guardamos el cambio y listo.\n",
        "2.   Posteriormente validamos que se tenga acceso al *GPU*."
      ]
    },
    {
      "cell_type": "code",
      "metadata": {
        "id": "suqiw16TkJh1",
        "colab": {
          "base_uri": "https://localhost:8080/"
        },
        "outputId": "a3d20bcd-1ea7-4b2a-bbf1-a58903815a00"
      },
      "source": [
        "import tensorflow as tf\n",
        "\n",
        "print(tf.test.is_gpu_available())\n",
        "print(tf.config.list_physical_devices('GPU'))\n",
        "print(tf.__version__)"
      ],
      "execution_count": null,
      "outputs": [
        {
          "output_type": "stream",
          "name": "stderr",
          "text": [
            "WARNING:tensorflow:From <ipython-input-1-3a0be62431d3>:3: is_gpu_available (from tensorflow.python.framework.test_util) is deprecated and will be removed in a future version.\n",
            "Instructions for updating:\n",
            "Use `tf.config.list_physical_devices('GPU')` instead.\n"
          ]
        },
        {
          "output_type": "stream",
          "name": "stdout",
          "text": [
            "True\n",
            "[PhysicalDevice(name='/physical_device:GPU:0', device_type='GPU')]\n",
            "2.15.0\n"
          ]
        }
      ]
    },
    {
      "cell_type": "markdown",
      "metadata": {
        "id": "_f6uXZ-6kpx8"
      },
      "source": [
        "La celda superior nos indica que tenemos acceso al GPU's y que harémos uso de la versión 2.5.0 de *TensoFlow*."
      ]
    },
    {
      "cell_type": "markdown",
      "metadata": {
        "id": "ZABpYxgBKIpq"
      },
      "source": [
        "### *FrameWork*\n",
        "\n",
        "Inicialmente TensorFlow fue diseñado para hacer uso de grafos para representar los datos y las operaciones que se realizan sobre los mismos. Parte de esa forma de trabajar aún funciona con la versión 2.x de *TensorFlow* y es buena idea comenzar con la misma.\n",
        "\n",
        "Como en la mayoria de *FrameWorks*, *TensorFlow* cuenta con múltiples elementos que ayudan al programador, algunos de estos elementos son:\n",
        "\n",
        "\n",
        "*   Constantes.\n",
        "*   Variables.\n",
        "*   Tensores.\n",
        "*   Escalares.\n",
        "\n",
        "\n",
        "\n"
      ]
    },
    {
      "cell_type": "markdown",
      "metadata": {
        "id": "TYXbD2XBKhTb"
      },
      "source": [
        "#### Operaciones\n",
        "\n",
        "Pensemos que, como parte de nuestro modelo, necesitamos procesar 2 entradas y devolver un resultado. Esta operación es muy sencilla pero muestra cómo se debe pensar en el flujo de los datos.\n"
      ]
    },
    {
      "cell_type": "code",
      "metadata": {
        "colab": {
          "base_uri": "https://localhost:8080/"
        },
        "id": "Q0XkJHIfnB2g",
        "outputId": "e887bbf6-72d4-4db8-b304-c67f95d94810"
      },
      "source": [
        "# se realiza la suma de 3 y 5 haciendo uso de tf y del metodo add\n",
        "a = tf.add(3, 5)\n",
        "# mostramos el elemento del grafo llamado a\n",
        "print(a)\n",
        "# se muestra el resultado de la operación en el nodo a\n",
        "print(a.numpy())"
      ],
      "execution_count": null,
      "outputs": [
        {
          "output_type": "stream",
          "text": [
            "tf.Tensor(8, shape=(), dtype=int32)\n",
            "8\n"
          ],
          "name": "stdout"
        }
      ]
    },
    {
      "cell_type": "markdown",
      "metadata": {
        "id": "P1QYAfrbo7Cy"
      },
      "source": [
        "Podemos pensar en esta operación de la siguiente forma.\n",
        "\n",
        "<center>\n",
        "<img src=\"https://github.com/jugernaut/ProgramacionEnParalelo/blob/main/Imagenes/Envoltorios/sumaTF.png?raw=true\" width=\"700\">\n",
        "</center>"
      ]
    },
    {
      "cell_type": "markdown",
      "metadata": {
        "id": "xHbfmowIXru0"
      },
      "source": [
        "#### Ventaja del grafo\n",
        "\n",
        "El grafo nos da la ventaja de construir de manera organizada y visual la forma en la que se procesan los datos.\n",
        "\n",
        "Ahora pensemos que deseamos realizar la siguiente operación.\n",
        "\n",
        "$$\\left(2\\times3\\right)^{\\left(2+5\\right)}$$\n",
        "\n",
        "¿Cómo se vería este grafo y cómo se escribe esta operación con *TensorFlow*?.\n",
        "\n",
        "<center>\n",
        "<img src=\"https://github.com/jugernaut/ProgramacionEnParalelo/blob/main/Imagenes/Envoltorios/powTF.png?raw=true\" width=\"700\">\n",
        "</center>"
      ]
    },
    {
      "cell_type": "code",
      "metadata": {
        "colab": {
          "base_uri": "https://localhost:8080/"
        },
        "id": "im0VZhAlrO_F",
        "outputId": "c505590b-76fd-480a-916e-e31752363878"
      },
      "source": [
        "# Variables de Python\n",
        "x = 2\n",
        "y = 3\n",
        "\n",
        "# Operaciones y grafo de TensorFlow\n",
        "op1 = tf.add(x, y)\n",
        "op2 = tf.multiply(x, y)\n",
        "op3 = tf.pow(op2, op1)\n",
        "\n",
        "# Veamos el nodo op3\n",
        "print(op3)\n",
        "\n",
        "# El resultado de dicha operación es\n",
        "print(op3.numpy())"
      ],
      "execution_count": null,
      "outputs": [
        {
          "output_type": "stream",
          "text": [
            "tf.Tensor(7776, shape=(), dtype=int32)\n",
            "7776\n"
          ],
          "name": "stdout"
        }
      ]
    },
    {
      "cell_type": "markdown",
      "metadata": {
        "id": "C_Ym3FtKRP1t"
      },
      "source": [
        "#### Red Neuronal\n",
        "\n",
        "Conforme vamos agregando más nodos al grafo, este cada vez se parece más a una red, incluso podemos llegar a un punto en el cual el grafo sea similar a una red neuronal.\n",
        "\n",
        "<center>\n",
        "<img src=\"https://github.com/jugernaut/ProgramacionEnParalelo/blob/main/Imagenes/Envoltorios/som.gif?raw=true\" width=\"700\">\n",
        "</center>"
      ]
    },
    {
      "cell_type": "markdown",
      "metadata": {
        "id": "7nKaftH_QgXy"
      },
      "source": [
        "### Acceso a la *GPU*\n",
        "\n",
        "En la sección anterior vimos que ya se contaba con acceso a la *GPU*, ahora vamos a ver qué tan buena idea es hacer uso de la misma.\n",
        "\n",
        "Vamos a definir 2 métodos que hagan uso de *TensorFlow*, uno de ellos procesando los datos en la *CPU* y el otro en la *CPU*."
      ]
    },
    {
      "cell_type": "code",
      "metadata": {
        "id": "MCR8gKF2Q70u",
        "colab": {
          "base_uri": "https://localhost:8080/"
        },
        "outputId": "de785268-24f6-47a2-abef-257a6fffd4a4"
      },
      "source": [
        "# Biblioteca para medir el tiempo\n",
        "import timeit\n",
        "\n",
        "# Validamos que se tenga acceso a la GPU de google colab\n",
        "device_name = tf.test.gpu_device_name()\n",
        "if device_name != '/device:GPU:0':\n",
        "    print(\n",
        "        '\\n\\nNo se tiene habilitado el acceso a la GPU, revisa la configuracion '\n",
        "        'del notebook.\\n\\n')\n",
        "    raise SystemError('No se cuenta con GPU')\n",
        "\n",
        "# Metodo que realiza el reduce en la CPU de los valores aleatorios de una matriz\n",
        "def cpu():\n",
        "    # con esta linea se procesa el bloque en la CPU\n",
        "    with tf.device('/cpu:0'):\n",
        "      # generamos una matriz de 100x100x100 con valore aleatorios entre (0,1)\n",
        "      random_image_cpu = tf.random.normal((100, 100, 100))\n",
        "      # mediante tensorflow se realiza el reduce y se devuelve un valor\n",
        "      return tf.math.reduce_sum(random_image_cpu).numpy()\n",
        "\n",
        "# Metodo que realiza el reduce en la GPU de los valores aleatorios de una matriz\n",
        "def gpu():\n",
        "    # con esta linea se procesa el bloque en la GPU\n",
        "    with tf.device('/device:GPU:0'):\n",
        "      # generamos una matriz de 100x100x100 con valore aleatorios entre (0,1)\n",
        "      random_image_gpu = tf.random.normal((100, 100, 100))\n",
        "      # mediante tensorflow se realiza el reduce y se devuelve un valor\n",
        "      return tf.math.reduce_sum(random_image_gpu)\n",
        "\n",
        "# Provemos ambos metodos\n",
        "cpu()\n",
        "gpu()\n",
        "\n",
        "# Se ejecutan ambos algoritmos 10 veces y se muestran los respectivos tiempos\n",
        "print('Se muestra la suma del tiempo de haber ejecutado estos algoritmos '\n",
        "      '10 veces.')\n",
        "# Seccion para la CPU\n",
        "print('CPU (s):')\n",
        "cpu_time = timeit.timeit('cpu()', number=10, setup=\"from __main__ import cpu\")\n",
        "print(cpu_time)\n",
        "# Seccion para la GPU\n",
        "print('GPU (s):')\n",
        "gpu_time = timeit.timeit('gpu()', number=10, setup=\"from __main__ import gpu\")\n",
        "print(gpu_time)\n",
        "# Mejora en el tiempo de la GPU respecto a la CPU\n",
        "print('Mejora en el tiempo de ejecucion de GPU '\n",
        "      'v.s. CPU: {}x'.format(int(cpu_time/gpu_time)))"
      ],
      "execution_count": null,
      "outputs": [
        {
          "output_type": "stream",
          "text": [
            "Se muestra la suma del tiempo de haber ejecutado estos algoritmos  10 veces.\n",
            "CPU (s):\n",
            "0.18778029899999638\n",
            "GPU (s):\n",
            "0.004059490999992477\n",
            "Mejora en el tiempo de ejecucion de GPU v.s. CPU: 46x\n"
          ],
          "name": "stdout"
        }
      ]
    },
    {
      "cell_type": "markdown",
      "metadata": {
        "id": "DOr5r_Zfdzg4"
      },
      "source": [
        "### Aplicaciones\n",
        "\n",
        "El ejemplo anterior solo muestra una pequeña parte de un algoritmo en la cual se puede mejorar en gran medida el desempeño de una red neuronal mediate *TensorFlow* en su versión para *GPU's*.\n",
        "\n",
        "En gran medida las operaciones dentro de una red neuronal (y en general en el aprendizaje de máquina) pueden ser mejoradas mediante el uso de los *GPU's* disponibles.\n",
        "\n",
        "En la celda anterior se puede ver de manera clara el por qué el uso de TensorFlow se ha vuelto tan popular, sin embargo no olivdemos que muchos de los procesos llevados a cabo quedan ocultos."
      ]
    },
    {
      "cell_type": "markdown",
      "metadata": {
        "id": "gvWHgFw737PR"
      },
      "source": [
        "## Red Neuronal al instante\n",
        "\n",
        "Vamos a 'construir' una red neuronal en un par de celdas mediante *TensorFlow*, el código e imágenes mostradas a continuación se toman del [manual oficial](https://www.tensorflow.org/tutorials/keras/classification?hl=es-419) de *TensorFlow*.\n",
        "\n",
        "En este ejemplo vamos a mostrar y entrenar una red neuronal que pueda clasificar imágenes de prendas.\n",
        "\n",
        "<table>\n",
        "  <tr><td>\n",
        "    <img src=\"https://github.com/jugernaut/ProgramacionEnParalelo/blob/main/Imagenes/Envoltorios/fashion-mnist-sprite.png?raw=true\" width=\"600\">\n",
        "  </td></tr>\n",
        "  <tr><td align=\"center\">\n",
        "    <b>Figure 1.</b> <a href=\"https://github.com/zalandoresearch/fashion-mnist\">Fashion-MNIST samples</a> (by Zalando, MIT License).<br/>&nbsp;\n",
        "  </td></tr>\n",
        "</table>"
      ]
    },
    {
      "cell_type": "markdown",
      "metadata": {
        "id": "FijLghcNljSW"
      },
      "source": [
        "### *MNIST*\n",
        "\n",
        "Dado que esta red neuronal clasifica imágenes de ropa, necesitamos una **base de datos** grande de estas imágenes.\n",
        "\n",
        "*MNIST* es una base de datos accesible mediante la red y con una gran cantidad de datos para entrenar nuestras redes neuronales.\n",
        "\n",
        "Así que el primer paso es cargar esta base de datos en la sesión actual de *google colab*, esto se realiza en la siguiente celda."
      ]
    },
    {
      "cell_type": "code",
      "metadata": {
        "id": "iJHBg6gBmjbE",
        "colab": {
          "base_uri": "https://localhost:8080/"
        },
        "outputId": "998f4eca-3b0a-4126-82a0-df5376b0a6b3"
      },
      "source": [
        "# TensorFlow y tf.keras\n",
        "from tensorflow import keras\n",
        "\n",
        "# Librerias de ayuda\n",
        "import numpy as np\n",
        "import matplotlib.pyplot as plt\n",
        "\n",
        "fashion_mnist = keras.datasets.fashion_mnist\n",
        "(train_images, train_labels), (test_images, test_labels) = fashion_mnist.load_data()"
      ],
      "execution_count": null,
      "outputs": [
        {
          "output_type": "stream",
          "name": "stdout",
          "text": [
            "Downloading data from https://storage.googleapis.com/tensorflow/tf-keras-datasets/train-labels-idx1-ubyte.gz\n",
            "32768/29515 [=================================] - 0s 0us/step\n",
            "40960/29515 [=========================================] - 0s 0us/step\n",
            "Downloading data from https://storage.googleapis.com/tensorflow/tf-keras-datasets/train-images-idx3-ubyte.gz\n",
            "26427392/26421880 [==============================] - 1s 0us/step\n",
            "26435584/26421880 [==============================] - 1s 0us/step\n",
            "Downloading data from https://storage.googleapis.com/tensorflow/tf-keras-datasets/t10k-labels-idx1-ubyte.gz\n",
            "16384/5148 [===============================================================================================] - 0s 0us/step\n",
            "Downloading data from https://storage.googleapis.com/tensorflow/tf-keras-datasets/t10k-images-idx3-ubyte.gz\n",
            "4423680/4422102 [==============================] - 0s 0us/step\n",
            "4431872/4422102 [==============================] - 0s 0us/step\n"
          ]
        }
      ]
    },
    {
      "cell_type": "markdown",
      "metadata": {
        "id": "PxUYelrUm5ma"
      },
      "source": [
        "Al ejecutar la celda anterior vamos a tener en memoria cuatro arreglos en *NumPy*:\n",
        "\n",
        "* Los arreglos *train_images* y *train_labels* son los arreglos que conforman el *training set* y que usa el modelo de datos para aprender/entrenar.\n",
        "* El modelo es probado contra los arreglos *test_images*, y *test_labels* que conforman el *test set*.\n",
        "\n",
        "Las imágenes son arreglos de *NumPy* (matrices) de 28x28, con valores en cada entrada (píxeles) que varian de 0 a 255. Los *labels* es un arreglo de enteros, que van del 0 al 9. Estos corresponden a la *class* de ropa que la imagen representa.\n",
        "\n",
        "<table>\n",
        "  <tr>\n",
        "    <th>Etiqueta</th>\n",
        "    <th>Clase</th>\n",
        "  </tr>\n",
        "  <tr>\n",
        "    <td>0</td>\n",
        "    <td>Palyera/blusa</td>\n",
        "  </tr>\n",
        "  <tr>\n",
        "    <td>1</td>\n",
        "    <td>Trusa</td>\n",
        "  </tr>\n",
        "    <tr>\n",
        "    <td>2</td>\n",
        "    <td>Pullover</td>\n",
        "  </tr>\n",
        "    <tr>\n",
        "    <td>3</td>\n",
        "    <td>Vestido</td>\n",
        "  </tr>\n",
        "    <tr>\n",
        "    <td>4</td>\n",
        "    <td>Abrigo</td>\n",
        "  </tr>\n",
        "    <tr>\n",
        "    <td>5</td>\n",
        "    <td>Sandalia</td>\n",
        "  </tr>\n",
        "    <tr>\n",
        "    <td>6</td>\n",
        "    <td>Camisa</td>\n",
        "  </tr>\n",
        "    <tr>\n",
        "    <td>7</td>\n",
        "    <td>Sneaker</td>\n",
        "  </tr>\n",
        "    <tr>\n",
        "    <td>8</td>\n",
        "    <td>Bolsa</td>\n",
        "  </tr>\n",
        "    <tr>\n",
        "    <td>9</td>\n",
        "    <td>Bota al tobillo</td>\n",
        "  </tr>\n",
        "</table>\n",
        "\n",
        "Dado que los nombres de las clases (Class name) no vienen incluidos en la información que recién descargamos, es necesario almacenarlos en una variable de *Python*."
      ]
    },
    {
      "cell_type": "code",
      "metadata": {
        "id": "-lP9hwfAp_Fu"
      },
      "source": [
        "class_names = ['Camiseta/Blusa', 'Trusa', 'Pullover', 'Vestido', 'Abrigo',\n",
        "               'Sandalia', 'Camisa', 'Sneaker', 'Bolsa', 'Bota al tobillo']"
      ],
      "execution_count": null,
      "outputs": []
    },
    {
      "cell_type": "markdown",
      "metadata": {
        "id": "qVnJfA_6qeqm"
      },
      "source": [
        "#### Contenido del *data set*\n",
        "\n",
        "El contenido del set de datos antes de entrenar el modelo es el siguiente, hay 60,000 imagenes en el set de entrenamiento, con cada imagen representada por mapas de bits (matrices) de 28x28:"
      ]
    },
    {
      "cell_type": "code",
      "metadata": {
        "id": "aFPXz_Aiq-pj",
        "colab": {
          "base_uri": "https://localhost:8080/"
        },
        "outputId": "95d6fd10-4e9d-45b8-a7a3-223ad06ece77"
      },
      "source": [
        "train_images.shape"
      ],
      "execution_count": null,
      "outputs": [
        {
          "output_type": "execute_result",
          "data": {
            "text/plain": [
              "(60000, 28, 28)"
            ]
          },
          "metadata": {},
          "execution_count": 4
        }
      ]
    },
    {
      "cell_type": "markdown",
      "metadata": {
        "id": "ebocVnUsr1cf"
      },
      "source": [
        "Se cuenta con 60,000 etiquetas para el entrenamiento."
      ]
    },
    {
      "cell_type": "code",
      "metadata": {
        "id": "22SU3xl0rDN1",
        "colab": {
          "base_uri": "https://localhost:8080/"
        },
        "outputId": "38483df7-938f-4f71-b98b-de1992ee14d6"
      },
      "source": [
        "len(train_labels)\n"
      ],
      "execution_count": null,
      "outputs": [
        {
          "output_type": "execute_result",
          "data": {
            "text/plain": [
              "60000"
            ]
          },
          "metadata": {
            "tags": []
          },
          "execution_count": 6
        }
      ]
    },
    {
      "cell_type": "markdown",
      "metadata": {
        "id": "Ba0eVgKAr83I"
      },
      "source": [
        "Cada etiqueta es un entero entre $0-9$"
      ]
    },
    {
      "cell_type": "code",
      "metadata": {
        "id": "ipXt0FNiroMG",
        "colab": {
          "base_uri": "https://localhost:8080/"
        },
        "outputId": "28599674-5190-4fb7-d04c-977ff69f6e46"
      },
      "source": [
        "train_labels\n"
      ],
      "execution_count": null,
      "outputs": [
        {
          "output_type": "execute_result",
          "data": {
            "text/plain": [
              "array([9, 0, 0, ..., 3, 0, 5], dtype=uint8)"
            ]
          },
          "metadata": {
            "tags": []
          },
          "execution_count": 7
        }
      ]
    },
    {
      "cell_type": "markdown",
      "metadata": {
        "id": "RuZrBSnWsHlE"
      },
      "source": [
        "Hay 10,000 imagenes en el set de pruebas. Otra vez, cada imagen es representada como arreglos de *numpy* (matrices) de 28x28:"
      ]
    },
    {
      "cell_type": "code",
      "metadata": {
        "id": "jGVfefESrrMr",
        "colab": {
          "base_uri": "https://localhost:8080/"
        },
        "outputId": "26d155f6-3adb-464c-c597-8f1e76a62d50"
      },
      "source": [
        "test_images.shape"
      ],
      "execution_count": null,
      "outputs": [
        {
          "output_type": "execute_result",
          "data": {
            "text/plain": [
              "(10000, 28, 28)"
            ]
          },
          "metadata": {
            "tags": []
          },
          "execution_count": 8
        }
      ]
    },
    {
      "cell_type": "markdown",
      "metadata": {
        "id": "cg7pcPFGsULr"
      },
      "source": [
        "Finalmente el conjunto de pruebas cuenta con 10,000 etiquetas para el momento de validar la efectividad del modelo."
      ]
    },
    {
      "cell_type": "code",
      "metadata": {
        "id": "w5deznVXruXg",
        "colab": {
          "base_uri": "https://localhost:8080/"
        },
        "outputId": "c59fa032-88d6-4181-f680-b877829a4407"
      },
      "source": [
        "len(test_labels)"
      ],
      "execution_count": null,
      "outputs": [
        {
          "output_type": "execute_result",
          "data": {
            "text/plain": [
              "10000"
            ]
          },
          "metadata": {
            "tags": []
          },
          "execution_count": 9
        }
      ]
    },
    {
      "cell_type": "markdown",
      "metadata": {
        "id": "MZjncGY-sn73"
      },
      "source": [
        "### Preprocesando los datos\n",
        "\n",
        "Es frecuente al hacer uso de imágenes, que estas requieran un \"preprocesamiento\" antes de ser utilizadas por el modelo.\n",
        "\n",
        "Veamos la primer imagen del conjunto de imágenes y comprobemos que son imágenes de 28x28 pixeles y cada pixel toma un valor en el rango entre $0-255$."
      ]
    },
    {
      "cell_type": "code",
      "metadata": {
        "id": "WGlEQuAPsrg1",
        "colab": {
          "base_uri": "https://localhost:8080/",
          "height": 245
        },
        "outputId": "4dc53f5e-9a42-48a1-9dfa-171b59aa5a10"
      },
      "source": [
        "plt.figure()\n",
        "plt.imshow(train_images[0])\n",
        "plt.colorbar()\n",
        "plt.grid(False)\n",
        "plt.show()"
      ],
      "execution_count": null,
      "outputs": [
        {
          "output_type": "error",
          "ename": "NameError",
          "evalue": "name 'plt' is not defined",
          "traceback": [
            "\u001b[0;31m---------------------------------------------------------------------------\u001b[0m",
            "\u001b[0;31mNameError\u001b[0m                                 Traceback (most recent call last)",
            "\u001b[0;32m<ipython-input-5-5dd9cbda4ed0>\u001b[0m in \u001b[0;36m<cell line: 1>\u001b[0;34m()\u001b[0m\n\u001b[0;32m----> 1\u001b[0;31m \u001b[0mplt\u001b[0m\u001b[0;34m.\u001b[0m\u001b[0mfigure\u001b[0m\u001b[0;34m(\u001b[0m\u001b[0;34m)\u001b[0m\u001b[0;34m\u001b[0m\u001b[0;34m\u001b[0m\u001b[0m\n\u001b[0m\u001b[1;32m      2\u001b[0m \u001b[0mplt\u001b[0m\u001b[0;34m.\u001b[0m\u001b[0mimshow\u001b[0m\u001b[0;34m(\u001b[0m\u001b[0mtrain_images\u001b[0m\u001b[0;34m[\u001b[0m\u001b[0;36m0\u001b[0m\u001b[0;34m]\u001b[0m\u001b[0;34m)\u001b[0m\u001b[0;34m\u001b[0m\u001b[0;34m\u001b[0m\u001b[0m\n\u001b[1;32m      3\u001b[0m \u001b[0mplt\u001b[0m\u001b[0;34m.\u001b[0m\u001b[0mcolorbar\u001b[0m\u001b[0;34m(\u001b[0m\u001b[0;34m)\u001b[0m\u001b[0;34m\u001b[0m\u001b[0;34m\u001b[0m\u001b[0m\n\u001b[1;32m      4\u001b[0m \u001b[0mplt\u001b[0m\u001b[0;34m.\u001b[0m\u001b[0mgrid\u001b[0m\u001b[0;34m(\u001b[0m\u001b[0;32mFalse\u001b[0m\u001b[0;34m)\u001b[0m\u001b[0;34m\u001b[0m\u001b[0;34m\u001b[0m\u001b[0m\n\u001b[1;32m      5\u001b[0m \u001b[0mplt\u001b[0m\u001b[0;34m.\u001b[0m\u001b[0mshow\u001b[0m\u001b[0;34m(\u001b[0m\u001b[0;34m)\u001b[0m\u001b[0;34m\u001b[0m\u001b[0;34m\u001b[0m\u001b[0m\n",
            "\u001b[0;31mNameError\u001b[0m: name 'plt' is not defined"
          ]
        }
      ]
    },
    {
      "cell_type": "markdown",
      "metadata": {
        "id": "2R5cGaazt7g0"
      },
      "source": [
        "Es necesario escalar los valores de las imágenes en un rango de $0$ a $1$ antes de alimentarlos al modelo de la red neuronal. Para hacero, es necesario dividir los valores por $255$. Es importante que el *training set* y el *testing set* se pre-procesen de la misma forma:"
      ]
    },
    {
      "cell_type": "code",
      "metadata": {
        "id": "2JRPByNjuNkO"
      },
      "source": [
        "train_images = train_images / 255.0\n",
        "test_images = test_images / 255.0"
      ],
      "execution_count": null,
      "outputs": []
    },
    {
      "cell_type": "markdown",
      "metadata": {
        "id": "sMgO4P_JuSFN"
      },
      "source": [
        "Para verificar que el set de datos esta en el formato adecuado y que estan listos para construir y entrenar la red, vamos a desplegar las primeras 25 imagenes de el *training set* y despleguemos el nombre de cada clase debajo de cada imagen."
      ]
    },
    {
      "cell_type": "code",
      "metadata": {
        "id": "856-vc-juTOz",
        "colab": {
          "base_uri": "https://localhost:8080/",
          "height": 245
        },
        "outputId": "52fffbd9-df3f-44e1-8ad8-d0a9f12f2db3"
      },
      "source": [
        "plt.figure(figsize=(10,10))\n",
        "for i in range(25):\n",
        "    plt.subplot(5,5,i+1)\n",
        "    plt.xticks([])\n",
        "    plt.yticks([])\n",
        "    plt.grid(False)\n",
        "    plt.imshow(train_images[i], cmap=plt.cm.binary)\n",
        "    plt.xlabel(class_names[train_labels[i]])\n",
        "plt.show()"
      ],
      "execution_count": null,
      "outputs": [
        {
          "output_type": "error",
          "ename": "NameError",
          "evalue": "name 'plt' is not defined",
          "traceback": [
            "\u001b[0;31m---------------------------------------------------------------------------\u001b[0m",
            "\u001b[0;31mNameError\u001b[0m                                 Traceback (most recent call last)",
            "\u001b[0;32m<ipython-input-4-54389fd111e2>\u001b[0m in \u001b[0;36m<cell line: 1>\u001b[0;34m()\u001b[0m\n\u001b[0;32m----> 1\u001b[0;31m \u001b[0mplt\u001b[0m\u001b[0;34m.\u001b[0m\u001b[0mfigure\u001b[0m\u001b[0;34m(\u001b[0m\u001b[0mfigsize\u001b[0m\u001b[0;34m=\u001b[0m\u001b[0;34m(\u001b[0m\u001b[0;36m10\u001b[0m\u001b[0;34m,\u001b[0m\u001b[0;36m10\u001b[0m\u001b[0;34m)\u001b[0m\u001b[0;34m)\u001b[0m\u001b[0;34m\u001b[0m\u001b[0;34m\u001b[0m\u001b[0m\n\u001b[0m\u001b[1;32m      2\u001b[0m \u001b[0;32mfor\u001b[0m \u001b[0mi\u001b[0m \u001b[0;32min\u001b[0m \u001b[0mrange\u001b[0m\u001b[0;34m(\u001b[0m\u001b[0;36m25\u001b[0m\u001b[0;34m)\u001b[0m\u001b[0;34m:\u001b[0m\u001b[0;34m\u001b[0m\u001b[0;34m\u001b[0m\u001b[0m\n\u001b[1;32m      3\u001b[0m     \u001b[0mplt\u001b[0m\u001b[0;34m.\u001b[0m\u001b[0msubplot\u001b[0m\u001b[0;34m(\u001b[0m\u001b[0;36m5\u001b[0m\u001b[0;34m,\u001b[0m\u001b[0;36m5\u001b[0m\u001b[0;34m,\u001b[0m\u001b[0mi\u001b[0m\u001b[0;34m+\u001b[0m\u001b[0;36m1\u001b[0m\u001b[0;34m)\u001b[0m\u001b[0;34m\u001b[0m\u001b[0;34m\u001b[0m\u001b[0m\n\u001b[1;32m      4\u001b[0m     \u001b[0mplt\u001b[0m\u001b[0;34m.\u001b[0m\u001b[0mxticks\u001b[0m\u001b[0;34m(\u001b[0m\u001b[0;34m[\u001b[0m\u001b[0;34m]\u001b[0m\u001b[0;34m)\u001b[0m\u001b[0;34m\u001b[0m\u001b[0;34m\u001b[0m\u001b[0m\n\u001b[1;32m      5\u001b[0m     \u001b[0mplt\u001b[0m\u001b[0;34m.\u001b[0m\u001b[0myticks\u001b[0m\u001b[0;34m(\u001b[0m\u001b[0;34m[\u001b[0m\u001b[0;34m]\u001b[0m\u001b[0;34m)\u001b[0m\u001b[0;34m\u001b[0m\u001b[0;34m\u001b[0m\u001b[0m\n",
            "\u001b[0;31mNameError\u001b[0m: name 'plt' is not defined"
          ]
        }
      ]
    },
    {
      "cell_type": "markdown",
      "metadata": {
        "id": "3LQv5RR4u3jf"
      },
      "source": [
        "### Contruir el modelo\n",
        "\n",
        "El modelo de esta red neuronal es un modelo por capas como el que podemos ver en la siguiente imagen.\n",
        "\n",
        "<center>\n",
        "<img src=\"https://github.com/jugernaut/ProgramacionEnParalelo/blob/main/Imagenes/Envoltorios/reco_ropa.png?raw=true\" width=\"700\">\n",
        "</center>\n",
        "\n",
        "Existe todo un marco teórico detras de la construcción de este modelo y para mayor detalle se invita a revisar las referencias. En esta sección vamos a mostrar el código necesario y una breve explicación del mismo.\n",
        "\n",
        "En la siguiente celda se genera el modelo."
      ]
    },
    {
      "cell_type": "code",
      "metadata": {
        "id": "xU-ELd-KynTS",
        "outputId": "d01f7070-d750-465b-f54b-994e01ca09e2",
        "colab": {
          "base_uri": "https://localhost:8080/",
          "height": 245
        }
      },
      "source": [
        "model = keras.Sequential([\n",
        "    keras.layers.Flatten(input_shape=(28, 28)),\n",
        "    keras.layers.Dense(128, activation='relu'),\n",
        "    keras.layers.Dense(10, activation='softmax')\n",
        "])"
      ],
      "execution_count": null,
      "outputs": [
        {
          "output_type": "error",
          "ename": "NameError",
          "evalue": "name 'keras' is not defined",
          "traceback": [
            "\u001b[0;31m---------------------------------------------------------------------------\u001b[0m",
            "\u001b[0;31mNameError\u001b[0m                                 Traceback (most recent call last)",
            "\u001b[0;32m<ipython-input-2-d190941ea79a>\u001b[0m in \u001b[0;36m<cell line: 1>\u001b[0;34m()\u001b[0m\n\u001b[0;32m----> 1\u001b[0;31m model = keras.Sequential([\n\u001b[0m\u001b[1;32m      2\u001b[0m     \u001b[0mkeras\u001b[0m\u001b[0;34m.\u001b[0m\u001b[0mlayers\u001b[0m\u001b[0;34m.\u001b[0m\u001b[0mFlatten\u001b[0m\u001b[0;34m(\u001b[0m\u001b[0minput_shape\u001b[0m\u001b[0;34m=\u001b[0m\u001b[0;34m(\u001b[0m\u001b[0;36m28\u001b[0m\u001b[0;34m,\u001b[0m \u001b[0;36m28\u001b[0m\u001b[0;34m)\u001b[0m\u001b[0;34m)\u001b[0m\u001b[0;34m,\u001b[0m\u001b[0;34m\u001b[0m\u001b[0;34m\u001b[0m\u001b[0m\n\u001b[1;32m      3\u001b[0m     \u001b[0mkeras\u001b[0m\u001b[0;34m.\u001b[0m\u001b[0mlayers\u001b[0m\u001b[0;34m.\u001b[0m\u001b[0mDense\u001b[0m\u001b[0;34m(\u001b[0m\u001b[0;36m128\u001b[0m\u001b[0;34m,\u001b[0m \u001b[0mactivation\u001b[0m\u001b[0;34m=\u001b[0m\u001b[0;34m'relu'\u001b[0m\u001b[0;34m)\u001b[0m\u001b[0;34m,\u001b[0m\u001b[0;34m\u001b[0m\u001b[0;34m\u001b[0m\u001b[0m\n\u001b[1;32m      4\u001b[0m     \u001b[0mkeras\u001b[0m\u001b[0;34m.\u001b[0m\u001b[0mlayers\u001b[0m\u001b[0;34m.\u001b[0m\u001b[0mDense\u001b[0m\u001b[0;34m(\u001b[0m\u001b[0;36m10\u001b[0m\u001b[0;34m,\u001b[0m \u001b[0mactivation\u001b[0m\u001b[0;34m=\u001b[0m\u001b[0;34m'softmax'\u001b[0m\u001b[0;34m)\u001b[0m\u001b[0;34m\u001b[0m\u001b[0;34m\u001b[0m\u001b[0m\n\u001b[1;32m      5\u001b[0m ])\n",
            "\u001b[0;31mNameError\u001b[0m: name 'keras' is not defined"
          ]
        }
      ]
    },
    {
      "cell_type": "markdown",
      "metadata": {
        "id": "-h0Xtlagy2BF"
      },
      "source": [
        "La primera capa de esta red, `tf.keras.layers.Flatten`,\n",
        "transforma el formato de las imágenes de un arreglo bi-dimensional (de 28 por 28 píxeles) a un arreglo uni dimensional (de 28x28 píxeles = 784 píxeles). Observe esta capa como una capa no apilada de filas de píxeles, pensemos que la imagen que \"aplana\" (*flatten*) en una sola fila. Esta capa no tiene parámetros que aprender; solo reformatea el set de datos.\n",
        "\n",
        "Despues de que los píxeles estan \"aplanados\", la secuencia consiste de dos capas`tf.keras.layers.Dense`. Ambas capas estan densamente conectadas, o completamente conectadas. La primera capa `Dense` tiene 128 nodos (o neuronas). La segunda (y última) capa es una capa de 10 nodos *softmax* que devuelve un arreglo de 10 probabilidades que suman a 1. Cada nodo contiene una calificación que indica la probabilidad que la actual imagen pertenece a una de las 10 clases.\n",
        "\n",
        "Otro de los parámetros que reciben las capas son las **funciones de activación** (*relu* y *softmax*). Estas funciones de activación son elementos fundamentales en el diseño de una red neuronal."
      ]
    },
    {
      "cell_type": "markdown",
      "metadata": {
        "id": "KQE4o7szz3Oj"
      },
      "source": [
        "### Compilando el modelo\n",
        "\n",
        "Antes de que el modelo este listo para entrenar , se necesitan algunas configuraciones más. Estas son agregadas durante el paso de compilación del modelo:\n",
        "\n",
        "* *Loss function*: También conocida como función de costos, mide que tan exacto es el modelo durante el entrenamiento. La idea es minimizar esta función para dirigir el modelo en la dirección adecuada.\n",
        "* *Optimizer*: Mediante el optimizador es como el modelo se actualiza basado en el set de datos que ve y la evaluación de la función de costos. Uno de los optimizadores que se usan de manera más frecuente es el **descenso del gradiente**.\n",
        "* *Metrics*: Se usan para monitorear los pasos de entrenamiento y de pruebas.\n",
        "\n",
        "El siguiente ejemplo usa *accuracy* (exactitud), es decir la fracción de la imágenes que son correctamente clasificadas."
      ]
    },
    {
      "cell_type": "code",
      "metadata": {
        "id": "cSk5xyYC5Oz3"
      },
      "source": [
        "model.compile(optimizer='adam',\n",
        "              loss='sparse_categorical_crossentropy',\n",
        "              metrics=['accuracy'])"
      ],
      "execution_count": null,
      "outputs": []
    },
    {
      "cell_type": "markdown",
      "metadata": {
        "id": "B_YTb7Jb5m8I"
      },
      "source": [
        "### Entrenar el modelo\n",
        "\n",
        "Entrenar el modelo de red neuronal requiere de los siguientes pasos:\n",
        "\n",
        "1. Entregue los datos de entrenamiento al modelo. En este ejemplo , el set de datos de entrenamiento estan en los arreglos `train_images` y `train_labels`.\n",
        "2. El modelo aprende a asociar imagenes y etiquetas.\n",
        "3. Usted le pregunta al modelo que haga predicciones sobre un set de datos que se encuentran en el ejemplo, incluido en el arreglo `test_images`. Resta verificar que las predicciones sean iguales a las etiquetas de el arreglo`test_labels`.\n",
        "\n",
        "Para comenzar a entrenar, llame el metodo `model.fit`, es llamado asi por que *fit* (ajusta) el modelo a el set de datos de entrenamiento:"
      ]
    },
    {
      "cell_type": "code",
      "metadata": {
        "id": "GinjX0sK5tIx",
        "colab": {
          "base_uri": "https://localhost:8080/"
        },
        "outputId": "12dc9775-5317-4c8b-94e9-3c06bab8978f"
      },
      "source": [
        "model.fit(train_images, train_labels, epochs=10)"
      ],
      "execution_count": null,
      "outputs": [
        {
          "output_type": "stream",
          "name": "stdout",
          "text": [
            "Epoch 1/10\n",
            "1875/1875 [==============================] - 7s 2ms/step - loss: 0.4975 - accuracy: 0.8260\n",
            "Epoch 2/10\n",
            "1875/1875 [==============================] - 4s 2ms/step - loss: 0.3763 - accuracy: 0.8644\n",
            "Epoch 3/10\n",
            "1875/1875 [==============================] - 4s 2ms/step - loss: 0.3369 - accuracy: 0.8771\n",
            "Epoch 4/10\n",
            "1875/1875 [==============================] - 4s 2ms/step - loss: 0.3121 - accuracy: 0.8854\n",
            "Epoch 5/10\n",
            "1875/1875 [==============================] - 4s 2ms/step - loss: 0.2954 - accuracy: 0.8917\n",
            "Epoch 6/10\n",
            "1875/1875 [==============================] - 4s 2ms/step - loss: 0.2815 - accuracy: 0.8959\n",
            "Epoch 7/10\n",
            "1875/1875 [==============================] - 4s 2ms/step - loss: 0.2681 - accuracy: 0.9011\n",
            "Epoch 8/10\n",
            "1875/1875 [==============================] - 4s 2ms/step - loss: 0.2582 - accuracy: 0.9037\n",
            "Epoch 9/10\n",
            "1875/1875 [==============================] - 4s 2ms/step - loss: 0.2461 - accuracy: 0.9080\n",
            "Epoch 10/10\n",
            "1875/1875 [==============================] - 4s 2ms/step - loss: 0.2378 - accuracy: 0.9107\n"
          ]
        },
        {
          "output_type": "execute_result",
          "data": {
            "text/plain": [
              "<keras.callbacks.History at 0x7f96e1065e90>"
            ]
          },
          "metadata": {},
          "execution_count": 10
        }
      ]
    },
    {
      "cell_type": "markdown",
      "metadata": {
        "id": "DGo1n7_n58jM"
      },
      "source": [
        "### Interpretando imágenes\n",
        "\n",
        "Se le muestra un conjunto de imagenes al modelo `test_images` y el modelo nos devuelve un una lista `prediccion` que nos indica que es lo que interpreta el modelo de la imágen en cada una de sus entradas."
      ]
    },
    {
      "cell_type": "code",
      "metadata": {
        "id": "rSX5fcmg6Rz_"
      },
      "source": [
        "predicciones = model.predict(test_images)"
      ],
      "execution_count": null,
      "outputs": []
    },
    {
      "cell_type": "code",
      "metadata": {
        "id": "iQfOxejN5-nv"
      },
      "source": [
        "# FUNCIONES AUXILIARES PARA GRAFICAR\n",
        "# grafica una imagen y su respectiva prediccion por el modelo\n",
        "def plot_image(i, predictions_array, true_label, img):\n",
        "  predictions_array, true_label, img = predictions_array, true_label[i], img[i]\n",
        "  plt.grid(False)\n",
        "  plt.xticks([])\n",
        "  plt.yticks([])\n",
        "  plt.imshow(img, cmap=plt.cm.binary)\n",
        "  predicted_label = np.argmax(predictions_array)\n",
        "  if predicted_label == true_label:\n",
        "    color = 'blue'\n",
        "  else:\n",
        "    color = 'red'\n",
        "  plt.xlabel(\"{} {:2.0f}% ({})\".format(class_names[predicted_label],\n",
        "                                100*np.max(predictions_array),\n",
        "                                class_names[true_label]),\n",
        "                                color=color)\n",
        "\n",
        "# muestra la probabilidad que indica el modelo de cada prenda de ropa\n",
        "def plot_value_array(i, predictions_array, true_label):\n",
        "  predictions_array, true_label = predictions_array, true_label[i]\n",
        "  plt.grid(False)\n",
        "  plt.xticks(range(10))\n",
        "  plt.yticks([])\n",
        "  thisplot = plt.bar(range(10), predictions_array, color=\"#777777\")\n",
        "  plt.ylim([0, 1])\n",
        "  predicted_label = np.argmax(predictions_array)\n",
        "\n",
        "  thisplot[predicted_label].set_color('red')\n",
        "  thisplot[true_label].set_color('blue')"
      ],
      "execution_count": null,
      "outputs": []
    },
    {
      "cell_type": "markdown",
      "metadata": {
        "id": "EXyWr2qCxx5O"
      },
      "source": [
        "Veamos que interpretación le da el modelo a la imágen 0"
      ]
    },
    {
      "cell_type": "code",
      "metadata": {
        "id": "Da2WeX_N6Lfo",
        "colab": {
          "base_uri": "https://localhost:8080/",
          "height": 211
        },
        "outputId": "5b2d6afa-d42a-4ed6-966f-76b43576d0b2"
      },
      "source": [
        "i = 0\n",
        "plt.figure(figsize=(6,3))\n",
        "plt.subplot(1,2,1)\n",
        "plot_image(i, predicciones[i], test_labels, test_images)\n",
        "plt.subplot(1,2,2)\n",
        "plot_value_array(i, predicciones[i],  test_labels)\n",
        "plt.show()"
      ],
      "execution_count": null,
      "outputs": [
        {
          "output_type": "display_data",
          "data": {
            "image/png": "[encoded data removed]",
            "text/plain": [
              "<Figure size 432x216 with 2 Axes>"
            ]
          },
          "metadata": {
            "needs_background": "light"
          }
        }
      ]
    },
    {
      "cell_type": "markdown",
      "metadata": {
        "id": "zIAc6Iocx_ie"
      },
      "source": [
        "Y veamos ahora que sucede con la imágen 12"
      ]
    },
    {
      "cell_type": "code",
      "metadata": {
        "id": "M7ri9WE_6bYQ",
        "colab": {
          "base_uri": "https://localhost:8080/",
          "height": 211
        },
        "outputId": "f4a523ca-10e0-4b16-898c-9a463ddfb472"
      },
      "source": [
        "i = 12\n",
        "plt.figure(figsize=(6,3))\n",
        "plt.subplot(1,2,1)\n",
        "plot_image(i, predicciones[i], test_labels, test_images)\n",
        "plt.subplot(1,2,2)\n",
        "plot_value_array(i, predicciones[i],  test_labels)\n",
        "plt.show()"
      ],
      "execution_count": null,
      "outputs": [
        {
          "output_type": "display_data",
          "data": {
            "image/png": "[encoded data removed]",
            "text/plain": [
              "<Figure size 432x216 with 2 Axes>"
            ]
          },
          "metadata": {
            "needs_background": "light"
          }
        }
      ]
    },
    {
      "cell_type": "markdown",
      "metadata": {
        "id": "dAh_UjLcaKr7"
      },
      "source": [
        "## Referencias\n",
        "\n",
        "*   https://www.tensorflow.org/tutorials/keras/classification?hl=es-419\n",
        "*   http://www.saedsayad.com/clustering_som.htm\n",
        "*   https://www.tensorflow.org/install\n",
        "*   https://codesachin.wordpress.com/2015/11/28/self-organizing-maps-with-googles-tensorflow/\n",
        "\n"
      ]
    }
  ]
}