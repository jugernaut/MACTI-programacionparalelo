{
  "nbformat": 4,
  "nbformat_minor": 0,
  "metadata": {
    "colab": {
      "provenance": [],
      "collapsed_sections": [],
      "toc_visible": true,
      "authorship_tag": "ABX9TyNgZwdR8YF9zXe/IConNYzx",
      "include_colab_link": true
    },
    "kernelspec": {
      "name": "python3",
      "display_name": "Python 3"
    }
  },
  "cells": [
    {
      "cell_type": "markdown",
      "metadata": {
        "id": "view-in-github",
        "colab_type": "text"
      },
      "source": [
        "<a href=\"https://colab.research.google.com/github/jugernaut/ProgramacionEnParalelo/blob/desarrollo/Introduccion/00_GitHub.ipynb\" target=\"_parent\"><img src=\"https://colab.research.google.com/assets/colab-badge.svg\" alt=\"Open In Colab\"/></a>"
      ]
    },
    {
      "cell_type": "markdown",
      "metadata": {
        "id": "4hZLrKGISFdt"
      },
      "source": [
        "<font color=\"Teal\" face=\"Comic Sans MS,arial\">\n",
        "  <h1 align=\"center\"><i>Google Colab y GitHub Fundación TELMEX</i></h1>\n",
        "  </font>\n",
        "  <font color=\"Black\" face=\"Comic Sans MS,arial\">\n",
        "  <h5 align=\"center\"><i>Profesor: M.en.C. Miguel Angel Pérez León.</i></h5>\n",
        "  <h5 align=\"center\"><i>correo: zeus@ciencias.unam.mx</i></h5>\n",
        "  </font>"
      ]
    },
    {
      "cell_type": "markdown",
      "metadata": {
        "id": "MvR-pOHCSXLg"
      },
      "source": [
        "# Introducción\n",
        "\n",
        "En esta presentaciónvamos a ver cuáles son las principales carcaterísticas de *GitHub* y como usarlo para nuestros proyectos.\n",
        "\n",
        "Como ya se ha mnencionado previamente *GitHub* es un conjunto de herramientas en una plataforma que nos permite principalmente alojar nuestros proyectos informaticos en repositorios.\n",
        "\n",
        "Para mayor documentació e información al respecto, visitar el sitio oficial de [*GitHub*](https://github.com)."
      ]
    },
    {
      "cell_type": "markdown",
      "metadata": {
        "id": "YXDk2MHbUjKK"
      },
      "source": [
        "# ¿Qué es *GitHub*?\n",
        "\n",
        "*Github* es una plataforma creada con la finalidad de alojar el código de los proyectos de cualquier desarrollador, fue comprada por *Microsoft* en junio del 2018. La plataforma tiene la intención de que los desarrolladores suban el código de sus aplicaciones y herramientas, y que como usuario no sólo puedas descargar el proyecto o la aplicación, sino también entrar a su perfil para leer sobre ella o **colaborar con su desarrollo**.\n",
        "\n",
        "Como su nombre indica, esta herramienta utiliza el sistema de control de versiones *Git* diseñado por [Linus Torvalds](https://www.xataka.com/preview-main/219296/d48f7c92ccc696c85361158ae4ac26f8). *Git* es un sistema de gestión de versiones con el que los desarrolladores pueden **administrar y organizar su proyecto**, ordenando el código de cada una de las nuevas versiones que sacan de sus aplicaciones para tratar de minimizar los errores potenciales y en caso de ser necesario **volver a una versión previa** a esto se le conoce como *rollback*.\n",
        "\n",
        "*GitHub* tiene una característica muy útil llamada [*GitHub pages*](https://pages.github.com), que te permite publicar el código del sitio en vivo en la Web.\n",
        "\n",
        "Así que en pocas palabras podemos decir que *GitHub* es la unión de 2 herramientas *Git* para controlar y organizar versión de los proyectos y al agregarle la palabra *Hub* se le añade la función social y web mediante la cual se puede compartir y facilitar la colaboración de otros desarrolladores. De tal manera que en suma *GitHub* es una herramienta que nos permite organizar y compartir los proyectos que así lo necesiten. "
      ]
    },
    {
      "cell_type": "markdown",
      "metadata": {
        "id": "se7Qhnb7X0i6"
      },
      "source": [
        "# ¿Cómo comenzar a utilizar *GitHub*?\n",
        "\n",
        "Existen varios caminos para comenzar a utilizar *GitHub* pero lo primero que necesitamos es generar una cuenta de *GitHub* en el siguiente\n",
        "[enlace](https://github.com/signup?ref_cta=Sign+up&ref_loc=header+logged+out&ref_page=%2F&source=header-home).\n"
      ]
    },
    {
      "cell_type": "markdown",
      "metadata": {
        "id": "LjloCBJsZ8NY"
      },
      "source": [
        "### Crear un repositorio\n",
        "\n",
        "Incluso sin necesidad de cuenta, podemos ingresar a *GitHub* y descargar los proyectos que sean de nuestro interes. Pero una vez que ya tenemos cuenta de *GitHUb* lo siguiente es crear un repositorio (proyecto), esto es necesario para almacenar nuestro código y todo lo relacionado al mismo. Para hacer esto basta con dar click en el botón *New*, como se muestra en la siguiente imagen.\n",
        "\n",
        "<center>\n",
        "<img src=\"https://github.com/jugernaut/ProgramacionEnParalelo/blob/desarrollo/Imagenes/Introduccion/proyecto.png?raw=1\" width=\"600\"> \n",
        "</center>\n",
        "\n",
        "Y finalmente completamos los campos necesarios para la creación del repositorio.\n",
        "\n",
        "<center>\n",
        "<img src=\"https://github.com/jugernaut/ProgramacionEnParalelo/blob/desarrollo/Imagenes/Introduccion/campos.png?raw=1\" width=\"600\"> \n",
        "</center>\n",
        "\n",
        "Con esto ya hemos creado el respositorio en *GitHub* y ya estamos listos para comenzar a publicar lo ncesario en el mismo."
      ]
    },
    {
      "cell_type": "markdown",
      "metadata": {
        "id": "nc_N5wuRdb4D"
      },
      "source": [
        "### Publicar desde *Google Colab*\n",
        "\n",
        "Ya que tenemos nuestro repositorio es importante identificar la *URL* que lo caracteriza, ya que esta va a ser su \"matricula\" y será la forma en cómo vamos a poder acceder al mismo. Esta *URL* la podemos ver en la página principal de nuestro repositorio.\n",
        "\n",
        "<center>\n",
        "<img src=\"https://github.com/jugernaut/ProgramacionEnParalelo/blob/desarrollo/Imagenes/Introduccion/url.png?raw=1\" width=\"600\"> \n",
        "</center>\n",
        "\n",
        "Bien, ahora existen muchos caminos para poder publicar contenido en nuestro repositorio, uno de estos caminos es instalar *GitHub* en nuestra computadora local y mediante linea de comandos crear un **repositorio local** que se vincule a nuestro repositorio en *GitHub*, este es el mejor camino pero también el que requiere más tiempo y conocimiento.\n",
        "\n",
        "<center>\n",
        "<img src=\"https://github.com/jugernaut/ProgramacionEnParalelo/blob/desarrollo/Imagenes/Introduccion/repositorio.jpg?raw=1\" width=\"500\"> \n",
        "</center>\n",
        "\n",
        "Otro camino es instalar un *IDE* (Entorno de Desarrollo), como lo puede ser *Eclipse*, *NetBeans*, *Visual Studio*, etc. e instalar el correspondiente *plugin* de *GitHub*.\n",
        "\n",
        "<center>\n",
        "<img src=\"https://github.com/jugernaut/ProgramacionEnParalelo/blob/desarrollo/Imagenes/Introduccion/eclipse.png?raw=1\" width=\"600\"> \n",
        "</center>\n",
        "\n",
        "Para fines de este curso, por sencillez vamos a publicar nuestro código directamente desde *Google Colab* ya que de esta forma **nos ahorramos la instalación y configuración** que requieren las 2 opciones previamente descritas.\n",
        "\n",
        "Lo primero que necesitamos es iniciar sesión en nuestra cuenta de *Gmail* y posteriormente ir a nuestro drive y seleccionar *nuevo*, después *mas* y finalmente *Google Colaboratory*.\n",
        "\n",
        "<center>\n",
        "<img src=\"https://github.com/jugernaut/ProgramacionEnParalelo/blob/desarrollo/Imagenes/Introduccion/colab.png?raw=1\" width=\"600\"> \n",
        "</center>\n",
        "\n",
        "Esto nos va a generar un documento en blanco (*jupyter notebook* o *colab*) en el cual podemos comenzar a escribir lo que necesitemos.\n",
        "\n",
        "<center>\n",
        "<img src=\"https://github.com/jugernaut/ProgramacionEnParalelo/blob/desarrollo/Imagenes/Introduccion/nuevocolab.png?raw=1\" width=\"600\"> \n",
        "</center>\n",
        "\n",
        "Es importante mencionar que este documento nuevo, su nombre inicial es *Untitled0.ipynb* lo primero que debemos hacer es cambiarle el nombre por el que nosotros queramos. Una vez que ya hayamos hecho este cambio y este documento contenga lo que necesitemos lo siguiente es guardarlo en *GitHub*, para esto es necesario dar click en *Archivo* y seleccionar *Guardar una copia en GitHub*.\n",
        "\n",
        "<center>\n",
        "<img src=\"https://github.com/jugernaut/ProgramacionEnParalelo/blob/desarrollo/Imagenes/Introduccion/colabhub.png?raw=1\" width=\"600\"> \n",
        "</center>\n",
        "\n",
        "Al hacer esto se nos pedirá autenticarnos con nuestra cuenta de usuario de *GitHub*, una vez que nos hayamos autenticado de manera correcta ya podremos ver nuestros repositorios (y los repositorios en los que seamos colaboradores).\n",
        "\n",
        "<center>\n",
        "<img src=\"https://github.com/jugernaut/ProgramacionEnParalelo/blob/desarrollo/Imagenes/Introduccion/repos.png?raw=1\" width=\"600\"> \n",
        "</center>\n",
        "\n",
        "Una vez aquí, es necesario dar el nombre de donde queremos que se guarde nuestro \"documento\" y la rama donde deseamos que se almacene dicho documento. "
      ]
    },
    {
      "cell_type": "markdown",
      "metadata": {
        "id": "9QEBRicRfbPE"
      },
      "source": [
        "#### Rutas\n",
        "\n",
        "Para que nuestro documento se alamcenece en la ruta correcta, es necesario especificar la ruta absoluta del mismo.\n",
        "\n",
        "Por ejemplo si mi documento se llama *prueba.ipynb* y quiero que este se alamcenece en dentro de la carpeta *Introduccion* que se encuentra en mi repostorio, entonces al momento de almacenar dicho documento, es necesario poner la ruta.\n",
        "\n",
        "*Introducci/prueba.ipynb*"
      ]
    },
    {
      "cell_type": "markdown",
      "metadata": {
        "id": "59KxPr97jnY8"
      },
      "source": [
        "#### Ramas (*Branch*)\n",
        "\n",
        "Una rama es un \"camino\" paralelo que ha tomado nuestro proyecto, eso se hace con la intención de que multiples colaboradores puedna trabajar en una parte en especifico del proyecto.\n",
        "\n",
        "Inicialmente contamos con la rama principal o *main*, pero podémos crear tantas ramas como se necesiten.\n",
        "\n",
        "<center>\n",
        "<img src=\"https://github.com/jugernaut/ProgramacionEnParalelo/blob/desarrollo/Imagenes/Introduccion/branches.png?raw=1\" width=\"600\"> \n",
        "</center>\n",
        "\n",
        "El concepto de rama, es muy importante ya que forma parte fundamental del control de versiones.\n",
        "\n",
        "<center>\n",
        "<img src=\"https://github.com/jugernaut/ProgramacionEnParalelo/blob/desarrollo/Imagenes/Introduccion/git_branch_merge.png?raw=1\" width=\"600\"> \n",
        "</center>"
      ]
    },
    {
      "cell_type": "markdown",
      "metadata": {
        "id": "kwMpCXtgJrtV"
      },
      "source": [
        "#### Publicar (*commit*)\n",
        "\n",
        "Una vez que ya especificamos la *URL* y la rama, basta con dar click en aceptar (se recomienda seleccionar el *checkbox* que genera el boton de *google colab* y con esto estamos publicando (haciendo *commit*) en el repositorio remoto, es decir *GitHub*.\n",
        "\n",
        "<center>\n",
        "<img src=\"https://github.com/jugernaut/ProgramacionEnParalelo/blob/desarrollo/Imagenes/Introduccion/repos.png?raw=1\" width=\"600\"> \n",
        "</center>"
      ]
    },
    {
      "cell_type": "markdown",
      "metadata": {
        "id": "13yU0yLt04il"
      },
      "source": [
        "### Arquitecto\n",
        "\n",
        "Una vez que ya se publico lo necesario, ahora del lado de *GitHub* podemos proceder a revisar y en caso de ser aprobada el commit, entonces podemos realizar la mezcla con el código principal del proyecto. \n",
        "\n",
        "<center>\n",
        "<img src=\"https://github.com/jugernaut/ProgramacionEnParalelo/blob/desarrollo/Imagenes/Introduccion/comparar.png?raw=1\" width=\"600\"> \n",
        "</center>\n"
      ]
    },
    {
      "cell_type": "markdown",
      "source": [
        "## Git desde linea de comandos en google colab\n",
        "\n",
        "Lo primero que necesitamos hacer es clonar un repositorio existente, eso lo hacemos con el comando"
      ],
      "metadata": {
        "id": "XXz9fc-J0R9T"
      }
    },
    {
      "cell_type": "code",
      "source": [
        "!git clone https://github.com/jugernaut/ProgramacionEnParalelo.git"
      ],
      "metadata": {
        "colab": {
          "base_uri": "https://localhost:8080/"
        },
        "id": "bEzXIh2i0jak",
        "outputId": "dff5b51d-1c32-4362-a9cc-923f8d83a78d"
      },
      "execution_count": 1,
      "outputs": [
        {
          "output_type": "stream",
          "name": "stdout",
          "text": [
            "Cloning into 'ProgramacionEnParalelo'...\n",
            "remote: Enumerating objects: 1852, done.\u001b[K\n",
            "remote: Counting objects: 100% (811/811), done.\u001b[K\n",
            "remote: Compressing objects: 100% (394/394), done.\u001b[K\n",
            "remote: Total 1852 (delta 511), reused 679 (delta 415), pack-reused 1041\u001b[K\n",
            "Receiving objects: 100% (1852/1852), 12.14 MiB | 11.60 MiB/s, done.\n",
            "Resolving deltas: 100% (1007/1007), done.\n"
          ]
        }
      ]
    },
    {
      "cell_type": "markdown",
      "source": [
        "Una vez que ya colnamos el repositorio lo siguiente es desplazarnos a la carpeta clonada y ahí inicializamos el repositorio."
      ],
      "metadata": {
        "id": "mrm7HB3H0pVm"
      }
    },
    {
      "cell_type": "code",
      "source": [
        "!cd ProgramacionEnParalelo && git init"
      ],
      "metadata": {
        "id": "qzgrW41_03BX"
      },
      "execution_count": null,
      "outputs": []
    }
  ]
}