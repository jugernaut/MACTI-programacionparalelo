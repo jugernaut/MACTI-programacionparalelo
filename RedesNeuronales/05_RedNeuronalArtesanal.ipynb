{
  "nbformat": 4,
  "nbformat_minor": 0,
  "metadata": {
    "colab": {
      "name": "RedNeuronalArtesanal.ipynb",
      "provenance": [],
      "toc_visible": true,
      "authorship_tag": "ABX9TyPVgc0IssCnRwWR8MlymBbZ",
      "include_colab_link": true
    },
    "kernelspec": {
      "name": "python3",
      "display_name": "Python 3"
    },
    "language_info": {
      "name": "python"
    }
  },
  "cells": [
    {
      "cell_type": "markdown",
      "metadata": {
        "id": "view-in-github",
        "colab_type": "text"
      },
      "source": [
        "<a href=\"https://colab.research.google.com/github/jugernaut/ProgramacionEnParalelo/blob/desarrollo/RedesNeuronales/05_RedNeuronalArtesanal.ipynb\" target=\"_parent\"><img src=\"https://colab.research.google.com/assets/colab-badge.svg\" alt=\"Open In Colab\"/></a>"
      ]
    },
    {
      "cell_type": "markdown",
      "metadata": {
        "id": "mEMa0gtYo2EJ"
      },
      "source": [
        "<font color=\"Teal\" face=\"Comic Sans MS,arial\">\n",
        "  <h1 align=\"center\"><i>Red Neuronal (artesanal)</i></h1>\n",
        "  </font>\n",
        "  <font color=\"Black\" face=\"Comic Sans MS,arial\">\n",
        "  <h5 align=\"center\"><i>Profesor: M. en C. Miguel Angel Pérez León</i></h5>\n",
        "    <h5 align=\"center\"><i>Ayudante: Jesús Iván Coss Calderón</i></h5>\n",
        "    <h5 align=\"center\"><i>Ayudante: Mario Arturo</i></h5>\n",
        "  <h5 align=\"center\"><i>Materia: Seminario de programación en paralelo</i></h5>\n",
        "  </font>"
      ]
    },
    {
      "cell_type": "markdown",
      "metadata": {
        "id": "h6H4CFkUpUoI"
      },
      "source": [
        "# Introducción\n",
        "\n",
        "Este material se generó con base en los video e ideas que se muestran en las referencias, para mayor detalle es necesario consultar las mismas."
      ]
    },
    {
      "cell_type": "markdown",
      "metadata": {
        "id": "vrKIfEQzrdnf"
      },
      "source": [
        "# Planteamiento del problema\n",
        "\n",
        "Vamos a generar una red neuronal que nos ayude a clasificar un conjunto de datos.\n",
        "\n",
        "Para hacerlo un poco más interesante, pensemos que lo que estamos buscando es rescatar a los héroes de *Game of Thrones*, para ver un poco más de detalles al respecto visitar este [video](https://youtu.be/uwbHOpp9xkc?t=437).\n",
        "\n",
        "La idea básica es encontrar una forma de delimitar a los datos de color salmón y los datos de color azul, de manera gráfica veríamos lo siguiente."
      ]
    },
    {
      "cell_type": "code",
      "metadata": {
        "colab": {
          "base_uri": "https://localhost:8080/",
          "height": 265
        },
        "id": "Zvr375p2Wsfj",
        "outputId": "33bddd81-572e-4e76-c078-918493247dd6"
      },
      "source": [
        "# import de las bibliotecas necesarias\n",
        "import numpy as np\n",
        "import scipy as sc\n",
        "import matplotlib.pyplot as plt\n",
        "from sklearn.datasets import make_circles\n",
        "\n",
        "# numero de muestras\n",
        "n = 500\n",
        "# tipo de datos\n",
        "p = 2\n",
        "\n",
        "# x=coordeadas, y=valores (adentro o fuera)\n",
        "x, y = make_circles(n_samples=n, factor=0.5, noise=0.05)\n",
        "y = y[:, np.newaxis]\n",
        "\n",
        "# se grafican ambos conjuntos de datos\n",
        "plt.scatter(x[y[:,0]==0 ,0], x[y[:,0]==0 ,1], c='skyblue')\n",
        "plt.scatter(x[y[:,0]==1, 0], x[y[:,0]==1 ,1], c='salmon')\n",
        "plt.axis(\"equal\")\n",
        "plt.show()"
      ],
      "execution_count": null,
      "outputs": [
        {
          "output_type": "display_data",
          "data": {
            "image/png": "[encoded data removed]",
            "text/plain": [
              "<Figure size 432x288 with 1 Axes>"
            ]
          },
          "metadata": {
            "tags": [],
            "needs_background": "light"
          }
        }
      ]
    },
    {
      "cell_type": "markdown",
      "metadata": {
        "id": "-9-G1qkbtcOS"
      },
      "source": [
        "Imaginemos que los datos de color azul son los \"enemigos\" y los datos de color rojo son los \"aliados\".\n",
        "\n",
        "Necesitamos definir un algoritmo que nos ayude a determinar si un par de coordenadas $(x, y)$ corresponden a un aliado ó a un enemigo.\n",
        "\n",
        "Para tal propósito vamos a crear una red neuronal que nos ayude a clasificar a estos individuos."
      ]
    },
    {
      "cell_type": "markdown",
      "metadata": {
        "id": "cnL5i1jDuayX"
      },
      "source": [
        "# POO (paradigma orientado a objetos)\n",
        "\n",
        "Para una mejor organización de los algoritmos que se mostrarán a continuación, lo mejor es hacer uso del paradigma orientado a objetos."
      ]
    },
    {
      "cell_type": "markdown",
      "metadata": {
        "id": "l0NuBCBSu2ly"
      },
      "source": [
        "## CapaNeuronal\n",
        "\n",
        "Esta clase nos proporciona la estructura de datos para almacenar y representar los componentes de la red."
      ]
    },
    {
      "cell_type": "markdown",
      "metadata": {
        "id": "8mW8oSiIvDwI"
      },
      "source": [
        "### Pesos (w)"
      ]
    },
    {
      "cell_type": "markdown",
      "metadata": {
        "id": "R9kjM1lovGRM"
      },
      "source": [
        "### Sesgos (b)"
      ]
    },
    {
      "cell_type": "markdown",
      "metadata": {
        "id": "BDWLVMnkvr2I"
      },
      "source": [
        "### Sesgos (b)"
      ]
    },
    {
      "cell_type": "code",
      "metadata": {
        "id": "fHEJRrtcZjOz"
      },
      "source": [
        "# clase para la clase de las capas\n",
        "\n",
        "# define una estructura para una capa de la red\n",
        "class CapaNeuronal():\n",
        "  '''\n",
        "  constructor\n",
        "  n_conn: numero de conexiones entre las neuronas\n",
        "  n_neur: numero de neuronas en la capa\n",
        "  act_f:  funcion de activacion para esta capa\n",
        "  '''\n",
        "  def __init__(self, n_conn, n_neur, act_f):\n",
        "    self.act_f = act_f\n",
        "    # bias para cada entrada de las neuronas\n",
        "    # se multiplica por 2 y se resta menos 1 para moverlo al rango adecuado\n",
        "    self.b = np.random.rand(1, n_neur) * 2 -1\n",
        "    self.w = np.random.rand(n_conn, n_neur) * 2 -1"
      ],
      "execution_count": 45,
      "outputs": []
    },
    {
      "cell_type": "markdown",
      "metadata": {
        "id": "ki2poPzlvytN"
      },
      "source": [
        "Veamos un ejemplo de la estructura de una capa."
      ]
    },
    {
      "cell_type": "code",
      "metadata": {
        "colab": {
          "base_uri": "https://localhost:8080/"
        },
        "id": "B37hwNROdzrp",
        "outputId": "a4055959-1739-4442-9bcb-a83063fb2111"
      },
      "source": [
        "capa = CapaNeuronal(3, 4, None)\n",
        "# matiz de pesos de las conecciones con las neuronas\n",
        "print(capa.w)\n",
        "# vector columna que forma parte de la suma ponderada\n",
        "print(capa.b)"
      ],
      "execution_count": 48,
      "outputs": [
        {
          "output_type": "stream",
          "text": [
            "[[ 0.20565542 -0.29401106  0.12260422 -0.54672729]\n",
            " [-0.48471538  0.45949189 -0.05489566  0.43469408]\n",
            " [ 0.84578523 -0.71938093 -0.26119288 -0.22019227]]\n",
            "[[-0.03577045 -0.27174471 -0.14842959  0.7692891 ]]\n"
          ],
          "name": "stdout"
        }
      ]
    },
    {
      "cell_type": "markdown",
      "metadata": {
        "id": "BGJwghrTwZ18"
      },
      "source": [
        "## Función de activación\n",
        "\n",
        "En este caso vamos a hacer uso de la función sigmoide y además mediante el mismo identificador de la función vamos a almacenar las derivada de dicha función, ya que se ocupará más adelante."
      ]
    },
    {
      "cell_type": "code",
      "metadata": {
        "colab": {
          "base_uri": "https://localhost:8080/",
          "height": 282
        },
        "id": "opwpRh-bP1uF",
        "outputId": "ee5f1fc6-bb83-4541-aa16-589949e6165f"
      },
      "source": [
        "sigm = (lambda x: 1/(1+np.e**(-x)),\n",
        "        lambda x: x *(1 - x))\n",
        "\n",
        "_x = np.linspace(-5, 5, 100)\n",
        "\n",
        "plt.plot(_x, sigm[0](_x))"
      ],
      "execution_count": 49,
      "outputs": [
        {
          "output_type": "execute_result",
          "data": {
            "text/plain": [
              "[<matplotlib.lines.Line2D at 0x7f3ed86078d0>]"
            ]
          },
          "metadata": {
            "tags": []
          },
          "execution_count": 49
        },
        {
          "output_type": "display_data",
          "data": {
            "image/png": "[encoded data removed]",
            "text/plain": [
              "<Figure size 432x288 with 1 Axes>"
            ]
          },
          "metadata": {
            "tags": [],
            "needs_background": "light"
          }
        }
      ]
    },
    {
      "cell_type": "markdown",
      "metadata": {
        "id": "oCEFROmEw_A_"
      },
      "source": [
        "## Esto va en la clase *RedNeuronal*"
      ]
    },
    {
      "cell_type": "code",
      "metadata": {
        "id": "9HVmc1KtRNn6"
      },
      "source": [
        "Capa0 = CapaNeuronal(p, 4, sigm)\n",
        "Capa1 = CapaNeuronal(4, 8, sigm)\n",
        "\n",
        "def crear_rn(top, act_f):\n",
        "  \n",
        "  red_n = []\n",
        "\n",
        "  for c, capa in enumerate(top[:-1]):\n",
        "    red_n.append(CapaNeuronal(top[c], top[c+1], act_f))\n",
        "  \n",
        "  return red_n\n"
      ],
      "execution_count": null,
      "outputs": []
    },
    {
      "cell_type": "code",
      "metadata": {
        "id": "yxmKe_c9UPQs"
      },
      "source": [
        "topologia = [p, 4, 8, 1]\n",
        "\n",
        "red = crear_rn(topologia, sigm)\n",
        "\n",
        "funcion_costo = (lambda Yp, Yr : np.mean((Yp - Yr)**2),\n",
        "                 lambda Yp, Yr : (Yp - Yr))\n",
        "\n",
        "def entrenamiento(red, x, y, f_costo, aprendizaje = 0.5, entrenar=True):\n",
        "\n",
        "  salidas = [(None, x)]\n",
        "\n",
        "  for c, capa in enumerate(red):\n",
        "    # Paso hacia adelante, vector de entrada pasa capa por capa\n",
        "    z = np.matmul(salidas[-1][1], red[c].w) + red[c].b\n",
        "    a = red[c].act_f[0](z)\n",
        "    salidas.append((z, a))\n",
        "\n",
        "  if entrenar:\n",
        "    #backpropagation\n",
        "    deltas =[]\n",
        "    for c in reversed(range(len(red))):\n",
        "      z = salidas[c+1][0]\n",
        "      a = salidas[c+1][1]\n",
        "\n",
        "      if c == len(red) - 1:\n",
        "        #calcular delta ultima capa\n",
        "        deltas.insert(0, f_costo[1](a, y) * red[c].act_f[1](a))\n",
        "      else:\n",
        "        #calcular resto de las deltas \n",
        "        deltas.insert(0, deltas[0] @ _w.T * red[c].act_f[1](a)) \n",
        "\n",
        "      #variable temporal para no sobreescribir\n",
        "      _w = red[c].w\n",
        "      #descenso del gradiente\n",
        "      red[c].b = red[c].b - np.mean(deltas[0], axis=0, keepdims=True)*aprendizaje\n",
        "      red[c].w = red[c].w - salidas[c][1].T @ deltas[0] * aprendizaje\n",
        "\n",
        "  return salidas[-1][1]"
      ],
      "execution_count": null,
      "outputs": []
    },
    {
      "cell_type": "markdown",
      "metadata": {
        "id": "Z1irdWgzuIUY"
      },
      "source": [
        "# Probando la red\n",
        "\n",
        "Al ejecutar la siguiente celda, podémos ver como la red aprende y de forma iterativa disminuye el error."
      ]
    },
    {
      "cell_type": "code",
      "metadata": {
        "colab": {
          "base_uri": "https://localhost:8080/",
          "height": 517
        },
        "id": "DWmYzoy1fUzj",
        "outputId": "67d6e7ca-16c8-4db0-c000-014e59b8a65e"
      },
      "source": [
        "import time\n",
        "from IPython.display import clear_output\n",
        "\n",
        "red = crear_rn(topologia, sigm)\n",
        "\n",
        "perdida = []\n",
        "\n",
        "for i in range(1000):\n",
        "  py = entrenamiento(red, x, y, funcion_costo, aprendizaje=0.05)\n",
        "  if i % 25 == 0:\n",
        "    perdida.append(funcion_costo[0](py, y))\n",
        "    res = 50\n",
        "\n",
        "    _x0 = np.linspace(-1.5, 1.5, res)\n",
        "    _x1 = np.linspace(-1.5, 1.5, res)\n",
        "\n",
        "    _y = np.zeros((res, res))\n",
        "\n",
        "    for i0, x0 in enumerate(_x0):\n",
        "      for i1, x1 in enumerate(_x1):\n",
        "        _y[i0, i1] = entrenamiento(red, np.array([[x0, x1]]), y, \n",
        "                                   funcion_costo, entrenar=False)[0][0]\n",
        "\n",
        "    plt.pcolormesh(_x0, _x1, _y, cmap=\"coolwarm\")\n",
        "    plt.axis(\"equal\")\n",
        "\n",
        "    plt.scatter(x[y[:,0]==0 ,0], x[y[:,0]==0 ,1], c='skyblue')\n",
        "    plt.scatter(x[y[:,0]==1, 0], x[y[:,0]==1 ,1], c='salmon')\n",
        "\n",
        "    clear_output(wait=True)\n",
        "    plt.show()\n",
        "    plt.plot(range(len(perdida)), perdida)\n",
        "    plt.show()\n",
        "    time.sleep(0.5)"
      ],
      "execution_count": null,
      "outputs": [
        {
          "output_type": "display_data",
          "data": {
            "image/png": "[encoded data removed]",
            "text/plain": [
              "<Figure size 432x288 with 1 Axes>"
            ]
          },
          "metadata": {
            "tags": [],
            "needs_background": "light"
          }
        },
        {
          "output_type": "display_data",
          "data": {
            "image/png": "[encoded data removed]",
            "text/plain": [
              "<Figure size 432x288 with 1 Axes>"
            ]
          },
          "metadata": {
            "tags": [],
            "needs_background": "light"
          }
        }
      ]
    },
    {
      "cell_type": "markdown",
      "metadata": {
        "id": "LM4b9FWspm-C"
      },
      "source": [
        "# Referencias\n",
        "\n",
        "*   https://www.youtube.com/playlist?list=PLo8YL3HL50lUSfq2CdgAhvWVQfxkLHdw2\n",
        "*   https://www.youtube.com/playlist?list=PLo8YL3HL50lUHQS80oE_ypxFi0Y3uCVal"
      ]
    }
  ]
}