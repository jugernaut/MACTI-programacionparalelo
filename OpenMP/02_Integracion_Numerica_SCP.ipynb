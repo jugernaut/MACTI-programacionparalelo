{
  "nbformat": 4,
  "nbformat_minor": 0,
  "metadata": {
    "kernelspec": {
      "display_name": "Python 3.7 (tensorflow)",
      "language": "python",
      "name": "tensorflow"
    },
    "language_info": {
      "codemirror_mode": {
        "name": "ipython",
        "version": 3
      },
      "file_extension": ".py",
      "mimetype": "text/x-python",
      "name": "python",
      "nbconvert_exporter": "python",
      "pygments_lexer": "ipython3",
      "version": "3.7.7"
    },
    "colab": {
      "name": "Integracion_Numerica_SCP.ipynb",
      "provenance": [],
      "collapsed_sections": [],
      "toc_visible": true,
      "include_colab_link": true
    },
    "widgets": {
      "application/vnd.jupyter.widget-state+json": {
        "7c3411e2d9e647f48acf3f386952bb15": {
          "model_module": "@jupyter-widgets/controls",
          "model_name": "VBoxModel",
          "state": {
            "_view_name": "VBoxView",
            "_dom_classes": [
              "widget-interact"
            ],
            "_model_name": "VBoxModel",
            "_view_module": "@jupyter-widgets/controls",
            "_model_module_version": "1.5.0",
            "_view_count": null,
            "_view_module_version": "1.5.0",
            "box_style": "",
            "layout": "IPY_MODEL_49fdad1dd3a241e0afa00de2901b1dbf",
            "_model_module": "@jupyter-widgets/controls",
            "children": [
              "IPY_MODEL_5e20290314c14008857d0628d683214b",
              "IPY_MODEL_1fb0428a17ae443fbc8b97e0294b2879"
            ]
          }
        },
        "49fdad1dd3a241e0afa00de2901b1dbf": {
          "model_module": "@jupyter-widgets/base",
          "model_name": "LayoutModel",
          "state": {
            "_view_name": "LayoutView",
            "grid_template_rows": null,
            "right": null,
            "justify_content": null,
            "_view_module": "@jupyter-widgets/base",
            "overflow": null,
            "_model_module_version": "1.2.0",
            "_view_count": null,
            "flex_flow": null,
            "width": null,
            "min_width": null,
            "border": null,
            "align_items": null,
            "bottom": null,
            "_model_module": "@jupyter-widgets/base",
            "top": null,
            "grid_column": null,
            "overflow_y": null,
            "overflow_x": null,
            "grid_auto_flow": null,
            "grid_area": null,
            "grid_template_columns": null,
            "flex": null,
            "_model_name": "LayoutModel",
            "justify_items": null,
            "grid_row": null,
            "max_height": null,
            "align_content": null,
            "visibility": null,
            "align_self": null,
            "height": null,
            "min_height": null,
            "padding": null,
            "grid_auto_rows": null,
            "grid_gap": null,
            "max_width": null,
            "order": null,
            "_view_module_version": "1.2.0",
            "grid_template_areas": null,
            "object_position": null,
            "object_fit": null,
            "grid_auto_columns": null,
            "margin": null,
            "display": null,
            "left": null
          }
        },
        "5e20290314c14008857d0628d683214b": {
          "model_module": "@jupyter-widgets/controls",
          "model_name": "IntSliderModel",
          "state": {
            "_view_name": "IntSliderView",
            "style": "IPY_MODEL_1d3e8a70d72d490f8a53e994d5050d9e",
            "_dom_classes": [],
            "description": "n",
            "step": 1,
            "_model_name": "IntSliderModel",
            "orientation": "horizontal",
            "max": 30,
            "_view_module": "@jupyter-widgets/controls",
            "_model_module_version": "1.5.0",
            "value": 2,
            "_view_count": null,
            "disabled": false,
            "_view_module_version": "1.5.0",
            "min": 1,
            "continuous_update": true,
            "readout_format": "d",
            "description_tooltip": null,
            "readout": true,
            "_model_module": "@jupyter-widgets/controls",
            "layout": "IPY_MODEL_cc82b56358704492bf7f054af9cffa35"
          }
        },
        "1fb0428a17ae443fbc8b97e0294b2879": {
          "model_module": "@jupyter-widgets/output",
          "model_name": "OutputModel",
          "state": {
            "_view_name": "OutputView",
            "msg_id": "",
            "_dom_classes": [],
            "_model_name": "OutputModel",
            "outputs": [
              {
                "output_type": "stream",
                "metadata": {
                  "tags": []
                },
                "text": "el valor de la integral mediante el metodo de cuadratura del rectangulo es: 0.625\n",
                "stream": "stdout"
              },
              {
                "output_type": "display_data",
                "metadata": {
                  "tags": [],
                  "needs_background": "light"
                },
                "image/png": "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\n",
                "text/plain": "<Figure size 432x288 with 1 Axes>"
              }
            ],
            "_view_module": "@jupyter-widgets/output",
            "_model_module_version": "1.0.0",
            "_view_count": null,
            "_view_module_version": "1.0.0",
            "layout": "IPY_MODEL_3e785d5f90c24d1891b273765816b691",
            "_model_module": "@jupyter-widgets/output"
          }
        },
        "1d3e8a70d72d490f8a53e994d5050d9e": {
          "model_module": "@jupyter-widgets/controls",
          "model_name": "SliderStyleModel",
          "state": {
            "_view_name": "StyleView",
            "handle_color": null,
            "_model_name": "SliderStyleModel",
            "description_width": "",
            "_view_module": "@jupyter-widgets/base",
            "_model_module_version": "1.5.0",
            "_view_count": null,
            "_view_module_version": "1.2.0",
            "_model_module": "@jupyter-widgets/controls"
          }
        },
        "cc82b56358704492bf7f054af9cffa35": {
          "model_module": "@jupyter-widgets/base",
          "model_name": "LayoutModel",
          "state": {
            "_view_name": "LayoutView",
            "grid_template_rows": null,
            "right": null,
            "justify_content": null,
            "_view_module": "@jupyter-widgets/base",
            "overflow": null,
            "_model_module_version": "1.2.0",
            "_view_count": null,
            "flex_flow": null,
            "width": null,
            "min_width": null,
            "border": null,
            "align_items": null,
            "bottom": null,
            "_model_module": "@jupyter-widgets/base",
            "top": null,
            "grid_column": null,
            "overflow_y": null,
            "overflow_x": null,
            "grid_auto_flow": null,
            "grid_area": null,
            "grid_template_columns": null,
            "flex": null,
            "_model_name": "LayoutModel",
            "justify_items": null,
            "grid_row": null,
            "max_height": null,
            "align_content": null,
            "visibility": null,
            "align_self": null,
            "height": null,
            "min_height": null,
            "padding": null,
            "grid_auto_rows": null,
            "grid_gap": null,
            "max_width": null,
            "order": null,
            "_view_module_version": "1.2.0",
            "grid_template_areas": null,
            "object_position": null,
            "object_fit": null,
            "grid_auto_columns": null,
            "margin": null,
            "display": null,
            "left": null
          }
        },
        "3e785d5f90c24d1891b273765816b691": {
          "model_module": "@jupyter-widgets/base",
          "model_name": "LayoutModel",
          "state": {
            "_view_name": "LayoutView",
            "grid_template_rows": null,
            "right": null,
            "justify_content": null,
            "_view_module": "@jupyter-widgets/base",
            "overflow": null,
            "_model_module_version": "1.2.0",
            "_view_count": null,
            "flex_flow": null,
            "width": null,
            "min_width": null,
            "border": null,
            "align_items": null,
            "bottom": null,
            "_model_module": "@jupyter-widgets/base",
            "top": null,
            "grid_column": null,
            "overflow_y": null,
            "overflow_x": null,
            "grid_auto_flow": null,
            "grid_area": null,
            "grid_template_columns": null,
            "flex": null,
            "_model_name": "LayoutModel",
            "justify_items": null,
            "grid_row": null,
            "max_height": null,
            "align_content": null,
            "visibility": null,
            "align_self": null,
            "height": null,
            "min_height": null,
            "padding": null,
            "grid_auto_rows": null,
            "grid_gap": null,
            "max_width": null,
            "order": null,
            "_view_module_version": "1.2.0",
            "grid_template_areas": null,
            "object_position": null,
            "object_fit": null,
            "grid_auto_columns": null,
            "margin": null,
            "display": null,
            "left": null
          }
        },
        "636b8498af9a49e6b05fac69100d4183": {
          "model_module": "@jupyter-widgets/controls",
          "model_name": "VBoxModel",
          "state": {
            "_view_name": "VBoxView",
            "_dom_classes": [
              "widget-interact"
            ],
            "_model_name": "VBoxModel",
            "_view_module": "@jupyter-widgets/controls",
            "_model_module_version": "1.5.0",
            "_view_count": null,
            "_view_module_version": "1.5.0",
            "box_style": "",
            "layout": "IPY_MODEL_acfd381dd4f5486bb6d5df6ec9e9b8ab",
            "_model_module": "@jupyter-widgets/controls",
            "children": [
              "IPY_MODEL_8d3339d7f81144b7bfd9fbaa817a8515",
              "IPY_MODEL_e056a845a37f4e3ba1f00afcf5cb6545"
            ]
          }
        },
        "acfd381dd4f5486bb6d5df6ec9e9b8ab": {
          "model_module": "@jupyter-widgets/base",
          "model_name": "LayoutModel",
          "state": {
            "_view_name": "LayoutView",
            "grid_template_rows": null,
            "right": null,
            "justify_content": null,
            "_view_module": "@jupyter-widgets/base",
            "overflow": null,
            "_model_module_version": "1.2.0",
            "_view_count": null,
            "flex_flow": null,
            "width": null,
            "min_width": null,
            "border": null,
            "align_items": null,
            "bottom": null,
            "_model_module": "@jupyter-widgets/base",
            "top": null,
            "grid_column": null,
            "overflow_y": null,
            "overflow_x": null,
            "grid_auto_flow": null,
            "grid_area": null,
            "grid_template_columns": null,
            "flex": null,
            "_model_name": "LayoutModel",
            "justify_items": null,
            "grid_row": null,
            "max_height": null,
            "align_content": null,
            "visibility": null,
            "align_self": null,
            "height": null,
            "min_height": null,
            "padding": null,
            "grid_auto_rows": null,
            "grid_gap": null,
            "max_width": null,
            "order": null,
            "_view_module_version": "1.2.0",
            "grid_template_areas": null,
            "object_position": null,
            "object_fit": null,
            "grid_auto_columns": null,
            "margin": null,
            "display": null,
            "left": null
          }
        },
        "8d3339d7f81144b7bfd9fbaa817a8515": {
          "model_module": "@jupyter-widgets/controls",
          "model_name": "IntSliderModel",
          "state": {
            "_view_name": "IntSliderView",
            "style": "IPY_MODEL_d61957fde34c4de5ad9c56576b7b121f",
            "_dom_classes": [],
            "description": "n",
            "step": 1,
            "_model_name": "IntSliderModel",
            "orientation": "horizontal",
            "max": 30,
            "_view_module": "@jupyter-widgets/controls",
            "_model_module_version": "1.5.0",
            "value": 18,
            "_view_count": null,
            "disabled": false,
            "_view_module_version": "1.5.0",
            "min": 1,
            "continuous_update": true,
            "readout_format": "d",
            "description_tooltip": null,
            "readout": true,
            "_model_module": "@jupyter-widgets/controls",
            "layout": "IPY_MODEL_3ace7723bd6643b7a9e06c4f9a3dbed7"
          }
        },
        "e056a845a37f4e3ba1f00afcf5cb6545": {
          "model_module": "@jupyter-widgets/output",
          "model_name": "OutputModel",
          "state": {
            "_view_name": "OutputView",
            "msg_id": "",
            "_dom_classes": [],
            "_model_name": "OutputModel",
            "outputs": [
              {
                "output_type": "stream",
                "metadata": {
                  "tags": []
                },
                "text": "el valor de la integral mediante el metodo de cuadratura del punto medio es: 0.33307613168724276\n",
                "stream": "stdout"
              },
              {
                "output_type": "display_data",
                "metadata": {
                  "tags": [],
                  "needs_background": "light"
                },
                "image/png": "iVBORw0KGgoAAAANSUhEUgAAAdwAAAEWCAYAAADM0CYnAAAABHNCSVQICAgIfAhkiAAAAAlwSFlzAAALEgAACxIB0t1+/AAAADh0RVh0U29mdHdhcmUAbWF0cGxvdGxpYiB2ZXJzaW9uMy4yLjIsIGh0dHA6Ly9tYXRwbG90bGliLm9yZy+WH4yJAAAgAElEQVR4nO3de5xV8/7H8denQlSEkqjUqfjlLpG7IZeEcklCkltI6eRylGsnjtuJROHUySFJqUMnpETGpZQ4couSdEc3pUlTTX1+f6w1x27MntnTzOy195738/GYx+y113ev9fmu/V3rs9d33czdERERkfJVKeoAREREKgIlXBERkSRQwhUREUkCJVwREZEkUMIVERFJAiVcERGRJEibhGtmJ5rZnCTPs4GZ5ZhZ5STMK9vMrtmOzzU0MzezKtvx2cvM7K2Sfi4KpalnMphZlpktiTqORJjZc2Z2fxlNa4GZnbYdn0v55VWWyykqJdmuhOtXk/KOKZ3EtoGyyEEJJ9zwi/vFzHYqzQy3l7t/4O4HJHmei9y9urtvSeZ8k8XdX3T3MxIpa2ZdzOzD8o5Jire9SU6Sa3t/RFc06dKeyyIHJZRwzawhcCLgQNvtnVmq7p1I9JLRiyBSVpKxLdP2MvMkuofbGZgOPAdcETsi3OV+xswmm9k6M3vPzPaLGe9mdqOZfQd8F753rZnNM7PVZjbezPYJ33/azP4d89mHzewdC2zTBRX+KrrNzL4ws/VmNszM6pjZm2Ecb5vZ7jHlx5jZT2a21szeN7ODYsbtbGaPmtnCcPyH4XvbdGOa2T5hvKvD+K+NmUZfM3vZzIaH8//azFrEW6BmdrqZfRvObxBgBcZfZWbfhL0Kk2KXaVHM7Mrwc+vMbL6ZXVdE2W32WsO6Xm9m35nZGjMbHC77ZsAzwLEWdLGvCcvvZGb9zWyRmf0ctoOdY6b3FzP70cyWmdk1sV1WYbt52swmmNl64BQzO9vMPjOzX81ssZn1TaTO4fTqm9krZrbCzFaFyxQzq2Rmd4Xf7fLw+9ktHJf//V4R1mGlmd1ZxDyKrG8x8bmZdQuX7Tozu8/MGpvZtLC+L5vZjjHlzzGzWeH3MM3MDg3ffwFoALwWfhd/Cd9vG7a5NRbsWTWLmdYRZvbfcL6jgaoFYit0fYxTj8vDZbmq4LIKl3VvM/s+HP+yme2R4PLJ/9w6M5ttZucXUbaymd0RU/7T8Pv/w2EHi9nLDJf3lDC2lWb2opnVTGQ5Wbj9MbPbzewn4F9mtruZvR62uV/C1/XC8n8j2EkZFH5PgxKIr4uZTTWzAWa2CuhbXMyFLJvy2q5km9mDZvZx2F7/k//dWiGHByxmr9WK2DZuT3suJLYyWbfCccW2gZjhZmFsa8JYi98Zdfdi/4B5QDfgSGAzUCdm3HPAOuAkYCdgIPBhzHgHJgN7ADsDpwIrgeZh+SeB98OyuwBzgS4EjXUlUC8clwUsiZnuAoIfAXWAfYHlwH+BI8KFNAW4N6b8VUCNcJ6PA7Nixg0GssPpVAaOC8s1DOOvEpZ7H3gqnP7hwArg1HBcXyAXaBNO40FgepzlWStcZu2BHYBeQB5wTTi+XbjMmwFVgLuAaXGmVTDGs4HGBCvaycBvQPM4n+1SyHf1OlCTYCVYAbQurGz43gBgfPjd1gBeAx4Mx7UGfgIOCr/XEeH0m8S0m7XA8QQ//KqG3/Eh4fChwM/AeYXVs0AclYHPw3iqhdM6IeZ7nwf8CagOvAK8UGCaQwna5mHARqBZnOVVVH2ziGmfhXzWgf8Au4bLZCPwThjXbsBs4Iqw7BEE7bllWLcrCNr7TjFt/7SYae8PrAdOJ2hPfwnrvGP4t5Cgje1A0OY2A/eHn427PhZShwOBHH5f1x8jaLenheN7EqyT9cLx/wBeijOtbZYXcBGwT/jdXxzWp26cz94GfAkcQNDODwP2LKyNEKzX+etVk3AZ7QTUJlifHw/HFbecssK6Phx+fudwnhcStO8awBhgXGHzjteGC8TXJZxHD4L1fueiYi7r7Qox62ch084GlgIHE6xj/wZGxGv7xLRRitk2UoL2XJ7rVoJtYEn4eocwpjvCz50aLvsD4m0D3L34hAucEM60Vjj8LdArZvxzwKiY4erAFqB+zMI4NWb8MOCRAuU3Aw3D4ZbA6rDilxSxgi4ALosZ/jfwdMxwD2Iaf4E61Qzj2o1gBd8AHFZIuYZhuSpA/bBeNWLGPwg8F9Oo3i6wcdoQZ/6dCzQ4A5bw+4rxJnB1zPhKBIlzv6JijDOvcUDPOOO68MeEe0LM8MtA7zhljWClaBzz3rHAD+HrZwmTUczGrmDCHV5M23scGFBcPcP5rogz7h2gW8zwAWF7qxIzzXox4z8GOhYyneLqu037jLNROD5m+FPg9pjhR/l94/80cF+Bz88BTo5p+7EbqLuBlwu0l6VhTCcBywCLGT+N3zciRa6PBWK4h23X9WrAJn7fsH4DtIoZXzd/WRcyreKW1yygXZxxcwobV1gboUDSK1D+POCz8HVxyykrrGvVImI+HPgl3ryLi49gHVtUzDrxv5gLGVeq7QrFJ9yHYoYPDJdH5cK+S/6YcONuGylBey7PdSvBNpCfcE8k2KGoFFP2JaBvUd9fIl3KVwBvufvKcHgkBbqVgcX5L9w9hyBh7lPY+PD9hQXKryLYu8TdZwDzCRrLy8XE9nPM6w2FDFeH/3VBPRR2Qf1K8AVD8IuwFsEe0ffFzGsfYLW7r4t5b2F+3KGfYl7/BlS1wo/D7MO2y8zZdhntBwwMuyrWECxPKzCvQpnZWWY23YLuwTUEvyprFfe5IupQPU652gS/7D+NiXNi+D4UqGOB14W+Z2YtzezdsItuLXB9grHXBxa6e14h47Zpb+HrKgQ9I/kSqXNx9U1EQu2V4Pu/JX8+4bzqs+06FavgOrWVYNnuG45bGraxfAuL+Ow262Mh84ltt+vDsvn2A16Nifkbgh+pdSiGmXWO6eZbQ7AnFe+7r0/x62th86hjZqPMbGm4HRgRM4/ilhPACnfPjZneLmb2Dwu62H8l2PusaaU7H6HgOlFUzAWV23alkNgWEuzlJbptSXTbCEW353jKYt1KpA3Exrg4jC22bJHLssiEa8HxqQ7AyRYc//yJYHf7MDM7LKZo/ZjPVCfoclsWMz62AssIKp1fvhpB18zScPhGgt37ZQRdCWXhUoLulNMI9mob5s+eoDstl6AbtijLgD3MrEbMew3y4y6hH9l2mVnsMEHjus7da8b87ezu04qaqAVnkP8b6E/Q7V8TmECB4zjbyQsMryRoyAfFxLibu+c37B8Juhbz1eePCk5zJEGXbX13343guHEisS8GGsRZgbdpbwTfWR7brpCJKK6+ZWkx8LcC3/8u7v5SOL7gciu4TuW3p6UE38O+4Xv5GhTx2W3WxwIKtttdwrKxcZ9VIO6q7l7kOhIeRxwKdAf2DNvtV8T/7hdT+Pq6Pvy/S8x7e8e8foBg2R3i7rsCnWLmUdxygj8u91sIekxahtM7Kb9KccoXF19hnykq5oLKZbsSI3ZaDQh6L1YS1Ot/dQp/cJTkh2hJ2nNpFbVuJdIGYmOsb2aVCpQtMsbi9nDPI/iFeiBBd8nhBP3/HxB0X+RrY2YnhAem7yPo1ihsjwaC3e4rzezwMEE8AMxw9wVmtj9wP0Gjuhz4i5kdXkyMiahB0K+/iqBhPJA/IvyF8izwmAUnRVU2s2OtwOVPYX2mAQ+aWdXwQPvVBL84S+oN4CAzuyBMEjex7Yr3DNDHwhO7zGw3M7sogenuSPBjZQWQZ2ZnAQld9pOAn4F6+ScfhMttKDDAzPYK49zXzM4My79M8D03CzfMdycwjxoEvQi5ZnY0wQ+lRHxMsLI8ZGbVwu/n+HDcS0AvM2sU/hh8ABgdZ284rgTqW5aGAteHe/wW1unsmB97PxMcn8r3MnC2mbUysx0IEsFGgvb6EcEPjJvMbAczuwA4OuazcdfHQuIaC5wTs673Y9ttyDPA38IEipnVNrN2CdS3GsFGd0X4uSsJ9nDj+Sdwn5k1DZfPoWa2p7uvINjgdQrX46vYNjHXIDgGvdbM9iU4FpyvuOVUmBoEP8LWWHAC0b0Fxm/zPSUQX7x5xIu5oPLaruTrZGYHhutzP2CsB5dMziXYYz07bH93EWyHElWS9lxaRa1bJWkDMwj21P8Sls0CzgVGFTXz4hLuFcC/PLge9af8P2AQcFnMHsVIgsa2muDEqk7xJujubxNsfP9NsJFsDHQMpzUCeNjdP3f37wgOSL9QMPlth+EEu/tLCQ6gTy8w/laCkzBmhnV4mMKXzSUEe8fLgFcJTsp6u6TBhN3zFwEPEfwIaApMjRn/ahjDKAu6kb4CzkpguusIVrKXgV8IEtb4ksYXxxTga+AnM8s/vHA7wYkD08M43yb4xY+7vwk8AbybXyb8zMYi5tEN6Gdm6wiOFxZ3SIFwXlsIGnsTYBHBcauLw9HPAi8QdPf9QNCb0SOR6RYibn3Lkrt/AlxLsJ79Es6zS0yRB4G7LOgSu9Xd5xCsc08S7HGcC5zr7pvcfRNwQfj51QTL5ZWYeRW6PsaJ62vgRoL1/ccwttizUwcStLe3wu9wOsE5GcXVdzbBcbaPCDa+hxCzPhTiMYK28RbwK8Fx6Pyzxa8lSEqrCE6gid1I/5Xg5LC1BMkpdjkUuZzieDyc70qCuk4sMH4g0N6CM4KfSCC+wsSNuaDy2q7EeIHg3IufCA7D3RROdy3BuvtPgm3serZtF8VJuD2XYJqFKmrdKkkbCMueS7D8VhKcTNvZ3b8tav62bXd1yZnZcwQHku8q1YQko1lwWv9XBGfalmjvUkSiZWbZBGcl/zPqWNJZ2tzaUdKPmZ1vwbWruxP8sn5NyVZEKiolXClP1xFc8/Y9wbkAN0QbjohIdErdpSwiIiLF0x6uiIhIEujm2EWoVauWN2zYMCnzWr9+PdWqVUvKvKKg+qW3TK8fZH4dk1m/Tz/9dKW7l+Ra3ApBCbcIDRs25JNPPknKvLKzs8nKykrKvKKg+qW3TK8fZH4dk1k/M4t3h6YKTV3KIiIiSaCEKyIikgRKuCIiIkmghCsiIpIESrgiIiJJoIQrIiKSBBmRcM3sWTNbbmZfxRlvZvaEmc0zsy/MrHmyYxQRkYotIxIuwSOjWhcx/iyCR1U1BboCTychJhGRlLB48WJ0G9/oZUTCdff3CZ5fGE87YLgHpgM1zaxucqITEYnO6tWradmyJYMGDYo6lAqvotxpal9gcczwkvC9HwsWNLOuBHvB1KlTh+zs7GTER05OTtLmFQXVL71lev0gDeu4+tOEivV7bATLl//MSccfRfYrjyY+/T2O3M7AJJ6KknAT5u5DgCEALVq08GTdCk23lUtvql/6S7s6jjyl2CKjPoJ3p8L9F8FhDXcgK/fWxKefpS7ospYRXcoJWArUjxmuF74nIpKRlq6GG56FY5rA7edGHY1AxUm444HO4dnKxwBr3f0P3ckiIpnAHa4aApu2wAs3QJXKUUckkCFdymb2EpAF1DKzJcC9wA4A7v4MMAFoA8wDfgOujCZSEZHy99RkeOtLePpKaLJ31NFIvoxIuO5+STHjHbgxSeGIiERm7o9w20vQ+lC4rlXU0UisitKlLCKS8fK2wOVPw847wrCuYBZ1RBIrI/ZwRUQEHhwPH38Po3vAPrtHHY0UpD1cEZEM8OkP0O9VuORY6HBM1NFIYZRwRUTS3IZNcPlTUGdXGKxTQlOWupRFRNLcHaPhm2XwVm/YvVrU0Ug82sMVEUlj734Nj0+E7mfA6YdEHY0URQlXRCRNrf0NrvgH7F8XHu4YdTRSHHUpi4ikqR7Pw7JfYFpf2GWnqKOR4mgPV0QkDb00DV74EO4+D45uHHU0kgglXBGRNLNgwQKufxaO3x/uPC/qaCRRSrgiImkkLy+PTp06ATCimx5MkE50DFdEJI088MADTJ06lRe7QcPaUUcjJaE9XBGRNDFt2jT69etHp06duPT4qKORklLCFRFJA2vXruWyyy6jQYMGDB48OOpwZDuoS1lEJA3ceOONLF68mA8++IBdd9016nBkO2gPV0Qkxb344ou8+OKL3HPPPRx77LFRhyPbSXu4IiJRGJnYw2p/WA439IETDoA7Gt0LI+8t58CkvGgPV0QkReVtgcuegkqVYMQNugQo3WkPV0QkRd0/Dj76Dl7qDvvpEqC0pz1cEZEUNHUO3PcqdD4ROuqwbUZQwhURSTFrfwu6khvWhkFXRB2NlBV1KYuIpBB3uGYoLFkNH94DNXaOOiIpK0q4IiIp5B/vwNiPg+fbHtM06mikLKlLWUQkRXy+EP48AlofCreeHXU0UtaUcEVEUkBOLnR4EvasDsNvCC4FksyiLmURkYi5ww3PwryfYMqdUFt3bsxI+g0lIhKx59+HEVPh3gvg5GZRRyPlRQlXRCRCs5fAjc/DKQfCnedFHY2UJyVcEZGI/LYxOG5bbSd4sRtU1hY5o+kYrohIRHoOh6+XwKTboe7uUUcj5U2/p0REIjByKvwzG/q0hTMOjToaSQYlXBGRJPvuu++47lk4fn/o1z7qaCRZMibhmllrM5tjZvPMrHch4xuY2btm9pmZfWFmbaKIU0QqttzcXDp06MCOVYKnAOmRexVHRiRcM6sMDAbOAg4ELjGzAwsUuwt42d2PADoCTyU3ShERuO2225g1axbPXQf194w6GkmmjEi4wNHAPHef7+6bgFFAuwJlHMi/nHw3YFkS4xMRYfTo0QwaNIhevXpxbvOoo5FkM3ePOoZSM7P2QGt3vyYcvhxo6e7dY8rUBd4CdgeqAae5+6eFTKsr0BWgTp06R44aNSoJNYCcnByqV6+elHlFQfVLb5lePyj/Oi5cuJDrr7+exo0bM2DAAHZY90W5zaswOZXqUX3rksQ/sMeR2z2vU0455VN3b7HdE8hQFemyoEuA59z9UTM7FnjBzA52962xhdx9CDAEoEWLFp6VlZWU4LKzs0nWvKKg+qW3TK8flG8dc3Jy6NatGzVq1GDixInUq1cPRp5RLvOKJ7tqf7Jyb038A1npvzOWajIl4S4F6scM1wvfi3U10BrA3T8ys6pALWB5UiIUkcwz0oot4g5dB8Ocb+Gt3lDv/frFfkYyU6Ycw50JNDWzRma2I8FJUeMLlFkEtAIws2ZAVWBFUqMUkQpn8GR46SO47yJodXDU0UiUMiLhunse0B2YBHxDcDby12bWz8zahsVuAa41s8+Bl4AungkHsEUkZU3/Dm4eAeccAb3PjToaiVqmdCnj7hOACQXeuyfm9Wzg+GTHJSIV04pf4aInYN899HxbCWRMwhURSRVbtsJlg2HFOph2L+xeLeqIJBUo4YqIlLF+r8Dkr2DoNdC8UdTRSKpQJ4eISBl6cxb0exW6nARXZ0UdjaQSJVwRkTKyYAV0ehoOawCDu4AVf9WQVCBKuCIiZWDj5uAkqbwtMLYn7LJT1BFJqtExXBGRMtBzOHwyH8b1giZ7Rx2NpCLt4YqIlNKQKfCPKcG1tu10B2GJQwlXRKQUps2F7s9B60Ph/g5RRyOpTAlXRGQ7LfsFLhwIDWrByO5QWVtUKYKO4YqIbIeNGzdy4eOwbgNM7q2bW0jxlHBFRErI3bnxxhuZPg/+/Wc4WA8AkgSoA0REpISeeeYZhg0bxp3t4IKjoo5G0oUSrohICXzwwQfcdNNNnH322fy1fdTRSDpRwhURSdCSJUto3749f/rTnxgxYoROkpIS0TFcEZEE5ObmcsEFF7Bhwways7OpWbNm1CFJmlHCFREphrtz/fXXM3PmTMaNG0ezZs2iDknSkBKuiFRcI2OeLlC1P4w8pdBigybB88Ph3gug3frzYGSS4pOMoiMQIiJFyJ4NvUZA2+Zwz/lRRyPpTAlXRCSOeT8Fd5Laf2944QaopC2mlIKaj4hIIdash3P6gwGv3Qq77hJ1RJLudAxXRKSAvC3Q4QmYvxze7gON60QdkWQCJVwRkQL+/AJM/gqGXQsn6YRkKSPqUhYRiTH4LRg8GW49G67KijoaySRKuCIioclfQs8X4Jwj4KGOUUcjmUYJV0QEWLRkORc9AQfuCyNv1LNtpeypSYlIhbdqHfR5cBg7VYHXboEaO0cdkWQinTQlIhXapjxoPxBWrFxD9p2wX+2oI5JMpT1cEamw3KH7c5D9DdzWrQPH7R91RJLJlHBFpMIaOBGGvgt3tIPTTz4y6nAkwynhikiFNH78eG55ES44Cu7Tg+QlCZRwRaTCmTlzJh07duTIRjD8et0jWZJDzUxEKpT58+dzzjnnsPfee/ParVCtatQRSUWRMQnXzFqb2Rwzm2dmveOU6WBms83sazPTEy1FKphVq1bRpk0b8vLyePPNN6mzW9QRSUWSEZcFmVllYDBwOrAEmGlm4919dkyZpkAf4Hh3/8XM9oomWhGJQm5uLueddx4LFizg7bff5oADDoBPo45KKpLI9nDN7HQzG2pmh4fDXUsxuaOBee4+3903AaOAdgXKXAsMdvdfANx9eSnmJyJpZOvWrXTp0oUPP/yQ559/nhNOOCHqkKQCinIP9yrgBuAuM9sDOLwU09oXWBwzvARoWaDM/gBmNhWoDPR194mlmKeIpIKRVmyRPi/B6NfhkUvg4i0dYaRulCzJF2XCXefua4Bbzewh4Khynl8VoCmQBdQD3jezQ8IY/ifc0+4KUKdOHbKzs8s5rEBOTk7S5hUF1S+9pXT9qvYvcvS4iVMZ+PqrtGt9HC0uPJ9sKzxB51SqR3Yx00pnJa5fqn7faSzKhPtG/gt3721mPUoxraVA/ZjheuF7sZYAM9x9M/CDmc0lSMAzYwu5+xBgCECLFi08KyurFGElLjs7m2TNKwqqX3pL6fqNPCXuqNf+C0/+E85tDmMvnUaVjdPils2u2p+s3FvLI8KUUOL6ZXn5BVNBRXYM193/k//azAYCg0oxuZlAUzNrZGY7Ah2B8QXKjCPYu8XMahF0Mc8vxTxFJIXN/B46DoLmjeClG6FK5agjkoouVS4LWgeMN7NqAGZ2ZnisNSHungd0ByYB3wAvu/vXZtbPzNqGxSYBq8xsNvAucJu7ryrTWohISvhhOZzTH/baFV7XtbaSIlLisiB3v8vMLgWyzWwTkAMUei1tEdOYAEwo8N49Ma8duDn8E5EMteJXOOsR2LwF3vwLutZWUkZKJFwza0Vw2c56oC5wlbvPiTYqEUk36zZAm7/DwpUwuQ/83z5RRyTyu1TpUr4TuNvds4D2wGgzOzXakEQknWzcDOcPgM8WwJib4IQDoo5IZFspsYfr7qfGvP7SzM4C/g0cF11UIpIutmyFy5+Gd76G56+Hc5pHHZHIH6XKHu423P1HoFXUcYhI6nOHm56HMTOg/6XQ+cSoIxIpXEomXAB33xB1DCKS+v76Cjz1NvzlHLjl7KijEYkvZRJu/jFbHbsVkUQNHjyYv74CV54MD+lujZLiUibhAv0L/BcRiWv06NH06NGDts1hyNUQ546NIikjlRJuPq02IlKkyZMnc/nll3PCCScwqofuIiXpIRUTrohIXB9//DHnn38+zZo1Y/z48ey8Y9QRiSRGCVdE0sa3335LmzZt2GuvvZg4cSI1a9aMOiSRhCnhikha+P7772nVqhVVqlThrbfeom7dulGHJFIiKXHji1BO+H9dpFGISHIl8AD5xaugVT/IzYX37oImHzeFj5MQm0gZSpmE6+4nxf4XEQH4aQ20egB+WQ9T7oSD6xf/GZFUlDIJV0SkoJXr4LQHYdkv8FZvOLJR1BGJbD8lXBFJSWvWwxkPwfc/wxu3wXH7Rx2RSOmk1ElTZlbNzHRFnUgFt25D8EzbrxbDK3+GUw+KOiKR0os04ZpZJTO71MzeMLPlwLfAj2Y228z+bmZNooxPRJLvt43Q9lGYOR9G94CzDo86IpGyEfUe7rtAY6APsLe713f3vYATgOnAw2bWKcoARSR5Nm6GCx6H976F4dfD+UdFHZFI2Yn6GO5p7r654Jvuvprgebj/NrMdkh+WiCTb5jy4+EmY9AUMuxYuPT7qiETKVqR7uPnJ1swGmhV+6/HCErKIZJYtW6HzM/CfT+HJK+CqrKgjEil7UXcp51sHjDezagBmdqaZTY04JhFJgrwt0PlpGPVR8Ii97mdEHZFI+Yi6SxkAd7/LzC4Fss1sE8Fdp3pHHJaIlLO8vDwuD5PtAx3g9nOjjkik/KREwjWzVsC1wHqgLnCVu8+JNioRKU+bN2/msssuY0y4Z6tkK5kuVbqU7wTudvcsoD0w2sxOjTYkESkvmzdv5tJLL2XMmDH8/VIlW6kYUiLhuvup7v5h+PpL4Czg/mijEpHysHnzZjp27MjYsWN59NFHufXsqCMSSY6ob3wR78zkH4FWRZURkfSzadMmOnTowCuvvMKAAQO4+eabow5JJGmi3sOdYmY9zKxB7JtmtiNwrJk9D1wRTWgiUpY2bdrERRddxLhx4xg4cCB//vOfow5JJKmiPmnqO2AL8KqZ1QXWAFWBysBbwOPu/lmE8YlIcRJ4nu3GzXDRE/Daf2HQFXBjrZ4wsmcSghNJHVEn3KPcvauZXQM0AGoDG9x9TcRxiUgZyd0E7QfCG7NgcBfodnrUEYlEI+ou5XfM7COgDtAZ2AfYEG1IIlJWftsI5w8Iku3TVyrZSsUW6R6uu99qZo0JHmLQCGgLHBTe/OIrd784yvhEZPv9+huc0x8+nAtDroZrdaGfVHBRdynj7t+b2WnuPjf/PTOrDhwcYVgiUgor10Hrh+HzRTDyRuh4bNQRiUQv8oQLEJtsw+EcgsfziUiaWboazngI5i+Hcb3g7COijkgkNUR9DLfMmFlrM5tjZvPMLO59mM3sQjNzM2uRzPhEKoL5y+HEfrBoFbz5FyVbkVgZkXDNrDIwmOAOVQcCl5jZgYWUqwH0BGYkN0KRzPf1Ejjhr7B2A7xzB2T9YQ0UqdgyIuECRwPz3H2+u28CRgHtCil3H/AwkJvM4EQy3czv4aT7gtfv3QVHN442HpFUlBLHcMvAvsDimOElQMvYAmbWHKjv7m+Y2W3xJmRmXYGuAHXq1CE7O7vsoy1ETq6rbkAAABGkSURBVE5O0uYVBdUvvRVVv1nf38CdDz7LrjV24e/3XsfKvWtReMnUllOpHtlV+0cdRrkpcf0yuD1HJVMSbpHMrBLwGNCluLLuPgQYAtCiRQvPysoq19jyZWdnk6x5RUH1S2/x6jdhwgT63Pc0jWrD5D4b2bfmQ2nbf5RdtT9ZubdGHUa5KXH9srz8gqmgMqVLeSlQP2a4XvhevhoElxllm9kC4BhgvE6cEtl+o0aNol27dhy4L7x3N+y7R9QRiaS2TEm4M4GmZtYofPBBR2B8/kh3X+vutdy9obs3JLjkqK27fxJNuCLp7bHHHuOSSy7huOOOY8qdUHvXqCMSSX0ZkXDdPQ/oDkwCvgFedvevzayfmbWNNjqRzLF161Z69erFLbfcQvv27Zk0aRK77RJ1VCLpIWOO4br7BGBCgffuiVM2KxkxiaSN4p74U7U/uc+dwhXPwMszoGdreKzdWCq9MjY58YlkgIxJuCJSfnLWb6D1I/DeN9D/Uri5DVjxT+UTkRhKuCJSpMWroMffB7F0WXBf5EuOizoikfSkhCsicX25CM56BNZsXMvE2+HUg6KOSCR9ZcRJUyJS9rJnw4n3gQMD7+umZCtSSkq4IvIHoz+CMx+GfWrCR32hccN9og5JJO0p4YrI/7jDQ+Oh4yBo2Rg+vBca1Io6KpHMoGO4IgLAxs3QdRgM/wAuORae7QpVd4w6KpHMoYQrIqz4Fc4fAFPnQr/2cNd5uuxHpKwp4YpUcF999RXn3gM/rYHRPaDDMVFHJJKZdAxXpAKbMGECxx13HBs3w/t3K9mKlCclXJEKyN0ZMGAA5557Lk2aNOHjfnCUHhovUq6UcEUqmM2bN3Pddddx8803065dOz744APq7Rl1VCKZTwlXpAJZvXo1Z555JkOHDqVPnz6MHTuWatWqRR2WSIWgk6ZEMkFxT/sBvlocnIm8aBUMvx4uP/hBGPVgEoITEVDCFakQRn0EVw+FXXeGKXfA8QdEHZFIxaOEK5LB8rbA7S/BY2/C8fvDmJug7u5RRyVSMSnhimSo5Wvh4ich+xvocQb0vwx21BovEhmtfiIZaMY8uPBxWJUTHq89MeqIREQJVySDuMPQd6HH87DP7jCtLxzRMOqoRASUcEUyRu4m6P48DMuGMw+FkTfCHtWjjkpE8inhimSARSvhwoHwyfzgwQN9L4TKuspeJKUo4YqkuXHjxnHVHbBlK4zrBe1aRB2RiBRGv4FF0tTGjRu56aabOP/88/nTXvDp/Uq2IqlMe7giaWju3Ll07NiRzz77jF69evHQ4QN0yY9IitMerkiaGTFiBM2bN2fhwoW89tprPPbYY0q2ImlAq6lIqijmfsg5udD9OXj+AzjxABh543rq/XoujExOeCJSOkq4Imng84XBXaPm/gT3nA93nw9VKkcdlYiUhBKuSApzh6ffhptfhD2qwTt94JSDoo5KRLaHEq5IivppDVwzFN6YBWcdBs9fD7V3jToqEdleSrgiKWjsDLj+WVi/ER6/PHj4QCWd4iiS1pRwRVLIL+uDE6NGToOj/gTDb4D/2yfqqESkLCjhiqSISV/AVUNg+a/Qrz30aasTo0QyScZ0UplZazObY2bzzKx3IeNvNrPZZvaFmb1jZvtFEadIQevXr6dbt260fhhq7gLT/6qzkEUyUUbs4ZpZZWAwcDqwBJhpZuPdfXZMsc+AFu7+m5ndADwCXJz8aEV+N23aNDp37sz8+fO5pQ3cfxFU3THqqESkPGTKHu7RwDx3n+/um4BRQLvYAu7+rrv/Fg5OB+olOUaR/9mwYQO9e/fmxBNPZMuWLbz77rv0v0zJViSTmbtHHUOpmVl7oLW7XxMOXw60dPfuccoPAn5y9/sLGdcV6ApQp06dI0eNGlV+gcfIycmhevXMfXip6ve7zz77jEcffZSlS5fSpk0bunXrRrVq1WD1p+Uc5fbLqVSP6luXRB1Gucr0Opa4fnscud3zOuWUUz51dz1Ko4CM6FIuCTPrBLQATi5svLsPAYYAtGjRwrOyspISV3Z2NsmaVxQqRP2WnVJkmdU5cOtI+Nd78Ke9YHIfOO3gCbB2AqxNUqDbKbtqf7Jyb406jHKV6XUscf2y0n9nLNVkSsJdCtSPGa4XvrcNMzsNuBM42d03Jik2qeDcYfR06DkcVuXA7ecGt2fcZaeoIxORZMqUhDsTaGpmjQgSbUfg0tgCZnYE8A+CruflyQ9RKqKFK6DbczBhVnBd7Vu94TCdHy9SIWVEwnX3PDPrDkwCKgPPuvvXZtYP+MTdxwN/B6oDY8wMYJG7t40saMloW7bCk5PgrjHB8IBO0ONMqJwppymKSIllRMIFcPcJwIQC790T8/q0pAclFdKsBdB1GMycD20Oh6e6wH61o45KRKKWMQlXJGor18HdY2DIFKhVA17qDhcfA1b0Y25FpIJQwhUppby8PF599VXO/yesy4WbzoR7L4Ca1aKOTERSiRKuSClMmTKFnj178tVXX3HawTDwcjhQt1QRkULoFA6R7bBw4UIuuugiWrVqRU5ODvfddx9v9VayFZH4tIcrkm9k8Qdbf9sIj7wOD78WPJ/2vvZwy9kLmLHrzlhuEmIUkbSlhCuSgK1bg2fU3vkyLFoFHY+FRy6B+ntGHZmIpAslXJEiuMObn0Of0fDFIjiiIbxwA5zULOrIRCTdKOGKxDFtLvQeBR/MgcZ1gst8OrQMupJFREpKCVekgK+XwB2jYfx/Ye+a8NSVcE0W7KC1RURKQZsQkdDCFdD3FRj+AVSvCn/rAD3PhGpVo45MRDKBEq5UeD/++COPPPIITw0K7grV6yzo0xb2rBF1ZCKSSZRwpcJauHAhjzzyCMOGDSMvL48rToC+F+rMYxEpHzr9QyqcuXPnctVVV9GkSROGDh1K586dmTNnDsO6KtmKSPnRHq5kliJuXvHlInhgPLw8HXasAt1awW1nQ709h8KMoUkMUkQqIiVcyXgzv4e//Qf+82lwMtRt5wTHaevsFnVkIlKRKOFKRtq6Fd6YBQMnwjtfw+7VoO8FwUPg96gedXQiUhEp4UpG+fU3ePY9GDQZvv8Z6u0BD3eEG06DGjtHHZ2IVGRKuJIRvvvuO5588kn+NRRycuH4/eHBi+G8I3XDChFJDdoUSdpydyZPnszAgQOZMGECO+ywAx1bQs/WcGSjqKMTEdmWEq6knRUrVvDiiy8yZMgQvvnmG+rUqUPfvn257rrr2HtK3ajDExEplBKupJY4l/XkbYGJn8O/3ofX/gubt0DLxsGTezoc8zM7VukLU/omM1IRkRJRwpWUNmdZkGSf/wB+WgO1d4WbzoQrT4aD6kUdnYhI4pRwJeX8+hu8PAP+9R5M+w4qV4KzD4erToY2h+skKBFJT9p0SUrIycnh9ddfZ+zjMOFz2LAJmu0Df78UOh0fPCZPRCSdKeFKZH799Vdef/11xowZw8SJE8nNzWXvmsGebKfjoWWT4Ok9IiKZQAlXkmrt2rW89tprjBkzhkmTJrFx40b22WcfunbtSvv27Tlu4UlU1iM1RCQDKeFK2Ys509gd5v4IY2e34+GepzBlNmzKC+4AdcMp0P5oOLbpMipVegIWP6HnV4lIxlLClTL3628wZXZwGc/EL2DhSoD/cEBd6H46XNQSjm4MlZRcRaQCUcKVUtu6dSuzZs1i4sSJTJo0iWlTg+tma1SFVgdDn7aw21F30HHXB6IOVUQkMkq4UmI5OTnMmDGDadOmMXXqVKZPn87atWsBaN68ObedDa0PhWOb/n4JT3bVPSA3wqBFRCKmhCt/VOAY7OJVMHVucE3s1Lnw+ULY6sEZxAfXg45HwgkHwOmHQJ3d/hth4CIiqUsJV/5n06ZNzJkzhy+nwheL4cvFMGshLPslGF9tJzimCdx5XvA0npaNoWa1aGMWEUkXSrgVUF5eHkuXLmX27Nl8+eWXfPHFF3z55Zd88803bN68GYAdKkOzfeHUA4PrYY/fHw6pD1UqRxy8iEiaypiEa2atgYFAZeCf7v5QgfE7AcOBI4FVwMXuviDZcSbD1hHGj2tgwQr4YUXM/5Xww3JYvDo4qSlf/T3h0PrQpjUc2iBIrAfU1S0URUTKUkZsUs2sMjAYOB1YAsw0s/HuPjum2NXAL+7exMw6Ag8DFyc/2vjcnby8PDZu3MimTZv+8D83N5fVq1ezcuVKVq1aFff/zz8G17rGqlsTGtYOTmS6pDY0qg377w2HNIDd1S0sIlLuMiLhAkcD89x9PoCZjQLaAbEJtx3QN3w9FhhkZubunsxAC9O0aVMWLlxIXl4eJQnHLEiWe1aHWjWgXnU4vBHsdViQXBvVDv7vVwt23rEcKyAiIsWyFMg3pWZm7YHW7n5NOHw50NLdu8eU+SossyQc/j4ss7LAtLoCXcPBA4A5SagCQC1gZbGl0pfql94yvX6Q+XVMZv32c/faSZpX2siUPdwy4+5DgCHJnq+ZfeLuLZI932RR/dJbptcPMr+OmV6/dJApN9dbCtSPGa4XvldoGTOrAuxGcPKUiIhIucuUhDsTaGpmjcxsR6AjML5AmfHAFeHr9sCUVDh+KyIiFUNGdCm7e56ZdQcmEVwW9Ky7f21m/YBP3H08MAx4wczmAasJknIqSXo3dpKpfukt0+sHmV/HTK9fysuIk6ZERERSXaZ0KYuIiKQ0JVwREZEkUMJNMjNrbWZzzGyemfUuZPxOZjY6HD/DzBomP8rtl0D9bjaz2Wb2hZm9Y2b7RRHn9iqufjHlLjQzN7O0ugwjkfqZWYfwO/zazEYmO8bSSKB9NjCzd83ss7CNtokizu1lZs+a2fLwvgOFjTczeyKs/xdm1jzZMVZo7q6/JP0RnND1PfAnYEfgc+DAAmW6Ac+ErzsCo6OOu4zrdwqwS/j6hkyrX1iuBvA+MB1oEXXcZfz9NQU+A3YPh/eKOu4yrt8Q4Ibw9YHAgqjjLmEdTwKaA1/FGd8GeBMw4BhgRtQxV6Q/7eEm1/9uQenum4D8W1DGagc8H74eC7QyMyM9FFs/d3/X3X8LB6cTXDOdLhL5/gDuI7hXd24ygysDidTvWmCwu/8C4O7LkxxjaSRSPwd2DV/vBixLYnyl5u7vE1yFEU87YLgHpgM1zaxucqITJdzk2hdYHDO8JHyv0DLungesBfZMSnSll0j9Yl1N8Gs7XRRbv7CLrr67v5HMwMpIIt/f/sD+ZjbVzKaHT+lKF4nUry/QycyWABOAHskJLWlKuo5KGcqI63Al/ZhZJ6AFcHLUsZQVM6sEPAZ0iTiU8lSFoFs5i6B34n0zO8Td10QaVdm5BHjO3R81s2MJrt0/2N23Rh2YpD/t4SZXpt+CMpH6YWanAXcCbd19Y5JiKwvF1a8GcDCQbWYLCI6RjU+jE6cS+f6WAOPdfbO7/wDMJUjA6SCR+l0NvAzg7h8BVQlu+p8pElpHpXwo4SZXpt+Cstj6mdkRwD8Ikm06Hf+DYurn7mvdvZa7N3T3hgTHqNu6+yfRhFtiibTPcQR7t5hZLYIu5vnJDLIUEqnfIqAVgJk1I0i4K5IaZfkaD3QOz1Y+Bljr7j9GHVRFoS7lJPLMuAVlXAnW7+9AdWBMeC7YIndvG1nQJZBg/dJWgvWbBJxhZrOBLcBt7p4WPTAJ1u8WYKiZ9SI4gapLGv3gxcxeIvhBVCs8Dn0vsAOAuz9DcFy6DTAP+A24MppIKybd2lFERCQJ1KUsIiKSBEq4IiIiSaCEKyIikgRKuCIiIkmghCsiIpIESrgiIiJJoIQrIiKSBEq4ImnEzI4Kn2Na1cyqhc+kPTjquESkeLrxhUiaMbP7CW45uDOwxN0fjDgkEUmAEq5ImgnvAzyT4Hm7x7n7lohDEpEEqEtZJP3sSXA/6hoEe7oikga0hyuSZsxsPDAKaATUdffuEYckIgnQ04JE0oiZdQY2u/tIM6sMTDOzU919StSxiUjRtIcrIiKSBDqGKyIikgRKuCIiIkmghCsiIpIESrgiIiJJoIQrIiKSBEq4IiIiSaCEKyIikgT/DzO90ydCNZXKAAAAAElFTkSuQmCC\n",
                "text/plain": "<Figure size 432x288 with 1 Axes>"
              }
            ],
            "_view_module": "@jupyter-widgets/output",
            "_model_module_version": "1.0.0",
            "_view_count": null,
            "_view_module_version": "1.0.0",
            "layout": "IPY_MODEL_963caec9d9764e9f891affd364a7daad",
            "_model_module": "@jupyter-widgets/output"
          }
        },
        "d61957fde34c4de5ad9c56576b7b121f": {
          "model_module": "@jupyter-widgets/controls",
          "model_name": "SliderStyleModel",
          "state": {
            "_view_name": "StyleView",
            "handle_color": null,
            "_model_name": "SliderStyleModel",
            "description_width": "",
            "_view_module": "@jupyter-widgets/base",
            "_model_module_version": "1.5.0",
            "_view_count": null,
            "_view_module_version": "1.2.0",
            "_model_module": "@jupyter-widgets/controls"
          }
        },
        "3ace7723bd6643b7a9e06c4f9a3dbed7": {
          "model_module": "@jupyter-widgets/base",
          "model_name": "LayoutModel",
          "state": {
            "_view_name": "LayoutView",
            "grid_template_rows": null,
            "right": null,
            "justify_content": null,
            "_view_module": "@jupyter-widgets/base",
            "overflow": null,
            "_model_module_version": "1.2.0",
            "_view_count": null,
            "flex_flow": null,
            "width": null,
            "min_width": null,
            "border": null,
            "align_items": null,
            "bottom": null,
            "_model_module": "@jupyter-widgets/base",
            "top": null,
            "grid_column": null,
            "overflow_y": null,
            "overflow_x": null,
            "grid_auto_flow": null,
            "grid_area": null,
            "grid_template_columns": null,
            "flex": null,
            "_model_name": "LayoutModel",
            "justify_items": null,
            "grid_row": null,
            "max_height": null,
            "align_content": null,
            "visibility": null,
            "align_self": null,
            "height": null,
            "min_height": null,
            "padding": null,
            "grid_auto_rows": null,
            "grid_gap": null,
            "max_width": null,
            "order": null,
            "_view_module_version": "1.2.0",
            "grid_template_areas": null,
            "object_position": null,
            "object_fit": null,
            "grid_auto_columns": null,
            "margin": null,
            "display": null,
            "left": null
          }
        },
        "963caec9d9764e9f891affd364a7daad": {
          "model_module": "@jupyter-widgets/base",
          "model_name": "LayoutModel",
          "state": {
            "_view_name": "LayoutView",
            "grid_template_rows": null,
            "right": null,
            "justify_content": null,
            "_view_module": "@jupyter-widgets/base",
            "overflow": null,
            "_model_module_version": "1.2.0",
            "_view_count": null,
            "flex_flow": null,
            "width": null,
            "min_width": null,
            "border": null,
            "align_items": null,
            "bottom": null,
            "_model_module": "@jupyter-widgets/base",
            "top": null,
            "grid_column": null,
            "overflow_y": null,
            "overflow_x": null,
            "grid_auto_flow": null,
            "grid_area": null,
            "grid_template_columns": null,
            "flex": null,
            "_model_name": "LayoutModel",
            "justify_items": null,
            "grid_row": null,
            "max_height": null,
            "align_content": null,
            "visibility": null,
            "align_self": null,
            "height": null,
            "min_height": null,
            "padding": null,
            "grid_auto_rows": null,
            "grid_gap": null,
            "max_width": null,
            "order": null,
            "_view_module_version": "1.2.0",
            "grid_template_areas": null,
            "object_position": null,
            "object_fit": null,
            "grid_auto_columns": null,
            "margin": null,
            "display": null,
            "left": null
          }
        },
        "45637e3212ea4560981cf7c3a221f643": {
          "model_module": "@jupyter-widgets/controls",
          "model_name": "VBoxModel",
          "state": {
            "_view_name": "VBoxView",
            "_dom_classes": [
              "widget-interact"
            ],
            "_model_name": "VBoxModel",
            "_view_module": "@jupyter-widgets/controls",
            "_model_module_version": "1.5.0",
            "_view_count": null,
            "_view_module_version": "1.5.0",
            "box_style": "",
            "layout": "IPY_MODEL_161f0960729a4549b472e90286b2a14f",
            "_model_module": "@jupyter-widgets/controls",
            "children": [
              "IPY_MODEL_fbbaac3cc2e34009a17f25cea93d8358",
              "IPY_MODEL_d7b41626ca3449c0b5b1646c0e8a46c7"
            ]
          }
        },
        "161f0960729a4549b472e90286b2a14f": {
          "model_module": "@jupyter-widgets/base",
          "model_name": "LayoutModel",
          "state": {
            "_view_name": "LayoutView",
            "grid_template_rows": null,
            "right": null,
            "justify_content": null,
            "_view_module": "@jupyter-widgets/base",
            "overflow": null,
            "_model_module_version": "1.2.0",
            "_view_count": null,
            "flex_flow": null,
            "width": null,
            "min_width": null,
            "border": null,
            "align_items": null,
            "bottom": null,
            "_model_module": "@jupyter-widgets/base",
            "top": null,
            "grid_column": null,
            "overflow_y": null,
            "overflow_x": null,
            "grid_auto_flow": null,
            "grid_area": null,
            "grid_template_columns": null,
            "flex": null,
            "_model_name": "LayoutModel",
            "justify_items": null,
            "grid_row": null,
            "max_height": null,
            "align_content": null,
            "visibility": null,
            "align_self": null,
            "height": null,
            "min_height": null,
            "padding": null,
            "grid_auto_rows": null,
            "grid_gap": null,
            "max_width": null,
            "order": null,
            "_view_module_version": "1.2.0",
            "grid_template_areas": null,
            "object_position": null,
            "object_fit": null,
            "grid_auto_columns": null,
            "margin": null,
            "display": null,
            "left": null
          }
        },
        "fbbaac3cc2e34009a17f25cea93d8358": {
          "model_module": "@jupyter-widgets/controls",
          "model_name": "IntSliderModel",
          "state": {
            "_view_name": "IntSliderView",
            "style": "IPY_MODEL_00150de59e5a453ba3bea163756e482f",
            "_dom_classes": [],
            "description": "n",
            "step": 1,
            "_model_name": "IntSliderModel",
            "orientation": "horizontal",
            "max": 30,
            "_view_module": "@jupyter-widgets/controls",
            "_model_module_version": "1.5.0",
            "value": 9,
            "_view_count": null,
            "disabled": false,
            "_view_module_version": "1.5.0",
            "min": 1,
            "continuous_update": true,
            "readout_format": "d",
            "description_tooltip": null,
            "readout": true,
            "_model_module": "@jupyter-widgets/controls",
            "layout": "IPY_MODEL_b1fb1410999c4967abce3708135686a9"
          }
        },
        "d7b41626ca3449c0b5b1646c0e8a46c7": {
          "model_module": "@jupyter-widgets/output",
          "model_name": "OutputModel",
          "state": {
            "_view_name": "OutputView",
            "msg_id": "",
            "_dom_classes": [],
            "_model_name": "OutputModel",
            "outputs": [
              {
                "output_type": "stream",
                "metadata": {
                  "tags": []
                },
                "text": "el valor de la integral mediante el metodo de cuadratura del  Trapecio Compuesto es: 0.33539094650205753\n",
                "stream": "stdout"
              },
              {
                "output_type": "display_data",
                "metadata": {
                  "tags": [],
                  "needs_background": "light"
                },
                "image/png": "iVBORw0KGgoAAAANSUhEUgAAAagAAAEWCAYAAAAzcgPFAAAABHNCSVQICAgIfAhkiAAAAAlwSFlzAAALEgAACxIB0t1+/AAAADh0RVh0U29mdHdhcmUAbWF0cGxvdGxpYiB2ZXJzaW9uMy4yLjIsIGh0dHA6Ly9tYXRwbG90bGliLm9yZy+WH4yJAAAgAElEQVR4nO3dd3gU5fbA8e9JIAQIhBJAQkeQZoXQBCSBoAgKCiigIKCAihQRRLAXVOyiYgFFrxW78rtiV0RBuYBeUVAUkBJ6hwBJSHJ+f8xwXWJCNiG7s5ucz/Pkyc7OOzPnnXZm3pmdEVXFGGOMCTURXgdgjDHG5MYSlDHGmJBkCcoYY0xIsgRljDEmJFmCMsYYE5IsQRljjAlJxSZBiUgnEVkV5GnWFZFUEYkMwrTmi8jwQgxXX0RUREoVYtjLReSzgg7nhROpZzCISKKIpHgdhz9E5CURmVpE41onIsl+lAvp5Xc8Xux7SooiS1DuDnSPiJQpqnEWhKp+q6pNgjzNDaoao6pZwZxusKjqa6p6rj9lRWSoiHwX6JhM/vxNCuHCPQg8+pctIod9ui/3Oj4v9j2hrqgOyIokQYlIfaAToECvExhP2B09meAIxlmqCU3uQWCMqsYAG4ALfb577Wg5238UP0V1BnUF8APwEjDEt4fbXPCsiHwuIgdE5BsRqefTX0XkOhH5E/jT/W6EiKwWkd0iMldE4t3vnxGRd32GfUBEvhTHMRnbPYq8UUSWi8hBEXlBRGqIyMduHF+ISGWf8m+LyFYR2SciC0SkhU+/siLyiIisd/t/5353TLOEiMS78e524x/hM447ReQtEXnZnf4KEUnIa4aKSDcR+d2d3lOA5Oh/pYj85p61fuo7T49HRIa5wx0QkbUicvVxyh5zVuTW9RoR+VNE9orIDHfeNwOeBdq7R7V73fJlRORhEdkgItvc9aCsz/gmicgWEdksIsPd8Tdy+73kLu95InIQSBKRniLyk4jsF5GNInKnP3V2x1dHRN4TkR0issudp4hIhIjc6i7b7e7yiXX7HV2+Q9w67BSRW44zjePWN5/4VERGufP2gIjcIyIni8git75viUiUT/kLROS/7nJYJCKnu9+/AtQF/s9dFpPc73u569xecVo7mvmM6ywR+dGd7ptAdI7Yct0e86jHYHde7so5r9x5PVlE1rj93xKRKv7MnzymlSgiKSJyk4hsBV4Ukcoi8m93Oe9xP9f2GWa+iNwvIv9x5+uHvjGISDt3fu4VkZ9FJNGnXxURedFdX/eIyAe+cfiUa+ZOZ687z/M8aM9rnG6/POd7QdYXn/l0s7sOrxOfM0/JcflA/rndNxVn/71bRFaJyKU+/XqIyEo3hk0iMlFEygMfA/Hy95luvLt9PO7WdbP7+fgtbqp6wn/AamAU0Ao4AtTw6fcScAA4BygDTAe+8+mvwOdAFaAs0AXYCbR0yz8JLHDLlgP+AIbinLHtBGq7/RKBFJ/xrsNJmjWAWsB24EfgLJwN8CvgDp/yVwIV3Gk+DvzXp98MYL47nkjgbLdcfTf+Um65BcDT7vjPBHYAXdx+dwJpQA93HPcDP+QxP+PcedYPKA2MBzKB4W7/3u48bwaUAm4FFuUxrpwx9gROxkl4nYFDQMs8hh2ay7L6N1AJZye4A+ieW1n3u8eAue6yrQD8H3C/2687sBVo4S7XV93xN/JZb/YBHXAOpKLdZXya2306sA24KLd65ogjEvjZjae8O66OPst9NdAQiAHeA17JMc5ZOOvmGUA60CyP+XW8+ibis37mMqwCHwIV3XmSDnzpxhULrASGuGXPwlmf27p1G4KzvpfxWfeTfcZ9CnAQ6IazPk1y6xzl/q3HWcdK46xzR4Cp7rB5bo+51KE5kMrf2/qjOOttstt/HM42Wdvt/xzwRn7LL8c01vmML9Ed/wPu+MoCVYG+OOtUBeBt4AOf4ecDm4BT3XXhXeBVt18tYBfONhrhzq9dQDW3/0fAm0Bld151zrls3e9XAze787YLzrbcJI/65DXO4853Cra+HJ1Pj7rj6uyuD0185snw3LZ7dx5tBIbh7GvOcuNq7vbfAnRyP1fG3ZeQy/oO3O0u/+pANWARcM9xl3dhElKOiXbEWaHj3O7fgfE+/V8C5vh0xwBZQB2fGd3Fp/8LwIM5yh8B6rvdbYHdOBvVQJ9yx8wQnBX5cp/ud4FnfLrH4LPi5qhTJTeuWJwV9TBwRi7l6rvlSgF13HpV8Ol/P/CS+/lO4IscG/PhPKZ/BT7JCyeZpPB3gvoYuMqnfwROoql3vBjzmNYHwLg8+v1vRfVZVh19ut8CJudRVnA2gpN9vmsP/OV+no2783a7G/HPBPVyPuve48Bj+dXTne6OPPp9CYzy6W7irm+lfMZZ26f/f4ABuYwnv/oes37mMrwCHXy6lwE3+XQ/Ajzufn6GHBs2sIq/d27rODZB3Qa8lWN92eTGdA6wGRCf/ov4O0Edd3vMEcPtHLutlwcy+Duh/AZ09elfM5d5XdAElQFEH6f8mcAen+75wLQc22EGTqK/CffgxKf/pzgHADWBbKByLtP437LFOXDeCkT49H8DuDOX4Y43zvz2gwVZXxJxElT5HNvubT7zJK8E1R/4Nkdsz+Ee3OM0uV4NVMxrnvh8twbo4dN9HrDueMu7KJr4hgCfqepOt/t1cjTz4WRgAFQ1FSfBxOfW3/1+fY7yu3COblDVxcBanB3CW/nEts3n8+FcumPAub4hItPcpof9OBsBOGcycThH3GvymVY8sFtVD/h8t/5o3K6tPp8PAdGSe7t5PMfOM+XYeVQPmO42IezFmZ+SY1q5EpHzReQH93R9L87RYlx+wx2nDjF5lKuGcxS7zCfOT9zvIUcdc3zO9TsRaSsiX7vNN/uAa/yMvQ6wXlUzc+l3zPrmfi6Fc+Z9lD91zq++/vBrfcVZ/hOOTsedVh2O3aZ85dymsnHmbS233yZ3HTtq/XGGPWZ7zGU6vuvtQbfsUfWA931i/g3noK4GhbdDVdOOdohIORF5zm1m3I/TqlFJjr2G6btercc5c4lz47skx3ztiJNI6uBs33vyiSce2OjOY99p5Da/jjdOf+a7v+sLOEn6YI6Y8myq9VEPaJtjnlwOnOT274uzD1kvzuWb9scZV27b2nFjOKEEJU77+qVAZ3Gu32zFaSo4Q0TO8Clax2eYGJwmkM0+/X03js04M+Vo+fI4p+2b3O7rcE5TN+M0VRSFy3CazZJxzprqH508zulsGk6z2PFsBqqISAWf7+oejbuAtnDsPBPfbpwN7GpVreTzV1ZVFx1vpG5777vAwzjNsJWAeeS4vlVImqN7J85G0sInxlh1LnSDU8faPuXr8E85x/k6ThNaHVWNxbnu5U/sG4G6eRwMHLO+4SyzTI7d2P2RX32L0kbg3hzLv5yqvuH2zznfcm5TR9enTTjLoZb73VF1jzPsMdtjDjnX23JuWd+4z88Rd7SqFmYbOSpnXSfgnAW3VdWKOGeIcOx64ruu1cU5M9npxvdKjvjKq+o0t18VEamUTzybgToi4rtvzWs/cLxxFmS++6OyOw7fmI7ugw/iHFwddZLP543ANznmSYyqXgugqktUtTdOs90H/H3SkHO5/KNOOWLI1YmeQV2EcwTUHOdU+kyc6yLf4jRTHdVDRDq6F+3uwWm+yu2IGZzT4WEicqa7Q70PWKyq60TkFGAqMAgYDEwSkTNPsA7gtFWn4xyhlHOnCfzvaHM28Kh7oS9SRNrnvLjn1mcRcL+IRItz0foqnGsrBfUR0EJE+rg71bEcu9I8C0wR90YOEYkVkUv8GG8UTnLfAWSKyPmAX7eR+2EbUPvohVl3vs0CHhOR6m6ctUTkPLf8WzjLuZm7I7vNj2lUwDniTBORNjgHFv74D87Oc5qIlHeXTwe33xvAeBFp4B483Qe8mcfZVp78qG9RmgVc455Rilunnj4HR9twrkUc9RbQU0S6ikhpnJ14Os76+j1OQh4rIqVFpA/QxmfYPLfHXOJ6B7jAZ1u/m2P3Mc8C94p7Q4+IVBOR3ic0J/6pAs6Bwl5xbn64I5cyg0Skubve3Q28o85PRV4FLhSR89ztPFqcGwxqq+oWnKb1p8W5EaO0iJyTy7gX45xlT3LLJAIXAnNyFsxnnAWZ7/66S0SiRKQTcAHO9TmA/wJ93LPPRjj7raP+DZwizs0vpd2/1u52GyXObyVjVfUIsB+nyRKcdbCquDcc+dTpVne5x+E0CR93/3iiCWoI8KI6vwfaevQPeAq43OeI9XWcFWU3zo0Ug/Iaoap+gbOzehdnp3IyMMAd16vAA6r6s6r+iXMh8pWcyaIQXsY53dyEc3Hxhxz9JwK/AEvcOjxA7vNuIM7Z12bgfZx22i8KGozbXHoJMA0naTYGFvr0f9+NYY44zRi/Auf7Md4DOMnuLWAPzg5+bkHjy8NXwApgq4gcbe69CeeC8Q9unF/gHN2iqh8DTwBfHy3jDpN+nGmMAu4WkQM4K3d+Tby408rC2Uk0wmkzT8FpWwfn4OMVnKagv3DOlsf4M95c5FnfoqSqS4ERONvZHneaQ32K3I+zI9grIhNVdRXONvckzpnChTi3ameoagbQxx1+N858ec9nWrluj3nEtQK4Dmd73+LG5vtbmOk469tn7jL8AeeaclF6HOdmiZ3u+D/JpcwrONc4t+I0349149+I05JyM85B3EbgRv7e1gfjnG39jnOTyvU5R+zOzwtxtsedODdNXaGqv+cRb67jLMh899NWnOWxGXgNuMYnpsdwrsNtA/7l9j9anwM4B7ED3GG38vdNKUfjX+eu79fgNP/hjvsNYK27HsbjnFwsBZbj7E9/dL/Lkxzb9Fz0ROQlnItltwZ0QiasiXPb8684d6IV6OzFGH+JyHycu/ae9zqWYHHP4l5V1dr5lQ01xeZRRyb8iMjF4vw2ojLOUdn/WXIyxhxlCcp46WqcZo01ONcyr/U2HGNMKAl4E58xxhhTGHYGZYwxJiQVi4crxsXFaf369Qs17MGDBylfvnz+BYsRq3PJYHUu/k60vsuWLdupqgX5MXlQFYsEVb9+fZYuXVqoYefPn09iYmLRBhTirM4lg9W5+DvR+orI+vxLecea+IwxxoQkS1DGGGNCkiUoY4wxIckSlDHGmJBkCcoYY0xICmqCEpHZ4rxW+9c8+ouIPCHOa46Xi0jLYMZnjDEmdAT7DOolnFd95+V8nCd3NwZG4rw51BhjTAkU1ASlqgtwHumfl944r/lWVf0B502YNYMTnTHGhI+9e/fy5JNPcuDAgfwLh6lQ+6FuLY59HXOK+92WnAVFZCTOWRY1atRg/vz5hZpgampqoYcNV1bnksHqXHxlZ2czefJt/PjjYl555RWaN2/udUgBEWoJym+qOhOYCZCQkKCF/TV1SfvlOVidSwqrc/E1duxUlixZxMCB1zFq1CivwwmYULuLbxNQx6e7tvudMcYY4M03P+XJJ2+nffszSUrq7XU4ARVqCWoucIV7N187YJ+q/qN5zxhjSqJVq9YxZMhA4uPjmTatFSLidUgBFdQmPhF5A0gE4kQkBbgDKA2gqs8C84AewGrgEDAsmPEZY0yoOnToMElJFwHpPPNMMtHRpb0OKeCCmqBUdWA+/RW4LkjhGGNMWFBVevS4hi1bfubRR7tTr14s6eleRxV4odbEZ4wxJocpU57jm29e5oor2tClS22vwwkaS1DGGBPC5s5dzIMPjqVly4aMG3eq1+EElSUoY4wJUX/9tZ2BA/tQpUoFHnvsbCIjS9YuO2x/B2WMMcVZenomiYmXkJGxg9mzexIbG+11SEFXstKxMcaEiV69JrNhwwJuueVsmjaN8zocT1iCMsaYEHPHHW/z2WePcNFFLbj44sZeh+MZS1DGGBNCPv74d+67bxhNm9bk5pvbeB2OpyxBGWNMiFi3bh8DBvSibFmYPj2RqKhIr0PylN0kYYwxISAtLZukpP6kpq7huee6U6NGea9D8pydQRljjMdU4YILprBu3adMmtSO1q3jvQ4pJFiCMsYYj02c+AZffvkgvXs3pX//Zl6HEzIsQRljjIfeeOMnpk+/ihYtanLLLe2L/RPKC8ISlDHGeOSXX3YwfHgvYmNLMX16Uom/KSInu0nCGGM8sG/fEc4992KOHNnGrFk9iIsr53VIIccSlDHGBJkqJCePZuvWhdx7b2datKjmdUghyZr4jDEmyK666lmWLp3J4MGn07NnyX1SRH4sQRljTBA9/fRCXnppDK1b1+X66xO8DiekWYIyxpggWbgwhRtuuJiTTqrAI490LnGvzygomzvGGBMEW7ceplevCxHZx1NPdaFixTJehxTy7CYJY4wJsCNHlC5dhrF79395/PFunHxyZa9DCgt2BmWMMQHWr999/Pbbm4wa1YrExHpehxM2LEEZY0wA3XLLe8ydextdu57M8OFneh1OWLEEZYwxAfL22z/xwAODaNq0Bvfe24mICHuMUUFYgjLGmABYvnwzQ4b0pFKlKJ56qgvR0XbJv6AsQRljTBHbvfsQXbv2JCtrF08/3cUeY1RIltKNMaYIZWVlc845l7Nz5888/ngyTZpU9TqksGVnUMYYU4T69r2FFSs+YNy4tnbH3gmyBGWMMUXkzjtf4cMPp9GzZwuGDm3hdThhzxKUMcYUgXffXcg99wzntNPqceedbezFg0XAEpQxxpygX375i0GDLiIuriJPPdWJ0qXtxYNFwRKUMcacgN2795GU1AORw8yalURsbLTXIRUbQU9QItJdRFaJyGoRmZxL/7oi8rWI/CQiy0WkR7BjNMYYf2RmZtKp06Xs2fMnjz3WmXr1Yr0OqVgJaoISkUhgBnA+0BwYKCLNcxS7FXhLVc8CBgBPBzNGY4zxh6rSr994Vq78jBtv7ES7dvFeh1TsBPsMqg2wWlXXqmoGMAfonaOMAhXdz7HA5iDGZ4wxfpky5XE+/PAp+vRJYODARl6HUyyJqgZvYiL9gO6qOtztHgy0VdXRPmVqAp8BlYHyQLKqLstlXCOBkQA1atRoNWfOnELFlJqaSkxMTKGGDVdW55LB6hw4X3/9Dffccxdt27bm1luvISIi+JfzVYVDhyoTF1eh0ONISkpapqoh+1rfUHySxEDgJVV9RETaA6+IyKmqmu1bSFVnAjMBEhISNDExsVATmz9/PoUdNlxZnUsGq3NgfP31IqZOvZ+6dRvy+OPNiY5eFNDp5SU9vRTLl/elX79ET6YfDMFO+5uAOj7dtd3vfF0FvAWgqt8D0UBcUKIzxpjjWLHiD3r27EVkZDz33X+uPQA2wIKdoJYAjUWkgYhE4dwEMTdHmQ1AVwARaYaToHYENUpjjMlh69btdOrUnexspU6dfxEbaw+ADbSgJihVzQRGA58Cv+HcrbdCRO4WkV5usQnACBH5GXgDGKrBvFBmjDE5HDx4iLZtL2D//i3cdNP1lCljz9gLhqCfn6rqPGBeju9u9/m8EugQ7LiMMSY3WVlZdOw4kA0bljJmzA00aXKy1yGVGPYkCWOMyYOqcsEF4/jvf+dy2WVDadeupdchlSiWoIwxJg9XX/0on3wyg+TkC+nZM9nrcEocS1DGGJOLqVPfYtasiZx5ZnuGDLnU63BKJEtQxhiTw0svfcsdd1xBgwbNGDdupCc/xDWWoIwx5hiffPI7I0f2pkqVOG66aRxRUVFeh1RiWYIyxhjXkiUp9OlzLlFRyi23TKRChcI/RsicOEtQxhgD/PHHbpKTu5GVtYubb76R6tWrex1SiWcJyhhT4m3ZcoiOHXty8OAaJk68nvr163sdksESlDGmhNu//wjt2vVlx47FjB49ihYtWngdknFZgjLGlFhpadm0bz+MDRs+YdiwYbRp08brkIwPS1DGmBIpKwu6dJnIypWv0adPX5KTu3odksnBEpQxpsRRhd69p/H994+RnNyNPn0u9jokkwtLUMaYEufKK2fz0UdTaN26HUOGXIGIeB2SyYUlKGNMiTJp0of8618jadbsVK67zpvXtRv/2JIxxpQYDz/8LY88MoA6deoxYcL1lC5d2uuQzHFYgjLGlAivvPILU6ZcSNWqlZk8eSJly5b1OiSTD0tQxphib+7c1YwY0Y2yZSO4+eZJxMbGeh2S8YMlKGNMsbZgQQoDBnQhMvIQN988yR5hFEYsQRljiq2fftpOz55dyM7exZQpk6hbt67XIZkCsARljCmWVq3aTVJSV9LSNjBp0gQaNmzodUimgCxBGWOKnZSUA3TocB6pqauYMOF6mjZt6nVIphAsQRljipVduw7Tps0F7N79E2PHjub000/3OiRTSJagjDHFRkbGERISLmbLlm+55pqrSUhI8DokcwJKeR2AMcYUhfT0TG67bSrr1i1g2LCr6Nixg9chmRNkCcoYE/aysrLp0GEYy5YtYODAy0lO7uJ1SKYIWBOfMSasZWcrXbtex7Jlr3Lppf254IIeXodkioglKGNM2FJVLr74Jr755lnOO+9CLr30Eq9DMkXIEpQxJmxdfvkdzJ37EOec043Bg/vbazOKGUtQxpiwdNVVd/HGG/fQtm0SI0bYO52KI0tQxpiwc9119zB79p20bp3E6NFX2judiqmgL1UR6S4iq0RktYhMzqPMpSKyUkRWiMjrwY7RGBO6xo+/j6efvp2WLZMYO9aSU3EW1NvMRSQSmAF0A1KAJSIyV1VX+pRpDEwBOqjqHhGxRw8bYwC46aZpPP74LZx+ehLjx1tyKu6CvXTbAKtVda2qZgBzgN45yowAZqjqHgBV3R7kGI0xIWjy5Ad58MEpNGqUzI03WnIqCURVgzcxkX5Ad1Ud7nYPBtqq6mifMh8AfwAdgEjgTlX9JJdxjQRGAtSoUaPVnDlzChVTamoqMTExhRo2XFmdS4biVOdXX32TF154loRWSYweM4YKFXLfb0VERJCdnR3weLZsiaF2ne1Elc4K+LTyoiocOlSZuLgKhR5HUlLSMlUN2edBheKTJEoBjYFEoDawQEROU9W9voVUdSYwEyAhIUETExMLNbH58+dT2GHDldW5ZCgudZ4w4RFeeOFZOrfogWa9yM8//5eEhJ25lo2OjiYtLS3gMc2YkcBDD39GfPy+gE8rL+nppVi+vC/9+iV6FkOgBfsceRNQx6e7tvudrxRgrqoeUdW/cM6mGgcpPmNMCBk37jEefXQiSaeez5zx9xEhoXhMbQIl3wQlIt1EZJaInOl2jzyB6S0BGotIAxGJAgYAc3OU+QDn7AkRiQNOAdaewDSNMWHoulHTeeKJG+hy2nm8Nu4+SkVacipp/FniVwLXAreKSBXgzMJOTFUzRWQ08CnO9aXZqrpCRO4GlqrqXLffuSKyEsgCblTVXYWdpjEm/Iwc8QSznr+erqd145Wx0yhdqrTXIRkP+JOgDrjXfyaKyDSg9YlMUFXnAfNyfHe7z2cFbnD/jDEliCoMHvQQr70+ieTTk3l5zIOWnEowf65BfXT0g6pOBl4OXDjGmJIqO1u5qPddvPb6JHq26sHLYx6y5FTC5XsGpaofHv0sItOB6wMakTGmxMnKUs47dzJffvUg/dpdxFMj7iIyItLrsIzHCnoX3wFgroiUBxCR80RkYdGHZYwpKY4cUTp1HMeXXz3I4M79mTHibktOBijg76BU9VYRuQyYLyIZQCqQ6/P0jDEmP4cPZ9Oh/Uh++vkFRiRfwb2X3WhPJTf/U6AEJSJdcR5FdBCoCVypqqsCEZgxpnjbty+Ts9sOZeWq1xjXcyS39B1jyckco6BNfLcAt6lqItAPeFNEuhR5VMaYYm3HjgxandWflateY8rFY7i131hLTuYfCtrE18Xn8y8icj7wLnB2UQdmjCmeUlLS6NC+HxtSPuKu/jcyqvsQr0MyIeqEfpqtqlvcZj9jjMnXmjWH6NShF1u2fcmDg29lWJcBXodkQtgJPztEVQ8XRSDGmOLt118P0DXpAnbs+o4nrprKwI4XeR2SCXEFfljs0WtOdu3JGOOvRYu2c07HRHbuWsizI6dZcjJ+KczTzB/O8d8YY/I0b946up/bkUMHV/LKuCfo066H1yGZMHEiTXx2y40x5rhef/1Xhl95HpGSyruTZtK2cUuvQzJhxN6ZbIwJiKee/J5hQ86hfFQm/775RUtOpsAsQRljitxdd37M9eOTqRFbgU9ue5kWdZp4HZIJQ/YGMGNMkVGFcWNf46kZQ2kS35h3b3yG6rFxXodlwlRhElSq+/9AUQZijAlvqjDosid5fc442jRK4I3xT1CxXAWvwzJhrMAJSlXP8f1vjDFZWcqFPe/g40/vodvpXZg9+iGiS5fxOiwT5qyJzxhzQtLTs0jsPIYfFj/DpWdfzPQr76BUpO1azImztcgYU2j796dxdrsrWPHb21x73jDu6n+DPfTVFJlCJSj3hYVpqppVxPEYY8LExo27OLtdb1I2L+T2SyYwpscwr0MyxYxfCUpEIoABwOVAayAdKCMiO4GPgOdUdXXAojTGhJSff15LYufupKZuYNY1D3NR2+5eh2SKIX9/B/U1cDIwBThJVeuoanWgI/AD8ICIDApQjMaYEPL55/+hXbt2ZKTt4L0bZ1lyMgHjbxNfsqoeyfmlqu7GeR/UuyJSukgjM8aEnBdf/JARIwZSuXwc/zd5No1qNvA6JFOM+XUGdTQ5ich0yeMKaG4JzBhTfNx115NceeXF1K92CgvuedWSkwm4gj7q6AAw171JAhE5T0QWFn1YxphQkZ2dzWWXTeDOO8fSpnEyX935PNUqVvU6LFMCFPSV77eKyGXAfBHJwHmqxOSARGaM8dzhw4c599xBfPfde7Q9+Uo+nDyOyIhIr8MyJUSBEpT7evcRwEGgJnClqq4KRGDGGG9t2bKTs8++kHXrFtMw/kZ6nTWGyIj9XodlSpCCNvHdAtymqolAP+BNe7OuMcXPf/7zB82atmPjhh+5vv8AmtTr63VIpgQqUIJS1S6q+p37+RfgfGBqIAIzxnjj+ec/p2PHNmSk7+DukYM45yx7VYbxhl8J6jh37m0Buh6vjDEmPGRnK1df/QQjR55P1QrleWzcMJrVr+t1WKYE8/ca1Fci8h7woapuOPqliEQB7Sr4AowAABdDSURBVEVkCM6PeV8q+hCNMYF28OARunYdxeLFz3Nm4xbcOKgXZcvY08iNt/xNUH8CWcD7IlIT2AtEA5HAZ8DjqvqTPyMSke7AdHfY51V1Wh7l+gLvAK1VdamfcRpjCuj333fRtcvFbN7yLb07dWLw+UlERNjLto33/E1QrVV1pIgMB+oC1YDDqrq3IBMTkUhgBtANSAGWiMhcVV2Zo1wFYBywuCDjN8YUzHvvreCKwReQlraJsZdeTGLLM7wOyZj/8fcw6UsR+R6oAVwBxAOHCzG9NsBqVV2rqhnAHKB3LuXuAR4A0goxDWNMPlTh5ilz6X9pOyLYzdRrrrDkZEKOqKp/BUVOxrnO9C/gNKAFkAH8qqr9/RxHP6C7qg53uwcDbVV1tE+ZlsAtqtpXROYDE3Nr4hORkcBIgBo1arSaM2eOX/XIKTU1lZiYmEING66sziVDXnXOzlZmz36L119/jvr16nHzxAnEVT3+kyF27q1ITFQUcbHevmFn7fbSlKtwkHLlMnPtHxERQXZ2dsDj2LIlhtp1thNV2rv5oSocOlSZuLgKhR5HUlLSMlVNKMKwipTfP9RV1TUikqyqfxz9TkRigFOLKhj3tR6PAkP9iGcmMBMgISFBExMTCzXN+fPnU9hhw5XVuWTIrc7r1qVzbvJV/LnmNdq2aMG4/r2JTt2Fpu467rje+7A7HWvFk9zT2x/q3jurJmclLiUhYWeu/aOjo0lLC3zDy4wZCTz08GfEx+8L+LTykp5eiuXL+9KvX6JnMQRaQR919EeO7lSc1234axNQx6e7tvvdURVwEt589671k3Ce/dfLbpQw5sTMm5fCoMv7sGfvEi7t2plLu3a2myFMSAv2K9+XAI1FpAFOYhoAXHa0p6ruA+KOdh+vic8Y4x9VuOP2r3jggf7AfiZedglnn97C67CMyVdQE5SqZorIaOBTnNvMZ6vqChG5G1iqqnODGY8xxd3Bg0qfix/i8y9upkblykwZMpw6Nap7HZYxfgn2GRSqOg+Yl+O72/MomxiMmIwpjvbvP8ypzfuybsP7tGnejLGX9qZcdLTXYRnjt6AnKGNM4L355u+MH38tW7duYFD3ZC7u3AF7GpkJN5agjClGsrPh+nHv8MwzwyhbTrjjqsGc3qih12EZUyiWoIwpJvbty+L8827i+8WP0DC+NpOnTCLu4G6vwzKm0CxBGVMMLFu2gwt6XsrWbfPpmtCKEb27UyYuDrUEZcKYJShjwtyzz37P+PGXkHlkO6P69iK5dUuvQzKmSFiCMiZMHTmSzYD+D/D+B7dTpWJFbho+lEa1a3kdljFFxhKUMWFozZrtJHe9nHXrv6BN81MZc0lPypct63VYxhQpS1DGhJlXX/2aESMu40jGLkb06kn39gl2C7kplixBGRMmsrKyGDb0Ll55dSpxlWowZeRVNIg/yeuwjAkYS1DGhIH16zeR3HUgq9d8S/tTWzP6kmR7Jbsp9ixBGRPi3nzzI4YOvYLMI4e5tk8/urUpsjfcGBPSLEEZE6IyMjIYPPhm3nrrEapVqs9toy6jdvW4/Ac0ppiwBGVMCPrxx9+56KLBbNy4lFpxfXlkXFOiSpf2OixjgsreVmZMCMnOzmbixCdp0/osdmxfQ7f2M2lW70ZLTqZEsgRlTIj47bdNNGnSnUceGUvTBm2ZeftbnFKvu9dhGeMZa+IzxmOqcMcdc5g2bRSqaVxzya30PKev/bbJlHiWoIzx0OrVe7io9yhWrJxDg1pnMPmqu6lVvZ7XYRkTEixBGeMBVbjvvs+Zes9QMjK2c3mP67j0vGFERtomacxRtjUYE2Rr1hzmkn438dN/n6RmXEMmDfsXjeu18DosY0KOJShjgiQrCx588Afuu3cYqQd/58LOAxnaexxloqK9Ds2YkGQJypgg+O23QwzsfwvLf3mCyrHVuOe6ZzirWXuvwzImpFmCMiaAjhyB2279giefHMmhw39xfsdLGNZ7HOXKxngdmjEhzxKUMQGyZMleLr9sAn+uns1JcfW4/eoXOLVRK6/DMiZsWIIypoilpcEN4z9g9oujyMjYRt/koVzW4xq71mRMAVmCMqYIffXVdoYNHc2GjW9Tr+YpXD/oYbtDz5hCsgRlTBFITVWuHvEKb797PdnZqQy64Dr6dRtKqUh7hp4xhWUJypgT9PbbfzJm9Gi2bf+MU+qdzvWD7qBuzZO9DsuYsGcJyphC2rLlMJcNvI8F3z5EVKlSjOh7Ixd0HkBkRKTXoRlTLFiCMqaAnMcU/R/33TuWQ4fX0anl+QzvM56qlap7HZoxxYolKGMKYNmydQwcMJY/V/8fJ8U15JbhMzmjSRuvwzKmWAr6+6BEpLuIrBKR1SIyOZf+N4jIShFZLiJfiog92tl4Li0tncGDp9KmTXPWrfuCIb3G8cytb1pyMiaAgnoGJSKRwAygG5ACLBGRuaq60qfYT0CCqh4SkWuBB4H+wYzTGF9vvPE5o0Zdx969f5LQvBvXDZxAtconeR2WMcVesJv42gCrVXUtgIjMAXoD/0tQqvq1T/kfgEFBjdAY19q167n88on88MM7VKlYjzuvfZqEFmd7HZYxJYaoavAmJtIP6K6qw93uwUBbVR2dR/mngK2qOjWXfiOBkQA1atRoNWfOnELFlJqaSkxMyXoumtU5/7L/+tfrfPDBO4gIfS/qT5/efYmKigpwlP+0P7UUaWkZVKu8v+ADlykD6elFEsfOvRWJiYoiLjarSMZXWGu3l6ZchYOUK5eZa/+IiAiys7MDHseWLTHUrrOdqNLezQ9V4dChysTFVSj0OJKSkpapakIRhlWkQvYmCREZBCQAnXPrr6ozgZkACQkJmpiYWKjpzJ8/n8IOG66szrnLzMzkrrtm8egjt3Po8E4qxfTn0UnDqF7lJNgbnDhzWvxdFVb9uZlRlywt8LBS7xR0/R9FEsd7H3anY614knsWIlEWoXtn1eSsxKUkJOzMtX90dDRpaWkBj2PGjAQeevgz4uP3BXxaeUlPL8Xy5X3p1y/RsxgCLdg3SWwC6vh013a/O4aIJAO3AL1UtWgOAY3Jg6ryzDPzOKn6qUydOop6ZWOZ3uUa6lR/xklOxhhPBDtBLQEai0gDEYkCBgBzfQuIyFnAczjJaXuQ4zMlzPvv/0zDel0YNaonpTN281y38/mkXzJNqsR7HZoxJV5Qm/hUNVNERgOfApHAbFVdISJ3A0tVdS7wEBADvC0iABtUtVcw4zTF37ffbmHMtTfx84pXiSldltvbd+SKFs2IirSnQBgTKoJ+DUpV5wHzcnx3u8/n5GDHZEqOH3/cx/XXTeP7/zyBajrDTzudsa1aUqlMGa9DM8bkELI3SRhTlPbtO0zXznfx3aLHyMjcx/kNTmZK2zbUj431OjRjTB4sQZli7bff0hg/ejrfL5nG/gN7SapTj4mtkzmtWjWvQzPG5MMSlCmW/vgjgwljn+bLr6dxOGMbZ7VowR2Nk2hZo4bXoRlj/GQJyhQra9ZkMun65/nk83s5lJ5CQo2a3NjmQir360fTRd97HZ4xpgAsQZliYd26LCZPeJmP5t1Nato6To2rzk1de3JO7dqICL97HaAxpsAsQZmwtmZNOpPGP89nnz9Eatp6mlSpyo2du9OtXj3cnykYY8KUJSgTllatOsCEcU/y5VfTSTuynVPjqjO607l0b9CACEtMxhQLlqBMWPn11x1cP+ZhFnz7LEey9tO+Zm3GtLyADrVq2RmTMcWMJSgTFpYsWccN4x7g+8UvkZ2dTrf6DRlzVjJnVLfXrBtTXFmCMiHt66+XM2niNJb9+BYRAr0bNWH0WafRqHJlr0MzxgSYJSgTcjIzM3n55Q+5/97prF77LVERUVzR4nSuPbMF8SXsPVbGlGSWoEzI2LFjJ9OmzWLWrKc5cCCFytFx3JDQkSEtGlE5Otrr8IwxQWYJynju889/ZOrUJ/juuzlkZ6dTtlQHHu6cQN9TqhMZEew3whhjQoVt/cYTe/YcYfLkNzgpvi3nntuKhd+/ycmdT2fA8wOJr/QGFzSsbcnJmBLOzqBM0Bw5Au+++wdPPPUcy5a+Rkb6NsrHVeXsqzvR/PwmlImxV14YY/5mCcoElCosWXKAhx97jc8+e5F9u/+DRERQp1U9TruoJ/Va10Mi7PdLxph/sgRlAmLjRmXGM/N5fc5zbNowl+ysw8TWqkL7Ee1pktyE8lXLex2iMSbEWYIyRWbvXnjnnfXMmPUcv//6GmmHNlA6Ooqm5zWiWfdm1GhWw572YIzxmyUoc0LS0+GTT3bw5LOvs3TJO+zbtRBQ4s+oRfPuyTTs1JDS0aW9DtMYE4YsQZkCy86GBQt2Mf2pN/nmmzfZu2shqlnExlciYXArmp3bjIo1K3odpjEmzFmCMn5RhZ9+2s3j09/l40/fYOf2BaBZVKxZiZYDz6RR50ZUbVjVmvCMMUXGEpQ5rt9+284TT/wfH/57Dls3zUc1k5jqlWjZ/wwadW5EXKM4S0rGmICwBGWOkZ2dzaJFPzJz5r/59PN/s33rj4BSvmolzrzkNBolNqJa42qWlIwxAWcJyrBv3z7ef/9zXnvtI77/YR4HU7cDQpX6dWl9RVsatK9rZ0rGmKCzBFUCZWVl8/77P/PhB5/y7YJ/89f671HNJCIiliqNmtK6Z0sadoinbKWyXodqjCnBLEEVc6qQkpLFvHk/8/mnn/PTj1+zdcciDh06AEDD6jW4LvlULm1XmdHvT6f+1R9Qp9k2j6M2xhhLUMVOaiqsXJnJp58sYcFXn7Hyt+/YuXsxGZlOQqpTNZbO7c5gwCkZJDWvTp2q5f43rIitDsaY0GF7pDCWmQnr1imLFqbwzZcL+e+Pi9m0ZRl79i8lI/MwAI1qxDL0nGp0btqczs2qUatKOeZHn0di2qceR2+MMcdnCSpMqMKuXfDdd5v56ovFLFu8iLXrfmTfgZ85nL4LgMgIoXmtivRpGU9is+qc0zSOk+w6kjEmTFmCClE7dhzgyy9XsWjhSn75aTmr1/zMrj3LOZy+HYAIEZrEV+S8ZpVJaFiXVg0qc0bdSpQrY4vUGFM82N7MQ6rK5s2bWbnydxYv/p2lS3/n999WsCllFamHNv+vXKQIJ9eIJal1LAkNzqRVgyqcWa8S5aNt8Rljiq+g7+FEpDswHYgEnlfVaTn6lwFeBloBu4D+qrou2HEWhiocOgQHDjh/W7ceYO3ajaxfn0JKygZSNm1g27YUdu7ayL69KaSmppCVmfq/4cuULku9qnEkN69IQoM4mteKoWl8RU6uUZ6oUpEe1swYY4IvqAlKRCKBGUA3IAVYIiJzVXWlT7GrgD2q2khEBgAPAP2DGacqpKXB/v3K7t1H2LMngz17Mti6dS/btu1my7ZdbN+xm127d7Nn7x4O7N/DwdQ9HD68h6ysPWQe2U56+iayjuzPMWahTPk4ysaeRPlatahepSWV4uuwfXlLJrb8ievOX2M/hjXGGFewz6DaAKtVdS2AiMwBegO+Cao3cKf7+R3gKRERVdWiDmbChAnMmfM2hw6V4siRDDKzjpCVlUF2VgaqGahm+jUeiShDqahKlI6uSKmoWMpVqEvlmLaUKR9PmXI1KVO+JtEx8USVrU5EZNQ/hi8dUZbft8Xw7DctirqKuYrrUI5nFl74j+8PZ5Rh639ac3jt4aDEkZdsjWDOX12JiswusnE2aBnBq6u7+V1+x6EY0o9E8sn31YoshsJYvTGa3amV+WLZ2QUetm21NBYXYrjcbN9bjRUR5XnxW29fnbL/cCSrVtUmNTX35dKhw1YWLmwQ8DgyM0vx+WedqFAhI+DTyktWdgQNA19VT0kA9vt5T0ykH9BdVYe73YOBtqo62qfMr26ZFLd7jVtmZ45xjQRGAtSoUaPVnDlzChzP22+/zfLlv1CqVDSlSpWmVKlS7p/zOTLS6S5d2ukuV648MTEViImpSExMDDExFShfvgJlypQp7CwBICsLIiIgeCdPqUDMP77NzIRSIXBZKzBx5F7n4MdRMKrO+lG4OApe57xku8cKERFFMrpCy39bKbo6H08orBsAIqlUrFj4+iYlJS1T1YQiDKlIhcAsLhxVnQnMBEhISNDExMQCjyMxMZH58+dTmGHDmdW5ZLA6F3/Fvb7BPh7aBNTx6a7tfpdrGXEebRCLc7OEMcaYEiTYCWoJ0FhEGohIFDAAmJujzFxgiPu5H/BVIK4/GWOMCW1BbeJT1UwRGQ18inOb+WxVXSEidwNLVXUu8ALwioisBnbjJDFjjDElTNCvQanqPGBeju9u9/mcBlwS7LiMMcaEFo/vyTHGGGNyZwnKGGNMSLIEZYwxJiRZgjLGGBOSgvokiUARkR3A+kIOHgfszLdU8WJ1LhmszsXfida3nqp6+zyv4ygWCepEiMjSUH7URyBYnUsGq3PxV9zra018xhhjQpIlKGOMMSHJEpT7wNkSxupcMlidi79iXd8Sfw3KGGNMaLIzKGOMMSHJEpQxxpiQVGISlIh0F5FVIrJaRCbn0r+MiLzp9l8sIvWDH2XR8qPON4jIShFZLiJfikg9L+IsSvnV2adcXxFREQnrW3T9qa+IXOou5xUi8nqwYyxqfqzXdUXkaxH5yV23e3gRZ1ESkdkist1943hu/UVEnnDnyXIRaRnsGANCVYv9H86rPdYADYEo4GegeY4yo4Bn3c8DgDe9jjsIdU4Cyrmfry0JdXbLVQAWAD8ACV7HHeBl3Bj4Cajsdlf3Ou4g1HkmcK37uTmwzuu4i6De5wAtgV/z6N8D+BgQoB2w2OuYi+KvpJxBtQFWq+paVc0A5gC9c5TpDfzL/fwO0FVEJIgxFrV866yqX6vqIbfzB5w3HIczf5YzwD3AA0BaMIMLAH/qOwKYoap7AFR1e5BjLGr+1FmBiu7nWGBzEOMLCFVdgPN+vLz0Bl5Wxw9AJRGpGZzoAqekJKhawEaf7hT3u1zLqGomsA+oGpToAsOfOvu6CucILJzlW2e36aOOqn4UzMACxJ9lfApwiogsFJEfRKR70KILDH/qfCcwSERScN49NyY4oXmqoNt7WAj6CwtN6BGRQUAC0NnrWAJJRCKAR4GhHocSTKVwmvkScc6QF4jIaaq619OoAmsg8JKqPiIi7XHe0H2qqmZ7HZgpmJJyBrUJqOPTXdv9LtcyIlIKp2lgV1CiCwx/6oyIJAO3AL1UNT1IsQVKfnWuAJwKzBeRdTht9XPD+EYJf5ZxCjBXVY+o6l/AHzgJK1z5U+ergLcAVPV7IBrnoarFmV/be7gpKQlqCdBYRBqISBTOTRBzc5SZCwxxP/cDvlL36mOYyrfOInIW8BxOcgr3axOQT51VdZ+qxqlqfVWtj3PdrZeqLvUm3BPmz3r9Ac7ZEyISh9PktzaYQRYxf+q8AegKICLNcBLUjqBGGXxzgSvcu/naAftUdYvXQZ2oEtHEp6qZIjIa+BTnLqDZqrpCRO4GlqrqXOAFnKaA1TgXIwd4F/GJ87PODwExwNvu/SAbVLWXZ0GfID/rXGz4Wd9PgXNFZCWQBdyoqmHbMuBnnScAs0RkPM4NE0PD/GATEXkD50Ajzr22dgdQGkBVn8W51tYDWA0cAoZ5E2nRskcdGWOMCUklpYnPGGNMmLEEZYwxJiRZgjLGGBOSLEEZY4wJSZagjDHGhCRLUMYYY0KSJShjjDEhyRKUMQEgIq3d9/JEi0h5911Mp3odlzHhxH6oa0yAiMhUnMfslAVSVPV+j0MyJqxYgjImQNxnxS3Bee/U2aqa5XFIxoQVa+IzJnCq4jzrsALOmZQxpgDsDMqYABGRuThvfG0A1FTV0R6HZExYKRFPMzcm2ETkCuCIqr4uIpHAIhHpoqpfeR2bMeHCzqCMMcaEJLsGZYwxJiRZgjLGGBOSLEEZY4wJSZagjDHGhCRLUMYYY0KSJShjjDEhyRKUMcaYkPT/8WqEKNtdtJYAAAAASUVORK5CYII=\n",
                "text/plain": "<Figure size 432x288 with 1 Axes>"
              }
            ],
            "_view_module": "@jupyter-widgets/output",
            "_model_module_version": "1.0.0",
            "_view_count": null,
            "_view_module_version": "1.0.0",
            "layout": "IPY_MODEL_cf786715eebc4a83afaafbe7744228a8",
            "_model_module": "@jupyter-widgets/output"
          }
        },
        "00150de59e5a453ba3bea163756e482f": {
          "model_module": "@jupyter-widgets/controls",
          "model_name": "SliderStyleModel",
          "state": {
            "_view_name": "StyleView",
            "handle_color": null,
            "_model_name": "SliderStyleModel",
            "description_width": "",
            "_view_module": "@jupyter-widgets/base",
            "_model_module_version": "1.5.0",
            "_view_count": null,
            "_view_module_version": "1.2.0",
            "_model_module": "@jupyter-widgets/controls"
          }
        },
        "b1fb1410999c4967abce3708135686a9": {
          "model_module": "@jupyter-widgets/base",
          "model_name": "LayoutModel",
          "state": {
            "_view_name": "LayoutView",
            "grid_template_rows": null,
            "right": null,
            "justify_content": null,
            "_view_module": "@jupyter-widgets/base",
            "overflow": null,
            "_model_module_version": "1.2.0",
            "_view_count": null,
            "flex_flow": null,
            "width": null,
            "min_width": null,
            "border": null,
            "align_items": null,
            "bottom": null,
            "_model_module": "@jupyter-widgets/base",
            "top": null,
            "grid_column": null,
            "overflow_y": null,
            "overflow_x": null,
            "grid_auto_flow": null,
            "grid_area": null,
            "grid_template_columns": null,
            "flex": null,
            "_model_name": "LayoutModel",
            "justify_items": null,
            "grid_row": null,
            "max_height": null,
            "align_content": null,
            "visibility": null,
            "align_self": null,
            "height": null,
            "min_height": null,
            "padding": null,
            "grid_auto_rows": null,
            "grid_gap": null,
            "max_width": null,
            "order": null,
            "_view_module_version": "1.2.0",
            "grid_template_areas": null,
            "object_position": null,
            "object_fit": null,
            "grid_auto_columns": null,
            "margin": null,
            "display": null,
            "left": null
          }
        },
        "cf786715eebc4a83afaafbe7744228a8": {
          "model_module": "@jupyter-widgets/base",
          "model_name": "LayoutModel",
          "state": {
            "_view_name": "LayoutView",
            "grid_template_rows": null,
            "right": null,
            "justify_content": null,
            "_view_module": "@jupyter-widgets/base",
            "overflow": null,
            "_model_module_version": "1.2.0",
            "_view_count": null,
            "flex_flow": null,
            "width": null,
            "min_width": null,
            "border": null,
            "align_items": null,
            "bottom": null,
            "_model_module": "@jupyter-widgets/base",
            "top": null,
            "grid_column": null,
            "overflow_y": null,
            "overflow_x": null,
            "grid_auto_flow": null,
            "grid_area": null,
            "grid_template_columns": null,
            "flex": null,
            "_model_name": "LayoutModel",
            "justify_items": null,
            "grid_row": null,
            "max_height": null,
            "align_content": null,
            "visibility": null,
            "align_self": null,
            "height": null,
            "min_height": null,
            "padding": null,
            "grid_auto_rows": null,
            "grid_gap": null,
            "max_width": null,
            "order": null,
            "_view_module_version": "1.2.0",
            "grid_template_areas": null,
            "object_position": null,
            "object_fit": null,
            "grid_auto_columns": null,
            "margin": null,
            "display": null,
            "left": null
          }
        }
      }
    }
  },
  "cells": [
    {
      "cell_type": "markdown",
      "metadata": {
        "id": "view-in-github",
        "colab_type": "text"
      },
      "source": [
        "<a href=\"https://colab.research.google.com/github/jugernaut/ProgramacionEnParalelo/blob/main/OpenMP/02_Integracion_Numerica_SCP.ipynb\" target=\"_parent\"><img src=\"https://colab.research.google.com/assets/colab-badge.svg\" alt=\"Open In Colab\"/></a>"
      ]
    },
    {
      "cell_type": "markdown",
      "metadata": {
        "id": "ScSKHDcow79x"
      },
      "source": [
        "<font color=\"Teal\" face=\"Comic Sans MS,arial\">\n",
        "  <h1 align=\"center\"><i>Integración numérica</i></h1>\n",
        "  </font>\n",
        "  <font color=\"Black\" face=\"Comic Sans MS,arial\">\n",
        "  <h5 align=\"center\"><i>Profesor: M.en.C. Miguel Angel Pérez León</i></h5>\n",
        "    <h5 align=\"center\"><i>Ayudante: Jesús Iván Coss Calderón</i></h5>\n",
        "    <h5 align=\"center\"><i>Ayudante: Mario Arturo Nieto Butron</i></h5>\n",
        "  <h5 align=\"center\"><i>Materia: Seminario de programación en paralelo</i></h5>\n",
        "  </font>"
      ]
    },
    {
      "cell_type": "markdown",
      "metadata": {
        "id": "cbG3g1S0w79y"
      },
      "source": [
        "# Introducción\n",
        "\n",
        "Muy frecuentemente es necesario evaluar la integral definida de una función $f\\left(x\\right)$ en un intervalo $\\left[a,b\\right]$. El objetivo de esta sección es encontrar métodos para aproximar la integral\n",
        "\n",
        "$$\\int_{a}^{b}f\\left(x\\right)dx$$\n",
        "\n",
        "Si se conoce a priori la **antiderivada** $F\\left(x\\right)$ entonces es evidente que podemos encontrar el valor exacto de la integral, aplicando el siguiente teorema\n"
      ]
    },
    {
      "cell_type": "markdown",
      "metadata": {
        "id": "LxClLbNDH-rL"
      },
      "source": [
        "## Teorema Fundamental de Cálculo\n",
        "\n",
        "Sea $f\\left(x\\right)$ integrable en el intervalo $\\left[a,b\\right]$ y $F'\\left(x\\right)=f\\left(x\\right)$ entonces,$\\int_{a}^{b}f\\left(x\\right)dx=F\\left(a\\right)-F\\left(b\\right)$\n",
        "\n",
        "\n",
        "Sin embargo como en otras partes del curso, a veces encontrar a $F$ es muy complicado, de tal manera que la mejor opción es encontrar una aproximación del valor exacto de.\n",
        "\n",
        "$$\\int_{a}^{b}f\\left(x\\right)dx$$\n",
        "\n",
        "La forma básica para encontrar una aproximación de $\\int_{a}^{b}f\\left(x\\right)dx$, se conoce como **cuadratura numérica** y emplea una suma del tipo.\n",
        "\n",
        "$$\\sum_{i=0}^{n}a_{i}f\\left(x_{i}\\right)$$\n",
        "\n",
        "Existen diferentes aproximaciones de la integral de $f\\left(x\\right)$ mediante cuadratura numérica, en esta sección revisaremos algunas de las mas comunes."
      ]
    },
    {
      "cell_type": "markdown",
      "metadata": {
        "id": "QNpXtFzFw79z"
      },
      "source": [
        "# Cuadratura Numérica\n",
        "\n",
        "Los métodos de integración numérica se basan en los polinomios de Lagrange visto en secciones previas. La idea básica es que seleccionamos un conjunto de nodos distintos $x_{0},\\ldots,x_{n}$ del intervalo $ \\left[a,b\\right]$. Después se integra el polinomio de Lagrange\n",
        "\n",
        "$$P_{n}\\left(x\\right)=\\sum_{i=0}^{n}f\\left(x_{i}\\right)L_{i}\\left(x\\right)$$\n",
        "\n",
        "Y también se integra el termino de error de truncamiento en $\\left[a,b\\right]$\n",
        "\n",
        "$$\\prod_{i=0}^{n}\\left(x-x_{i}\\right)\\frac{f^{\\left(n+1\\right)}\\left(\\xi\\left(x\\right)\\right)}{\\left(n+1\\right)!}dx$$\n",
        "\n",
        "De tal manera que obtenemos\n",
        "\n",
        "$$ \\int_{a}^{b}f\\left(x\\right)dx=\\int_{a}^{b}\\sum_{i=0}^{n}f\\left(x_{i}\\right)L_{i}\\left(x\\right)dx+\\int_{a}^{b}\\prod_{i=0}^{n}\\left(x-x_{i}\\right)\\frac{f^{\\left(n+1\\right)}\\left(\\xi\\left(x\\right)\\right)}{\\left(n+1\\right)!}dx\\\\=\\sum_{i=0}^{n}a_{i}f\\left(x_{i}\\right)+\\frac{1}{\\left(n+1\\right)!}\\int_{a}^{b}\\prod_{i=0}^{n}\\left(x-x_{i}\\right)f^{\\left(n+1\\right)}\\left(\\xi\\left(x\\right)\\right)dx $$\n",
        "\n",
        "Donde $\\xi\\left(x\\right)$ se encuentra en $\\left[a,b\\right]$ para cada $x$ y\n",
        "\n",
        "$$a_{i}=\\int_{a}^{b}L_{i}\\left(x\\right)dx,\\quad para\\,cada\\,i=0,1,\\ldots,n$$\n",
        "\n",
        "Por lo tanto, la formula de la cuadratura es\n",
        "\n",
        "$$\\int_{a}^{b}f\\left(x\\right)dx=\\sum_{i=0}^{n}a_{i}f\\left(x_{i}\\right) \\tag{1}$$\n",
        "\n",
        "Con un error dado por\n",
        "\n",
        "$$E\\left(f\\right)=\\frac{1}{\\left(n+1\\right)!}\\int_{a}^{b}\\prod_{i=0}^{n}\\left(x-x_{i}\\right)f^{\\left(n+1\\right)}\\left(\\xi\\left(x\\right)\\right)dx$$\n",
        "\n",
        "De la misma manera que en otros temas vistos en el curso, la aproximación sera mas exacta si subdividimos el intervalo $\\left[a,b\\right]$ en tantos subintervalos como sea necesario, es decir.\n",
        "\n",
        "Sea\n",
        "\n",
        "$$\\left[a,b\\right]=\\left[a,x_{1}\\right]\\cup\\left[x_{1},x_{2}\\right]\\cup\\cdots\\cup\\left[x_{n-2},x_{n-1}\\right]\\cup\\left[x_{n-1},b\\right]$$\n",
        "\n",
        "Donde\n",
        "\n",
        "$$x_{k}=a+\\frac{b-a}{n}k,\\quad n=0,1,2,\\ldots,n,\\quad x_{0}=a,\\,x_{n}=b$$\n",
        "\n",
        "\n",
        "Tendremos\n",
        "\n",
        "$$\\int_{a}^{b}f\\left(x\\right)dx=\\int_{a}^{x_{1}}f\\left(x\\right)dx+\\cdots+\\int_{x_{k}}^{x_{k+1}}f\\left(x\\right)dx+\\cdots+\\int_{x_{n-1}}^{b}f\\left(x\\right)dx \\tag{2} $$\n",
        "\n",
        "Observación, todos los nodos son igualmente espaciados.\n",
        "\n"
      ]
    },
    {
      "cell_type": "markdown",
      "metadata": {
        "id": "xRjpaWQHTd9k"
      },
      "source": [
        "### Cuadratura del rectángulo\n",
        "\n",
        "La forma de cuadratura mas simple es la que emplea rectángulos de base $\\left(b-a\\right)$ y altura $f\\left(a\\right)$\n",
        "\n",
        "$$\\int_{a}^{b}f\\left(x\\right)dx=\\left(b-a\\right)f\\left(a\\right)+E\\left(f\\right) \\tag{3}$$\n",
        "\n",
        "Combinando $(1)$ y $(3)$, se obtiene la forma general de la cuadratura mediante rectángulos\n",
        "\n",
        "$$\\int_{a}^{b}f\\left(x\\right)dx=\\frac{b-a}{n}\\sum_{i=0}^{n-1}f\\left(x_{i}\\right)+E\\left(f\\right)$$\n",
        "\n"
      ]
    },
    {
      "cell_type": "code",
      "metadata": {
        "id": "xoCX7k-_w790",
        "colab": {
          "base_uri": "https://localhost:8080/",
          "height": 416,
          "referenced_widgets": [
            "7c3411e2d9e647f48acf3f386952bb15",
            "49fdad1dd3a241e0afa00de2901b1dbf",
            "5e20290314c14008857d0628d683214b",
            "1fb0428a17ae443fbc8b97e0294b2879",
            "1d3e8a70d72d490f8a53e994d5050d9e",
            "cc82b56358704492bf7f054af9cffa35",
            "3e785d5f90c24d1891b273765816b691"
          ]
        },
        "outputId": "62f865f5-32fc-4eb6-ffa2-f521abc08fba"
      },
      "source": [
        "# import de las bibliotecas necesarias\n",
        "import numpy as np\n",
        "from IPython.html.widgets import interact\n",
        "import ipywidgets as widgets\n",
        "import matplotlib.pyplot as plt\n",
        "\n",
        "# funcion que define la cuadratura mediante rectangulos\n",
        "# cantidad de puntos que usaran en la cuadratura\n",
        "def Rectangulo(n): \n",
        "    # a punto inicial del intervalo  \n",
        "    a=0\n",
        "    # b punto final del intervalo\n",
        "    b=1\n",
        "    # f funcion a integrar **\n",
        "    #def f(x):\n",
        "        #return x*x\n",
        "    # f funcion a integrar\n",
        "    f = lambda x: x*x\n",
        "    \n",
        "    # para grficar f(x)\n",
        "    xp=np.linspace(a,b,30)\n",
        "    fp=f(xp)\n",
        "    plt.plot(xp,fp,color='black')\n",
        "    \n",
        "    # discretizacion para la cuadratura\n",
        "    x=np.linspace(a,b,n+1)\n",
        "    fx=[ f(x[i]) for i in range(len(x))]\n",
        "    plt.bar(x,fx,width=(-(b-a)/n),color='orange', align='edge')\n",
        "    plt.title(\"Aproximacion de la integral con el metodo de la cuadratura del rectangulo\")\n",
        "    plt.xlabel(\"x\")\n",
        "    plt.ylabel(r\"$f \\left(x\\right) = x^{2}$\")\n",
        "    plt.grid()\n",
        "\n",
        "    # aproximacion mediante la cuadratura del rectangulo\n",
        "    cuadratura=0.0\n",
        "    for i in range (len(x)):\n",
        "        cuadratura+=f(x[i])\n",
        "    # valor aproximado    \n",
        "    integral=((b-a)/n)*cuadratura\n",
        "\n",
        "    print(\"el valor de la integral mediante el metodo de cuadratura del rectangulo es: {}\".format(integral)) \n",
        "\n",
        "interact(Rectangulo,n=widgets.IntSlider(min=1,max=30,step=1,value=1))"
      ],
      "execution_count": 1,
      "outputs": [
        {
          "output_type": "stream",
          "text": [
            "/usr/local/lib/python3.7/dist-packages/IPython/html.py:14: ShimWarning: The `IPython.html` package has been deprecated since IPython 4.0. You should import from `notebook` instead. `IPython.html.widgets` has moved to `ipywidgets`.\n",
            "  \"`IPython.html.widgets` has moved to `ipywidgets`.\", ShimWarning)\n"
          ],
          "name": "stderr"
        },
        {
          "output_type": "display_data",
          "data": {
            "application/vnd.jupyter.widget-view+json": {
              "model_id": "7c3411e2d9e647f48acf3f386952bb15",
              "version_minor": 0,
              "version_major": 2
            },
            "text/plain": [
              "interactive(children=(IntSlider(value=1, description='n', max=30, min=1), Output()), _dom_classes=('widget-int…"
            ]
          },
          "metadata": {
            "tags": []
          }
        },
        {
          "output_type": "execute_result",
          "data": {
            "text/plain": [
              "<function __main__.Rectangulo>"
            ]
          },
          "metadata": {
            "tags": []
          },
          "execution_count": 1
        }
      ]
    },
    {
      "cell_type": "markdown",
      "metadata": {
        "id": "NM8gZ8Dqw794"
      },
      "source": [
        "### Cuadratura del punto medio\n",
        "\n",
        "Una aproximación de la integral $\\int_{a}^{b}f\\left(x\\right)dx$ consiste en aproximar el área bajo la curva $y=f\\left(x\\right)$ por un rectángulo de base $b-a$ y altura $f\\left(\\frac{a+b}{2}\\right)$, entonces\n",
        "\n",
        "$$\\int_{a}^{b}f\\left(x\\right)dx=\\left(b-a\\right)f\\left(\\frac{a+b}{2}\\right)+E\\left(f\\right) \\tag{4} $$\n",
        "\n",
        "Donde $E\\left(f\\right)$, si $f$ tiene primera y segunda derivada continuas en $\\left[a,b\\right]$, se expresa así\n",
        "\n",
        "$$E\\left(f\\right)=\\frac{\\left(b-a\\right)^{2}}{24}f''\\left(\\xi\\right)\\quad\\xi\\in\\left[a,b\\right]$$\n",
        "\n",
        "Combinando $(1)$ y $(4)$, se obtiene la forma general de la cuadratura del punto medio\n",
        "\n",
        "$$\\int_{a}^{b}f\\left(x\\right)dx=\\frac{b-a}{n}\\sum_{i=0}^{n-1}f\\left(\\frac{x_{i}+x_{i+1}}{2}\\right)+E\\left(f\\right)$$\n",
        "\n"
      ]
    },
    {
      "cell_type": "code",
      "metadata": {
        "id": "OZOU5EaVw796",
        "colab": {
          "base_uri": "https://localhost:8080/",
          "height": 362,
          "referenced_widgets": [
            "636b8498af9a49e6b05fac69100d4183",
            "acfd381dd4f5486bb6d5df6ec9e9b8ab",
            "8d3339d7f81144b7bfd9fbaa817a8515",
            "e056a845a37f4e3ba1f00afcf5cb6545",
            "d61957fde34c4de5ad9c56576b7b121f",
            "3ace7723bd6643b7a9e06c4f9a3dbed7",
            "963caec9d9764e9f891affd364a7daad"
          ]
        },
        "outputId": "ca199e9a-8d8c-4fc2-ccaa-d8ba12c86a8f"
      },
      "source": [
        "def PuntoMedio(n):\n",
        "    # a punto inicial del intervalo  \n",
        "    a=0\n",
        "    # b punto final del intervalo\n",
        "    b=1\n",
        "    # f funcion a integrar **\n",
        "    #def f(x):\n",
        "        #return x*x\n",
        "    # f funcion a integrar\n",
        "    f = lambda x: x*x\n",
        "    \n",
        "    # para grficar f(x)\n",
        "    xp=np.linspace(a,b,30)\n",
        "    fp=f(xp)\n",
        "    plt.plot(xp,fp,color='black')\n",
        "    \n",
        "    # discretizacion para la cuadratura\n",
        "    x=np.linspace(a,b,n+1)\n",
        "    am = a+(float(a)/2)\n",
        "    bm = b+(float(b)/2)\n",
        "    fx=[ f(x[i]) for i in range(len(x))]\n",
        "    plt.bar(x,fx,width=((bm-am)/n),color='orange')\n",
        "    plt.title(\"Aproximacion de la integral con el metodo de la cuadratura del punto medio\")\n",
        "    plt.xlabel(\"x\")\n",
        "    plt.ylabel(r\"$f \\left(x\\right) = x^{2}$\")\n",
        "    plt.grid()\n",
        "\n",
        "    # aproximacion mediante la cuadratura del punto medio\n",
        "    cuadratura=0.0\n",
        "    for i in range (len(x)-1):\n",
        "        cuadratura+=f( (x[i]+x[i+1])/2 )\n",
        "    # valor aproximado     \n",
        "    integral=((b-a)/n)*cuadratura\n",
        "    \n",
        "    print(\"el valor de la integral mediante el metodo de cuadratura del punto medio es: {}\".format(integral)) \n",
        "\n",
        "interact(PuntoMedio,n=widgets.IntSlider(min=1,max=30,step=1,value=1))"
      ],
      "execution_count": 2,
      "outputs": [
        {
          "output_type": "display_data",
          "data": {
            "application/vnd.jupyter.widget-view+json": {
              "model_id": "636b8498af9a49e6b05fac69100d4183",
              "version_minor": 0,
              "version_major": 2
            },
            "text/plain": [
              "interactive(children=(IntSlider(value=1, description='n', max=30, min=1), Output()), _dom_classes=('widget-int…"
            ]
          },
          "metadata": {
            "tags": []
          }
        },
        {
          "output_type": "execute_result",
          "data": {
            "text/plain": [
              "<function __main__.PuntoMedio>"
            ]
          },
          "metadata": {
            "tags": []
          },
          "execution_count": 2
        }
      ]
    },
    {
      "cell_type": "markdown",
      "metadata": {
        "id": "nE9yuzw9w79_"
      },
      "source": [
        "### Cuadratura del trapecio\n",
        "\n",
        "Para derivar la regla del trapecio para aproximar $\\int_{a}^{b}f\\left(x\\right)dx$, tomemos $x_{0}=a,\\,x_{1}=b,\\,h=b-a$ y calculando el polinomio lineal de Lagrange\n",
        "\n",
        "$$P\\left(x\\right)=\\left(\\frac{x-x_{1}}{x_{0}-x_{1}}\\right)f(x_{0})+\\left(\\frac{x-x_{0}}{x_{1}-x_{0}}\\right)f(x_{1})$$\n",
        "\n",
        "Al integrar este polinomio se tiene\n",
        "\n",
        "$$\\int_{a}^{b}f\\left(x\\right)dx=\\int_{x_{0}}^{x_{1}}\\left[\\left(\\frac{x-x_{1}}{x_{0}-x_{1}}\\right)f(x_{0})+\\left(\\frac{x-x_{0}}{x_{1}-x_{0}}\\right)f(x_{1})\\right]dx\\\\+\\frac{1}{2}\\int_{x_{0}}^{x_{1}}f''\\left(\\xi\\left(x\\right)\\right)\\left(x-x_{0}\\right)\\left(x-x_{1}\\right)dx$$\n",
        "\n",
        "Donde la integral del error es $-\\frac{h^{3}}{6}f''\\left(\\xi\\right)$, lo que nos lleva a la forma general de la cuadratura del trapecio\n",
        "\n",
        "$$\\int_{a}^{b}f\\left(x\\right)dx=\\left[\\frac{x-x_{1}}{2\\left(x_{0}-x_{1}\\right)}f(x_{0})+\\frac{x-x_{0}}{2\\left(x_{1}-x_{0}\\right)}f(x_{1})\\right]_{x_{0}}^{x_{1}}-\\frac{h^{3}}{12}f''\\left(\\xi\\right)\\\\=\\frac{\\left(x_{1}-x_{0}\\right)}{2}\\left[f\\left(x_{0}\\right)+f\\left(x_{1}\\right)\\right]-\\frac{h^{3}}{12}f''\\left(\\xi\\right) $$\n",
        "\n",
        "Tomando en cuenta que $h=x_{1}-x_{0}$, obtenemos la forma general de la cuadratura del trapecio\n",
        "\n",
        "$$\\int_{a}^{b}f\\left(x\\right)dx=\\frac{h}{2}\\left[f\\left(x_{0}\\right)+f\\left(x_{1}\\right)\\right]-\\frac{h^{3}}{12}f''\\left(\\xi\\right)$$\n",
        "\n"
      ]
    },
    {
      "cell_type": "code",
      "metadata": {
        "id": "sFvxeX94w79_",
        "colab": {
          "base_uri": "https://localhost:8080/"
        },
        "outputId": "af40b2fd-71c5-4d9e-96d8-46876390e786"
      },
      "source": [
        "def Trapecio():\n",
        "    # a punto inicial del intervalo \n",
        "    # b punto final del intervalo \n",
        "    # f funcion a integrar\n",
        "    a=0\n",
        "    b=1\n",
        "    def f(x):\n",
        "        return x*x\n",
        "    \n",
        "    integral=((b-a)/2)*(f(a)+f(b))\n",
        "    print(\"el valor de la integral mediante el metodo de cuadratura del Trapecio: {}\".format(integral))\n",
        "\n",
        "Trapecio()"
      ],
      "execution_count": 3,
      "outputs": [
        {
          "output_type": "stream",
          "text": [
            "el valor de la integral mediante el metodo de cuadratura del Trapecio: 0.5\n"
          ],
          "name": "stdout"
        }
      ]
    },
    {
      "cell_type": "markdown",
      "metadata": {
        "id": "f1IO7V-qw7-D"
      },
      "source": [
        "### Cuadratura del trapecio compuesto\n",
        "\n",
        "Sean los nodos $a=x_{0}<x_{1}<\\cdots<x_{n}=b$ con $h_{i}=x_{i+1}-x_{i}$ y lo que se busca es aproximar el valor de $\\int_{a}^{b}f\\left(x\\right)dx$. Ademas aprovechamos el hecho de que \n",
        "\n",
        "$$\\int_{a}^{b}f\\left(x\\right)dx\t=\t\\int_{a}^{c}f\\left(x\\right)dx+\\int_{c}^{b}f\\left(x\\right)dx$$\n",
        "\n",
        "Integrando sobre los subintervalos $\\left[x_{i},x_{i+1}\\right]$, para $i=0,\\ldots,n-1$ y aplicando la regla del trapecio simple, se obtiene\n",
        "\n",
        "$$\\int_{a}^{b}f\\left(x\\right)dx=\\sum_{i=0}^{n-1}\\int_{x_{i}}^{x_{i+1}}f\\left(x\\right)=\\sum_{i=0}^{n-1}\\frac{h_{i}}{2}\\left[f\\left(x_{i}\\right)+f\\left(x_{i+1}\\right)\\right]-\\sum_{i=0}^{n-1}\\frac{h_{i}^{3}}{12}f''\\left(\\xi_{i}\\right),\\quad\\xi_{i}\\in\\left(x_{i+1},x_{i}\\right) $$\n",
        "\n",
        "Si consideramos $h=h_{i}$ para $i=0,\\ldots,n-1$ y $f''\\left(x\\right)$ continua, entonces obtenemos el error total\n",
        "\n",
        "$$E_{T}=-\\frac{h^{3}}{12}\\sum_{i=0}^{n-1}f''\\left(\\xi_{i}\\right)=-\\frac{h^{3}}{12}nf''\\left(\\xi\\right)=-\\frac{h^{2}}{12}nhf''\\left(\\xi\\right)$$\n",
        "\n",
        "Donde $\\xi\\in\\left(x_{0},x_{n}\\right)$ y $h=\\frac{x_{n}-x_{0}}{n}$ entonces $E_{T}=-\\frac{h^{2}}{12}\\left(x_{n}-x_{0}\\right)f''\\left(\\xi\\right)$, es decir\n",
        "\n",
        "$$ \\int_{a}^{b}f\\left(x\\right)dx=\\frac{h}{2}\\left[f\\left(x_{0}\\right)+2f\\left(x_{1}\\right)+\\cdots+2f\\left(x_{n-1}\\right)+f\\left(x_{n}\\right)\\right]-\\frac{h^{2}}{12}\\left(x_{n}-x_{0}\\right)f''\\left(\\xi\\right)$$\n",
        "\n",
        "Así que\n",
        "\n",
        "$$\\int_{a}^{b}f\\left(x\\right)dx=\\frac{h}{2}\\left[f\\left(a\\right)+2\\sum_{i=1}^{n-1}f\\left(x_{i}\\right)+f\\left(b\\right)\\right]-\\frac{b-a}{12}h^{2}f''\\left(\\xi\\right)$$\n",
        "\n",
        "Es la forma general de la cuadratura del trapecio compuesto.\n",
        "\n"
      ]
    },
    {
      "cell_type": "code",
      "metadata": {
        "id": "LWgI2-zkw7-E",
        "colab": {
          "base_uri": "https://localhost:8080/",
          "height": 362,
          "referenced_widgets": [
            "45637e3212ea4560981cf7c3a221f643",
            "161f0960729a4549b472e90286b2a14f",
            "fbbaac3cc2e34009a17f25cea93d8358",
            "d7b41626ca3449c0b5b1646c0e8a46c7",
            "00150de59e5a453ba3bea163756e482f",
            "b1fb1410999c4967abce3708135686a9",
            "cf786715eebc4a83afaafbe7744228a8"
          ]
        },
        "outputId": "f2429f18-9e69-4209-f35b-275ec0b8bd9e"
      },
      "source": [
        "def TrapecioCompuesto(n): \n",
        "    # n los puntos que se usaran para integrar \n",
        "    # a punto inicial del intervalo\n",
        "    a=0\n",
        "    # b punto final del intervalo \n",
        "    b=1\n",
        "    # f funcion a integrar\n",
        "    f = lambda x:x*x\n",
        "    # grafica de f(x)\n",
        "    xp=np.linspace(a,b,30)\n",
        "    fp=f(xp)\n",
        "    plt.plot(xp,fp,color='black')\n",
        "    # se grafican los trapecios\n",
        "    x=np.linspace(a,b,n+1)\n",
        "    for i in range(n):\n",
        "      xs = [x[i],x[i],x[i+1],x[i+1]]\n",
        "      ys = [0,f(x[i]),f(x[i+1]),0]\n",
        "      plt.fill(xs,ys,alpha=0.7,edgecolor='b')\n",
        "    # datos de la grafica\n",
        "    plt.title(\"Aproximacion de la integral con el metodo del Trapecio compuesto\")\n",
        "    plt.xlabel(\"x\")\n",
        "    plt.ylabel(r\"$f \\left(x\\right) = x^{2}$\")\n",
        "    plt.grid()\n",
        "    # formula del trapecio compuesto\n",
        "    cuadratura=0.0\n",
        "    for i in range (1,len(x)-1):\n",
        "        cuadratura+=f( x[i])\n",
        "\n",
        "    integral=((b-a)/(2*n))*(2*cuadratura+f(a)+f(b))\n",
        "    \n",
        "    print(\"el valor de la integral mediante el metodo de cuadratura del  Trapecio Compuesto es: {}\".format(integral)) \n",
        "\n",
        "interact(TrapecioCompuesto,n=widgets.IntSlider(min=1,max=30,step=1,value=1))"
      ],
      "execution_count": 4,
      "outputs": [
        {
          "output_type": "display_data",
          "data": {
            "application/vnd.jupyter.widget-view+json": {
              "model_id": "45637e3212ea4560981cf7c3a221f643",
              "version_minor": 0,
              "version_major": 2
            },
            "text/plain": [
              "interactive(children=(IntSlider(value=1, description='n', max=30, min=1), Output()), _dom_classes=('widget-int…"
            ]
          },
          "metadata": {
            "tags": []
          }
        },
        {
          "output_type": "execute_result",
          "data": {
            "text/plain": [
              "<function __main__.TrapecioCompuesto>"
            ]
          },
          "metadata": {
            "tags": []
          },
          "execution_count": 4
        }
      ]
    },
    {
      "cell_type": "markdown",
      "metadata": {
        "id": "sjL0EQ79w7-J"
      },
      "source": [
        "### Cuadratura de Simpson $\\frac{1}{3}$\n",
        "\n",
        "Se obtiene al integrar en $\\left[a,b\\right]$ el segundo polinomio de Lagrange con los nodos $x_{0}=a,\\,x_{1}=a+h$ y $x_{2}=b$ donde $h=\\frac{b-a}{2}$\n",
        "\n",
        "$$\\int_{a}^{b}f\\left(x\\right)dx=\\int_{x_{0}}^{x_{2}}\\left[\\frac{\\left(x-x_{1}\\right)\\left(x-x_{2}\\right)}{\\left(x_{0}-x_{1}\\right)\\left(x_{0}-x_{2}\\right)}f(x_{0})+\\frac{\\left(x-x_{0}\\right)\\left(x-x_{2}\\right)}{\\left(x_{1}-x_{0}\\right)\\left(x_{1}-x_{2}\\right)}f(x_{1})\\right]\\\\+\\int_{x_{0}}^{x_{2}}\\left[\\frac{\\left(x-x_{0}\\right)\\left(x-x_{1}\\right)}{\\left(x_{2}-x_{0}\\right)\\left(x_{2}-x_{1}\\right)}f(x_{2})\\right]\\\\+\\frac{1}{6}\\int_{x_{0}}^{x_{2}}f'''\\left(\\xi\\left(x\\right)\\right)\\left(x-x_{0}\\right)\\left(x-x_{1}\\right)\\left(x-x_{2}\\right)dx $$\n",
        "\n",
        "Sin embargo, al deducir la regla de Simpson de esta manera, unicamente se obtiene un término de error $O\\left(h^{4}\\right)$ que contiene a $f^{\\left(3\\right)}$. Pero si construimos la regla de otra forma, podemos deducir un termino de orden superior que incluya a $f^{\\left(4\\right)}$\n",
        "\n",
        "Supongamos que $f$ se expande mediante el tercer polinomio de Taylor alrededor de $x_{1}$. Entonces, para cada $x$ en $\\left[x_{0},x_{2}\\right]$, existe un número $\\xi\\left(x\\right)\\in\\left(x_{0},x_{2}\\right)$ tal que\n",
        "\n",
        "$$f\\left(x\\right)=f\\left(x_{1}\\right)+f'\\left(x_{1}\\right)\\left(x-x_{1}\\right)+\\frac{f''\\left(x_{1}\\right)\\left(x-x_{1}\\right)^{2}}{2!}\\\\+\\frac{f'''\\left(x_{1}\\right)\\left(x-x_{1}\\right)^{3}}{3!}+\\frac{f^{\\left(4\\right)}\\left(\\xi\\left(x\\right)\\right)\\left(x-x_{1}\\right)^{4}}{4!}$$\n",
        "\n",
        "Si $h=\\left(x-x_{1}\\right)$ entonces\n",
        "\n",
        "$$\\int_{x_{0}}^{x_{2}}f\\left(x\\right)dx=\\left[f\\left(x_{1}\\right)h+\\frac{f'\\left(x_{1}\\right)h^{2}}{2!}+\\frac{f''\\left(x_{1}\\right)h^{3}}{3!}+\\frac{f^{\\left(3\\right)}\\left(x_{1}\\right)h^{4}}{4!}\\right]_{x_{0}}^{x_{2}}+\\frac{1}{24}\\int_{x_{0}}^{x_{2}}f^{\\left(4\\right)}\\left(\\xi\\left(x\\right)\\right)h^{4}dx \\tag{5}$$\n",
        "\n",
        "Puesto que $\\left(x-x_{1}\\right)^{4}$ nunca es negativo en $\\left[x_{0},x_{2}\\right]$ y por el Teorema del Valor Medio ponderado, entonces\n",
        "\n",
        "$$\\frac{1}{24}\\int_{x_{0}}^{x_{2}}f^{\\left(4\\right)}\\left(\\xi\\left(x\\right)\\right)h^{4}dx=\\frac{f^{\\left(4\\right)}\\left(\\xi_{1}\\right)h^{4}}{24}\\int_{x_{0}}^{x_{2}}h^{4}dx=\\frac{f^{\\left(4\\right)}\\left(\\xi_{1}\\right)}{120}h^{5}\\mid_{x_{0}}^{x2}$$\n",
        "\n",
        "Para algún número $\\xi_{1}\\in\\left(x_{0},x_{2}\\right)$. Pero por otro lado $h=x_{2}-x_{1}=x_{1}-x_{0}$, así que\n",
        "\n",
        "$$\\left(x_{2}-x_{1}\\right)^{2}-\\left(x_{1}-x_{0}\\right)^{2}=\\left(x_{2}-x_{1}\\right)^{4}-\\left(x_{1}-x_{0}\\right)^{4}=0 $$\n",
        "\n",
        "Mientras que\n",
        "\n",
        "$$\\left(x_{2}-x_{1}\\right)^{3}-\\left(x_{1}-x_{0}\\right)^{3}=2h^{3} \\quad y \\quad \\left(x_{2}-x_{1}\\right)^{5}-\\left(x_{1}-x_{0}\\right)^{5}=2h^{5}$$\n",
        "\n",
        "Así que (5), se puede reescribir así\n",
        "\n",
        "$$\\int_{x_{0}}^{x_{2}}f\\left(x\\right)dx=2hf\\left(x_{1}\\right)+\\frac{h^{3}f''\\left(x_{1}\\right)}{3}+\\frac{f^{\\left(4\\right)}\\left(\\xi_{1}\\right)h^{5}}{60}$$\n",
        "\n",
        "Pero si ahora reemplazamos $f''\\left(x_{1}\\right)$ por su aproximación en diferencias finitas, se tiene\n",
        "\n",
        "$$\\int_{x_{0}}^{x_{2}}f\\left(x\\right)dx=2hf\\left(x_{1}\\right)+\\frac{h^{3}}{3}\\left\\{ \\frac{1}{h^{2}}\\left[f\\left(x_{0}\\right)-2f\\left(x_{1}\\right)+f\\left(x_{2}\\right)\\right]-\\frac{h^{2}}{12}f^{\\left(4\\right)}\\left(\\xi_{2}\\right)\\right\\} \\\\+\\frac{f^{\\left(4\\right)}\\left(\\xi_{1}\\right)h^{5}}{60}\\\\=\\frac{h}{3}\\left[f\\left(x_{0}\\right)+4f\\left(x_{1}\\right)+f\\left(x_{2}\\right)\\right]-\\frac{h^{5}}{12}\\left[\\frac{1}{3}f^{\\left(4\\right)}\\left(\\xi_{2}\\right)-\\frac{1}{5}f^{\\left(4\\right)}\\left(\\xi_{1}\\right)\\right] $$\n",
        "\n",
        "Así tenemos que\n",
        "\n",
        "$$\\int_{x_{0}}^{x_{2}}f\\left(x\\right)dx=\\frac{h}{3}\\left[f\\left(x_{0}\\right)+4f\\left(x_{1}\\right)+f\\left(x_{2}\\right)\\right]-\\frac{h^{5}}{90}f^{\\left(4\\right)}\\left(\\xi_{1}\\right)$$\n",
        "\n",
        "Es la forma general de la regla de Simpson $\\frac{1}{3}$\n"
      ]
    },
    {
      "cell_type": "markdown",
      "metadata": {
        "id": "UroVPZEG8k8o"
      },
      "source": [
        "#### Ejemplo \n",
        "\n",
        "La regla del trapecio para una función $f$ en el intervalo $\\left[0,2\\right]$ es \n",
        "\n",
        "$$\\int_{0}^{2}f\\left(x\\right)dx\\approx f\\left(0\\right)+f\\left(2\\right)$$\n",
        "\n",
        "y la regla de Simpson para $f$ en $\\left[0,2\\right]$ es\n",
        "\n",
        "$$\\int_{0}^{2}f\\left(x\\right)dx\\approx\\frac{1}{3}\\left[f\\left(0\\right)+4f\\left(1\\right)+f\\left(2\\right)\\right] $$\n",
        "\n",
        "Calcular las correspondientes aproximaciones para\n",
        "\n",
        "$$x^{2},x^{4},\\frac{1}{\\left(x+1\\right)},\\,\\sqrt{1+x^{2}},\\,sen\\,x,\\,e^{x}$$\n",
        "\n",
        "Notar como en todos los casos, la regla de Simpson, proporciona una mejor aproximación.\n",
        "\n",
        "| $f\\left(x\\right)$        | $x^{2}$ |  $x^{4}$ | $\\frac{1}{x+1}$|$\\sqrt{1+x^{2}}$ |sen x |$e^{x}$ |\n",
        "| :-:  | :-: | :-: |  :-: | :-:  |   :-: |   :-: | \n",
        "| Valores exactos  | 2.667 |6.400 |1.099 |2.958 |1.416 |6.389 |\n",
        "| Trapecio | 4.00\t|16.00\t|1.333|\t3.326|\t0.909|\t8.389|\n",
        "| Simpson\t|2.667|\t6.667|\t1.111|\t2.964|\t1.425|\t6.421|"
      ]
    },
    {
      "cell_type": "code",
      "metadata": {
        "id": "VPf_wwHmw7-K",
        "colab": {
          "base_uri": "https://localhost:8080/"
        },
        "outputId": "5e78b244-25cc-4e16-a5ff-3205e3d60e80"
      },
      "source": [
        "#@title\n",
        "def Simpson1_3():\n",
        "    # x0 punto inicial del intervalo \n",
        "    # x2 punto final del intervalo \n",
        "    # f funcion a integrar\n",
        "    x0=0\n",
        "    x2=1\n",
        "    h=(x2-x0)/2\n",
        "    x1=x0+h\n",
        "\n",
        "    def f(x):\n",
        "        return x*x\n",
        "        \n",
        "    integral=(h/3)*(f(x0)+4*f(x1)+f(x2))\n",
        "    \n",
        "    print(\"el valor de la integral mediante el metodo de cuadratura del  Simpson 1/3: {}\".format(integral)) \n",
        "\n",
        "Simpson1_3()"
      ],
      "execution_count": 6,
      "outputs": [
        {
          "output_type": "stream",
          "text": [
            "el valor de la integral mediante el metodo de cuadratura del  Simpson 1/3: 0.3333333333333333\n"
          ],
          "name": "stdout"
        }
      ]
    },
    {
      "cell_type": "code",
      "metadata": {
        "id": "ZgHMfA9-_rDj",
        "colab": {
          "base_uri": "https://localhost:8080/"
        },
        "outputId": "1046e8d7-c4ed-4913-fca2-f256ad8af554"
      },
      "source": [
        "import numpy as np\n",
        "\n",
        "def Simpson1_3():\n",
        "    # x0 punto inicial del intervalo \n",
        "    # x2 punto final del intervalo \n",
        "    # f funcion a integrar\n",
        "    x0=0\n",
        "    x2=2\n",
        "    h=(x2-x0)/2\n",
        "    x1=x0+h\n",
        "\n",
        "    f1 = lambda x: x*x\n",
        "    f2 = lambda x: x**(4)\n",
        "    f3 = lambda x: 1/(x+1)\n",
        "    f4 = lambda x: np.sqrt(1+x*x)\n",
        "    f5 = lambda x: np.sin(x)\n",
        "    f6 = lambda x: np.exp(x)\n",
        "        \n",
        "    integral1=(h/3)*(f1(x0)+4*f1(x1)+f1(x2))\n",
        "    integral2=(h/3)*(f2(x0)+4*f2(x1)+f2(x2))\n",
        "    integral3=(h/3)*(f3(x0)+4*f3(x1)+f3(x2))\n",
        "    integral4=(h/3)*(f4(x0)+4*f4(x1)+f4(x2))\n",
        "    integral5=(h/3)*(f5(x0)+4*f5(x1)+f5(x2))\n",
        "    integral6=(h/3)*(f6(x0)+4*f6(x1)+f6(x2))\n",
        "    \n",
        "    print(\"el valor de la integral mediante el metodo de cuadratura de Simpson es: {}\".format(integral1)) \n",
        "    print(\"el valor de la integral mediante el metodo de cuadratura de Simpson es: {}\".format(integral2))\n",
        "    print(\"el valor de la integral mediante el metodo de cuadratura de Simpson es: {}\".format(integral3))\n",
        "    print(\"el valor de la integral mediante el metodo de cuadratura de Simpson es: {}\".format(integral4))\n",
        "    print(\"el valor de la integral mediante el metodo de cuadratura de Simpson es: {}\".format(integral5))\n",
        "    print(\"el valor de la integral mediante el metodo de cuadratura de Simpson es: {}\".format(integral6)) \n",
        "\n",
        "\n",
        "Simpson1_3()"
      ],
      "execution_count": 8,
      "outputs": [
        {
          "output_type": "stream",
          "text": [
            "el valor de la integral mediante el metodo de cuadratura de Simpson es: 2.6666666666666665\n",
            "el valor de la integral mediante el metodo de cuadratura de Simpson es: 6.666666666666666\n",
            "el valor de la integral mediante el metodo de cuadratura de Simpson es: 1.1111111111111112\n",
            "el valor de la integral mediante el metodo de cuadratura de Simpson es: 2.9643074089973895\n",
            "el valor de la integral mediante el metodo de cuadratura de Simpson es: 1.4250604553524227\n",
            "el valor de la integral mediante el metodo de cuadratura de Simpson es: 6.42072780425561\n"
          ],
          "name": "stdout"
        }
      ]
    },
    {
      "cell_type": "markdown",
      "metadata": {
        "id": "nWIDZP_Yw7-P"
      },
      "source": [
        "### Cuadratura de Simpson $\\frac{3}{8}$\n",
        "\n",
        "Esta regla se obtiene al integra el tercer polinomio de Lagrange en $\\left[a,b\\right]$ tomando los nodos $x_{0}=a,\\,x_{1}=a+h,\\,x_{2}=a+2h$ y $x_{3}=b$ donde $h=\\frac{b-a}{3}$ es decir\n",
        "\n",
        "$$\\int_{a}^{b}f\\left(x\\right)dx\\approx\\int_{a}^{b}P_{3}\\left(x\\right)dx=\\frac{3h}{8} \\left[f\\left(x_{0}\\right)+3f\\left(x_{1}\\right)+3f\\left(x_{2}\\right)+f\\left(x_{3}\\right)\\right]$$\n",
        "\n",
        "Es importante notar que esta regla es una suma ponderada de los valores de $f\\left(x\\right)$ en los dos puntos finales $x_{0}=a$ y $x_{3}=b$, y los dos puntos $x_{1},x_{2}$ divide el intervalo en tres partes iguales.\n",
        "\n"
      ]
    },
    {
      "cell_type": "code",
      "metadata": {
        "id": "bbLbHny9w7-Q",
        "outputId": "44b393c5-e75d-4430-89da-48967267a5ff",
        "colab": {
          "base_uri": "https://localhost:8080/"
        }
      },
      "source": [
        "def Simpson3_8():\n",
        "    # x0 punto inicial del intervalo \n",
        "    # x3 punto final del intervalo \n",
        "    # f funcion a integrar\n",
        "    x0=0\n",
        "    x3=1\n",
        "    h=(x3-x0)/3\n",
        "    x1=x0+h\n",
        "    x2=x0+2*h\n",
        "    def f(x):\n",
        "        return x*x\n",
        "        \n",
        "    integral=(3/8)*h*(f(x0)+3*f(x1)+3*f(x2)+f(x3))\n",
        "    \n",
        "    print(\"el valor de la integral mediante el metodo de cuadratura de Simpson 3/8 es: {}\".format(integral)) \n",
        "\n",
        "Simpson3_8()"
      ],
      "execution_count": 10,
      "outputs": [
        {
          "output_type": "stream",
          "text": [
            "el valor de la integral mediante el metodo de cuadratura de Simpson 3/8 es: 0.3333333333333333\n"
          ],
          "name": "stdout"
        }
      ]
    },
    {
      "cell_type": "markdown",
      "metadata": {
        "id": "N6J_kbU0w7-U"
      },
      "source": [
        "# Cuadratura Gaussiana\n",
        "\n",
        "Las reglas vista en la sección anterior, también son conocidas como reglas de Newton-Cotes, se dedujeron integrando los polinomios de interpolación.\n",
        "\n",
        "El termino de error en el polinomio de interpolación de grado n contiene la $\\left(n+1\\right)-esima$ derivada.\n",
        "\n",
        "En todas las formulas de Newton-Cotes se emplean valores de la función equidistantes. Este procedimiento es adecuado cuando las reglas son combinadas para crear nuevas reglas compuestas, como las vistas con anterioridad.\n",
        "\n",
        "Sin embargo la restricción que pide a los nodo ser equidistantes, puede afectar considerablemente la exactitud de la aproximación.\n",
        "\n",
        "La cuadratura Gaussiana optimiza la forma de seleccionar los puntos a ser evaluados y no los toma en forma igualmente espaciada como se había visto en las reglas de Newton-Cotes.\n",
        "\n",
        "Se escogen los nodos $x_{1},x_{2},\\ldots,x_{n}$ en el intervalo $\\left[a,b\\right]$ y los coeficientes $c_{1},c_{2},\\ldots c_{n}$ para reducir en lo posible el error esperado que se obtiene al efectuar la aproximación\n",
        "\n",
        "$$ \\int_{a}^{b}f\\left(x\\right)dx\\approx\\sum_{i=1}^{n}c_{i}f\\left(x_{i}\\right)$$\n",
        "\n",
        "Los coeficientes (pesos) $c_{1},c_{2},\\ldots c_{n}$ son arbitrarios y los nodos (puntos de Gauss) $x_{1},x_{2},\\ldots,x_{n}$ están restringidos a pertenecer al intervalo $\\left[a,b\\right]$.\n",
        "\n",
        "Esto nos da $2n$ parámetros de donde elegir. Considerando la clase de polinomios de grado máximo $2n-1$ también contiene $2n$ parámetros, si es que los coeficientes de un polinomio se consideran parámetros.\n",
        "\n",
        "Esta clase de polinomios es la más amplia para la cual es razonable esperar que la regla devuelva un resultado exacto.\n",
        "\n",
        "Se mostrará cómo seleccionar los coeficientes y los nodos cuando $n=2$ y cuando el intervalo de integración es $\\left[-1,1\\right]$\n",
        "\n",
        "Después se explicara el caso mas general de una elección arbitraria de puntos y pesos, indicando como modificar el método cuando se integra en un intervalo arbitrario.\n",
        "\n"
      ]
    },
    {
      "cell_type": "markdown",
      "metadata": {
        "id": "4UBd93v1SZyt"
      },
      "source": [
        "## Cuadratura Gaussiana con $n=2$ puntos\n",
        "\n",
        "Supongamos que se requiere determinar $c_{1},c_{2},x_{1},x_{2}$ de modo que la regla de integración\n",
        "\n",
        "$$\\int_{-1}^{1}f\\left(x\\right)dx\\approx c_{1}f\\left(x_{1}\\right)+c_{2}f\\left(x_{2}\\right)$$\n",
        "\n",
        "proporcione el resultado exacto siempre que $f\\left(x\\right)$ sea un polinomio de grado $2\\left(2\\right)-1=3$ o menor, es decir que sea un polinomio de la forma\n",
        "\n",
        "$$ f\\left(x\\right)=a_{0}+a_{1}x+a_{2}x^{2}+a_{3}x^{3} $$\n",
        "\n",
        "Dado que\n",
        "\n",
        "$$\\int f\\left(x\\right)dx=a_{0}\\int1dx+a_{1}\\int xdx+a_{2}\\int x^{2}dx+a_{3}\\int x^{3}d $$\n",
        "\n",
        "esto equivale a demostrar que la regla produce resultados exactos cuando $f\\left(x\\right)$ es $1,x,x^{2},x^{3}$\n",
        "\n",
        "Necesitamos $c_{1},c_{2},x_{1},x_{2}$ de manera tal que\n",
        "\n",
        "$$\\begin{array}{cc}\n",
        "{\\color{blue}{(a)}}\\,c_{1}*1+c_{2}*1=\\int_{-1}^{1}1dx=2\\quad & {\\color{blue}{(b)}}\\,c_{1}x_{1}+c_{2}x_{2}=\\int_{-1}^{1}xdx=0\\\\\n",
        "{\\color{blue}{(c)}}\\,c_{1}x_{1}^{2}+c_{2}x_{2}^{2}=\\int_{-1}^{1}x^{2}dx=\\frac{2}{3} & {\\color{blue}{(d)}}\\,c_{1}x_{1}^{3}+c_{2}x_{2}^{3}=\\int_{-1}^{1}x^{3}dx=0\n",
        "\\end{array}$$\n",
        "\n",
        "Las 4 incógnitas se puede determinar comenzando con $(b)$\n",
        "\n",
        "$$c_{2}=-\\frac{c_{1}x_{1}}{x_{2}} \\tag{6}$$\n",
        "\n",
        "Ahora substituyendo en $(d)$ se tiene\n",
        "\n",
        "$$c_{1}x_{1}^{3}-c_{1}x_{1}x_{2}^{2}=0\\,\\Rightarrow\\,x_{1}^{2}=x_{2}^{2}$$\n",
        "\n",
        "Pero $x_{1}\\neq x_{2}$ por lo tanto se tiene que\n",
        "\n",
        "$$x_{1}=-x_{2} \\tag{7}$$\n",
        "\n",
        "Ahora substituyendo $x_{1}$ en $(6)$, tenemos que $c_{1}=c_{2}$ y usando $(a)$\n",
        "\n",
        "$$ c_{1}=c_{2}=1 \\tag{8}$$\n",
        "\n",
        "Si se substituye $(7)$ y $(8)$ en $(c)$ se tiene\n",
        "\n",
        "$$x_{1}^{2}+x_{2}^{2}=\\frac{2}{3}\\,\\Rightarrow\\,x_{1}^{2}+x_{1}^{2}=\\frac{2}{3}\\,\\Rightarrow\\,2x_{1}^{2}=\\frac{2}{3}\\,\\Rightarrow\\,x_{1}^{2}=\\frac{1}{3}$$\n",
        "\n",
        "$$ \\therefore x_{1}=\\frac{1}{\\sqrt{3}}$$\n",
        "\n",
        "Así tenemos que\n",
        "\n",
        "$$ c_{1}=1,\\quad c_{2}=1,\\quad x_{1}=\\frac{1}{\\sqrt{3}}\\quad y \\quad x_{2}=\\frac{-1}{\\sqrt{3}}$$\n",
        "\n",
        "Así que la regla para 2 puntos es\n",
        "\n",
        "$$\\int_{-1}^{1}f\\left(x\\right)dx\\approx f\\left(\\frac{1}{\\sqrt{3}}\\right)+f\\left(\\frac{-1}{\\sqrt{3}}\\right) $$ \n",
        "\n",
        "\n",
        "\n",
        "|   n  puntos    | Coeficientes (pesos)  $C_{i}$  |   Puntos (integración) Gauss $x_{i}$ | \n",
        "|  :-:   |  :-:  |  :-:  |  \n",
        "| 2  | $c_{1}=c_{2}=1$      | $x_{1}=0.578\\\\x_{2}=-0.578$ |\n",
        "| 3  | $c_{1}=0.556\\\\c_{2}=0.889\\\\c_{3}=0.556$ | $x_{1}=0.774\\\\x_{2}=0\\\\x_{3}=-0.774$ |\n",
        "\n"
      ]
    },
    {
      "cell_type": "markdown",
      "metadata": {
        "id": "Lp9t6jRDSd6A"
      },
      "source": [
        "## Cuadratura Gaussiana general\n",
        "\n",
        "Una integral $\\int_{a}^{b}f\\left(x\\right)dx$ en un intervalo arbitrario $\\left[a,b\\right]$ se puede transformar en otra integral $\\int_{-1}^{1}f\\left(t\\right)dt$ en $\\left[-1,1\\right]$ usando el cambio de variable\n",
        "\n",
        "$$t=\\frac{2x-a-b}{b-a}\\Leftrightarrow x=\\frac{1}{2}\\left[\\left(b-a\\right)t+a+b\\right] $$\n",
        "\n",
        "Donde el diferencial de $x$ es $dx=\\frac{1}{2}\\left(b-a\\right)dt$. Esto nos permite aplicar la cuadratura Gaussiana a cualquier intervalo $\\left[a,b\\right]$, ya que\n",
        "\n",
        "$$ \\int_{a}^{b}f\\left(x\\right)dx=\\int_{-1}^{1}f\\left(\\frac{\\left(b-a\\right)t+\\left(b+a\\right)}{2}\\right)\\frac{\\left(b-a\\right)}{2}dt $$\n",
        "\n"
      ]
    },
    {
      "cell_type": "markdown",
      "metadata": {
        "id": "QUnDN8cOSgz1"
      },
      "source": [
        "### Ejemplo\n",
        "\n",
        "Evalúe $\\int_{0}^{3}e^{-x^{2}}dx$. Usando $n=3$ puntos. Encuentre el error, empleando el valor analítico.\n",
        "\n",
        "El valor de la integral resolviendo de manera analíticamente es 0.886207.\n",
        "\n"
      ]
    },
    {
      "cell_type": "code",
      "metadata": {
        "id": "TRtZ_9obw7-V",
        "colab": {
          "base_uri": "https://localhost:8080/"
        },
        "outputId": "90d51800-cb7f-4ef1-c703-cf795cb76f9b"
      },
      "source": [
        "def CuaGauss():\n",
        "    # a punto inicial del intervalo\n",
        "    a = 0  \n",
        "    #a=0\n",
        "    # b punto final del intervalo\n",
        "    b = 3\n",
        "    #b=1 \n",
        "    # puntos de Gauss\n",
        "    x=np.array([0.774,0.0,-0.774])\n",
        "    # pesos de Gauss\n",
        "    c=np.array([0.556,0.889,0.556])\n",
        "    # f funcion a integrar\n",
        "    #f = lambda x:x*x\n",
        "    f = lambda x: np.exp(-(x)**2)\n",
        "    # acumulador\n",
        "    cuadratura=0.0\n",
        "    # constante de \n",
        "    dx=(b-a)/2\n",
        "    # por cada punto de integracion\n",
        "    for i in range(len(x)):\n",
        "        # nuevo punto de integracion\n",
        "        changeVar=0.0\n",
        "        changeVar=(((b-a)*x[i])+b+a)/2\n",
        "        # se acumula la evualuacion de f en nuevo punto\n",
        "        cuadratura+=c[i]*f(changeVar)\n",
        "        \n",
        "    integral=cuadratura*dx\n",
        "    \n",
        "    print(\"el resultad de la integral con una cuadratura de 3 puntos es :{}\".format(integral))\n",
        "    \n",
        "CuaGauss()"
      ],
      "execution_count": 11,
      "outputs": [
        {
          "output_type": "stream",
          "text": [
            "el resultad de la integral con una cuadratura de 3 puntos es :0.8847093533668051\n"
          ],
          "name": "stdout"
        }
      ]
    },
    {
      "cell_type": "markdown",
      "metadata": {
        "id": "Jz-VcnxDw7-a"
      },
      "source": [
        "# Referencias\n",
        "\n",
        "*   Riswan Butt, Numerical Analysys Using Matlab, Jones and Bartlett.\n",
        "*   Ward Cheney, David Kincaid, Métodos Numéricos y Computación, Cenage Learning.\n",
        "*   Richard L. Burden, J. Douglas Faires, Análisis Numérico, Math Learning.\n",
        "*   Yuri N. Skiba, Introducción a los Métodos Numéricos.\n",
        "*   Quarteroni, A, Sacco R.: Numerical mathematics, Springer. 2007.\n",
        "\n"
      ]
    }
  ]
}
