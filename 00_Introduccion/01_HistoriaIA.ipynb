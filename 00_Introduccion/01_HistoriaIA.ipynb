{
  "nbformat": 4,
  "nbformat_minor": 0,
  "metadata": {
    "colab": {
      "provenance": [],
      "toc_visible": true,
      "authorship_tag": "ABX9TyP1n9dHLXgoBo0GJhSz5j9b",
      "include_colab_link": true
    },
    "kernelspec": {
      "name": "python3",
      "display_name": "Python 3"
    },
    "language_info": {
      "name": "python"
    }
  },
  "cells": [
    {
      "cell_type": "markdown",
      "metadata": {
        "id": "view-in-github",
        "colab_type": "text"
      },
      "source": [
        "<a href=\"https://colab.research.google.com/github/jugernaut/ProgramacionEnParalelo/blob/main/00_Introduccion/01_HistoriaIA.ipynb\" target=\"_parent\"><img src=\"https://colab.research.google.com/assets/colab-badge.svg\" alt=\"Open In Colab\"/></a>"
      ]
    },
    {
      "cell_type": "markdown",
      "source": [
        "<font color=\"Teal\" face=\"Comic Sans MS,arial\">\n",
        "  <h1 align=\"center\"><i>Programación en Paralelo</i></h1>\n",
        "  <h2 align=\"center\"><i>Historia I. A.</i></h2>\n",
        "  </font>\n",
        "  <font color=\"Black\" face=\"Comic Sans MS,arial\">\n",
        "  <h5 align=\"center\"><i>Profesor: M. en C. Miguel Angel Pérez León</i></h5>\n",
        "  <h5 align=\"center\"><i>Ayudante: Lucía Martínez Rivas</i></h5>\n",
        "  <h5 align=\"center\"><i>Ayudante: Erick Jesús Rios Gonzalez</i></h5>\n",
        "  <h5 align=\"center\"><i>correo: zeus@ciencias.unam.mx</i></h5>\n",
        "  </font>"
      ],
      "metadata": {
        "id": "4c1ULJt43NVg"
      }
    },
    {
      "cell_type": "markdown",
      "source": [
        "# Historia\n",
        "\n",
        "La inteligencia artificial es la disciplina que se ocupa de crear máquinas o sistemas capaces de realizar tareas que normalmente requieren inteligencia humana. El término fue acuñado por el informático John **McCarthy en 1956**, durante la Conferencia de Darmouth, considerada el origen de la IA como campo de estudio, Ssn embargo desde los años 1950 el matemático **Alan Turing** ya se había planteado la pregunta \"¿Pueden pensar las máquinas?\". La idea de construir artefactos inteligentes se remonta a la antigüedad, desde la mitología griega hasta los autómatas medievales. Algunos hitos importantes en la historia de la IA son:\n",
        "\n",
        "- En 1936, **Alan Turing** publica su artículo sobre los números computables, donde introduce el concepto de algoritmo y sienta las bases de la informática moderna.\n",
        "- En 1950, **Turing** propone el Test de Turing, una prueba para evaluar la capacidad de las máquinas de imitar el lenguaje humano, recientemente fue estrenada la pelicula llama \"El código enigma (The Imitation Game)\", la cual muestra un breve vistazo a la vida de este gran matemático\n",
        "- En 1956, se celebra la Conferencia de Darmouth, donde se reúnen los principales investigadores en IA y se establecen las metas y los métodos de la disciplina.\n",
        "- En 1969, **Marvin Minsky** publica el libro Perceptrones, donde analiza las redes neuronales artificiales y sus aplicaciones al aprendizaje automático.\n",
        "- En 1979, se crea el coche Stanford, uno de los primeros vehículos autónomos capaces de navegar por un entorno con obstáculos.\n",
        "- En 1996, la supercomputadora **Deep Blue** de IBM derrota al campeón mundial de ajedrez Garry Kasparov.\n",
        "- En 2014, **Eugene**, un programa de ordenador, supera el Test de Turing haciéndose pasar por un niño de 13 años.\n",
        "- En 2023, **ChatGPT** se convierte en el chatbot más popular y avanzado del mundo, capaz de generar respuestas coherentes y creativas a cualquier tema.\n",
        "\n",
        "La inteligencia artificial ha evolucionado desde sus inicios hasta convertirse en una tecnología omnipresente y con un enorme potencial para transformar diversos ámbitos de la sociedad, como la educación, la salud, la economía o el entretenimiento. Sin embargo, también plantea importantes desafíos éticos, sociales y legales que requieren una reflexión crítica y una regulación adecuada."
      ],
      "metadata": {
        "id": "84LmSBdM_xtU"
      }
    },
    {
      "cell_type": "markdown",
      "source": [
        "## Test de Turing\n",
        "\n",
        "El **test de Turing** es un examen de la capacidad de una máquina para exhibir un comportamiento inteligente similar al de un ser humano o indistinguible de este. Fue propuesto por **Alan Turing** en 1950 en su ensayo “*Computing Machinery and Intelligence*” mientras trabajaba en la Universidad de Mánchester.\n",
        "\n",
        "<center>\n",
        "<img src=\"https://static.nationalgeographic.es/files/styles/image_3200/public/d1kenr.webp?w=1600&h=900\" width=\"550\">\n",
        "</center>\n",
        "\n",
        "En el test, un humano evalúa conversaciones en lenguaje natural entre un humano y una máquina diseñada para generar respuestas similares a las de un humano. El evaluador sabe que uno de los participantes de la conversación es una máquina y los intervinientes serían separados unos de otros. La conversación estaría limitada a un medio únicamente textual como un teclado de computadora y un monitor por lo que sería irrelevante la capacidad de la máquina de transformar texto en habla.\n",
        "\n",
        "En el caso de que el evaluador no pueda distinguir entre el humano y la máquina acertadamente (Turing originalmente sugirió que la máquina debía convencer a un evaluador, después de 5 minutos de conversación, el 70 % del tiempo), la máquina habría pasado la prueba. Esta prueba no evalúa el conocimiento de la máquina en cuanto a su capacidad de responder preguntas correctamente, solo se toma en cuenta la capacidad de esta de generar respuestas similares a las que daría un humano.\n",
        "\n",
        "<center>\n",
        "<img src=\"https://d29jy8ovkd5kcx.cloudfront.net/wp-content/uploads/2021/11/29093356/53.jpg.webp\"\n",
        "width=\"550\">\n",
        "</center>\n",
        "\n",
        "¿Alguna vez has interactuado con \"algo\" (chat, llamada de voz, etc.) sin saber realmente si \"eso\" era una persona?"
      ],
      "metadata": {
        "id": "wbikAdn65jGW"
      }
    },
    {
      "cell_type": "markdown",
      "source": [
        "## Inteligencia Artificial y Sociedad\n",
        "\n",
        "La inteligencia artificial (IA) es una de las tecnologías más importantes y revolucionarias del siglo XXI. Su impacto en la sociedad es cada vez mayor, ya que se aplica en diversos ámbitos como la ciencia, la industria, la educación, la salud y el entretenimiento. La IA consiste en crear artefactos capaces de detectar y responder a contextos complejos de forma autónoma, imitando o superando las capacidades humanas. Algunos ejemplos de IA son los asistentes virtuales, los sistemas de reconocimiento facial, los vehículos autónomos y los juegos de estrategia.\n",
        "\n",
        "La IA ofrece grandes beneficios para el desarrollo humano, como mejorar la productividad, optimizar los recursos, facilitar el acceso al conocimiento y potenciar la creatividad. Sin embargo, también plantea desafíos éticos, sociales y legales que deben ser abordados con responsabilidad y precaución. Algunos de estos desafíos son **el respeto a la privacidad, la seguridad, la equidad, la transparencia y la rendición de cuentas**. Asimismo, es necesario garantizar que la IA se utilice para fines positivos y no para causar daño o discriminación.\n",
        "\n",
        "El uso de la IA es una realidad que nos afecta a todos y que requiere de una participación activa y crítica de la sociedad. Es importante estar informados sobre sus avances, sus riesgos y sus oportunidades, así como fomentar el diálogo entre los diferentes actores involucrados: científicos, empresarios, políticos, educadores y ciudadanos. Solo así podremos aprovechar el potencial de la IA para mejorar nuestra calidad de vida y construir un futuro más justo y sostenible.\n",
        "\n",
        "Existen muchas obras literarias y peliculas, documentales etc. que nos dan un vistazo desde diferentes perspectivas de lo que es la IA, aquí algunas de las más famosas:\n",
        "\n",
        "<center>\n",
        "<img src=\"https://www.soy502.com/sites/default/files/styles/full_node/public/2017/Nov/22/matrix.jpg\"\n",
        "width=\"550\">\n",
        "</center>\n",
        "\n",
        "<center>\n",
        "<img src=\"https://media.tenor.com/NOHR6Zg97GYAAAAd/terminator-terminator-robot.gif\"\n",
        "width=\"550\">\n",
        "</center>\n",
        "\n",
        "<center>\n",
        "<img src=\"https://64.media.tumblr.com/30e6fa3a7ce614414234f278e94a5def/50539e9aca2728e4-01/s1280x1920/832b49dbece515e2d5828ef6c78b1ec10437249c.png\"\n",
        "width=\"550\">\n",
        "</center>\n",
        "\n",
        "<center>\n",
        "<img src=\"https://static.wikia.nocookie.net/bladerunner/images/e/e0/Blade-runner-directors-cut-poster--large-msg-119325148375.jpg/revision/latest?cb=20110425200646\"\n",
        "width=\"550\">\n",
        "</center>"
      ],
      "metadata": {
        "id": "OqEtlv9JO9BN"
      }
    },
    {
      "cell_type": "markdown",
      "source": [
        "# Campos de la IA\n",
        "\n",
        "La inteligencia artificial es una disciplina que se ocupa de crear sistemas capaces de realizar tareas que normalmente requieren inteligencia humana. Existen diferentes campos en los que se puede clasificar la inteligencia artificial, según el tipo de problema que resuelven, el grado de autonomía que poseen o el nivel de similitud con la mente humana. Algunos ejemplos de estos campos son:\n",
        "\n",
        "- El **aprendizaje automático**, que se basa en algoritmos que aprenden de los datos y mejoran su rendimiento con la experiencia.\n",
        "- El **aprendizaje profundo** es una técnica de aprendizaje de máquina que utiliza redes neuronales artificiales con múltiples capas ocultas para extraer características complejas y abstractas de los datos y resolver problemas difíciles como la generación de texto, la traducción automática o la síntesis de voz.\n",
        "- El **procesamiento del lenguaje natural**, que se encarga de analizar y generar texto o habla en lenguas naturales.\n",
        "- La **visión artificial**, que se dedica a extraer información útil de las imágenes o los vídeos.\n",
        "- La **robótica**, que combina la inteligencia artificial con la mecánica y la electrónica para crear máquinas que interactúan con el entorno físico.\n",
        "- Los sistemas expertos, que son programas que imitan el razonamiento de un experto humano en un dominio específico."
      ],
      "metadata": {
        "id": "wxI1tsIqlgeA"
      }
    },
    {
      "cell_type": "markdown",
      "source": [
        "# Inteligencia Artificial en el contexto Latinoamericano\n",
        "\n",
        "La inteligencia artificial (IA) es una de las tecnologías más innovadoras y disruptivas del siglo XXI. Su potencial para transformar diversos sectores y ámbitos de la sociedad es enorme, desde la educación y la salud hasta la industria y el comercio. Sin embargo, su desarrollo y adopción no son homogéneos ni exentos de desafíos y riesgos, especialmente en el contexto latinoamericano.\n",
        "\n",
        "América Latina es una región con una gran diversidad cultural, social y económica, pero también con grandes brechas de desigualdad, pobreza y exclusión. Estas condiciones plantean oportunidades y amenazas para el aprovechamiento de la IA en beneficio del desarrollo sostenible y la inclusión social. Por un lado, la IA puede contribuir a mejorar la calidad de vida de millones de personas, ofreciendo soluciones innovadoras a problemas complejos como el cambio climático, la educación, la salud o la seguridad. Por otro lado, la IA puede generar nuevos desafíos éticos, legales y sociales, como la pérdida de empleos, la discriminación, la vigilancia o la manipulación de la información.\n",
        "\n",
        "Para enfrentar estos desafíos y aprovechar las oportunidades de la IA, es necesario contar con una estrategia regional que impulse el desarrollo y la adopción de esta tecnología en América Latina, con una visión ética, responsable y humanista. Esta estrategia debe basarse en el fortalecimiento de las capacidades científicas, tecnológicas y educativas de los países latinoamericanos, así como en el fomento de la colaboración entre los actores públicos, privados y académicos. Asimismo, debe promover el diseño y la implementación de marcos normativos y regulatorios que garanticen el respeto a los derechos humanos, la protección de los datos personales y la transparencia en el uso de la IA.\n",
        "\n",
        "La inteligencia artificial es una oportunidad para el desarrollo sostenible en América Latina, pero también una responsabilidad compartida. Es imprescindible que los países latinoamericanos se involucren activamente en el debate global sobre la gobernabilidad y el futuro de esta tecnología, aportando sus perspectivas y experiencias. Solo así podrán asegurar que la IA se convierta en una herramienta para el bien común y no en una fuente de nuevos problemas o conflictos."
      ],
      "metadata": {
        "id": "Jk5Fp9hinow2"
      }
    },
    {
      "cell_type": "markdown",
      "source": [
        "# Herramientas estilo ChatGPT\n",
        "\n",
        "Las herramientas estilo GPT, son modelos de inteligencia artificial que utilizan una arquitectura llamada **Transformer, que es una red neuronal profunda** que procesa los datos secuenciales mediante la atención. La atención es un mecanismo que le permite al modelo enfocarse en las partes más relevantes de los datos para generar una salida. Estos modelos se entrenan con una gran cantidad de textos conversacionales extraídos de internet, y aprende a generar respuestas coherentes y naturales a partir de palabras clave. ChatGPT o Bing Chat puede adaptarse a diferentes contextos y personalidades, y puede generar textos en diferentes idiomas.\n",
        "\n",
        "Estas son algunas de las aplicaciones de las herramientas estilo GPT son la generación de contenido creativo, la escritura de resúmenes, la traducción automática y la asistencia en la búsqueda de información.\n",
        "\n",
        "Algunos ejemplos de herramientas de estilo GPT son:\n",
        "\n",
        "- **OpenAI GPT-3**: Es el modelo de lenguaje más avanzado y potente hasta la fecha, capaz de generar textos coherentes y relevantes sobre cualquier tema, con diferentes estilos y formatos. Se puede acceder a él a través de una API o de plataformas como Playground o Codex.\n",
        "- **Bing chat**: es un chatbot de búsqueda de Microsoft Bing que ayuda a los usuarios a encontrar información y responder preguntas. Como Bing chat, puedo ayudarte a encontrar información en la web y proporcionarte respuestas precisas y detalladas a tus preguntas.\n",
        "- **Bard**: es un chatbot de inteligencia artificial (IA) desarrollado por Google que permite a los usuarios colaborar con IA generativa1. A diferencia de su competidor ChatGPT, Bard puede acceder a información actualizada de internet y tiene un botón “Google it” que da acceso directo al buscador. Como un colaborador creativo y útil, Bard puede mejorar tu creatividad y ayudarte a generar contenido.\n",
        "- **Hugging Face Transformers**: Es una biblioteca de código abierto que ofrece una colección de modelos de lenguaje pre-entrenados y personalizables, basados en arquitecturas como GPT, BERT o T5. Se puede usar para tareas como la clasificación de textos, el análisis de sentimientos, la generación de resúmenes o la extracción de entidades.\n",
        "- **InferKit**: Es una herramienta en línea que permite generar textos a partir de palabras clave o frases iniciales, usando un modelo de lenguaje similar a GPT-3. Se puede ajustar el tono, la longitud y el formato del texto generado, así como elegir entre diferentes temas o categorías.\n",
        "\n",
        "\n"
      ],
      "metadata": {
        "id": "c7MC_63mQn21"
      }
    },
    {
      "cell_type": "markdown",
      "source": [
        "## GitHub Copilot\n",
        "\n",
        "GitHub Copilot es un nuevo asistente de codificación impulsado por la inteligencia artificial que fue desarrollado por GitHub en colaboración con OpenAI. Este asistente utiliza un modelo de lenguaje de última generación para sugerir y autocompletar el código de manera eficiente. Es un programador de pares de IA que puedes usar para obtener sugerencias para líneas o funciones completas directamente en el editor.\n",
        "\n",
        "<center>\n",
        "<img src=\"https://github.com/jugernaut/MexSIAM/blob/main/utils/fig/MexSIAM.gif?raw=1\" width=\"750\">\n",
        "</center>\n",
        "\n"
      ],
      "metadata": {
        "id": "REGeTmdOQyMw"
      }
    },
    {
      "cell_type": "markdown",
      "source": [
        "## Otras IA's\n",
        "\n",
        "- **Midjourney**: es un laboratorio independiente de investigación que explora nuevos medios de pensamiento y expande los poderes imaginativos de la especie humana. Está enfocado en diseño, infraestructura humana y IA. El equipo está dirigido por David Holz, cofundador de LeapMotion y cuenta con un increíble conjunto de asesores. También es el nombre que le han dado a su IA, que sirve para crear imágenes a partir de texto, lo que se conoce como text to image. Actualmente, solo se puede utilizar mediante un bot en el Discord oficial del proyecto.\n",
        "\n",
        "- **DALL·E**: es un sistema de IA desarrollado por OpenAI que puede crear imágenes y arte realistas a partir de una descripción en lenguaje natural. Puede combinar conceptos, atributos y estilos para generar imágenes originales y realistas a partir de una descripción de texto. En enero de 2021, OpenAI presentó DALL·E y un año después, su nuevo sistema, DALL·E 2, genera imágenes más realistas y precisas con una resolución 4 veces mayor.\n",
        "\n",
        "<center>\n",
        "<img src=\"https://github.com/jugernaut/MexSIAM/blob/main/utils/fig/thor.png?raw=1\" width=\"450\">\n",
        "</center>\n"
      ],
      "metadata": {
        "id": "5HaME_jyQ1CV"
      }
    },
    {
      "cell_type": "markdown",
      "source": [
        "# ¿Qué necesitamos?\n",
        "\n",
        "En este curso, vamos a aprender sobre inteligencia Artificial, cómo funciona el aprendizaje de máquina y las aplicaciones que se le ha dado. Para ello vamo a necesitar 3 herramientas fundamentales:\n",
        "\n",
        "- Matemáticas: Las matemáticas son el estudio de las propiedades y relaciones de los números, las formas, las cantidades y los patrones. Las matemáticas son fundamentales para la inteligencia artificial, ya que permiten modelar y resolver problemas complejos con precisión y eficiencia. Algunas ramas de las matemáticas que se aplican a la **inteligencia artificial son el álgebra lineal, el cálculo, la estadística, la probabilidad, la optimización**, etc. Estas ramas nos ayudan a entender y **manipular los datos, las funciones, las matrices, los vectores, las derivadas, las integrales, las distribuciones, las variables aleatorias, los algoritmos**, etc.\n",
        "\n",
        "- Programación: La programación es el proceso de crear instrucciones que le dicen a una computadora qué hacer. Para programar, se utiliza un lenguaje de programación, que es un conjunto de reglas y símbolos que permiten expresar las instrucciones de forma comprensible para la computadora. Algunos ejemplos de lenguajes de programación son **Python**, Java, C++, etc. La programación es una habilidad esencial para crear y modificar modelos de inteligencia artificial como chatGPT o Bing chat.\n",
        "\n",
        "- Los Chats estilo GPT: son modelos de inteligencia artificial que utilizan una arquitectura llamada **Transformer, que es una red neuronal profunda** que procesa los datos secuenciales mediante la atención. La atención es un mecanismo que le permite al modelo enfocarse en las partes más relevantes de los datos para generar una salida. Estos modelos se entrenan con una gran cantidad de textos conversacionales extraídos de internet, y aprende a generar respuestas coherentes y naturales a partir de palabras clave. ChatGPT o Bing Chat puede adaptarse a diferentes contextos y personalidades, y puede generar textos en diferentes idiomas.\n",
        "\n",
        "Como pueden ver, este tipo de tecnologìas son modelos muy avanzados y potentes que requiere de conocimientos previos de programación y matemáticas para comprender su funcionamiento y sus posibilidades. En este curso, vamos a explorar de manera superficial estos conceptos y a ver cómo podemos utilizar cestas herramientas a nuestro favor para comprender lo que hay detrás del aprendizaje de máquina.\n",
        "\n",
        "Después de lo mostrado hasta el momento, te planteo la siguiente pregunta, **¿podrías distinguir si este notebook fue creado por una IA o por un humano?**.\n",
        "\n",
        "¿La siguiente imágen fue creada por un ser humano?\n",
        "\n",
        "<center>\n",
        "<img src=\"https://github.com/jugernaut/Induccion_MeIA/blob/angel/utils/fig/AleynWeiss.jpg?raw=1\" width=\"650\">\n",
        "</center>\n",
        "\n",
        "¿La siguiente imágen es real o falsa?\n",
        "\n",
        "<center>\n",
        "<img src=\"https://github.com/jugernaut/MexSIAM/blob/main/utils/fig/Papa.png?raw=1\" width=\"650\">\n",
        "</center>\n",
        "\n",
        "Desde hace mucho tiempo las IA's han estado presentes en nuestras vidas, solo que no lo habíamos notado, **¿alguna vez te has preguntado como sabe facebook o youtube qué anuncios mostrarte?**\n",
        "\n",
        "Después de lo visto en este notebook lo mejor que podemos hacer es adaptarnos a esta revolución digital (sin mencionar la computación cuántica) y aprovechar la técnología a nuestro favor, ya que de no hacerlo así la selección natural hara su trabajo."
      ],
      "metadata": {
        "id": "qYkbu6Y0Q4Dn"
      }
    },
    {
      "cell_type": "markdown",
      "source": [
        "# Referencias\n",
        "\n",
        "*   Prueba de Turing - Wikipedia, la enciclopedia libre. https://es.wikipedia.org/wiki/Prueba_de_Turing\n",
        "*   Test de Turing: qué es, cómo funciona, ventajas y limitaciones. https://psicologiaymente.com/cultura/test-turing\n",
        "*    Medir la inteligencia artificial: el test de Turing | OpenMind. https://www.bbvaopenmind.com/tecnologia/inteligencia-artificial/medir-la-inteligencia-artificial-el-test-de-turing/\n"
      ],
      "metadata": {
        "id": "8jDqfTViMSkU"
      }
    }
  ]
}