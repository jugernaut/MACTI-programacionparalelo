{
  "nbformat": 4,
  "nbformat_minor": 0,
  "metadata": {
    "colab": {
      "name": "03_RadixBucket.ipynb",
      "provenance": [],
      "collapsed_sections": [],
      "toc_visible": true,
      "include_colab_link": true
    },
    "kernelspec": {
      "name": "python3",
      "display_name": "Python 3"
    }
  },
  "cells": [
    {
      "cell_type": "markdown",
      "metadata": {
        "id": "view-in-github",
        "colab_type": "text"
      },
      "source": [
        "<a href=\"https://colab.research.google.com/github/jugernaut/ProgramacionEnParalelo/blob/main/Introduccion/04_RadixBucket.ipynb\" target=\"_parent\"><img src=\"https://colab.research.google.com/assets/colab-badge.svg\" alt=\"Open In Colab\"/></a>"
      ]
    },
    {
      "cell_type": "markdown",
      "metadata": {
        "id": "JAsbRnI2Mz94"
      },
      "source": [
        "<font color=\"Teal\" face=\"Comic Sans MS,arial\">\n",
        "  <h1 align=\"center\"><i>RadixSort y BucketSort (análisis)</i></h1>\n",
        "  </font>\n",
        "    <font color=\"Black\" face=\"Comic Sans MS,arial\">\n",
        "  <h5 align=\"center\"><i>Profesor: M. en C. Miguel Angel Pérez León</i></h5>\n",
        "    <h5 align=\"center\"><i>Ayudante: Jesús Iván Coss Calderón</i></h5>\n",
        "    <h5 align=\"center\"><i>Ayudante: Andrea Fernanda Muñiz Patiño</i></h5>\n",
        "  <h5 align=\"center\"><i>Materia: Seminario de programación en paralelo</i></h5>\n",
        "  </font>"
      ]
    },
    {
      "cell_type": "markdown",
      "metadata": {
        "id": "h4IewVdLVj8s"
      },
      "source": [
        "# Introducción\n",
        "\n",
        "Este par de algoritmos de ordenamiento (*RadixSort* y *BucketSort*) los podemos considerar algoritmos \"exóticos\", ya que a diferencia de los algoritmos vistos previamente, estos no se basan en comparaciones entre los elementos a ordenar.\n",
        "\n",
        "Por otro lado estos algoritmos requieren de conocimientos a priori de los datos a ordenar, por ejemplo la longitud en términos de dígitos decimales de los elementos a ordenar."
      ]
    },
    {
      "cell_type": "markdown",
      "metadata": {
        "id": "Z2HsvTi77D9Y"
      },
      "source": [
        "# *RadixSort*\n",
        "\n",
        "Este algoritmo ordena los elementos de manera similar a como funcionan los tableros que anuncian las llegadas de los aviones en un aeropuerto. Imaginemos que los valores a ordenar los podemos colocar en renglones donde cada renglón contiene casillas para cada dígito del elemento a ordenar, algo así.\n",
        "\n",
        "$$\n",
        "\\begin{array}{ccccc}\n",
        "\\left[d_{n}\\right] & \\left[\\ldots\\right] & \\left[d_{2}\\right] & \\left[d_{1}\\right] & \\left[d_{0}\\right]\\end{array}\n",
        "$$\n",
        "\n",
        "La idea detrás de este algoritmo es ordenar cada dígito de derecha a izquierda por cada elemento a ordenar, modificando la posición del elemento a ordenar en caso de que el dígito a ordenar haya sufrido alguna modificación respecto a la posición en la colección.\n",
        "\n",
        "<center>\n",
        "<img src=\"https://github.com/jugernaut/ManejoDatos/blob/desarrollo/Imagenes/AlgoritmosOrdenamiento/RadixSort.png?raw=1\" width=\"600\"> \n",
        "</center>"
      ]
    },
    {
      "cell_type": "markdown",
      "metadata": {
        "id": "-Dt5F9Xacou3"
      },
      "source": [
        "## Descripción\n",
        "\n",
        "Para que el algoritmo *RadixSort* funcione de manera correcta hay que **conocer la longitud (en términos) de dígitos** del elemento más extenso a ordenar, una vez que se conoce esta longitud se completan con ceros (a la izquierda del dígito $d_{n}$ en caso de ser necesario). Una vez que todos los elementos a ordenar tienen la misma longitud comienza el algoritmo con los siguientes pasos:\n",
        "\n",
        "\n",
        "1.   Comenzamos a ordenar la columna correspondiente al $d_{0}$ (que se le conoce como el dígito menos significativo), se realizan las respectivas modificaciones en las posiciones de los renglones en caso de ser necesario y se continua con la columna $d_{1}$.\n",
        "2.   Se ordena la columna $d_{1}$, de manera similar a como se hizo con la columna anterior y se procede a la siguiente.\n",
        "3.   Continuamos ordenando todas las columnas (con sus respectivas modificaciones sobre los renglones), hasta llegar a la columna $d_{n}$ (el dígito más significativo).\n",
        "4.   Al ordenar el dígito más significativo de cada renglón termina el algoritmo.\n",
        "\n",
        "\n",
        "\n"
      ]
    },
    {
      "cell_type": "markdown",
      "metadata": {
        "id": "qwuSS-rte3Ds"
      },
      "source": [
        "## Ejemplo\n",
        "\n",
        "Supongamos que se tiene el siguiente conjunto de datos a ordenar que podemos organizarlos de la siguiente manera.\n",
        "\n",
        "$$\n",
        "\\begin{array}{ccc}\n",
        "\\left[d_{2}\\right] & \\left[d_{1}\\right] & \\left[d_{0}\\right]\\\\\n",
        "\\left[1\\right] & \\left[0\\right] & \\left[5\\right]\\\\\n",
        "\\left[0\\right] & \\left[2\\right] & \\left[5\\right]\\\\\n",
        "\\left[3\\right] & \\left[0\\right] & \\left[1\\right]\n",
        "\\end{array}\n",
        "$$\n",
        "\n",
        "Ahora la idea es comenzar a ordenar la primer columna (la columna correspondiente al digito $d_{0}$) se ordena esa columna, considerando que el $d_{0}$ pertenece a todo un renglon y por lo tanto si el $d_{0}$ de algún renglón cambia su posición, también lo debe hacer todo el renglón. Después de ordenar el $d_{0}$, esta colección de datos se ve de la siguiente forma.\n",
        "\n",
        "$$\n",
        "\\begin{array}{ccc}\n",
        "\\left[d_{2}\\right] & \\left[d_{1}\\right] & \\left[\\color{green}{d_{0}}\\right]\\\\\n",
        "\\left[3\\right] & \\left[0\\right] & \\left[\\color{green}1\\right]\\\\\n",
        "\\left[1\\right] & \\left[0\\right] & \\left[\\color{green}5\\right]\\\\\n",
        "\\left[0\\right] & \\left[2\\right] & \\left[\\color{green}5\\right]\n",
        "\\end{array}\n",
        "$$\n",
        "\n",
        "Se procede a ordenar la columna correspondiente al $d_{1}$ y podemos notar que no hay cambios en los renglones, ya que la columna $d_{1}$ ya se encuentra ordenada.\n",
        "\n",
        "$$\n",
        "\\begin{array}{ccc}\n",
        "\\left[d_{2}\\right] & \\left[\\color{green}{d_{1}}\\right] & \\left[\\color{green}{d_{0}}\\right]\\\\\n",
        "\\left[3\\right] & \\left[\\color{green}0\\right] & \\left[\\color{green}1\\right]\\\\\n",
        "\\left[1\\right] & \\left[\\color{green}0\\right] & \\left[\\color{green}5\\right]\\\\\n",
        "\\left[0\\right] & \\left[\\color{green}2\\right] & \\left[\\color{green}5\\right]\n",
        "\\end{array}\n",
        "$$\n",
        "\n",
        "Por último, se ordena la columna $d_{2}$ y la colección queda de la siguiente forma.\n",
        "\n",
        "$$\n",
        "\\begin{array}{ccc}\n",
        "\\left[\\color{green}{d_{2}}\\right] & \\left[\\color{green}{d_{1}}\\right] & \\left[\\color{green}{d_{0}}\\right]\\\\\n",
        "\\left[\\color{green}0\\right] & \\left[\\color{green}2\\right] & \\left[\\color{green}5\\right]\\\\\n",
        "\\left[\\color{green}1\\right] & \\left[\\color{green}0\\right] & \\left[\\color{green}5\\right]\\\\\n",
        "\\left[\\color{green}3\\right] & \\left[\\color{green}0\\right] & \\left[\\color{green}1\\right]\n",
        "\\end{array}\n",
        "$$\n",
        "\n",
        "Y la colección queda ordenada.\n"
      ]
    },
    {
      "cell_type": "markdown",
      "metadata": {
        "id": "mlm6KfnURLCA"
      },
      "source": [
        "## Análisis y Orden de Complejidad\n",
        "\n",
        "Dado que este algoritmo no se basa en comparaciones podemos pensar que el ordenar cada columna ($d_{i})$ tiene un costo lineal, es decir $O(n)$ ya que unicamente estamos organizando cada elemento respecto al dígito, tarea muy **similar a cuando organizamos elementos dentro de contenedores o cubetas**.\n",
        "\n",
        "Ahora supongamos que el elemento de mayor longitud dentro de la colección está conformado por $k-digitos$, entonces se tendrían que ordenar $k$ columnas, por lo tanto el algoritmo *RadixSort* pertenece al orden de complejidad $O(kn)$.\n",
        "\n",
        "Así que podemos pensar que el peor caso para este algoritmo es cuando $k$ es demasiado grande (y sobretodo si son pocos los elementos que poseén la misma longitud). Pensemos que $k\\approx n$, entonces el orden al que pertenecería este algoritmo sería $O(nn)=O(n²)$.\n",
        "\n"
      ]
    },
    {
      "cell_type": "markdown",
      "metadata": {
        "id": "qjDkvoF89_3n"
      },
      "source": [
        "# Ordenamiento por cubetas (*BucketSort*)\n",
        "\n",
        "Este algoritmo (no comparativo) consiste en generar contenedores (cubetas) que cumplan con determinadas caracteristicas, enviar a los elementos que cumplan con estas a su respectivo contenedor y ordenar cada contenedor de manera individual."
      ]
    },
    {
      "cell_type": "markdown",
      "metadata": {
        "id": "gsxkxdZvznIp"
      },
      "source": [
        "## Descripción\n",
        "\n",
        "De manera similar a *RadixSort*, para el óptimo funcionamiento de este algoritmo se requieren ciertas caracteristicas y en este caso es que los elementos a ordenar se ecuentren distribuidos de manera uniforme sobre el espacio a ordenar. A continuación una descripción de como funciona este algoritmos:\n",
        "\n",
        "1.   Dado que se conoce a priori el espacio donde se distribuyen los elementos a ordenar, se genéran contenedores (cubetas) con ciertas caracteristicas, por ejemplo un rango de valores, para almacenar a los elementos que cumplan con estas caracteristicas.\n",
        "2.   Se recorren todos los elementos a ordenar y se va colocando uno a uno en el contenedor correspondiente.\n",
        "2.   Se ordena cada contenedor de manera individual con este mismo algoritmo (o con alguno visto previamente.\n",
        "3.   Se extraen los elementos de cada contenedor comenzando con el contenedor que almacene a los elementos de menor valor y finalizando con el contenedor que almacena a los elementos de mayor valor.\n",
        "4.   El algoritmo termina cuando los elementos del último contener han sido extraidos.\n",
        "\n",
        "<center>\n",
        "<img src=\"https://github.com/jugernaut/ManejoDatos/blob/desarrollo/Imagenes/AlgoritmosOrdenamiento/BucketSort.jpg?raw=1\" width=\"550\">\n",
        "</center> "
      ]
    },
    {
      "cell_type": "markdown",
      "metadata": {
        "id": "ou8sIl3O27CY"
      },
      "source": [
        "## Ejemplo\n",
        "\n",
        "En la imagen superior se muestra un ejemplo en el cuál se busca ordenar los datos.\n",
        "\n",
        "$$\n",
        "\\left[11\\right]\\left[9\\right]\\left[21\\right]\\left[8\\right]\\left[17\\right]\\left[19\\right]\\left[13\\right]\\left[1\\right]\\left[24\\right]\\left[12\\right]$$\n",
        "\n",
        "Dado que se conoce a priori el rango en el cuál se encuentran distribuidos los datos, podemos generar 5 contenedores que abarcan los rangos.\n",
        "\n",
        "$$\n",
        "\\left[0,5\\right),\\left[5,10\\right),\\left[10,15\\right),\\left[15,20\\right),\\left[20,26\\right)\n",
        "$$\n",
        "\n",
        "Y al organizar los datos en los contenedres se verían así:\n",
        "\n",
        "$$\n",
        "\\begin{array}{cc}\n",
        "\\left[0,5\\right): & 1\\\\\n",
        "\\left[5,10\\right): & 9,8\\\\\n",
        "\\left[10,15\\right): & 11,13,12\\\\\n",
        "\\left[15,20\\right): & 17,19\\\\\n",
        "\\left[2,26\\right): & 21,24\n",
        "\\end{array}\n",
        "$$\n",
        "\n",
        "Después de ordenar cada contenedor individualmente, los contenedores se ven así:\n",
        "\n",
        "$$\n",
        "\\begin{array}{cc}\n",
        "\\left[0,5\\right): & 1\\\\\n",
        "\\left[5,10\\right): & 8,9\\\\\n",
        "\\left[10,15\\right): & 11,12,13\\\\\n",
        "\\left[15,20\\right): & 17,19\\\\\n",
        "\\left[2,26\\right): & 21,24\n",
        "\\end{array}\n",
        "$$\n",
        "\n",
        "Y al extraer todos los datos de cada contenedor, de manera ordenada los datos finalmente quedan ordenados.\n",
        "\n",
        "$$\n",
        "\\left[1\\right]\\left[8\\right]\\left[9\\right]\\left[11\\right]\\left[12\\right]\\left[13\\right]\\left[17\\right]\\left[19\\right]\\left[21\\right]\\left[24\\right]$$\n",
        "\n",
        "\n",
        "\n",
        "\n"
      ]
    },
    {
      "cell_type": "markdown",
      "metadata": {
        "id": "KjHjPb_U4TbJ"
      },
      "source": [
        "## Análisis y Orden de complejidad\n",
        "\n",
        "Para llevar a cabo el análisis de la complejidad hay que preguntarse ¿qué tipo de algoritmo de ordenamiento se usará para ordenar individualmente cada cubeta y eso ayuda a determinar el orden de complejidad al que pertenece este algoritmo.\n",
        "\n",
        "Algunos autores consideran a *RadixSort* un caso particular de *BucketSort*. \n",
        "\n",
        "Se deja como ejercicio determinar el orden de complejidad al que pertenece el algoritmo *BucketSort*."
      ]
    },
    {
      "cell_type": "markdown",
      "metadata": {
        "id": "dTMtQcsc4QA8"
      },
      "source": [
        "# Ordenando Objetos\n",
        "\n",
        "Es importante notar que este y todos los algoritmos de ordenamiento vistos funcionan con cualquier objeto que sea ordenable (realizando las respectivas adecuaciones), es decir, con todo clase de objetos en la que podamos establecer un orden, por ejemplo: $\\mathbb{N},\\,\\mathbb{Z},\\,\\mathbb{Q},\\,\\mathbb{R}$, incluso con $\\mathbb{C}$ o elementos más complejos como **vectores, matrices, palabras o todo aquello en lo que podamos establecer un orden**."
      ]
    },
    {
      "cell_type": "markdown",
      "metadata": {
        "id": "pc6ND99T6HDA"
      },
      "source": [
        "## Algoritmos de ordenamiento en paralelo\n",
        "\n",
        "Todos los algoritmos vistos funcionan de manera **secuencial**, es decir se realiza un paso (operación) a la vez, sin embargo esta estrategia (secuencial) es prácticamente obsoleta.\n",
        "\n",
        "¿Si tuvieramos más de una unidad de procesamiento (CPU), podríamos **implementar algunos de estos algoritmos en paralelo**?."
      ]
    },
    {
      "cell_type": "markdown",
      "metadata": {
        "id": "YHiyGAPySr_f"
      },
      "source": [
        "#Referencias\n",
        "\n",
        "1. Thomas H. Cormen: Introduction to Algorithms.\n",
        "2. Libro Web: [Introduccion a Python](https://uniwebsidad.com/libros/algoritmos-python/capitulo-20/cuanto-cuesta-el-merge-sort?from=librosweb).\n",
        "3. Daniel T. Joyce: Object-Oriented Data Structures.\n",
        "4. John C. Mitchell: Concepts in programing Languages."
      ]
    }
  ]
}
