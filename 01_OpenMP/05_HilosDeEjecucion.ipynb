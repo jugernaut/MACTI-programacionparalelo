{
  "cells": [
    {
      "cell_type": "markdown",
      "metadata": {
        "id": "view-in-github",
        "colab_type": "text"
      },
      "source": [
        "<a href=\"https://colab.research.google.com/github/jugernaut/MACTI-programacionparalelo/blob/main/01_OpenMP/05_HilosDeEjecucion.ipynb\" target=\"_parent\"><img src=\"https://colab.research.google.com/assets/colab-badge.svg\" alt=\"Open In Colab\"/></a>"
      ]
    },
    {
      "cell_type": "markdown",
      "metadata": {
        "id": "aBWkokaHCyDj"
      },
      "source": [
        "<font color=\"Teal\" face=\"Comic Sans MS,arial\">\n",
        "  <h1 align=\"center\"><i>Hilos de ejecución</i></h1>\n",
        "  </font>\n",
        "  <font color=\"Black\" face=\"Comic Sans MS,arial\">\n",
        "  <h5 align=\"center\"><i>Profesor: M. en C. Miguel Angel Pérez León</i></h5>\n",
        "  <h5 align=\"center\"><i>Ayudante: Diana Laura Rojas Cristino</i></h5>\n",
        "  <h5 align=\"center\"><i>Ayudante: Rodrigo Alejandro Sánchez Morales</i></h5>\n",
        "  <h5 align=\"center\"><i>Materia: Manejo de Datos</i></h5>\n",
        "</font>"
      ]
    },
    {
      "cell_type": "markdown",
      "metadata": {
        "id": "VMbCMbK6C0Wb"
      },
      "source": [
        "# Diferencia entre hilo y proceso\n",
        "\n",
        "Un proceso es aquella tarea (puede estar compuesta de subtareas) que es ejecutada por el microprocesador y en el caso de computadoras con varios procesadores, cada uno de estos CPU's puede estar ejecutando al menos un proceso en un determinado paso de tiempo\n",
        "\n",
        "Podemos pensar en un proceso como un programa o aplicación en ejecución. Y en este caso una aplicación es un archivo escrito en algún lenguaje de programación que esta siendo ejecutado por el microprocesador.\n",
        "\n",
        "También puede suceder que en un proceso se puedan ejecutar varias instancias, como cuando se abren varias ventanas de un clock de notas o un navegador. Así, se deduce y es verdad que un proceso contiene un hilo –mínimo el hilo principal que corre en primer plano."
      ]
    },
    {
      "cell_type": "markdown",
      "metadata": {
        "id": "e0-g4z-DKVDP"
      },
      "source": [
        "## CPU v.s. GPU\n",
        "\n",
        "Actualmente los dispositivos de cómputo contienen al menos un *CPU* y dentro de este *CPU* pueden estar contenidos varios núcleos, lo que permite el desarrollo de algoritmos en paralelo.\n",
        "\n",
        "De igual manera, la mayoría de los dispositivos de cómputo contienen al menos un *GPU* y dentro de este *GPU* pueden existir varios núcleos, la principal diferencia entre ambos (*CPU* y *GPU*) es el propósito para el cuál fueron diseñados\n",
        "\n",
        "Para fines prácticos (y del curso) podemos pensar que la diferencia principal entre una *CPU* (unidad de procesamiento central) y una *GPU* (**unidad de procesamiento gráfico**) radica en que un *CPU* es un dispositivo de cómputo de propósito general, puede realizar cualquier tipo de cómputo que se le asigne.\n",
        "\n",
        "Por otro lado un *GPU* esta diseñado para el procesamiento gráfico, lo que significa que la forma en la que procesa información **esta optimizada para trabajar con matrices y vectores**.\n",
        "\n",
        "<center>\n",
        "<img src=\"https://github.com/jugernaut/Numerico2021/blob/desarrollo/Figuras/MonteCarlo/mejor.png?raw=1\" width=\"600\">\n",
        "</center>\n",
        "\n",
        "<center>\n",
        "<img src=\"https://github.com/jugernaut/Numerico2021/blob/desarrollo/Figuras/MonteCarlo/cpu-vs-gpu.jpg?raw=1\" width=\"600\">\n",
        "</center>"
      ]
    },
    {
      "cell_type": "markdown",
      "metadata": {
        "id": "Fd5rWoyNqHkG"
      },
      "source": [
        "# Concurrente v.s. Paralelo\n",
        "\n",
        "¿Cuál es la diferencia entre concurrencia y\n",
        "paralelismo?.\n",
        "\n",
        "Lo primero que hay que decir es: que el paralelismo es una forma de concurrencia; es decir, todo programa paralelo es concurrente.\n",
        "\n",
        "Una implementación secuencial es la forma tı́pica de solucionar un problema; sin embargo, esta técnica no siempre es la óptima.\n",
        "\n",
        "El algoritmo secuencial podrá resolver el problema, pero esto no es lo único que nos interesa, sino también en cuánto tiempo lo hace y cuánta memoria necesita. Una desventaja principal es que, no todo algoritmo secuencial puede convertirse a uno paralelo.\n",
        "\n",
        "En cómputo paralelo en lugar de usar un procesador para solucionar un problema, tendremos $n$ procesadores disponibles resolviendo el mismo problema.\n",
        "\n",
        "Ası́ el problema se estará resolviendo continuamente, no por intervalos de tiempo, como sucede en la concurrencia, por ello el tiempo invertido en resolver el problema se reduce.\n",
        "\n",
        "<center>\n",
        "<img src=\"https://github.com/jugernaut/ManejoDatos/blob/desarrollo/Imagenes/Simulacion/concurrenteparalelo.png?raw=1\" width=\"800\">\n",
        "</center>\n",
        "\n",
        "En esta imagen vemos como se distribuye el uso del procesador dependiendo del tipo de algoritmo que se este usando.\n",
        "\n",
        "<center>\n",
        "<img src=\"https://github.com/jugernaut/ManejoDatos/blob/desarrollo/Imagenes/Simulacion/tiempo.png?raw=1\" width=\"800\">\n",
        "</center>\n",
        "\n",
        "Y finalmente podemos ver la diferencia en tiempo de procesamiento de un algoritmo concurrente y uno en paralelo."
      ]
    },
    {
      "cell_type": "markdown",
      "metadata": {
        "id": "HYd2u88oDlXm"
      },
      "source": [
        "### Conceptos\n",
        "\n",
        "Ademas de las técnicas previamente mencionadas para poder realizar múltiples tareas dentro de una computadora, existen 2 conceptos relativamente nuevos:\n",
        "\n",
        "* **Programación en paralelo Multicore**: con la creciente capacidad de cómputo actual existen computadoras que cuentan con más de un núcleo (core) es decir que cuentan con más de un microprocesador. Es en este tipo de equipos en los cuales se pueden ejecutar múltiples procesos (no solo hilos) en paralelo con la finalidad de realizar una tarea en el menor tiempo posible.\n",
        "\n",
        "* **Programación en paralelo mediante GPU's**: un GPU es una unidad grafica de procesamiento, casi por accidente se descubrió que estas unidades graficas también son útiles para llevar a cabo cómputo en paralelo, incluso han mostrado un mejor desempeño en cálculos de punto flotante que algunos microprocesadores. Sin embargo su desventaja principal es que la memoria no es compartida.\n",
        "\n",
        "Se sigue de las definiciones anteriores que un proceso se puede ejecutar de manera secuencial o de manera concurrente.\n",
        "\n",
        "* **Secuencial**: proceso, tarea o algoritmo que tiene que ejecutarse paso a paso, es decir que hasta que no se termine de realizar uno de sus pasos, no se puede iniciar el siguiente.\n",
        "\n",
        "* **Concurrente**: todo aquel proceso tarea o algoritmo que puede ser dividido en subtareas mas pequeñas que pueden ser realizadas al mismo tiempo. Una vez realizadas las subtareas, los resultados pueden unirse."
      ]
    },
    {
      "cell_type": "markdown",
      "metadata": {
        "id": "z5GaqtFvDlDi"
      },
      "source": [
        "# Ley de Amdahl\n",
        "\n",
        "Sea $f$ la fracción de operaciones en un calculo computacional que sera llevado a cabo de manera secuencial, donde $0\\leq f\\leq1$. La máxima velocidad $\\Psi$ alcanzada mediante programación en paralelo con una computadora con $p$ procesadores enfocados en el mismo calculo es:\n",
        "\n",
        "$$\\Psi\\leq\\frac{1}{f+(1-f)/p}$$\n",
        "\n",
        "¿Qué interpretación le das a esta ley?"
      ]
    },
    {
      "cell_type": "markdown",
      "metadata": {
        "id": "0FIRMfGxslkp"
      },
      "source": [
        "# *threading*\n",
        "\n",
        "La biblioteca es un módulo de *Python* que nos permite hacer uso de hilos de manera muy sencilla, basta con importar esta biblioteca y usarla.\n",
        "\n",
        "La forma más sencilla de usar un `Thread` es crear una instancia con un función de destino y llamar a `start()` para que comience a funcionar."
      ]
    },
    {
      "cell_type": "code",
      "execution_count": null,
      "metadata": {
        "colab": {
          "base_uri": "https://localhost:8080/"
        },
        "id": "T5eUgNOWtr_C",
        "outputId": "cd4ddf9f-5b0f-406b-ea07-6db5a419821f"
      },
      "outputs": [
        {
          "name": "stdout",
          "output_type": "stream",
          "text": [
            "Trabajador\n",
            "Trabajador\n",
            "Trabajador\n",
            "Trabajador\n",
            "Trabajador\n"
          ]
        }
      ],
      "source": [
        "import threading\n",
        "\n",
        "def trabajador():\n",
        "  # esto es lo único que hace nuestro trabajador\n",
        "  print('Trabajador')\n",
        "\n",
        "# se genera una lista de hilos\n",
        "hilos = []\n",
        "for i in range(5):\n",
        "  # agregamos cada hilo a la lista\n",
        "  t = threading.Thread(target=trabajador)\n",
        "  hilos.append(t)\n",
        "  # se ejecuta cada hilo, ¿de forma concurrente o en paralelo?.\n",
        "  t.start()"
      ]
    },
    {
      "cell_type": "markdown",
      "metadata": {
        "id": "-CXQWFMVuIpo"
      },
      "source": [
        "Esta forma es la forma más sencilla de hacer uso de hilos, sin embargo se esta realizando de manera funcional, es decir que no estamos haciendo uso de la POO.\n",
        "\n",
        "Otra forma de hacer uso de los hilos, es mediante POO en la cual vamos a crear una clase que herede de la clase `threading` y que sea capas de funcionar mediante hilos.\n",
        "\n",
        "Volvamos a ver el ejemplo del carrito de compras, a continuación se muestra la versión secuencial de la misma."
      ]
    },
    {
      "cell_type": "code",
      "execution_count": null,
      "metadata": {
        "colab": {
          "base_uri": "https://localhost:8080/"
        },
        "id": "fjUewaCtyvDi",
        "outputId": "9a05d05e-6fd3-4017-aa49-671353a34bc9"
      },
      "outputs": [
        {
          "name": "stdout",
          "output_type": "stream",
          "text": [
            "Comenzamos a cobrar al cliente : Mike\n",
            "Se cobra : PS5 10000\n",
            "Se cobra : SmartWatch 7500\n",
            "Se cobra : Audifonos 2500\n",
            "Total del cliente Mike : 20000\n",
            "Comenzamos a cobrar al cliente : Ivan\n",
            "Se cobra : GTX1000 6000\n",
            "Se cobra : HDD 900\n",
            "Se cobra : GTX1000 6000\n",
            "Se cobra : Laptop 25000\n",
            "Total del cliente Ivan : 37900\n",
            "Comenzamos a cobrar al cliente : Jonathan\n",
            "Se cobra : Laptop 25000\n",
            "Se cobra : PS5 10000\n",
            "Se cobra : Audifonos 2500\n",
            "Se cobra : Halo 1500\n",
            "Se cobra : HDD 900\n",
            "Se cobra : GTX1000 6000\n",
            "Se cobra : SmartWatch 7500\n",
            "Total del cliente Jonathan : 53400\n",
            "Este algoritmo tomo:  28038.564205169678\n"
          ]
        }
      ],
      "source": [
        "import time\n",
        "\n",
        "# clase que ayuda a contener el nombre y articulos que compra un cliente\n",
        "class Cliente(object):\n",
        "\n",
        "  def __init__(self, nombre):\n",
        "    # nombre del cliente\n",
        "    self.nombre = nombre\n",
        "    # articulos que compro el cliente\n",
        "    self.carrito = []\n",
        "\n",
        "# clase que simula el cobro que llevaria a cabo una empresa de compras en linea\n",
        "class Amazon(object):\n",
        "\n",
        "  # VARIABLE DE CLASE O ESTATICA\n",
        "  # diccionario con el catalogo de articulos y su precio\n",
        "  catalogo = {'PS5':10000, 'Audifonos':2500, 'Halo':1500, 'HDD':900,\n",
        "              'Laptop':25000, 'GTX1000':6000, 'SmartWatch':7500}\n",
        "\n",
        "  def __init__(self, nombre):\n",
        "    self.nombre = nombre\n",
        "\n",
        "  # metodo que simula el cobro de un cliente\n",
        "  def cobrar(self, cliente):\n",
        "    print('Comenzamos a cobrar al cliente :', cliente.nombre)\n",
        "    # se revisa el carrito del cliente y el catalogo\n",
        "    total = 0\n",
        "    # cada articulo se cobra\n",
        "    for articulo in cliente.carrito:\n",
        "      print('Se cobra :',articulo, self.catalogo[articulo])\n",
        "      # se hace una pausa de 2 segundos para simular el cobro\n",
        "      time.sleep(2)\n",
        "      # total almacena el total de los articulos del cliente\n",
        "      total += self.catalogo[articulo]\n",
        "    print('Total del cliente', cliente.nombre,':', total)\n",
        "\n",
        "\n",
        "if __name__ == \"__main__\":\n",
        "  inicio = time.time()\n",
        "  cliente1 = Cliente('Mike')\n",
        "  cliente1.carrito = ['PS5', 'SmartWatch', 'Audifonos']\n",
        "\n",
        "  amazon = Amazon('cobrador 1')\n",
        "  amazon.cobrar(cliente1)\n",
        "\n",
        "  cliente2 = Cliente('Ivan')\n",
        "  cliente2.carrito = ['GTX1000', 'HDD', 'GTX1000', 'Laptop']\n",
        "\n",
        "  amazon.cobrar(cliente2)\n",
        "\n",
        "  cliente3 = Cliente('Jonathan')\n",
        "  cliente3.carrito = ['Laptop', 'PS5', 'Audifonos', 'Halo', 'HDD',\n",
        "                      'GTX1000', 'SmartWatch']\n",
        "\n",
        "  amazon.cobrar(cliente3)\n",
        "  fin = time.time()\n",
        "\n",
        "  print(\"Este algoritmo tomo: \", (fin-inicio)*1000)\n"
      ]
    },
    {
      "cell_type": "markdown",
      "metadata": {
        "id": "7ogMZtvnyhbe"
      },
      "source": [
        "Y en la siguiente celda se muestra la versión concurrente (en paralelo si el h.w. lo permite)."
      ]
    },
    {
      "cell_type": "code",
      "execution_count": null,
      "metadata": {
        "colab": {
          "base_uri": "https://localhost:8080/"
        },
        "id": "zVXgevhrurun",
        "outputId": "f0f5627c-7c92-408a-fe45-6e92d38363e7"
      },
      "outputs": [
        {
          "name": "stdout",
          "output_type": "stream",
          "text": [
            "Comenzamos a cobrar al cliente : MikeComenzamos a cobrar al cliente :\n",
            " Ivan\n",
            "Comenzamos a cobrar al cliente : Jonathan\n",
            "Se cobra : PS5 Se cobra : GTX1000 6000\n",
            "10000\n",
            "Se cobra : Laptop 25000\n",
            "Se cobra : Se cobra : SmartWatch 7500\n",
            "HDD 900\n",
            "Se cobra : PS5 10000\n",
            "Se cobra :Se cobra : Se cobra : Audifonos 2500\n",
            " Audifonos 2500\n",
            "Total del cliente Mike : 20000\n",
            "GTX1000 6000\n",
            "Se cobra : Halo 1500\n",
            "Se cobra : Laptop 25000\n",
            "Total del cliente Ivan : 37900\n",
            "Se cobra : HDD 900\n",
            "Se cobra : GTX1000 6000\n",
            "Se cobra : SmartWatch 7500\n",
            "Total del cliente Jonathan : 53400\n",
            "Este algoritmo tomo:  14022.159814834595\n"
          ]
        }
      ],
      "source": [
        "import threading\n",
        "import time\n",
        "\n",
        "# clase que ayuda a contener el nombre y articulos que compra un cliente\n",
        "class Cliente(object):\n",
        "\n",
        "  def __init__(self, nombre):\n",
        "    # nombre del cliente\n",
        "    self.nombre = nombre\n",
        "    # articulos que compro el cliente\n",
        "    self.carrito = []\n",
        "\n",
        "class Amazon(threading.Thread):\n",
        "\n",
        "  # VARIABLE DE CLASE O ESTATICA\n",
        "  # diccionario con el catalogo de articulos y su precio\n",
        "  catalogo = {'PS5':10000, 'Audifonos':2500, 'Halo':1500, 'HDD':900,\n",
        "              'Laptop':25000, 'GTX1000':6000, 'SmartWatch':7500}\n",
        "\n",
        "  def __init__(self, nombre, cliente):\n",
        "    super(Amazon, self).__init__()\n",
        "    self.nombre = nombre\n",
        "    self.cliente = cliente\n",
        "\n",
        "  # metodo que simula el cobro de un cliente\n",
        "  def run(self):\n",
        "    print('Comenzamos a cobrar al cliente :', self.cliente.nombre)\n",
        "    # se revisa el carrito del cliente y el catalogo\n",
        "    total = 0\n",
        "    # cada articulo se cobra\n",
        "    for articulo in self.cliente.carrito:\n",
        "      time.sleep(2)\n",
        "      print('Se cobra :',articulo, self.catalogo[articulo])\n",
        "      # total almacena el total de los articulos del cliente\n",
        "      total += self.catalogo[articulo]\n",
        "    print('Total del cliente', self.cliente.nombre,':', total)\n",
        "\n",
        "if __name__ == \"__main__\":\n",
        "  inicio = time.time()\n",
        "  cliente1 = Cliente('Mike')\n",
        "  cliente1.carrito = ['PS5', 'SmartWatch', 'Audifonos']\n",
        "\n",
        "  cliente2 = Cliente('Ivan')\n",
        "  cliente2.carrito = ['GTX1000', 'HDD', 'GTX1000', 'Laptop']\n",
        "\n",
        "  cliente3 = Cliente('Jonathan')\n",
        "  cliente3.carrito = ['Laptop', 'PS5', 'Audifonos', 'Halo', 'HDD',\n",
        "                      'GTX1000', 'SmartWatch']\n",
        "\n",
        "  amazon1 = Amazon(\"Trabajador 1\", cliente1)\n",
        "  # se ejecuta cada hilo de manera concurrente\n",
        "  amazon1.start()\n",
        "\n",
        "  amazon2 = Amazon(\"Trabajador 2\", cliente2)\n",
        "  # se ejecuta cada hilo de manera concurrente\n",
        "  amazon2.start()\n",
        "\n",
        "  amazon3 = Amazon(\"Trabajador 3\", cliente3)\n",
        "  # se ejecuta cada hilo de manera concurrente\n",
        "  amazon3.start()\n",
        "\n",
        "  # esperamos a que todos los hilos hayan terminado\n",
        "  amazon1.join()\n",
        "  amazon2.join()\n",
        "  amazon3.join()\n",
        "\n",
        "  fin = time.time()\n",
        "  print(\"Este algoritmo tomo: \", (fin-inicio)*1000)\n",
        "\n"
      ]
    },
    {
      "cell_type": "markdown",
      "metadata": {
        "id": "ucHhj2MDeR_W"
      },
      "source": [
        "Vale la pena notar la diferencia en la ejecución de ambos algoritmos y sobretodo la diferencia en el tiempo que tardan ambas versiones."
      ]
    },
    {
      "cell_type": "markdown",
      "metadata": {
        "id": "86Hr-GmxDkdH"
      },
      "source": [
        "# Referencias\n",
        "\n",
        "* Michaell J. Quuin: Parallel Programming in C with OpenMP and MPI.\n",
        "* GPU Parallel Program Development Using CUDA: Tolga Soyata\n",
        "* Referencias Libro Web: Introduccion a Python.\n",
        "* Referencias Dongarra Foster: Source Book of parallel computing.\n",
        "* [Diferencias CPU Físico v.s. Lógico](https://www.daniloaz.com/es/diferencias-entre-cpu-fisica-cpu-logica-core-nucleo-thread-hilo-y-socket/)"
      ]
    }
  ],
  "metadata": {
    "colab": {
      "provenance": [],
      "toc_visible": true,
      "include_colab_link": true
    },
    "kernelspec": {
      "display_name": "Python 3 (ipykernel)",
      "language": "python",
      "name": "python3"
    },
    "language_info": {
      "codemirror_mode": {
        "name": "ipython",
        "version": 3
      },
      "file_extension": ".py",
      "mimetype": "text/x-python",
      "name": "python",
      "nbconvert_exporter": "python",
      "pygments_lexer": "ipython3",
      "version": "3.11.6"
    }
  },
  "nbformat": 4,
  "nbformat_minor": 0
}