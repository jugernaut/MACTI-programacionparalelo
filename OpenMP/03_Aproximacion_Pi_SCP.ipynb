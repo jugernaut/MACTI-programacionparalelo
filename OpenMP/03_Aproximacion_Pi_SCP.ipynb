{
  "nbformat": 4,
  "nbformat_minor": 0,
  "metadata": {
    "colab": {
      "name": "Aproximacion_Pi_SCP.ipynb",
      "provenance": [],
      "collapsed_sections": [],
      "toc_visible": true,
      "include_colab_link": true
    },
    "kernelspec": {
      "name": "python3",
      "display_name": "Python 3"
    }
  },
  "cells": [
    {
      "cell_type": "markdown",
      "metadata": {
        "id": "view-in-github",
        "colab_type": "text"
      },
      "source": [
        "<a href=\"https://colab.research.google.com/github/jugernaut/ProgramacionEnParalelo/blob/desarrollo/OpenMP/03_Aproximacion_Pi_SCP.ipynb\" target=\"_parent\"><img src=\"https://colab.research.google.com/assets/colab-badge.svg\" alt=\"Open In Colab\"/></a>"
      ]
    },
    {
      "cell_type": "markdown",
      "metadata": {
        "id": "7r3hMRrjC1Fo"
      },
      "source": [
        "<font color=\"Teal\" face=\"Comic Sans MS,arial\">\n",
        "  <h1 align=\"center\"><i>Aproximación Pi (OpemMP)</i></h1>\n",
        "  </font>\n",
        "  <font color=\"Black\" face=\"Comic Sans MS,arial\">\n",
        "  <h5 align=\"center\"><i>Profesor: M.en.C. Miguel Angel Pérez León</i></h5>\n",
        "    <h5 align=\"center\"><i>Ayudante: Jesús Iván Coss Calderón</i></h5>\n",
        "    <h5 align=\"center\"><i>Ayudante: Mario Arturo Nieto Butron</i></h5>\n",
        "  <h5 align=\"center\"><i>Materia: Seminario de programación en paralelo</i></h5>\n",
        "  </font>"
      ]
    },
    {
      "cell_type": "markdown",
      "metadata": {
        "id": "ZUGs8BgwD9hE"
      },
      "source": [
        "# Introducción\n",
        "\n",
        "Un valor muy recurrente en muchas áreas de la ciencia es el valor de $\\pi=3.1415......$, por lo que mostrar una forma de aproximar este valor por métodos numéricos (y sobretodo en paralelo) es un ejercicio tanto interesante como didáctico.\n",
        "\n",
        "Desde comienzos de la humanidad han surgido un sin número de algoritmos para aproximar este valor, entre los más interesantes destacan, el método egipcio, babilónico, chino, mesopotámico, Gauss, etc.\n",
        "\n",
        "En épocas más recientes han surgido métodos de aproximación numérica más sofisticados con lo son los métodos de Monte Carlo, sin embargo este tipo de métodos serán tratados más adelante.\n",
        "\n",
        "Para esta presentación se empleara otra de las definiciones en el campo de las ciencias e ingeniería que tiene un amplio espectro de aplicación, este es el concepto de la **Integral Definida**.\n",
        "\n",
        "$$ \\int_{a}^{b}f\\left(x\\right)=F\\left(b\\right)-F\\left(a\\right)$$\n",
        "\n",
        "Al igual que la derivada de una función, la integral tiene múltiples aplicaciones, está presente en una infinidad de áreas y sus aplicaciones van desde probabilidades, pasando por centros de masa y hasta volúmenes, por mencionar algunas."
      ]
    },
    {
      "cell_type": "markdown",
      "metadata": {
        "id": "pAeliQfYEcT8"
      },
      "source": [
        "## Planteamiento\n",
        "\n",
        "Supongamos que se quiere dar una aproximación numérica del valor de $\\pi$, por lo tanto es necesario plantear que se necesita para dar tal aproximación. \n",
        "\n",
        "Por simplicidad supongamos que se tiene una circunferencia de radio 1 $\\left(r=1\\right)$, es decir \n",
        "\n",
        "$$\\sqrt{x^{2}+y^{2}}=1 \\tag{1}$$\n",
        "\n",
        "Ahora si $r=1$ entonces el área de esta circunferencia se calcula mediante la relación \n",
        "$$A=\\pi r^{2}\\Rightarrow\\pi=\\frac{A}{r^{2}}\\Rightarrow\\pi=\\frac{A}{\\left(1\\right)\\left(1\\right)}\\Rightarrow\\pi=A \\tag{2}$$\n",
        "\n",
        "De $\\left(2\\right)$ se puede concluir que al dar aproximación del área de esta circunferencia, estaremos dando una aproximación del valor del número $\\pi$.\n",
        "\n",
        "De $\\left(1\\right)$ podemos quedarnos con una semicircunferencia de radio 1, es decir \n",
        "\n",
        "$$\\sqrt{1-x^{2}} \\tag{3}$$\n",
        "\n",
        "Ahora, de nuevo por simplicidad calculemos el área bajo la curva de $\\left(3\\right)$ desde 0 hasta 1 \n",
        "\n",
        "$$\\int_{0}^{1}\\sqrt{1-x^{2}}dx \\tag{4}$$\n",
        "\n",
        "Esta área sería $\\frac{1}{4}$ del área total de la circunferencia de radio 1, por lo que si queremos dar una aproximación de $\\pi$ basta con dar una aproximación de la integral definida en $\\left(4\\right)$ y finalmente multiplicar por 4 para encontrar el área total.\n",
        "\n",
        "<center>\n",
        "<img src=\"https://github.com/jugernaut/ProgramacionEnParalelo/blob/main/Imagenes/OpenMP/circunferencia.png?raw=1\" width=\"400\"> \n",
        "</center>"
      ]
    },
    {
      "cell_type": "markdown",
      "metadata": {
        "id": "4504oVBfFbiV"
      },
      "source": [
        "# Integral Numérica\n",
        "\n",
        "Existen múltiples formas de emplear métodos numéricos para dar una aproximación de la integral definida, por ejemplo punto medio, trapecio, Simpson, etc.\n",
        "\n",
        "Para este ejemplo vamos a utilizar las sumas de **Reimann** como primer método para aproximar el valor de $\\pi$."
      ]
    },
    {
      "cell_type": "markdown",
      "metadata": {
        "id": "aeEWWNfcFkwq"
      },
      "source": [
        "## Repaso de cálculo\n",
        "\n",
        "La Integral puede ser definida de muchas formas, sin embargo la forma mas sencilla de verla es mediante las sumas de Riemann, lo cual consiste en trazar un número finito de rectángulos dentro de un área irregular, calcular el área de cada uno de ellos y sumarlos.\n",
        "\n",
        "$$\\int_{a}^{b}f\\left(x\\right)dx=\\underset{\\triangle x\\rightarrow0}{lim}\\sum_{i=1}^{n}f\\left(x_{i}\\right)\\triangle x_{i}$$\n",
        "\n",
        "Por lo que para dar la aproximación de la integral numérica de cualquier función es suficiente con calcular las áreas de estos rectángulos bajo la curva y finalmente sumar dichas áreas.\n",
        "\n",
        "Vale la pena notar que **el calculo de cada una de estas áreas no depende de ningún calculo previo**, es decir que esta aproximación puede ser calculada en paralelo.\n",
        "\n",
        "Sin embargo al realizar la aproximación de esta manera se tiene un gran problema, el **error de aproximación** ya que la precisión de esta aproximación depende de $\\triangle x$ (delta equis), existen mejores formas de realizar dicha aproximación, pero para comenzar utilizaremos esta. "
      ]
    },
    {
      "cell_type": "markdown",
      "metadata": {
        "id": "yepe_oSzF4Ra"
      },
      "source": [
        "## Algoritmo básico\n",
        "\n",
        "A continuación se muestra el pseudocódigo del algoritmo básico para la aproximación del valor del número $\\pi$.\n",
        "\n",
        "<center>\n",
        "<img src=\"https://github.com/jugernaut/ProgramacionEnParalelo/blob/main/Imagenes/OpenMP/aproxpi.png?raw=1\" width=\"600\"> \n",
        "</center>"
      ]
    },
    {
      "cell_type": "code",
      "metadata": {
        "id": "p1TioUFXUEXq",
        "colab": {
          "base_uri": "https://localhost:8080/"
        },
        "outputId": "cc48559f-fe8f-484d-c37b-e5f76cbed44f"
      },
      "source": [
        "# import de biblioteca calculos numericos\n",
        "import math\n",
        "\n",
        "# aproximacion de Pi mediante sumas de Reimann\n",
        "def aproxPI(n=1000):\n",
        "    suma=0\n",
        "    # funcion a integrar\n",
        "    f = lambda x: math.sqrt(1-x**2)\n",
        "    delta = 1/n\n",
        "    for i in range(1,n+1):\n",
        "        x = delta*i\n",
        "        suma += delta*f(x)\n",
        "    aproximacion = suma*4\n",
        "    return aproximacion\n",
        "\n",
        "# pruebas del algoritmo inicial\n",
        "print(aproxPI())\n"
      ],
      "execution_count": null,
      "outputs": [
        {
          "output_type": "stream",
          "text": [
            "3.141572616401957\n"
          ],
          "name": "stdout"
        }
      ]
    },
    {
      "cell_type": "markdown",
      "metadata": {
        "id": "Xoh5cYS9HEJS"
      },
      "source": [
        "# Aproximación de $\\pi$\n",
        "\n",
        "Podemos concluir que una aproximación elemental para el valor de $\\pi$ está dada por el algoritmo anterior.\n",
        "\n",
        "Sin embargo hay muchas cosas que podemos notar de dicho algoritmo, principalmente que este, es un algoritmo secuencial. ¿Será posible encontrar una forma en paralelo de dicho algoritmo?.\n",
        "\n",
        "Otra de las cosas que podemos notar es el número de operaciones (complejidad computacional) que se están realizando. ¿Se podrá reducir este número de operaciones?.\n",
        "\n",
        "El error de aproximación es demasiado alto. ¿Cómo podemos disminuir este error de aproximación?."
      ]
    },
    {
      "cell_type": "markdown",
      "metadata": {
        "id": "u3J_CI2NHYUm"
      },
      "source": [
        "## Análisis\n",
        "\n",
        "La idea principal para disminuir el número de operaciones y por lo tanto reducir el tiempo de ejecución de nuestro algoritmo se basa en uno de los axiomas de las matemáticas.\n",
        "\n",
        "$$ab+ac=a\\left(b+c\\right)$$\n",
        "\n",
        "Pasamos de realizar **3 operaciones** del lado izquierdo de la igualdad (2 multiplicaciones y una suma) **a 2 operaciones** del lado derecho de la igualdad (una suma y una multiplicación).\n",
        "\n",
        "Después para disminuir el error de aproximación podemos emplear algoritmos para aproximar integrales un poco más precisos, como sería el método de los **trapecios o punto medio**.\n",
        "\n",
        "Finalmente para aumentar la velocidad con la que se ejecuta este algoritmo podemos emplear el concepto de **paralelización incremental**, lo que significa que a partir del algoritmo secuencial podemos convertirlo en un algoritmo en paralelo gradualmente."
      ]
    },
    {
      "cell_type": "markdown",
      "metadata": {
        "id": "C1fVT3AGHkpS"
      },
      "source": [
        "## Condición de carrera\n",
        "\n",
        "Supongamos que tenemos el código secuencial del algoritmo para la aproximación del valor de $\\pi$. Para convertirlo de manera gradual en un algoritmo en paralelo empleando *OpenMP*, es necesario agregar en la linea 3 del pseudocódigo, la directiva de compilador\n",
        "\n",
        "$\\color{red}{\\#pragma }$ $\\color{red}{omp}$ $\\color{red}{parallel}$ $\\color{red}{ for}$\n",
        "\n",
        "Esto con la idea de que **el ciclo for sea ejecutado por múltiples hilos** en paralelo, sin embargo esto nos conduce a un problema frecuente al programar en paralelo conocido como **condición de carrera**.\n",
        "\n",
        "Esto significa que muchos hilos están compitiendo por acceder (y potencialmente) actualizar una variable compartida, lo cual puede llevar a cálculos erróneos.\n",
        "\n",
        "<center>\n",
        "<img src=\"https://github.com/jugernaut/Numerico2021/blob/master/Imagenes/AproximacionPi/condicion.png?raw=1\" width=\"600\"> \n",
        "</center>\n",
        "\n",
        "*OpenMP* ofrece múltiples mecanismos para evitar que problemas como la condición de carrera afecte en el resultado de los cálculos, uno de estos mecanismos consiste en definir secciones criticas con la directiva.\n",
        "\n",
        "$\\color{red}{\\#pragma }$ $\\color{red}{omp}$ $\\color{red}{critical}$\n",
        "\n",
        "Esta directiva le indica al compilador que **solo un hilo a la vez puede acceder a esta sección**, de tal manera que podemos indicar que el valor del área que se esta calculando solo sea actualizada por un hilo a la vez.\n",
        "\n",
        "Después de realizar estos cambios en el código, este se vería así.\n",
        "\n",
        "\n",
        "\n",
        "\n",
        "\n"
      ]
    },
    {
      "cell_type": "markdown",
      "metadata": {
        "id": "rWuf6F1cJASH"
      },
      "source": [
        "# Algortimo en paralelo\n",
        "\n",
        "A continuación se muestra el pseudocódigo del algoritmo en paralelo para la aproximación del valor del número $\\pi$.\n",
        "\n",
        "<center>\n",
        "<img src=\"https://github.com/jugernaut/Numerico2021/blob/master/Imagenes/AproximacionPi/alg_par.PNG?raw=1\" width=\"600\"> \n",
        "</center>\n",
        "\n",
        "Sin embargo esta nueva versión aún cuenta con algunos problemas, aunque ya se ejecuta en paralelo los problemas son los siguientes.\n",
        "\n",
        "Aún se tiene el problema del error de aproximación, es decir que es necesario tomar una $\\Delta x$ muy pequeña para tener una buena precisión en el calculo ó podríamos emplear la estrategia de los trapecios o punto medio.\n",
        "\n",
        "Y lo más importante, es que aunque ya evitamos la condición de carrera dado que la sección critica establece que solo un hilo puede actualizar la variable *sum*, entonces este algoritmo es equivalente a realizar el calculo de las áreas una por una.\n",
        "\n"
      ]
    },
    {
      "cell_type": "code",
      "metadata": {
        "id": "nzzADSi4UNXw"
      },
      "source": [
        "codigo = \"\"\"\n",
        "#include <omp.h>\n",
        "#include <stdlib.h>\n",
        "#include <stdio.h>\n",
        "#include <math.h>\n",
        "\n",
        "//gcc -o piparalelomitad -fopenmp piparalelomitad.c -lm\n",
        " \n",
        "int main(){\n",
        "\tint n;\n",
        "\tdouble PI, delta, sum, error, pi, INICIO, FIN, tiempof;\n",
        "\tprintf(\"introduce la precision del calculo (n > 0): \");\n",
        "\tscanf(\"%d\", &n);\n",
        "\tpi = 0.0;\t\n",
        "\tdelta = 1.0 / (double) n;\n",
        "\tsum = 0.0;\n",
        "\t#pragma omp parallel for\n",
        "\t\tfor (int i = 1; i <= n; i++) {\n",
        "\t\tdouble x = delta * i;\n",
        "    #pragma omp critical\n",
        "\t\tsum += delta * (sqrt(1.0 - x*x)); //OJO sigue siendo secuencial\n",
        "\t}\n",
        "\tpi = sum * 4;\n",
        "  printf(\"El valor aproximado de pi es: %f\\\\n\", pi); \n",
        "}\n",
        "\"\"\"\n",
        "# se crea el archivo con permisos para escribir mediante python\n",
        "archivo_texto = open(\"aproxpi.c\", \"w\")\n",
        "# se escribe el programa en el archivo \n",
        "archivo_texto.write(codigo)\n",
        "# se cierra el buffer de escritura\n",
        "archivo_texto.close()"
      ],
      "execution_count": null,
      "outputs": []
    },
    {
      "cell_type": "markdown",
      "metadata": {
        "id": "nY6GP51dFk7L"
      },
      "source": [
        "En caso de hacer uso de alguna biblioteca externa (como *math.h*) es necesario agregar la bandera *-lm* para indicarle al compilador que se requiere realizar un vinculo a esta biblioteca."
      ]
    },
    {
      "cell_type": "code",
      "metadata": {
        "id": "LRDiCSQoi0WR",
        "colab": {
          "base_uri": "https://localhost:8080/"
        },
        "outputId": "0bc50a35-ddc2-4b61-f860-a9d0b11c5527"
      },
      "source": [
        "%env OMP_NUM_THREADS=3\n",
        "!gcc -o aprox -fopenmp aproxpi.c -lm"
      ],
      "execution_count": null,
      "outputs": [
        {
          "output_type": "stream",
          "text": [
            "env: OMP_NUM_THREADS=3\n"
          ],
          "name": "stdout"
        }
      ]
    },
    {
      "cell_type": "code",
      "metadata": {
        "id": "5qVtOO3Yi_FD",
        "colab": {
          "base_uri": "https://localhost:8080/"
        },
        "outputId": "fc7e0d3b-346d-42a2-8f6f-5cba38c9d57c"
      },
      "source": [
        "!./aprox"
      ],
      "execution_count": null,
      "outputs": [
        {
          "output_type": "stream",
          "text": [
            "introduce la precision del calculo (n > 0): 1000\n",
            "El valor aproximado de pi es: 3.139555\n"
          ],
          "name": "stdout"
        }
      ]
    },
    {
      "cell_type": "markdown",
      "metadata": {
        "id": "Ff1kypYjJYyV"
      },
      "source": [
        "## Reduction\n",
        "\n",
        "Es por esta razón que existen directivas de compilador como\n",
        "\n",
        "$\\color{red}{\\#pragma }$ $\\color{red}{omp}$ $\\color{red}{parallel}$ $\\color{red}{ for}$ $\\color{red}{ reduction(+:sum)}$\n",
        "\n",
        "Cuya semántica es, ''ejecuta este ciclo for en paralelo y al final del mismo, en la variable *sum* almacena la suma los resultados parciales de haber calculado las respectivas áreas''.\n",
        "\n",
        "De tal forma que podemos pensar que por cada hilo que ejecuta una iteración del ciclo *for*, se tiene una variable temporal, digamos *area_parcial* en la cual se almacena el calculo de cada una de estas áreas.\n",
        "\n",
        "Al terminar el ciclo, la variable *sum*, cuenta con la suma de todas las áreas parciales que se calcularon previamente y por lo tanto el área total bajo la curva.\n",
        "\n",
        "<center>\n",
        "<img src=\"https://github.com/jugernaut/Numerico2021/blob/master/Imagenes/AproximacionPi/reduction.png?raw=1\" width=\"600\"> \n",
        "</center>\n",
        "\n",
        "De esta forma el calculo de todas las áreas se lleva a cabo en paralelo y no es necesario esperar a que se realice hilo por hilo.\n",
        "\n",
        "Finalmente solo resta utilizar la aproximación del área bajo la curva empleando la regla del trapecio o punto medio, con $n$ numero de intervalos.\n",
        "\n",
        "$$h=\\frac{b-a}{n}=\\frac{1-0}{n}=\\frac{1}{n}$$\n",
        "\n",
        "$$\\begin{array}{ccc} \\int_{a}^{b}f\\left(x\\right)dx & = & h*f\\left(\\frac{x_{1}-x_{0}}{2}\\right)+\\cdots+h*f\\left(\\frac{x_{n}-x_{n-1}}{2}\\right)\\\\\n",
        " & = & h\\left(f\\left(\\frac{x_{1}-x_{0}}{2}\\right)+\\cdots+f\\left(\\frac{x_{n}-x_{n-1}}{2}\\right)\\right)\n",
        "\\end{array}$$\n",
        "\n",
        "Así que, tomando en cuenta todas las mejoras antes mencionadas, el algoritmo para aproximar el valor de $\\pi$ seria el siguiente.\n",
        "\n",
        "<center>\n",
        "<img src=\"https://github.com/jugernaut/Numerico2021/blob/master/Imagenes/AproximacionPi/alg_par_2.PNG?raw=1\" width=\"600\"> \n",
        "</center>"
      ]
    },
    {
      "cell_type": "markdown",
      "metadata": {
        "id": "EggF-h5vLE82"
      },
      "source": [
        "## Complejidad\n",
        "\n",
        "Como ya sabemos, la versión secuencial de este algoritmo a pesar de realizar varias operaciones dentro del ciclo *for*, el número de operaciones es constante y el número total de operaciones en realidad depende del número de precisión o de intervalos $n$, por lo que podemos decir que este algoritmo pertenece a $O\\left(n\\right)$.\n",
        "\n",
        "Pero es una buena práctica medir el tiempo de las diferentes versiones del algoritmo e incluso en diferentes equipos de cómputo, por lo que necesitamos emplear una función muy útil dentro de *OpenMP*, **omp_get_wtime()**;\n",
        "\n",
        "Podemos emplear esta función para calcular el tiempo total que le tomó a nuestro algoritmo realizar el calculo, además si tenemos un referente del valor real de $\\pi$ podemos dar una estimación del error cometido por nuestro calculo."
      ]
    },
    {
      "cell_type": "markdown",
      "metadata": {
        "id": "kHkSEUjqLWnF"
      },
      "source": [
        "## Versión final\n",
        "\n",
        "Pseudocódigo de la versión final del algoritmo en paralelo para la aproximación del valor del número $\\pi$.\n",
        "\n",
        "<center>\n",
        "<img src=\"https://github.com/jugernaut/Numerico2021/blob/master/Imagenes/AproximacionPi/alg_final.PNG?raw=1\" width=\"600\"> \n",
        "</center>\n"
      ]
    },
    {
      "cell_type": "code",
      "metadata": {
        "id": "97NDz_vdV0jP"
      },
      "source": [
        "codigo = \"\"\"\n",
        "#include <omp.h>\n",
        "#include <stdlib.h>\n",
        "#include <stdio.h>\n",
        "#include <math.h>\n",
        "\n",
        "//gcc -fopenmp aproxPI.c -lm -o aproxPI\n",
        " \n",
        "int main(){\n",
        "\tint n;\n",
        "\tdouble PI, delta, sum, error, pi, INICIO, FIN, tiempof;\n",
        "\tprintf(\"introduce la precision del calculo (n > 0): \");\n",
        "\tscanf(\"%d\", &n);\n",
        "\tpi = 0.0;\t\n",
        "\tPI = 3.141592653589793238462643;\n",
        "\tdelta = 1.0 / (double) n;\n",
        "\tsum = 0.0;\n",
        "\terror = 0.0;\n",
        "\tINICIO = omp_get_wtime();\n",
        "\t#pragma omp parallel for reduction(+:sum)\n",
        "\tfor (int i = 1; i <= n; i++) {\n",
        "\t\tdouble x = delta * ((double)i -0.5 );\n",
        "\t\tsum += sqrt(1.0 - x*x);\n",
        "\t}\n",
        "\tpi = (sum * delta * 4);\n",
        "\tFIN = omp_get_wtime();\n",
        "\terror = pi - PI;\n",
        "\ttiempof = FIN-INICIO;\n",
        "\tprintf(\"El valor aproximado de pi es: %f, con un error de %f y con una n de: %d y con un tiempo de %f\\\\n\", \n",
        "  pi, error, n, tiempof);\n",
        "}\n",
        "\"\"\"\n",
        "# se crea el archivo con permisos para escribir mediante python\n",
        "archivo_texto = open(\"aproxpiFinal.c\", \"w\")\n",
        "# se escribe el programa en el archivo \n",
        "archivo_texto.write(codigo)\n",
        "# se cierra el buffer de escritura\n",
        "archivo_texto.close()"
      ],
      "execution_count": null,
      "outputs": []
    },
    {
      "cell_type": "code",
      "metadata": {
        "colab": {
          "base_uri": "https://localhost:8080/"
        },
        "id": "_LuXm95YWN1v",
        "outputId": "366b19e4-d8c9-4b73-f6d8-dabcc6762148"
      },
      "source": [
        "%env OMP_NUM_THREADS=1000\n",
        "!gcc -o aproxFinal -fopenmp aproxpiFinal.c -lm"
      ],
      "execution_count": null,
      "outputs": [
        {
          "output_type": "stream",
          "text": [
            "env: OMP_NUM_THREADS=1000\n"
          ],
          "name": "stdout"
        }
      ]
    },
    {
      "cell_type": "code",
      "metadata": {
        "colab": {
          "base_uri": "https://localhost:8080/"
        },
        "id": "OtZaC36dWR5i",
        "outputId": "e40cfef2-d659-44b5-d97f-0718162e17bf"
      },
      "source": [
        "!./aproxFinal"
      ],
      "execution_count": null,
      "outputs": [
        {
          "output_type": "stream",
          "text": [
            "introduce la precision del calculo (n > 0): 10000000\n",
            "El valor aproximado de pi es: 3.141593, con un error de 0.000000 y con una n de: 10000000 y con un tiempo de 0.129009\n"
          ],
          "name": "stdout"
        }
      ]
    },
    {
      "cell_type": "markdown",
      "metadata": {
        "id": "jzBfmA1hXQUZ"
      },
      "source": [
        "Contrasta el desempeño de ambas versiones de la aproximación de $\\pi$ (versión inicial, versión final) y saca tus conclusiones."
      ]
    },
    {
      "cell_type": "markdown",
      "metadata": {
        "id": "itXZw1cXL2NQ"
      },
      "source": [
        "# Hilos en alto nivel\n",
        "\n",
        "Actualmente la mayoría de los lenguajes de alto nivel (como *Java*) permiten hacer uso de hilos de ejecución (procesos ligeros). Normalmente es a través de una biblioteca, módulo, o paquete que se permite hacer uso de hilos, dependiendo del lenguaje.\n",
        "\n",
        "Es decir que que ya no hace falta preocuparse por como esta definida la implementación del manejo de hilos, no es necesario tener conocimientos profundos de como funciona el sistema operativo y mucho menos el ó los microprocesadores, para poder hacer uso de esta poderosa herramienta.\n",
        "\n",
        "Dado que *Java* es un lenguaje completamente orientado a objetos, la forma en la cual se puede hacer uso de hilos de ejecución es mediante la clase *Thread* o la interfaz *Runable*.\n"
      ]
    },
    {
      "cell_type": "markdown",
      "metadata": {
        "id": "QG9IoqxkMBGu"
      },
      "source": [
        "## La interfaz *Runnable*\n",
        "\n",
        "Las interfaces son una de las características más importantes y potentes de *Java* (no solo las gráficas), mediante una interfaz de *Java* se puede definir un comportamiento y en el caso de los hilos, podemos definir que una clase debe comportarse como un hilo de ejecución. \n",
        "\n",
        "Una vez que la clase en cuestión implementa la interfaz *Runnable* (*implements Runnable*), es decir que define el único método de esta interfaz, podemos decir que nuestra clase se puede comportar como un hilo de ejecución, por lo tanto puede ser ejecutado mediante el método *run()*.\n",
        "\n",
        "Así de simple podemos definir que una determinada clase se comporte como un hilo de ejecución, Considerando el concepto de hilo, el método *run()* debe ser algo no muy complejo de realizar. Para mayor información de esta interfaz puedes revisar el [https://docs.oracle.com/javase/7/docs/api/java/lang/Runnable.html||API de Java].\n",
        "\n"
      ]
    },
    {
      "cell_type": "markdown",
      "metadata": {
        "id": "jpmDr5FnMOTA"
      },
      "source": [
        "## La clase *Thread*\n",
        "\n",
        "La clase *Thread* es una abstracción de todo lo que se puede hacer con un hilo de ejecución, por ejemplo: ejecutarlo, dormirlo, detenerlo, etc. Para mayor información de lo que ya tiene implementado la clase *Thread*, revisar el [https://docs.oracle.com/javase/7/docs/api/java/lang/Thread.html||API de Java].\n",
        "\n",
        "De tal manera que basta con heredar (*extends Thread*) de la clase *Thread* para que la clase heredera tenga todas las cualidades de un hilo de ejecución.\n",
        "\n",
        "Sin embargo es importante mencionar que la clase *Thread*, implementa la interfaz *Runnable*, es decir que una vez que hayamos heredado de la clase *Thread* es necesario redefinir el método *run()*."
      ]
    },
    {
      "cell_type": "markdown",
      "metadata": {
        "id": "PL8WBOf3MWdv"
      },
      "source": [
        "##¿Usar *Runnable* o *Thread*?\n",
        "\n",
        "Sin importar cual de las 2 opciones se elija (*Runnable* ó *Thread*) vale la pena mencionar que para fines prácticos ambas funcionan igual, es decir que podemos poner en ejecución un hilo empleando el método *run()*.\n",
        "\n",
        "La principal diferencia radica en el hecho de que al heredar de la clase *Thread*, se tienen más control sobre los hilos de ejecución y por el contrario al implementar la interfaz *Runnable*, únicamente se tiene un método directamente relacionado con los hilos de ejecución, el método *run()*.\n",
        "\n",
        "Otra diferencia es que al heredar de la clase *Thread*, ya no es posible heredar de otra clase. Por otro lado no importa si implementamos *Runnable*, *Java* permite implementar múltiples interfaces."
      ]
    },
    {
      "cell_type": "markdown",
      "source": [
        "### Ejemplo tía Aly\n",
        "\n",
        "En este ejemplo vamos a ver un problema recurrente en el área de la ciencias y en particular en la zona de comida de la Facultad de Ciencias.\n",
        "\n",
        "Uno de los locales de comida presenta una alta demanda y eso provoca que la fila de espera sea demasidado larga. Sin embargo existen muchas soluciones, una de ellas es atender a los clientes en paralelo, veamos como funciona esta solución.\n",
        "\n",
        "En la siguiente sección veremos la implementación en *Java* del uso de hilos.\n",
        "\n",
        "Para esto primero necesitamos el código ejecutando la siguiente celda."
      ],
      "metadata": {
        "id": "NE2hi81ydGfh"
      }
    },
    {
      "cell_type": "code",
      "source": [
        "!wget https://raw.githubusercontent.com/jugernaut/ProgramacionEnParalelo/desarrollo/Utils/tiaAly.tar.xz"
      ],
      "metadata": {
        "id": "Xzh9llBjdSKX",
        "outputId": "300d5a01-1b8a-453a-f2f2-4c656226cd44",
        "colab": {
          "base_uri": "https://localhost:8080/"
        }
      },
      "execution_count": null,
      "outputs": [
        {
          "output_type": "stream",
          "name": "stdout",
          "text": [
            "--2022-03-24 07:05:00--  https://raw.githubusercontent.com/jugernaut/ProgramacionEnParalelo/desarrollo/Utils/tiaAly.tar.xz\n",
            "Resolving raw.githubusercontent.com (raw.githubusercontent.com)... 185.199.108.133, 185.199.109.133, 185.199.110.133, ...\n",
            "Connecting to raw.githubusercontent.com (raw.githubusercontent.com)|185.199.108.133|:443... connected.\n",
            "HTTP request sent, awaiting response... 200 OK\n",
            "Length: 2220 (2.2K) [application/octet-stream]\n",
            "Saving to: ‘tiaAly.tar.xz’\n",
            "\n",
            "\rtiaAly.tar.xz         0%[                    ]       0  --.-KB/s               \rtiaAly.tar.xz       100%[===================>]   2.17K  --.-KB/s    in 0s      \n",
            "\n",
            "2022-03-24 07:05:00 (41.9 MB/s) - ‘tiaAly.tar.xz’ saved [2220/2220]\n",
            "\n"
          ]
        }
      ]
    },
    {
      "cell_type": "markdown",
      "source": [
        "Una vez que se descargo el código a nuestra sesión actual, es necesario descomprimir el archivo mediante la siguiente instrucción."
      ],
      "metadata": {
        "id": "b5s1GTaQd8tW"
      }
    },
    {
      "cell_type": "code",
      "source": [
        "!tar -xvf tiaAly.tar.xz"
      ],
      "metadata": {
        "id": "lzPIoPDLdoal",
        "outputId": "bac6c7c9-72d9-44b4-e17a-4b47bd2f7ffc",
        "colab": {
          "base_uri": "https://localhost:8080/"
        }
      },
      "execution_count": null,
      "outputs": [
        {
          "output_type": "stream",
          "name": "stdout",
          "text": [
            "tiaAly/\n",
            "tiaAly/concurrente/\n",
            "tiaAly/concurrente/Trabajador.java\n",
            "tiaAly/concurrente/Cliente.java\n",
            "tiaAly/concurrente/TiaAly.java\n",
            "tiaAly/secuencial/\n",
            "tiaAly/secuencial/Trabajador.java\n",
            "tiaAly/secuencial/TiaAly.java\n",
            "tiaAly/secuencial/Cliente.java\n"
          ]
        }
      ]
    },
    {
      "cell_type": "markdown",
      "source": [
        "#### Secuencial\n",
        "\n",
        "Ahora vamos a ver como compilar y ejecutar la versión secuencial de este algoritmo.\n",
        "\n",
        "Nos desplazamos a la carpeta */secuencial* y compilamos todas las clases dentro de este paquete.\n",
        "\n",
        "Para realizar esto ejecutamos la siguiente celda."
      ],
      "metadata": {
        "id": "rsqte8PueIn3"
      }
    },
    {
      "cell_type": "code",
      "source": [
        "!cd tiaAly/secuencial && javac *"
      ],
      "metadata": {
        "id": "rXVxws9vfC8h"
      },
      "execution_count": null,
      "outputs": []
    },
    {
      "cell_type": "markdown",
      "source": [
        "Si hubiese algun error de sintaxis el compilador lo indicaria, en caso no haber errores no se tiene mensaje alguno y podemos ver que se generan archivos de tipo *.class*."
      ],
      "metadata": {
        "id": "9UTazAFhgDrJ"
      }
    },
    {
      "cell_type": "code",
      "source": [
        "!cd tiaAly/secuencial && ls"
      ],
      "metadata": {
        "id": "ug_WrUoZgTY7",
        "outputId": "a578a4a5-cc33-4d09-833a-804be673c8e3",
        "colab": {
          "base_uri": "https://localhost:8080/"
        }
      },
      "execution_count": null,
      "outputs": [
        {
          "output_type": "stream",
          "name": "stdout",
          "text": [
            "Cliente.class  TiaAly.class  Trabajador.class\n",
            "Cliente.java   TiaAly.java   Trabajador.java\n"
          ]
        }
      ]
    },
    {
      "cell_type": "markdown",
      "source": [
        "Ahora podemos ejecutar la clase principal *TiaAly.java* y ver el desempeño de la misma."
      ],
      "metadata": {
        "id": "is1nwhvggYuD"
      }
    },
    {
      "cell_type": "code",
      "source": [
        "!cd tiaAly/secuencial && java TiaAly"
      ],
      "metadata": {
        "id": "cnDQMJ-vgezu",
        "outputId": "fa5eb83b-c9ad-41f0-8766-ea9f53c190bb",
        "colab": {
          "base_uri": "https://localhost:8080/"
        }
      },
      "execution_count": null,
      "outputs": [
        {
          "output_type": "stream",
          "name": "stdout",
          "text": [
            "El trabajador: Trabajador 1 COMIENZA A PROCESAR EL PEDIDO DEL CLIENTE Cliente 1 EN EL TIEMPO: 0seg\n",
            "Procesado el platillo 1 ->Tiempo: 2seg\n",
            "Procesado el platillo 2 ->Tiempo: 4seg\n",
            "Procesado el platillo 3 ->Tiempo: 5seg\n",
            "Procesado el platillo 4 ->Tiempo: 10seg\n",
            "Procesado el platillo 5 ->Tiempo: 12seg\n",
            "Procesado el platillo 6 ->Tiempo: 15seg\n",
            "El trabajador Trabajador 1 HA TERMINADO DE PROCESAR Cliente 1 EN EL TIEMPO: 15seg\n",
            "El trabajador: Trabajador 2 COMIENZA A PROCESAR EL PEDIDO DEL CLIENTE Cliente 2 EN EL TIEMPO: 15seg\n",
            "Procesado el platillo 1 ->Tiempo: 16seg\n",
            "Procesado el platillo 2 ->Tiempo: 19seg\n",
            "Procesado el platillo 3 ->Tiempo: 24seg\n",
            "Procesado el platillo 4 ->Tiempo: 25seg\n",
            "Procesado el platillo 5 ->Tiempo: 26seg\n",
            "El trabajador Trabajador 2 HA TERMINADO DE PROCESAR Cliente 2 EN EL TIEMPO: 26seg\n",
            "El trabajador: Trabajador 3 COMIENZA A PROCESAR EL PEDIDO DEL CLIENTE Cliente 3 EN EL TIEMPO: 26seg\n",
            "Procesado el platillo 1 ->Tiempo: 27seg\n",
            "Procesado el platillo 2 ->Tiempo: 29seg\n",
            "Procesado el platillo 3 ->Tiempo: 32seg\n",
            "Procesado el platillo 4 ->Tiempo: 36seg\n"
          ]
        }
      ]
    },
    {
      "cell_type": "markdown",
      "source": [
        "A contnuación un pequeña animación en NetLogo del planteamiento secuencial\n",
        "\n",
        "<center>\n",
        "<img src=\"https://github.com/jugernaut/ManejoDatos/blob/desarrollo/Imagenes/Simulacion/spidey1.gif?raw=1\" width=\"850\">\n",
        "</center> "
      ],
      "metadata": {
        "id": "K1Lc3S7CxpHg"
      }
    },
    {
      "cell_type": "markdown",
      "source": [
        "##### Ejecutable\n",
        "\n",
        "En caso de que querer ver la versión ejecutable de este algoritmo (sin tener que compilar) descarga el archvio *.jar* de la siguiente ruta."
      ],
      "metadata": {
        "id": "CztUazxn2m-u"
      }
    },
    {
      "cell_type": "code",
      "source": [
        "!wget https://raw.githubusercontent.com/jugernaut/ProgramacionEnParalelo/desarrollo/Utils/secuencial.jar"
      ],
      "metadata": {
        "colab": {
          "base_uri": "https://localhost:8080/"
        },
        "id": "B4nEw8b83Hv2",
        "outputId": "584294ab-83d0-4782-bb16-f8858207d9a2"
      },
      "execution_count": 1,
      "outputs": [
        {
          "output_type": "stream",
          "name": "stdout",
          "text": [
            "--2022-03-25 06:56:31--  https://raw.githubusercontent.com/jugernaut/ProgramacionEnParalelo/desarrollo/Utils/secuencial.jar\n",
            "Resolving raw.githubusercontent.com (raw.githubusercontent.com)... 185.199.108.133, 185.199.109.133, 185.199.110.133, ...\n",
            "Connecting to raw.githubusercontent.com (raw.githubusercontent.com)|185.199.108.133|:443... connected.\n",
            "HTTP request sent, awaiting response... 200 OK\n",
            "Length: 3579 (3.5K) [application/octet-stream]\n",
            "Saving to: ‘secuencial.jar’\n",
            "\n",
            "\rsecuencial.jar        0%[                    ]       0  --.-KB/s               \rsecuencial.jar      100%[===================>]   3.50K  --.-KB/s    in 0s      \n",
            "\n",
            "2022-03-25 06:56:31 (35.4 MB/s) - ‘secuencial.jar’ saved [3579/3579]\n",
            "\n"
          ]
        }
      ]
    },
    {
      "cell_type": "markdown",
      "source": [
        "Una vez que ya se cuenta con el ejecutable (*.jar*), se ejecuta con el comando siguiente."
      ],
      "metadata": {
        "id": "3v5Nv5wc3NHb"
      }
    },
    {
      "cell_type": "code",
      "source": [
        "!java -jar secuencial.jar"
      ],
      "metadata": {
        "colab": {
          "base_uri": "https://localhost:8080/"
        },
        "id": "gAOLobLd3ZDI",
        "outputId": "06b09cad-b539-496f-dd2e-a75f98b729ec"
      },
      "execution_count": 2,
      "outputs": [
        {
          "output_type": "stream",
          "name": "stdout",
          "text": [
            "El trabajador: Trabajador 3 COMIENZA A SERVIR LA COMIDA DEL CLIENTE Cliente 3 EN EL TIEMPO: 0seg\n",
            "El trabajador: Trabajador 4 COMIENZA A SERVIR LA COMIDA DEL CLIENTE Cliente 4 EN EL TIEMPO: 0seg\n",
            "El trabajador: Trabajador 5 COMIENZA A SERVIR LA COMIDA DEL CLIENTE Cliente 5 EN EL TIEMPO: 0seg\n",
            "El trabajador: Trabajador 2 COMIENZA A SERVIR LA COMIDA DEL CLIENTE Cliente 2 EN EL TIEMPO: 0seg\n",
            "El trabajador: Trabajador 1 COMIENZA A SERVIR LA COMIDA DEL CLIENTE Cliente 1 EN EL TIEMPO: 0seg\n",
            "Procesado el platillo 1 del cliente Cliente 3->Tiempo: 1seg\n",
            "Procesado el platillo 1 del cliente Cliente 5->Tiempo: 1seg\n",
            "Procesado el platillo 1 del cliente Cliente 2->Tiempo: 1seg\n",
            "Procesado el platillo 1 del cliente Cliente 1->Tiempo: 2seg\n",
            "Procesado el platillo 2 del cliente Cliente 3->Tiempo: 3seg\n",
            "Procesado el platillo 2 del cliente Cliente 5->Tiempo: 3seg\n",
            "Procesado el platillo 3 del cliente Cliente 5->Tiempo: 4seg\n",
            "Procesado el platillo 2 del cliente Cliente 1->Tiempo: 4seg\n",
            "Procesado el platillo 2 del cliente Cliente 2->Tiempo: 4seg\n",
            "Procesado el platillo 3 del cliente Cliente 1->Tiempo: 5seg\n"
          ]
        }
      ]
    },
    {
      "cell_type": "markdown",
      "source": [
        "#### Concurrente\n",
        "\n",
        "Para la versión concurrente realizamos los mismos pasos (compilar y ejecutar) pero sobre la carpeta (paquete) */concurrente*."
      ],
      "metadata": {
        "id": "RdAYiG5zv3i9"
      }
    },
    {
      "cell_type": "code",
      "source": [
        "!cd tiaAly/concurrente && javac *"
      ],
      "metadata": {
        "id": "JLkcozENwM_l"
      },
      "execution_count": null,
      "outputs": []
    },
    {
      "cell_type": "code",
      "source": [
        "!cd tiaAly/concurrente && java TiaAly"
      ],
      "metadata": {
        "outputId": "d95ab125-6a60-4680-cae3-a51ed7442c14",
        "colab": {
          "base_uri": "https://localhost:8080/"
        },
        "id": "blmmMjh5wM_2"
      },
      "execution_count": null,
      "outputs": [
        {
          "output_type": "stream",
          "name": "stdout",
          "text": [
            "El trabajador: Trabajador 1 COMIENZA A SERVIR LA COMIDA DEL CLIENTE Cliente 1 EN EL TIEMPO: 0seg\n",
            "El trabajador: Trabajador 4 COMIENZA A SERVIR LA COMIDA DEL CLIENTE Cliente 4 EN EL TIEMPO: 0seg\n",
            "El trabajador: Trabajador 2 COMIENZA A SERVIR LA COMIDA DEL CLIENTE Cliente 2 EN EL TIEMPO: 0seg\n",
            "El trabajador: Trabajador 5 COMIENZA A SERVIR LA COMIDA DEL CLIENTE Cliente 5 EN EL TIEMPO: 0seg\n",
            "El trabajador: Trabajador 3 COMIENZA A SERVIR LA COMIDA DEL CLIENTE Cliente 3 EN EL TIEMPO: 0seg\n",
            "Procesado el platillo 1 del cliente Cliente 3->Tiempo: 1seg\n",
            "Procesado el platillo 1 del cliente Cliente 2->Tiempo: 1seg\n",
            "Procesado el platillo 1 del cliente Cliente 5->Tiempo: 1seg\n",
            "Procesado el platillo 1 del cliente Cliente 1->Tiempo: 2seg\n",
            "Procesado el platillo 2 del cliente Cliente 3->Tiempo: 3seg\n",
            "Procesado el platillo 2 del cliente Cliente 5->Tiempo: 3seg\n",
            "Procesado el platillo 2 del cliente Cliente 1->Tiempo: 4seg\n",
            "Procesado el platillo 2 del cliente Cliente 2->Tiempo: 4seg\n",
            "Procesado el platillo 3 del cliente Cliente 5->Tiempo: 4seg\n",
            "Procesado el platillo 3 del cliente Cliente 1->Tiempo: 5seg\n",
            "Procesado el platillo 1 del cliente Cliente 4->Tiempo: 6seg\n",
            "Procesado el platillo 3 del cliente Cliente 3->Tiempo: 6seg\n",
            "Procesado el platillo 4 del cliente Cliente 5->Tiempo: 6seg\n",
            "Procesado el platillo 5 del cliente Cliente 5->Tiempo: 7seg\n",
            "El trabajador Trabajador 5 HA TERMINADO DE PROCESAR Cliente 5 EN EL TIEMPO: 7seg\n",
            "Procesado el platillo 3 del cliente Cliente 2->Tiempo: 9seg\n",
            "Procesado el platillo 4 del cliente Cliente 1->Tiempo: 10seg\n",
            "Procesado el platillo 4 del cliente Cliente 3->Tiempo: 10seg\n",
            "Procesado el platillo 4 del cliente Cliente 2->Tiempo: 10seg\n",
            "Procesado el platillo 2 del cliente Cliente 4->Tiempo: 11seg\n",
            "Procesado el platillo 5 del cliente Cliente 2->Tiempo: 11seg\n",
            "El trabajador Trabajador 2 HA TERMINADO DE PROCESAR Cliente 2 EN EL TIEMPO: 11seg\n",
            "Procesado el platillo 5 del cliente Cliente 1->Tiempo: 12seg\n",
            "Procesado el platillo 3 del cliente Cliente 4->Tiempo: 15seg\n",
            "Procesado el platillo 6 del cliente Cliente 1->Tiempo: 15seg\n",
            "El trabajador Trabajador 1 HA TERMINADO DE PROCESAR Cliente 1 EN EL TIEMPO: 15seg\n",
            "Procesado el platillo 5 del cliente Cliente 3->Tiempo: 15seg\n",
            "Procesado el platillo 4 del cliente Cliente 4->Tiempo: 18seg\n",
            "Procesado el platillo 5 del cliente Cliente 4->Tiempo: 20seg\n",
            "Procesado el platillo 6 del cliente Cliente 4->Tiempo: 21seg\n",
            "El trabajador Trabajador 4 HA TERMINADO DE PROCESAR Cliente 4 EN EL TIEMPO: 21seg\n",
            "Procesado el platillo 6 del cliente Cliente 3->Tiempo: 21seg\n",
            "El trabajador Trabajador 3 HA TERMINADO DE PROCESAR Cliente 3 EN EL TIEMPO: 21seg\n"
          ]
        }
      ]
    },
    {
      "cell_type": "markdown",
      "source": [
        "Esta animación muestra la mejora considerando un desempeño concurrente.\n",
        "\n",
        "<center>\n",
        "<img src=\"https://github.com/jugernaut/ManejoDatos/blob/desarrollo/Imagenes/Simulacion/sipdey3.gif?raw=1\" width=\"850\">\n",
        "</center>"
      ],
      "metadata": {
        "id": "Dq7faFjOx2M0"
      }
    },
    {
      "cell_type": "markdown",
      "source": [
        "##### Ejecutable\n",
        "\n",
        "En caso de que querer ver la versión ejecutable de este algoritmo (sin tener que compilar) descarga el archvio *.jar* de la siguiente ruta."
      ],
      "metadata": {
        "id": "i63mbY2M3hmQ"
      }
    },
    {
      "cell_type": "code",
      "source": [
        "!wget https://raw.githubusercontent.com/jugernaut/ProgramacionEnParalelo/desarrollo/Utils/concurrente.jar"
      ],
      "metadata": {
        "outputId": "fa4d2175-b7bd-4f8f-b52e-39784bacd06a",
        "colab": {
          "base_uri": "https://localhost:8080/"
        },
        "id": "i9sDYBxP3hmc"
      },
      "execution_count": 3,
      "outputs": [
        {
          "output_type": "stream",
          "name": "stdout",
          "text": [
            "--2022-03-25 06:58:10--  https://raw.githubusercontent.com/jugernaut/ProgramacionEnParalelo/desarrollo/Utils/concurrente.jar\n",
            "Resolving raw.githubusercontent.com (raw.githubusercontent.com)... 185.199.109.133, 185.199.110.133, 185.199.111.133, ...\n",
            "Connecting to raw.githubusercontent.com (raw.githubusercontent.com)|185.199.109.133|:443... connected.\n",
            "HTTP request sent, awaiting response... 200 OK\n",
            "Length: 3579 (3.5K) [application/octet-stream]\n",
            "Saving to: ‘concurrente.jar’\n",
            "\n",
            "\rconcurrente.jar       0%[                    ]       0  --.-KB/s               \rconcurrente.jar     100%[===================>]   3.50K  --.-KB/s    in 0s      \n",
            "\n",
            "2022-03-25 06:58:11 (51.4 MB/s) - ‘concurrente.jar’ saved [3579/3579]\n",
            "\n"
          ]
        }
      ]
    },
    {
      "cell_type": "markdown",
      "source": [
        "Una vez que ya se cuenta con el ejecutable (*.jar*), se ejecuta con el comando siguiente."
      ],
      "metadata": {
        "id": "PaZD8-gf3hmd"
      }
    },
    {
      "cell_type": "code",
      "source": [
        "!java -jar concurrente.jar"
      ],
      "metadata": {
        "outputId": "c5dfdc6a-4b16-401a-ed60-1690c7d20e04",
        "colab": {
          "base_uri": "https://localhost:8080/"
        },
        "id": "iLQbtudF3hmd"
      },
      "execution_count": 4,
      "outputs": [
        {
          "output_type": "stream",
          "name": "stdout",
          "text": [
            "El trabajador: Trabajador 1 COMIENZA A SERVIR LA COMIDA DEL CLIENTE Cliente 1 EN EL TIEMPO: 0seg\n",
            "El trabajador: Trabajador 4 COMIENZA A SERVIR LA COMIDA DEL CLIENTE Cliente 4 EN EL TIEMPO: 0seg\n",
            "El trabajador: Trabajador 2 COMIENZA A SERVIR LA COMIDA DEL CLIENTE Cliente 2 EN EL TIEMPO: 0seg\n",
            "El trabajador: Trabajador 3 COMIENZA A SERVIR LA COMIDA DEL CLIENTE Cliente 3 EN EL TIEMPO: 0seg\n",
            "El trabajador: Trabajador 5 COMIENZA A SERVIR LA COMIDA DEL CLIENTE Cliente 5 EN EL TIEMPO: 0seg\n",
            "Procesado el platillo 1 del cliente Cliente 2->Tiempo: 1seg\n",
            "Procesado el platillo 1 del cliente Cliente 5->Tiempo: 1seg\n",
            "Procesado el platillo 1 del cliente Cliente 3->Tiempo: 1seg\n",
            "Procesado el platillo 1 del cliente Cliente 1->Tiempo: 2seg\n",
            "Procesado el platillo 2 del cliente Cliente 5->Tiempo: 3seg\n",
            "Procesado el platillo 2 del cliente Cliente 3->Tiempo: 3seg\n",
            "Procesado el platillo 2 del cliente Cliente 1->Tiempo: 4seg\n",
            "Procesado el platillo 2 del cliente Cliente 2->Tiempo: 4seg\n",
            "Procesado el platillo 3 del cliente Cliente 5->Tiempo: 4seg\n",
            "Procesado el platillo 3 del cliente Cliente 1->Tiempo: 5seg\n",
            "Procesado el platillo 1 del cliente Cliente 4->Tiempo: 6seg\n",
            "Procesado el platillo 4 del cliente Cliente 5->Tiempo: 6seg\n",
            "Procesado el platillo 3 del cliente Cliente 3->Tiempo: 6seg\n",
            "Procesado el platillo 5 del cliente Cliente 5->Tiempo: 7seg\n",
            "El trabajador Trabajador 5 HA TERMINADO DE PROCESAR Cliente 5 EN EL TIEMPO: 7seg\n"
          ]
        }
      ]
    },
    {
      "cell_type": "markdown",
      "source": [
        "# Conclusiones\n",
        "\n",
        "Para este punto debe ser claro que la versión concurrente muestra una gran mejora respecto al tiempo de ejecución y eso sin considerar que este es un ejemplo didáctico, **imagina la mejora si se estuviese trabajando con matrices o vectores de miles o millones de entradas**."
      ],
      "metadata": {
        "id": "vNMI6nmpwe-N"
      }
    },
    {
      "cell_type": "markdown",
      "metadata": {
        "id": "GIWACRouMeUU"
      },
      "source": [
        "#Referencias\n",
        "\n",
        "1. Yuri N. Skiba: Introducción a los métodos numéricos, Dirección General de Publicaciones U.N.A.M.\n",
        "2. Ward Cheney, David Kincaid: Métodos Numéricos y Computación, Cenage Learning.\n",
        "3. Dongarra Foster: SourceBook of parallel computing.\n",
        "4. Riswan Butt: Numerical Analysys Using Matlab, Jones and Bartlett.\n",
        "5. Universidad Granada: http://lsi.ugr.es/jmantas/pdp/tutoriales/tutorial_mpi.php."
      ]
    }
  ]
}